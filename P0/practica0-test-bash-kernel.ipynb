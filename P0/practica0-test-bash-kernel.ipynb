{
 "cells": [
  {
   "cell_type": "markdown",
   "id": "8e983960",
   "metadata": {},
   "source": [
    "# Ejercicios - Práctica 0: Tests preliminares"
   ]
  },
  {
   "cell_type": "markdown",
   "id": "8076b72b-2076-4959-86e8-019730497321",
   "metadata": {},
   "source": [
    "## Probar el kernel de *Bash*"
   ]
  },
  {
   "cell_type": "markdown",
   "id": "05108cde-d8c3-4b07-a3b9-d5671fbe05e9",
   "metadata": {},
   "source": [
    "Asegúrate de que este *notebook* está usando el kernel de Bash. Puedes verlo en la parte derecha de la barra superior de Jupyter, y seleccionarlo ahí o en el menú *Kernel->Change kernel*."
   ]
  },
  {
   "cell_type": "markdown",
   "id": "71e58ab4-03eb-480d-94bf-95f35446b981",
   "metadata": {},
   "source": [
    "Haz un listado del directorio actual"
   ]
  },
  {
   "cell_type": "code",
   "execution_count": null,
   "id": "681b1f71",
   "metadata": {},
   "outputs": [],
   "source": [
    "ls"
   ]
  },
  {
   "cell_type": "markdown",
   "id": "073371a1-5eee-417f-800d-9b73520f4f67",
   "metadata": {},
   "source": [
    "Muestra el nombre del directorio de trabajo actual de este cuaderno."
   ]
  },
  {
   "cell_type": "code",
   "execution_count": null,
   "id": "cdc7eb83-d1c8-447f-a945-13808dde1280",
   "metadata": {},
   "outputs": [],
   "source": [
    "pwd"
   ]
  },
  {
   "cell_type": "markdown",
   "id": "af254c7b-449f-4de5-944b-6d14d91f064a",
   "metadata": {},
   "source": [
    "En la mayoría de celdas de código encontrarás comentarios que acompañan al código/comando que se ejecuta. Estos comentarios empiezan por el carácter almohadilla ('#')."
   ]
  },
  {
   "cell_type": "code",
   "execution_count": null,
   "id": "9f01b188-6bba-42f0-af32-327cb2c6c619",
   "metadata": {},
   "outputs": [],
   "source": [
    "# Las líneas que empiezan con almohadilla ('#') son comentarios, no se ejecutan."
   ]
  },
  {
   "cell_type": "markdown",
   "id": "358a9378-8db4-4060-9918-1ff394e7d95e",
   "metadata": {},
   "source": [
    "## Interrumpir y reiniciar el kernel"
   ]
  },
  {
   "cell_type": "markdown",
   "id": "73805f2f-2ecf-4a9c-a9c5-a91932833ece",
   "metadata": {},
   "source": [
    "<span style=\"color: red;\">\n",
    "A veces, tras introducir un comando y ejecutar la celda en el notebook, la ejecución del mismo no se complete inmediatamente y no veamos ninguna salida.\n",
    "</span>\n",
    "\n",
    "Eso se debe a que hemos introducido el comando de manera incorrecta (error de sintaxis, etc.) o que hemos lanzado un comando cuya ejecución mantiene ocupado al \"kernel\". En estos casos, al ejecutar la celda observarás que no aparece un número junto a la celda (p.ej. `[5]`) sino un asterisco (`[*]`). En estos casos, debes forzar la terminación del comando, para lo cual puedes interrumpir el kernel desde el botón de la barra superior o en el menú \"Kernel->Interrupt kernel\" en la ventana de Jupyter Notebook. En algunas ocasiones, puede resultar necesario reiniciarlo."
   ]
  },
  {
   "cell_type": "markdown",
   "id": "c7316b76-5972-4bdd-bd12-007847eac5dc",
   "metadata": {},
   "source": [
    "Prueba a ejecutar un comando erróneo y observa que la ejecución de la celda no termina nunca sino que se queda en [*]."
   ]
  },
  {
   "cell_type": "code",
   "execution_count": null,
   "id": "93ca0c11-d43e-478a-ad50-cc845a8f0c02",
   "metadata": {},
   "outputs": [],
   "source": [
    "# Descomenta la siguiente línea (elimina la almohadilla) para ejecutar el comando 'cat'.\n",
    "# Al ejecutar cat sin parámetros, la ejecución de la celda no terminará (\"se colgará\")\n",
    "#cat"
   ]
  },
  {
   "cell_type": "markdown",
   "id": "edbbdb04-0fc6-49ee-a2b3-6d698730ae4d",
   "metadata": {},
   "source": [
    " Finalmente, detén la ejecución de la celda anterior de forma manual con el botón \"Stop\" de la barra superior o desde el menú *Kernel->Interrupt kernel*."
   ]
  },
  {
   "cell_type": "markdown",
   "id": "0bbf22c8-18b7-4d90-9781-8c46a8b72021",
   "metadata": {},
   "source": [
    "**FIN DEL CUADERNO** (*no borres esta celda*)\n",
    "\n",
    "@@@@ practica0-test-bash-kernel.ipynb @@@@"
   ]
  }
 ],
 "metadata": {
  "language_info": {
   "name": "bash"
  }
 },
 "nbformat": 4,
 "nbformat_minor": 5
}

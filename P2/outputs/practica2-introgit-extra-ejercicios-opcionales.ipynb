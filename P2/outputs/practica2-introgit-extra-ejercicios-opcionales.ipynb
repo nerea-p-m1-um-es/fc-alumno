{
 "cells": [
  {
   "cell_type": "markdown",
   "id": "7673defa",
   "metadata": {},
   "source": [
    "# Ejercicios - Práctica 2a: Control de versiones con Git"
   ]
  },
  {
   "cell_type": "markdown",
   "id": "e0e61f4f",
   "metadata": {},
   "source": [
    "## Comandos básicos de Git: Flujo de trabajo en un repositorio local"
   ]
  },
  {
   "cell_type": "markdown",
   "id": "1bbae4de",
   "metadata": {},
   "source": [
    "### Ubicación de un repositorio e importancia del directorio `.git`"
   ]
  },
  {
   "cell_type": "code",
   "execution_count": 1,
   "id": "c737c68a-b208-4f3a-871a-e253d0addc09",
   "metadata": {
    "execution": {
     "iopub.execute_input": "2024-09-10T16:05:35.696884Z",
     "iopub.status.busy": "2024-09-10T16:05:35.696584Z",
     "iopub.status.idle": "2024-09-10T16:05:35.801032Z",
     "shell.execute_reply": "2024-09-10T16:05:35.800117Z"
    }
   },
   "outputs": [],
   "source": [
    "cd"
   ]
  },
  {
   "cell_type": "code",
   "execution_count": 2,
   "id": "6cc809e4-3631-428a-9d8e-cef197652d74",
   "metadata": {
    "execution": {
     "iopub.execute_input": "2024-09-10T16:05:35.804811Z",
     "iopub.status.busy": "2024-09-10T16:05:35.804525Z",
     "iopub.status.idle": "2024-09-10T16:05:35.910187Z",
     "shell.execute_reply": "2024-09-10T16:05:35.909469Z"
    }
   },
   "outputs": [],
   "source": [
    "rm -rf p2a-ejercicio"
   ]
  },
  {
   "cell_type": "code",
   "execution_count": 3,
   "id": "a45cf7e7-c25e-4ca4-94bf-de41cf516f20",
   "metadata": {
    "execution": {
     "iopub.execute_input": "2024-09-10T16:05:35.913986Z",
     "iopub.status.busy": "2024-09-10T16:05:35.913354Z",
     "iopub.status.idle": "2024-09-10T16:05:36.020080Z",
     "shell.execute_reply": "2024-09-10T16:05:36.019293Z"
    }
   },
   "outputs": [],
   "source": [
    "mkdir p2a-ejercicio"
   ]
  },
  {
   "cell_type": "code",
   "execution_count": 4,
   "id": "b0ee6ba4-f46a-4d49-a7b1-c74447ece5a4",
   "metadata": {
    "execution": {
     "iopub.execute_input": "2024-09-10T16:05:36.023761Z",
     "iopub.status.busy": "2024-09-10T16:05:36.023477Z",
     "iopub.status.idle": "2024-09-10T16:05:36.128303Z",
     "shell.execute_reply": "2024-09-10T16:05:36.127203Z"
    }
   },
   "outputs": [],
   "source": [
    "cd p2a-ejercicio"
   ]
  },
  {
   "cell_type": "code",
   "execution_count": 5,
   "id": "3e5d0a79-8def-473a-a42a-e2e8da173e2e",
   "metadata": {
    "execution": {
     "iopub.execute_input": "2024-09-10T16:05:36.131906Z",
     "iopub.status.busy": "2024-09-10T16:05:36.131618Z",
     "iopub.status.idle": "2024-09-10T16:05:36.241307Z",
     "shell.execute_reply": "2024-09-10T16:05:36.240578Z"
    }
   },
   "outputs": [
    {
     "name": "stdout",
     "output_type": "stream",
     "text": [
      "Inicializado repositorio Git vacío en /home/jupyter-rtitos-um-es/p2a-ejercicio/.git/\n"
     ]
    }
   ],
   "source": [
    "git init"
   ]
  },
  {
   "cell_type": "code",
   "execution_count": 6,
   "id": "7c813635-b46b-4753-8767-ff3d846d580a",
   "metadata": {
    "execution": {
     "iopub.execute_input": "2024-09-10T16:05:36.245066Z",
     "iopub.status.busy": "2024-09-10T16:05:36.244535Z",
     "iopub.status.idle": "2024-09-10T16:05:36.451183Z",
     "shell.execute_reply": "2024-09-10T16:05:36.450398Z"
    }
   },
   "outputs": [],
   "source": [
    "echo \"git revert\" > git-commands\n",
    "echo \"git diff\" >> git-commands\n",
    "echo \"git log\" >> git-commands"
   ]
  },
  {
   "cell_type": "code",
   "execution_count": 7,
   "id": "d68ca8d2-2ac3-4e42-bbfa-18321116bdcc",
   "metadata": {
    "execution": {
     "iopub.execute_input": "2024-09-10T16:05:36.455077Z",
     "iopub.status.busy": "2024-09-10T16:05:36.454552Z",
     "iopub.status.idle": "2024-09-10T16:05:36.562056Z",
     "shell.execute_reply": "2024-09-10T16:05:36.561260Z"
    }
   },
   "outputs": [],
   "source": [
    "git add git-commands"
   ]
  },
  {
   "cell_type": "code",
   "execution_count": 8,
   "id": "b5f8d915-ce47-4aad-8462-355e76d2ab68",
   "metadata": {
    "execution": {
     "iopub.execute_input": "2024-09-10T16:05:36.565396Z",
     "iopub.status.busy": "2024-09-10T16:05:36.565090Z",
     "iopub.status.idle": "2024-09-10T16:05:36.677014Z",
     "shell.execute_reply": "2024-09-10T16:05:36.676069Z"
    }
   },
   "outputs": [
    {
     "name": "stdout",
     "output_type": "stream",
     "text": [
      "[main (commit-raíz) 8a230cc] Añadiendo fichero de comandos\n"
     ]
    },
    {
     "name": "stdout",
     "output_type": "stream",
     "text": [
      " 1 file changed, 3 insertions(+)\n"
     ]
    },
    {
     "name": "stdout",
     "output_type": "stream",
     "text": [
      " create mode 100644 git-commands\n"
     ]
    }
   ],
   "source": [
    "git commit -m \"Añadiendo fichero de comandos\""
   ]
  },
  {
   "cell_type": "code",
   "execution_count": 9,
   "id": "5a04b4d8",
   "metadata": {
    "execution": {
     "iopub.execute_input": "2024-09-10T16:05:36.680935Z",
     "iopub.status.busy": "2024-09-10T16:05:36.680641Z",
     "iopub.status.idle": "2024-09-10T16:05:36.889250Z",
     "shell.execute_reply": "2024-09-10T16:05:36.888324Z"
    }
   },
   "outputs": [],
   "source": [
    "# Sin moverte de directorio (deberías estar en \"~/p2a-ejercicio\"),\n",
    "# crea un directorio llamado \"otrorepo\"\n",
     ""
   ]
  },
  {
   "cell_type": "code",
   "execution_count": 10,
   "id": "01c607d1",
   "metadata": {
    "execution": {
     "iopub.execute_input": "2024-09-10T16:05:36.893454Z",
     "iopub.status.busy": "2024-09-10T16:05:36.892660Z",
     "iopub.status.idle": "2024-09-10T16:05:37.048786Z",
     "shell.execute_reply": "2024-09-10T16:05:37.047824Z"
    }
   },
   "outputs": [],
   "source": [
    "# Cámbiate al directorio que acabas de crear\n",
     ""
   ]
  },
  {
   "cell_type": "code",
   "execution_count": 11,
   "id": "9173cca1",
   "metadata": {
    "execution": {
     "iopub.execute_input": "2024-09-10T16:05:37.052757Z",
     "iopub.status.busy": "2024-09-10T16:05:37.052065Z",
     "iopub.status.idle": "2024-09-10T16:05:37.212665Z",
     "shell.execute_reply": "2024-09-10T16:05:37.211663Z"
    }
   },
   "outputs": [
    {
     "name": "stdout",
     "output_type": "stream",
     "text": [
      "Inicializado repositorio Git vacío en /home/jupyter-rtitos-um-es/p2a-ejercicio/otrorepo/.git/\n"
     ]
    }
   ],
   "source": [
    "# Crea un nuevo repositorio vacío\n",
     ""
   ]
  },
  {
   "cell_type": "code",
   "execution_count": 12,
   "id": "e32c8099",
   "metadata": {
    "execution": {
     "iopub.execute_input": "2024-09-10T16:05:37.216440Z",
     "iopub.status.busy": "2024-09-10T16:05:37.216174Z",
     "iopub.status.idle": "2024-09-10T16:05:37.375069Z",
     "shell.execute_reply": "2024-09-10T16:05:37.374123Z"
    }
   },
   "outputs": [
    {
     "name": "stdout",
     "output_type": "stream",
     "text": [
      "fatal: tu rama actual 'main' no tiene ningún commit todavía\n"
     ]
    },
    {
     "ename": "",
     "evalue": "128",
     "output_type": "error",
     "traceback": []
    }
   ],
   "source": [
    "# Muestra el historial de commits\n",
     ""
   ]
  },
  {
   "cell_type": "markdown",
   "id": "ad27b6cf",
   "metadata": {},
   "source": [
    "PREGUNTA: \n",
    "- ¿En qué repositorio Git estás operando ahora mismo? ¿Por qué?\n",
    "    * a) En el repositorio donde está el fichero `git-commands`\n",
    "    * b) En el repositorio vacío que acabo de crear en `otrorepo`\n",
    "   \n",
    "RESPUESTA (razonada):\n",
    "\n",
     ""
   ]
  },
  {
   "cell_type": "markdown",
   "id": "0afae419",
   "metadata": {},
   "source": [
    "PREGUNTA: ¿Qué habría que hacer para volver a operar sobre el repositorio que contiene el fichero `git-commands`?\n",
    "\n",
    "RESPUESTA:\n",
    "\n",
     ""
   ]
  },
  {
   "cell_type": "code",
   "execution_count": 13,
   "id": "299a03ba",
   "metadata": {
    "execution": {
     "iopub.execute_input": "2024-09-10T16:05:37.378707Z",
     "iopub.status.busy": "2024-09-10T16:05:37.378450Z",
     "iopub.status.idle": "2024-09-10T16:05:37.534099Z",
     "shell.execute_reply": "2024-09-10T16:05:37.533134Z"
    }
   },
   "outputs": [],
   "source": [
    "# Crea un fichero ejecutando esta celda\n",
     ""
   ]
  },
  {
   "cell_type": "code",
   "execution_count": 14,
   "id": "11419c09",
   "metadata": {
    "execution": {
     "iopub.execute_input": "2024-09-10T16:05:37.538224Z",
     "iopub.status.busy": "2024-09-10T16:05:37.537528Z",
     "iopub.status.idle": "2024-09-10T16:05:37.747449Z",
     "shell.execute_reply": "2024-09-10T16:05:37.746465Z"
    }
   },
   "outputs": [],
   "source": [
    "# Haz que hello pase a estar en el repositorio que actualmente está vacío\n",
    "# Paso 1\n",
     ""
   ]
  },
  {
   "cell_type": "code",
   "execution_count": 15,
   "id": "3ddccc08",
   "metadata": {
    "execution": {
     "iopub.execute_input": "2024-09-10T16:05:37.751281Z",
     "iopub.status.busy": "2024-09-10T16:05:37.750783Z",
     "iopub.status.idle": "2024-09-10T16:05:37.914005Z",
     "shell.execute_reply": "2024-09-10T16:05:37.912990Z"
    }
   },
   "outputs": [
    {
     "name": "stdout",
     "output_type": "stream",
     "text": [
      "[main (commit-raíz) 87d6bcf] Añado fichero hello\n"
     ]
    },
    {
     "name": "stdout",
     "output_type": "stream",
     "text": [
      " 1 file changed, 1 insertion(+)\n"
     ]
    },
    {
     "name": "stdout",
     "output_type": "stream",
     "text": [
      " create mode 100644 hello\n"
     ]
    }
   ],
   "source": [
    "# Paso 2\n",
     ""
   ]
  },
  {
   "cell_type": "code",
   "execution_count": 16,
   "id": "171e5fe2",
   "metadata": {
    "execution": {
     "iopub.execute_input": "2024-09-10T16:05:37.917507Z",
     "iopub.status.busy": "2024-09-10T16:05:37.917201Z",
     "iopub.status.idle": "2024-09-10T16:05:38.077410Z",
     "shell.execute_reply": "2024-09-10T16:05:38.076430Z"
    }
   },
   "outputs": [
    {
     "name": "stdout",
     "output_type": "stream",
     "text": [
      "\u001b[33mcommit 87d6bcf70f5eb3e368cf1d512dfbf9279c249522\u001b[m\u001b[33m (\u001b[m\u001b[1;36mHEAD -> \u001b[m\u001b[1;32mmain\u001b[m\u001b[33m)\u001b[m\n"
     ]
    },
    {
     "name": "stdout",
     "output_type": "stream",
     "text": [
      "Author: TITOS GIL, JOSE RUBEN <rtitos@um.es>\n"
     ]
    },
    {
     "name": "stdout",
     "output_type": "stream",
     "text": [
      "Date:   Tue Sep 10 16:05:37 2024 +0000\n"
     ]
    },
    {
     "name": "stdout",
     "output_type": "stream",
     "text": [
      "\n"
     ]
    },
    {
     "name": "stdout",
     "output_type": "stream",
     "text": [
      "    Añado fichero hello\n"
     ]
    }
   ],
   "source": [
    "# Muestra el historial de commits\n",
     ""
   ]
  },
  {
   "cell_type": "markdown",
   "id": "8d94f119",
   "metadata": {},
   "source": [
    "PREGUNTA: Indica la ruta **ABSOLUTA** (empezando por ~) del directorio `.git` donde está el repositorio que únicamente contiene el fichero `hello`.\n",
    "\n",
    "RESPUESTA:\n",
    "\n",
     ""
   ]
  },
  {
   "cell_type": "code",
   "execution_count": 17,
   "id": "f3a9d6da",
   "metadata": {
    "execution": {
     "iopub.execute_input": "2024-09-10T16:05:38.081345Z",
     "iopub.status.busy": "2024-09-10T16:05:38.081020Z",
     "iopub.status.idle": "2024-09-10T16:05:38.236441Z",
     "shell.execute_reply": "2024-09-10T16:05:38.235673Z"
    }
   },
   "outputs": [],
   "source": [
    "# Cambia al directorio padre del actual (padre de \"otrorepo\")\n",
     ""
   ]
  },
  {
   "cell_type": "code",
   "execution_count": 18,
   "id": "b5a16eff",
   "metadata": {
    "execution": {
     "iopub.execute_input": "2024-09-10T16:05:38.239990Z",
     "iopub.status.busy": "2024-09-10T16:05:38.239708Z",
     "iopub.status.idle": "2024-09-10T16:05:38.400197Z",
     "shell.execute_reply": "2024-09-10T16:05:38.399464Z"
    }
   },
   "outputs": [
    {
     "name": "stdout",
     "output_type": "stream",
     "text": [
      "\u001b[33mcommit 8a230cc68cbdc71d427aa3dff73ef57d15d0b824\u001b[m\u001b[33m (\u001b[m\u001b[1;36mHEAD -> \u001b[m\u001b[1;32mmain\u001b[m\u001b[33m)\u001b[m\n"
     ]
    },
    {
     "name": "stdout",
     "output_type": "stream",
     "text": [
      "Author: TITOS GIL, JOSE RUBEN <rtitos@um.es>\n"
     ]
    },
    {
     "name": "stdout",
     "output_type": "stream",
     "text": [
      "Date:   Tue Sep 10 16:05:36 2024 +0000\n"
     ]
    },
    {
     "name": "stdout",
     "output_type": "stream",
     "text": [
      "\n"
     ]
    },
    {
     "name": "stdout",
     "output_type": "stream",
     "text": [
      "    Añadiendo fichero de comandos\n"
     ]
    }
   ],
   "source": [
    "# Muestra el historial de commits\n",
     ""
   ]
  },
  {
   "cell_type": "markdown",
   "id": "a6a09e3a",
   "metadata": {},
   "source": [
    "PREGUNTA: A la vista de la salida de `git log`, ¿en qué repositorio estás operando ahora? Indica la ruta **ABSOLUTA** a su directorio `.git`.\n",
    "\n",
    "RESPUESTA:\n",
    "\n",
     ""
   ]
  },
  {
   "cell_type": "markdown",
   "id": "ed327b0b",
   "metadata": {},
   "source": [
    "PREGUNTA: A la vista de todo lo anterior, explica por qué es posible tener varios repositorios Git ubicados dentro del mismo directorio en el sistema de ficheros:\n",
    "\n",
    "RESPUESTA:\n",
    "\n",
     ""
   ]
  },
  {
   "cell_type": "code",
   "execution_count": 19,
   "id": "fc6ba897",
   "metadata": {
    "execution": {
     "iopub.execute_input": "2024-09-10T16:05:38.404515Z",
     "iopub.status.busy": "2024-09-10T16:05:38.403698Z",
     "iopub.status.idle": "2024-09-10T16:05:38.612705Z",
     "shell.execute_reply": "2024-09-10T16:05:38.611855Z"
    }
   },
   "outputs": [],
   "source": [
    "# Mueve el directorio \"otrorepo\" a \n",
    "# tu directorio personal ($HOME o ~)\n",
     ""
   ]
  },
  {
   "cell_type": "code",
   "execution_count": 20,
   "id": "5a7881d4",
   "metadata": {
    "execution": {
     "iopub.execute_input": "2024-09-10T16:05:38.616318Z",
     "iopub.status.busy": "2024-09-10T16:05:38.616027Z",
     "iopub.status.idle": "2024-09-10T16:05:38.822107Z",
     "shell.execute_reply": "2024-09-10T16:05:38.821244Z"
    }
   },
   "outputs": [],
   "source": [
    "# Cámbiate al directorio \"otrorepo\"\n",
    "# en su nueva ubicación\n",
     ""
   ]
  },
  {
   "cell_type": "code",
   "execution_count": 21,
   "id": "4026d782",
   "metadata": {
    "execution": {
     "iopub.execute_input": "2024-09-10T16:05:38.825495Z",
     "iopub.status.busy": "2024-09-10T16:05:38.825199Z",
     "iopub.status.idle": "2024-09-10T16:05:38.985052Z",
     "shell.execute_reply": "2024-09-10T16:05:38.984147Z"
    }
   },
   "outputs": [
    {
     "name": "stdout",
     "output_type": "stream",
     "text": [
      "\u001b[33mcommit 87d6bcf70f5eb3e368cf1d512dfbf9279c249522\u001b[m\u001b[33m (\u001b[m\u001b[1;36mHEAD -> \u001b[m\u001b[1;32mmain\u001b[m\u001b[33m)\u001b[m\n"
     ]
    },
    {
     "name": "stdout",
     "output_type": "stream",
     "text": [
      "Author: TITOS GIL, JOSE RUBEN <rtitos@um.es>\n"
     ]
    },
    {
     "name": "stdout",
     "output_type": "stream",
     "text": [
      "Date:   Tue Sep 10 16:05:37 2024 +0000\n"
     ]
    },
    {
     "name": "stdout",
     "output_type": "stream",
     "text": [
      "\n"
     ]
    },
    {
     "name": "stdout",
     "output_type": "stream",
     "text": [
      "    Añado fichero hello\n"
     ]
    }
   ],
   "source": [
    "# Muestra el historial de commits\n",
     ""
   ]
  },
  {
   "cell_type": "markdown",
   "id": "f23c34ba",
   "metadata": {},
   "source": [
    "PREGUNTA: A la vista de la salida de `git log`, ¿es posible reubicar un directorio que contenga un repositorio o cambiarle el nombre a dicho directorio?\n",
    "\n",
    "RESPUESTA:\n",
    "\n",
     ""
   ]
  },
  {
   "cell_type": "code",
   "execution_count": 22,
   "id": "b00f3152",
   "metadata": {
    "execution": {
     "iopub.execute_input": "2024-09-10T16:05:38.989345Z",
     "iopub.status.busy": "2024-09-10T16:05:38.988631Z",
     "iopub.status.idle": "2024-09-10T16:05:39.146579Z",
     "shell.execute_reply": "2024-09-10T16:05:39.145786Z"
    }
   },
   "outputs": [],
   "source": [
    "# Crea un directorio nuevo en \"~/testrepo\"\n",
     ""
   ]
  },
  {
   "cell_type": "code",
   "execution_count": 23,
   "id": "3ed7277e",
   "metadata": {
    "execution": {
     "iopub.execute_input": "2024-09-10T16:05:39.150162Z",
     "iopub.status.busy": "2024-09-10T16:05:39.149887Z",
     "iopub.status.idle": "2024-09-10T16:05:39.305375Z",
     "shell.execute_reply": "2024-09-10T16:05:39.304622Z"
    }
   },
   "outputs": [],
   "source": [
    "# Cámbiate al directorio que acabas de crear\n",
     ""
   ]
  },
  {
   "cell_type": "code",
   "execution_count": 24,
   "id": "d529a372",
   "metadata": {
    "execution": {
     "iopub.execute_input": "2024-09-10T16:05:39.309315Z",
     "iopub.status.busy": "2024-09-10T16:05:39.308644Z",
     "iopub.status.idle": "2024-09-10T16:05:39.467769Z",
     "shell.execute_reply": "2024-09-10T16:05:39.466959Z"
    }
   },
   "outputs": [
    {
     "name": "stdout",
     "output_type": "stream",
     "text": [
      "fatal: no es un repositorio git (ni ninguno de los directorios superiores): .git\n"
     ]
    },
    {
     "ename": "",
     "evalue": "128",
     "output_type": "error",
     "traceback": []
    }
   ],
   "source": [
    "# Ejecuta el siguiente comando:\n",
     ""
   ]
  },
  {
   "cell_type": "markdown",
   "id": "32af943e",
   "metadata": {},
   "source": [
    "- ¿Hay algún repositorio Git en este directorio (o alguno de sus ancestros)?\n",
    "\n",
    "RESPUESTA:\n",
    "\n",
     ""
   ]
  },
  {
   "cell_type": "code",
   "execution_count": 25,
   "id": "ba2aa53d",
   "metadata": {
    "execution": {
     "iopub.execute_input": "2024-09-10T16:05:39.471511Z",
     "iopub.status.busy": "2024-09-10T16:05:39.470901Z",
     "iopub.status.idle": "2024-09-10T16:05:39.627386Z",
     "shell.execute_reply": "2024-09-10T16:05:39.626585Z"
    }
   },
   "outputs": [
    {
     "name": "stdout",
     "output_type": "stream",
     "text": [
      "/home/jupyter-rtitos-um-es/otrorepo\n"
     ]
    }
   ],
   "source": [
    "# Regresa al directorio \"otrorepo\"\n",
     ""
   ]
  },
  {
   "cell_type": "code",
   "execution_count": 26,
   "id": "522a34b5",
   "metadata": {
    "execution": {
     "iopub.execute_input": "2024-09-10T16:05:39.631029Z",
     "iopub.status.busy": "2024-09-10T16:05:39.630740Z",
     "iopub.status.idle": "2024-09-10T16:05:39.788016Z",
     "shell.execute_reply": "2024-09-10T16:05:39.787171Z"
    }
   },
   "outputs": [],
   "source": [
    "# Mueve el directorio \".git\" del directorio \"otrorepo\" al directorio \"~/testrepo\"\n",
     ""
   ]
  },
  {
   "cell_type": "code",
   "execution_count": 27,
   "id": "9c48b568-f96e-45e3-b172-9b21da9560e8",
   "metadata": {
    "execution": {
     "iopub.execute_input": "2024-09-10T16:05:39.791900Z",
     "iopub.status.busy": "2024-09-10T16:05:39.791329Z",
     "iopub.status.idle": "2024-09-10T16:05:39.896699Z",
     "shell.execute_reply": "2024-09-10T16:05:39.895763Z"
    }
   },
   "outputs": [
    {
     "name": "stdout",
     "output_type": "stream",
     "text": [
      "/home/jupyter-rtitos-um-es/otrorepo\n"
     ]
    }
   ],
   "source": [
    "pwd"
   ]
  },
  {
   "cell_type": "code",
   "execution_count": 28,
   "id": "44ecaaa6",
   "metadata": {
    "execution": {
     "iopub.execute_input": "2024-09-10T16:05:39.900215Z",
     "iopub.status.busy": "2024-09-10T16:05:39.899944Z",
     "iopub.status.idle": "2024-09-10T16:05:40.059148Z",
     "shell.execute_reply": "2024-09-10T16:05:40.058233Z"
    }
   },
   "outputs": [
    {
     "name": "stdout",
     "output_type": "stream",
     "text": [
      "fatal: no es un repositorio git (ni ninguno de los directorios superiores): .git\n"
     ]
    },
    {
     "ename": "",
     "evalue": "128",
     "output_type": "error",
     "traceback": []
    }
   ],
   "source": [
    "# Sin moverte de directorio, muestra el historial de commits\n",
     ""
   ]
  },
  {
   "cell_type": "markdown",
   "id": "f3abbe40",
   "metadata": {},
   "source": [
    "PREGUNTA: ¿Qué ha ocurrido al mover (eliminar) el directorio `.git` del directorio  `otrorepo`?\n",
    "\n",
    "RESPUESTA:\n",
    "\n",
     ""
   ]
  },
  {
   "cell_type": "code",
   "execution_count": 29,
   "id": "5813ab38",
   "metadata": {
    "execution": {
     "iopub.execute_input": "2024-09-10T16:05:40.062576Z",
     "iopub.status.busy": "2024-09-10T16:05:40.062307Z",
     "iopub.status.idle": "2024-09-10T16:05:40.217913Z",
     "shell.execute_reply": "2024-09-10T16:05:40.216969Z"
    }
   },
   "outputs": [],
   "source": [
    "# Cámbiate al directorio \"~/testrepo\"\n",
     ""
   ]
  },
  {
   "cell_type": "code",
   "execution_count": 30,
   "id": "156c26cf",
   "metadata": {
    "execution": {
     "iopub.execute_input": "2024-09-10T16:05:40.221560Z",
     "iopub.status.busy": "2024-09-10T16:05:40.221239Z",
     "iopub.status.idle": "2024-09-10T16:05:40.378419Z",
     "shell.execute_reply": "2024-09-10T16:05:40.377561Z"
    }
   },
   "outputs": [],
   "source": [
    "# Lista el contenido del directorio actual\n",
     ""
   ]
  },
  {
   "cell_type": "markdown",
   "id": "647c25b3",
   "metadata": {},
   "source": [
    "No debería haber ningún fichero en directorio actual."
   ]
  },
  {
   "cell_type": "code",
   "execution_count": 31,
   "id": "c5085038",
   "metadata": {
    "execution": {
     "iopub.execute_input": "2024-09-10T16:05:40.382123Z",
     "iopub.status.busy": "2024-09-10T16:05:40.381856Z",
     "iopub.status.idle": "2024-09-10T16:05:40.543032Z",
     "shell.execute_reply": "2024-09-10T16:05:40.542143Z"
    }
   },
   "outputs": [
    {
     "name": "stdout",
     "output_type": "stream",
     "text": [
      "En la rama main\n"
     ]
    },
    {
     "name": "stdout",
     "output_type": "stream",
     "text": [
      "Cambios no rastreados para el commit:\n"
     ]
    },
    {
     "name": "stdout",
     "output_type": "stream",
     "text": [
      "  (usa \"git add/rm <archivo>...\" para actualizar a lo que se le va a hacer commit)\n"
     ]
    },
    {
     "name": "stdout",
     "output_type": "stream",
     "text": [
      "  (usa \"git restore <archivo>...\" para descartar los cambios en el directorio de trabajo)\n"
     ]
    },
    {
     "name": "stdout",
     "output_type": "stream",
     "text": [
      "\t\u001b[31mborrados:        hello\u001b[m\n"
     ]
    },
    {
     "name": "stdout",
     "output_type": "stream",
     "text": [
      "\n"
     ]
    },
    {
     "name": "stdout",
     "output_type": "stream",
     "text": [
      "sin cambios agregados al commit (usa \"git add\" y/o \"git commit -a\")\n"
     ]
    }
   ],
   "source": [
    "# Ejecuta el siguiente comando\n",
     ""
   ]
  },
  {
   "cell_type": "markdown",
   "id": "879b95c2-c2fe-4a53-8ab2-4138181a31a8",
   "metadata": {},
   "source": [
    "PREGUNTA: ¿Por qué ahora `git status` sí funciona? \n",
    "\n",
    "RESPUESTA:\n",
    "\n",
     ""
   ]
  },
  {
   "cell_type": "code",
   "execution_count": 32,
   "id": "b2be8c8d",
   "metadata": {
    "execution": {
     "iopub.execute_input": "2024-09-10T16:05:40.546659Z",
     "iopub.status.busy": "2024-09-10T16:05:40.546388Z",
     "iopub.status.idle": "2024-09-10T16:05:40.705617Z",
     "shell.execute_reply": "2024-09-10T16:05:40.704644Z"
    }
   },
   "outputs": [],
   "source": [
    "# Restaura el fichero \"hello\"\n",
     ""
   ]
  },
  {
   "cell_type": "code",
   "execution_count": 33,
   "id": "ec7ec849",
   "metadata": {
    "execution": {
     "iopub.execute_input": "2024-09-10T16:05:40.709271Z",
     "iopub.status.busy": "2024-09-10T16:05:40.708966Z",
     "iopub.status.idle": "2024-09-10T16:05:40.866598Z",
     "shell.execute_reply": "2024-09-10T16:05:40.865825Z"
    }
   },
   "outputs": [
    {
     "name": "stdout",
     "output_type": "stream",
     "text": [
      "hello\n"
     ]
    }
   ],
   "source": [
    "# Lista el contenido del directorio actual\n",
     ""
   ]
  },
  {
   "cell_type": "markdown",
   "id": "9a8ec5a2",
   "metadata": {},
   "source": [
    "PREGUNTA: ¿Dónde se almacena la información que Git usa para ser capaz de restaurar el fichero \"hello\" de la celda anterior?\n",
    "\n",
    "RESPUESTA:\n",
    "\n",
     ""
   ]
  },
  {
   "cell_type": "markdown",
   "id": "db4ef628",
   "metadata": {},
   "source": [
    "Finalmente, elimina los directorios de prueba que hemos utilizado en estos ejercicios."
   ]
  },
  {
   "cell_type": "code",
   "execution_count": 34,
   "id": "eff77a64",
   "metadata": {
    "execution": {
     "iopub.execute_input": "2024-09-10T16:05:40.870591Z",
     "iopub.status.busy": "2024-09-10T16:05:40.869939Z",
     "iopub.status.idle": "2024-09-10T16:05:41.029735Z",
     "shell.execute_reply": "2024-09-10T16:05:41.028712Z"
    }
   },
   "outputs": [],
   "source": [
    "# Elimina el directorio \"~/p2a-ejercicio\" testrepo y otrorepo\n",
    "cd && rm -rf testrepo otrorepo p2a-ejercicio"
   ]
  },
  {
   "cell_type": "markdown",
   "id": "0bbf22c8-18b7-4d90-9781-8c46a8b72021",
   "metadata": {},
   "source": [
    "**FIN DEL CUADERNO** (*no borres esta celda*)\n",
    "\n",
    "@@@@ practica2-introgit-extra-ejercicios-opcionales.ipynb @@@@"
   ]
  }
 ],
 "metadata": {
  "kernelspec": {
   "display_name": "Bash",
   "language": "bash",
   "name": "bash"
  },
  "language_info": {
   "codemirror_mode": "shell",
   "file_extension": ".sh",
   "mimetype": "text/x-sh",
   "name": "bash"
  },
  "toc": {
   "base_numbering": "1",
   "nav_menu": {},
   "number_sections": true,
   "sideBar": true,
   "skip_h1_title": true,
   "title_cell": "Table of Contents",
   "title_sidebar": "Contents",
   "toc_cell": false,
   "toc_position": {
    "height": "calc(100% - 180px)",
    "left": "10px",
    "top": "150px",
    "width": "296px"
   },
   "toc_section_display": true,
   "toc_window_display": true
  }
 },
 "nbformat": 4,
 "nbformat_minor": 5
}

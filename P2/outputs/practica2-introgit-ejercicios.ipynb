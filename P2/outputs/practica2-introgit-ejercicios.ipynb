{
 "cells": [
  {
   "cell_type": "markdown",
   "id": "53d40637",
   "metadata": {},
   "source": [
    "# Ejercicios - Práctica 2: Control de versiones con Git"
   ]
  },
  {
   "cell_type": "markdown",
   "id": "267d7c1c",
   "metadata": {},
   "source": [
    "## Flujo de trabajo con un repositorio local"
   ]
  },
  {
   "cell_type": "code",
   "execution_count": 1,
   "id": "96c574d0",
   "metadata": {
    "execution": {
     "iopub.execute_input": "2024-09-10T16:05:04.239340Z",
     "iopub.status.busy": "2024-09-10T16:05:04.239076Z",
     "iopub.status.idle": "2024-09-10T16:05:04.394941Z",
     "shell.execute_reply": "2024-09-10T16:05:04.393983Z"
    }
   },
   "outputs": [],
   "source": [
    "# Sitúate en tu directorio de inicio de usuario\n",
    "cd"
   ]
  },
  {
   "cell_type": "code",
   "execution_count": 2,
   "id": "cc6a4a29-6cb6-485c-bebe-32754c560594",
   "metadata": {
    "execution": {
     "iopub.execute_input": "2024-09-10T16:05:04.398555Z",
     "iopub.status.busy": "2024-09-10T16:05:04.398279Z",
     "iopub.status.idle": "2024-09-10T16:05:04.555545Z",
     "shell.execute_reply": "2024-09-10T16:05:04.554569Z"
    }
   },
   "outputs": [],
   "source": [
    "# Borra recursivamente el directorio test-repo\n",
    "rm -rf test-repo"
   ]
  },
  {
   "cell_type": "code",
   "execution_count": 3,
   "id": "91da112d",
   "metadata": {
    "execution": {
     "iopub.execute_input": "2024-09-10T16:05:04.559181Z",
     "iopub.status.busy": "2024-09-10T16:05:04.558924Z",
     "iopub.status.idle": "2024-09-10T16:05:04.716113Z",
     "shell.execute_reply": "2024-09-10T16:05:04.715351Z"
    }
   },
   "outputs": [],
   "source": [
    "# Crea un directorio llamado \"test-repo\"\n",
     ""
   ]
  },
  {
   "cell_type": "code",
   "execution_count": 4,
   "id": "352abf5b",
   "metadata": {
    "execution": {
     "iopub.execute_input": "2024-09-10T16:05:04.719913Z",
     "iopub.status.busy": "2024-09-10T16:05:04.719625Z",
     "iopub.status.idle": "2024-09-10T16:05:04.875614Z",
     "shell.execute_reply": "2024-09-10T16:05:04.874641Z"
    }
   },
   "outputs": [],
   "source": [
    "# Accede al directorio que acabas de crear\n",
     ""
   ]
  },
  {
   "cell_type": "code",
   "execution_count": 5,
   "id": "2cb58bc5",
   "metadata": {
    "execution": {
     "iopub.execute_input": "2024-09-10T16:05:04.879342Z",
     "iopub.status.busy": "2024-09-10T16:05:04.879047Z",
     "iopub.status.idle": "2024-09-10T16:05:05.039589Z",
     "shell.execute_reply": "2024-09-10T16:05:05.038674Z"
    }
   },
   "outputs": [
    {
     "name": "stdout",
     "output_type": "stream",
     "text": [
      "Inicializado repositorio Git vacío en /home/jupyter-rtitos-um-es/test-repo/.git/\n"
     ]
    }
   ],
   "source": [
    "# Crea un repositorio vacío\n",
     ""
   ]
  },
  {
   "cell_type": "code",
   "execution_count": 6,
   "id": "8bce43cb",
   "metadata": {
    "execution": {
     "iopub.execute_input": "2024-09-10T16:05:05.043341Z",
     "iopub.status.busy": "2024-09-10T16:05:05.042865Z",
     "iopub.status.idle": "2024-09-10T16:05:05.303489Z",
     "shell.execute_reply": "2024-09-10T16:05:05.302535Z"
    }
   },
   "outputs": [
    {
     "name": "stdout",
     "output_type": "stream",
     "text": [
      "\u001b[0m\u001b[01;34m.\u001b[0m  \u001b[01;34m..\u001b[0m  \u001b[01;34m.git\u001b[0m\n"
     ]
    }
   ],
   "source": [
    "# Muestra el contenido del directorio actual.\n",
    "# NOTA:: Usa la opción adecuada para mostrar **TODOS** \n",
    "# los ficheros y directorios (incluyendo los ocultos)\n",
     ""
   ]
  },
  {
   "cell_type": "markdown",
   "id": "c1c769a9-594c-490b-ae7f-70bca3daa281",
   "metadata": {},
   "source": [
    "Deberías observar en la salida del comando anterior que tras ejecutar `git init` se ha creado un directorio oculto llamado `.git`."
   ]
  },
  {
   "cell_type": "code",
   "execution_count": 7,
   "id": "34019ca2",
   "metadata": {
    "execution": {
     "iopub.execute_input": "2024-09-10T16:05:05.307648Z",
     "iopub.status.busy": "2024-09-10T16:05:05.306950Z",
     "iopub.status.idle": "2024-09-10T16:05:05.465385Z",
     "shell.execute_reply": "2024-09-10T16:05:05.464559Z"
    }
   },
   "outputs": [
    {
     "name": "stdout",
     "output_type": "stream",
     "text": [
      "\u001b[0m\u001b[01;34mbranches\u001b[0m  config  description  HEAD  \u001b[01;34mhooks\u001b[0m  \u001b[01;34minfo\u001b[0m  \u001b[01;34mobjects\u001b[0m  \u001b[01;34mrefs\u001b[0m\n"
     ]
    }
   ],
   "source": [
    "# Muestra el contenido del subdirectorio \".git\"\n",
     ""
   ]
  },
  {
   "cell_type": "code",
   "execution_count": 8,
   "id": "a49e7a8c",
   "metadata": {
    "execution": {
     "iopub.execute_input": "2024-09-10T16:05:05.469579Z",
     "iopub.status.busy": "2024-09-10T16:05:05.468814Z",
     "iopub.status.idle": "2024-09-10T16:05:05.626693Z",
     "shell.execute_reply": "2024-09-10T16:05:05.625666Z"
    }
   },
   "outputs": [],
   "source": [
    "# Crea un fichero vacío llamado AUTHORS\n",
     ""
   ]
  },
  {
   "cell_type": "code",
   "execution_count": 9,
   "id": "542bbc8b",
   "metadata": {
    "execution": {
     "iopub.execute_input": "2024-09-10T16:05:05.630668Z",
     "iopub.status.busy": "2024-09-10T16:05:05.630333Z",
     "iopub.status.idle": "2024-09-10T16:05:05.841988Z",
     "shell.execute_reply": "2024-09-10T16:05:05.841103Z"
    }
   },
   "outputs": [
    {
     "name": "stdout",
     "output_type": "stream",
     "text": [
      "En la rama main\n"
     ]
    },
    {
     "name": "stdout",
     "output_type": "stream",
     "text": [
      "\n"
     ]
    },
    {
     "name": "stdout",
     "output_type": "stream",
     "text": [
      "No hay commits todavía\n"
     ]
    },
    {
     "name": "stdout",
     "output_type": "stream",
     "text": [
      "\n"
     ]
    },
    {
     "name": "stdout",
     "output_type": "stream",
     "text": [
      "Archivos sin seguimiento:\n"
     ]
    },
    {
     "name": "stdout",
     "output_type": "stream",
     "text": [
      "  (usa \"git add <archivo>...\" para incluirlo a lo que será confirmado)\n"
     ]
    },
    {
     "name": "stdout",
     "output_type": "stream",
     "text": [
      "\t\u001b[31mAUTHORS\u001b[m\n"
     ]
    },
    {
     "name": "stdout",
     "output_type": "stream",
     "text": [
      "\n"
     ]
    },
    {
     "name": "stdout",
     "output_type": "stream",
     "text": [
      "no hay nada agregado al commit pero hay archivos sin seguimiento presentes (usa \"git add\" para hacerles seguimiento)\n"
     ]
    }
   ],
   "source": [
    "# Muestra el estado del árbol de trabajo y\n",
    "# observa en qué estado está el fichero AUTHORS\n",
     ""
   ]
  },
  {
   "cell_type": "code",
   "execution_count": 10,
   "id": "28c95973",
   "metadata": {
    "execution": {
     "iopub.execute_input": "2024-09-10T16:05:05.845610Z",
     "iopub.status.busy": "2024-09-10T16:05:05.845291Z",
     "iopub.status.idle": "2024-09-10T16:05:06.002850Z",
     "shell.execute_reply": "2024-09-10T16:05:06.002041Z"
    }
   },
   "outputs": [],
   "source": [
    "# Crea un directorio llamado practica2\n",
     ""
   ]
  },
  {
   "cell_type": "code",
   "execution_count": 11,
   "id": "6476d087",
   "metadata": {
    "execution": {
     "iopub.execute_input": "2024-09-10T16:05:06.006338Z",
     "iopub.status.busy": "2024-09-10T16:05:06.006063Z",
     "iopub.status.idle": "2024-09-10T16:05:06.214428Z",
     "shell.execute_reply": "2024-09-10T16:05:06.213511Z"
    }
   },
   "outputs": [],
   "source": [
    "# Crea otro fichero vacío llamado \"lista_comandos.txt\" \n",
    "# en el directorio `practica2`\n",
     ""
   ]
  },
  {
   "cell_type": "code",
   "execution_count": 12,
   "id": "04b4e4f6",
   "metadata": {
    "execution": {
     "iopub.execute_input": "2024-09-10T16:05:06.218065Z",
     "iopub.status.busy": "2024-09-10T16:05:06.217788Z",
     "iopub.status.idle": "2024-09-10T16:05:06.428770Z",
     "shell.execute_reply": "2024-09-10T16:05:06.427764Z"
    }
   },
   "outputs": [
    {
     "name": "stdout",
     "output_type": "stream",
     "text": [
      "En la rama main\n"
     ]
    },
    {
     "name": "stdout",
     "output_type": "stream",
     "text": [
      "\n"
     ]
    },
    {
     "name": "stdout",
     "output_type": "stream",
     "text": [
      "No hay commits todavía\n"
     ]
    },
    {
     "name": "stdout",
     "output_type": "stream",
     "text": [
      "\n"
     ]
    },
    {
     "name": "stdout",
     "output_type": "stream",
     "text": [
      "Archivos sin seguimiento:\n"
     ]
    },
    {
     "name": "stdout",
     "output_type": "stream",
     "text": [
      "  (usa \"git add <archivo>...\" para incluirlo a lo que será confirmado)\n"
     ]
    },
    {
     "name": "stdout",
     "output_type": "stream",
     "text": [
      "\t\u001b[31mAUTHORS\u001b[m\n"
     ]
    },
    {
     "name": "stdout",
     "output_type": "stream",
     "text": [
      "\t\u001b[31mpractica2/\u001b[m\n"
     ]
    },
    {
     "name": "stdout",
     "output_type": "stream",
     "text": [
      "\n"
     ]
    },
    {
     "name": "stdout",
     "output_type": "stream",
     "text": [
      "no hay nada agregado al commit pero hay archivos sin seguimiento presentes (usa \"git add\" para hacerles seguimiento)\n"
     ]
    }
   ],
   "source": [
    "# Muestra el estado del árbol de trabajo y\n",
    "# observa en qué estado está el fichero AUTHORS\n",
     ""
   ]
  },
  {
   "cell_type": "code",
   "execution_count": 13,
   "id": "53cc5cb2",
   "metadata": {
    "execution": {
     "iopub.execute_input": "2024-09-10T16:05:06.432335Z",
     "iopub.status.busy": "2024-09-10T16:05:06.432051Z",
     "iopub.status.idle": "2024-09-10T16:05:06.590345Z",
     "shell.execute_reply": "2024-09-10T16:05:06.589461Z"
    }
   },
   "outputs": [],
   "source": [
    "# Añade el fichero AUTHORS (actualmente vacío) al índice\n",
     ""
   ]
  },
  {
   "cell_type": "code",
   "execution_count": 14,
   "id": "fa38c765",
   "metadata": {
    "execution": {
     "iopub.execute_input": "2024-09-10T16:05:06.594364Z",
     "iopub.status.busy": "2024-09-10T16:05:06.593655Z",
     "iopub.status.idle": "2024-09-10T16:05:06.805366Z",
     "shell.execute_reply": "2024-09-10T16:05:06.804668Z"
    }
   },
   "outputs": [
    {
     "name": "stdout",
     "output_type": "stream",
     "text": [
      "En la rama main\n"
     ]
    },
    {
     "name": "stdout",
     "output_type": "stream",
     "text": [
      "\n"
     ]
    },
    {
     "name": "stdout",
     "output_type": "stream",
     "text": [
      "No hay commits todavía\n"
     ]
    },
    {
     "name": "stdout",
     "output_type": "stream",
     "text": [
      "\n"
     ]
    },
    {
     "name": "stdout",
     "output_type": "stream",
     "text": [
      "Cambios a ser confirmados:\n"
     ]
    },
    {
     "name": "stdout",
     "output_type": "stream",
     "text": [
      "  (usa \"git rm --cached <archivo>...\" para sacar del área de stage)\n"
     ]
    },
    {
     "name": "stdout",
     "output_type": "stream",
     "text": [
      "\t\u001b[32mnuevos archivos: AUTHORS\u001b[m\n"
     ]
    },
    {
     "name": "stdout",
     "output_type": "stream",
     "text": [
      "\n"
     ]
    },
    {
     "name": "stdout",
     "output_type": "stream",
     "text": [
      "Archivos sin seguimiento:\n"
     ]
    },
    {
     "name": "stdout",
     "output_type": "stream",
     "text": [
      "  (usa \"git add <archivo>...\" para incluirlo a lo que será confirmado)\n"
     ]
    },
    {
     "name": "stdout",
     "output_type": "stream",
     "text": [
      "\t\u001b[31mpractica2/\u001b[m\n"
     ]
    },
    {
     "name": "stdout",
     "output_type": "stream",
     "text": [
      "\n"
     ]
    }
   ],
   "source": [
    "# Muestra el estado del árbol de trabajo y observa\n",
    "# el nuevo estado del fichero AUTHORS\n",
     ""
   ]
  },
  {
   "cell_type": "markdown",
   "id": "546716b0-a233-4b15-af69-6fb15676aae0",
   "metadata": {},
   "source": [
    "Observa que el fichero `AUTHORS` debería haber pasado de estar *ignorado* a ser parte del área de índice o stage (*candidato* a ser confirmado)."
   ]
  },
  {
   "cell_type": "code",
   "execution_count": 15,
   "id": "c2649bb5",
   "metadata": {
    "execution": {
     "iopub.execute_input": "2024-09-10T16:05:06.808878Z",
     "iopub.status.busy": "2024-09-10T16:05:06.808612Z",
     "iopub.status.idle": "2024-09-10T16:05:07.072983Z",
     "shell.execute_reply": "2024-09-10T16:05:07.072240Z"
    }
   },
   "outputs": [
    {
     "name": "stdout",
     "output_type": "stream",
     "text": [
      "[main (commit-raíz) 13bd417] Añadiendo fichero con autores vacío\n"
     ]
    },
    {
     "name": "stdout",
     "output_type": "stream",
     "text": [
      " 1 file changed, 0 insertions(+), 0 deletions(-)\n"
     ]
    },
    {
     "name": "stdout",
     "output_type": "stream",
     "text": [
      " create mode 100644 AUTHORS\n"
     ]
    }
   ],
   "source": [
    "# Confirma los cambios al repositorio. Recuerda usar\n",
    "# la opción -m seguida del mensaje de commit entrecomillado\n",
    "# (p.ej., \"añadiendo fichero con autores vacío\")\n",
     ""
   ]
  },
  {
   "cell_type": "code",
   "execution_count": 16,
   "id": "897f2853",
   "metadata": {
    "execution": {
     "iopub.execute_input": "2024-09-10T16:05:07.076563Z",
     "iopub.status.busy": "2024-09-10T16:05:07.076288Z",
     "iopub.status.idle": "2024-09-10T16:05:07.236548Z",
     "shell.execute_reply": "2024-09-10T16:05:07.235747Z"
    }
   },
   "outputs": [
    {
     "name": "stdout",
     "output_type": "stream",
     "text": [
      "En la rama main\n"
     ]
    },
    {
     "name": "stdout",
     "output_type": "stream",
     "text": [
      "Archivos sin seguimiento:\n"
     ]
    },
    {
     "name": "stdout",
     "output_type": "stream",
     "text": [
      "  (usa \"git add <archivo>...\" para incluirlo a lo que será confirmado)\n"
     ]
    },
    {
     "name": "stdout",
     "output_type": "stream",
     "text": [
      "\t\u001b[31mpractica2/\u001b[m\n"
     ]
    },
    {
     "name": "stdout",
     "output_type": "stream",
     "text": [
      "\n"
     ]
    },
    {
     "name": "stdout",
     "output_type": "stream",
     "text": [
      "no hay nada agregado al commit pero hay archivos sin seguimiento presentes (usa \"git add\" para hacerles seguimiento)\n"
     ]
    }
   ],
   "source": [
    "# Muestra el estado del árbol de trabajo\n",
     ""
   ]
  },
  {
   "cell_type": "code",
   "execution_count": 17,
   "id": "20674efd-2b5c-4ffc-9a08-b008e8e07b71",
   "metadata": {
    "execution": {
     "iopub.execute_input": "2024-09-10T16:05:07.240093Z",
     "iopub.status.busy": "2024-09-10T16:05:07.239809Z",
     "iopub.status.idle": "2024-09-10T16:05:07.395213Z",
     "shell.execute_reply": "2024-09-10T16:05:07.394379Z"
    }
   },
   "outputs": [],
   "source": [
    "# Añade una línea al fichero `AUTHORS` ejecutando esta celda:\n",
    "echo \"Nombre Apellido\" >> AUTHORS"
   ]
  },
  {
   "cell_type": "code",
   "execution_count": 18,
   "id": "d9fe058a-24cf-4caf-adc1-6ec9e9ce4891",
   "metadata": {
    "execution": {
     "iopub.execute_input": "2024-09-10T16:05:07.398823Z",
     "iopub.status.busy": "2024-09-10T16:05:07.398536Z",
     "iopub.status.idle": "2024-09-10T16:05:07.558075Z",
     "shell.execute_reply": "2024-09-10T16:05:07.557272Z"
    }
   },
   "outputs": [
    {
     "name": "stdout",
     "output_type": "stream",
     "text": [
      "\u001b[1mdiff --git a/AUTHORS b/AUTHORS\u001b[m\n"
     ]
    },
    {
     "name": "stdout",
     "output_type": "stream",
     "text": [
      "\u001b[1mindex e69de29..3a98e86 100644\u001b[m\n"
     ]
    },
    {
     "name": "stdout",
     "output_type": "stream",
     "text": [
      "\u001b[1m--- a/AUTHORS\u001b[m\n"
     ]
    },
    {
     "name": "stdout",
     "output_type": "stream",
     "text": [
      "\u001b[1m+++ b/AUTHORS\u001b[m\n"
     ]
    },
    {
     "name": "stdout",
     "output_type": "stream",
     "text": [
      "\u001b[36m@@ -0,0 +1 @@\u001b[m\n"
     ]
    },
    {
     "name": "stdout",
     "output_type": "stream",
     "text": [
      "\u001b[32m+\u001b[m\u001b[32mNombre Apellido\u001b[m\n"
     ]
    }
   ],
   "source": [
    "# Muestra los cambios en el fichero `AUTHORS`\n",
     ""
   ]
  },
  {
   "cell_type": "code",
   "execution_count": 19,
   "id": "2feaf35f-4fa7-4da1-af36-baf33b7eb69d",
   "metadata": {
    "execution": {
     "iopub.execute_input": "2024-09-10T16:05:07.561732Z",
     "iopub.status.busy": "2024-09-10T16:05:07.561461Z",
     "iopub.status.idle": "2024-09-10T16:05:07.720067Z",
     "shell.execute_reply": "2024-09-10T16:05:07.719321Z"
    }
   },
   "outputs": [],
   "source": [
    "# Deshaz los cambios en el fichero `AUTHORS`\n",
     ""
   ]
  },
  {
   "cell_type": "code",
   "execution_count": 20,
   "id": "73c7fa59-47b7-4ea6-903e-726de4683538",
   "metadata": {
    "execution": {
     "iopub.execute_input": "2024-09-10T16:05:07.723796Z",
     "iopub.status.busy": "2024-09-10T16:05:07.723503Z",
     "iopub.status.idle": "2024-09-10T16:05:07.880321Z",
     "shell.execute_reply": "2024-09-10T16:05:07.879547Z"
    }
   },
   "outputs": [],
   "source": [
    "# Muestra el contenido del fichero `AUTHORS`\n",
     ""
   ]
  },
  {
   "cell_type": "markdown",
   "id": "32eff9c5-64a9-4e15-a2ad-c74e5832f0c6",
   "metadata": {},
   "source": [
    "Ahora añade tu nombre y apellidos y haz los pasos necesarios para confirmar el cambio al repositorio."
   ]
  },
  {
   "cell_type": "code",
   "execution_count": 21,
   "id": "508ed25c-2a47-4119-9b1e-cb61a0294bfb",
   "metadata": {
    "execution": {
     "iopub.execute_input": "2024-09-10T16:05:07.884072Z",
     "iopub.status.busy": "2024-09-10T16:05:07.883798Z",
     "iopub.status.idle": "2024-09-10T16:05:08.039054Z",
     "shell.execute_reply": "2024-09-10T16:05:08.038334Z"
    }
   },
   "outputs": [],
   "source": [
    "# Añadimos nombre y apellidos (edita y pon los tuyos)\n",
    "echo \"Jane Doe\" >> AUTHORS"
   ]
  },
  {
   "cell_type": "code",
   "execution_count": 22,
   "id": "6d9d6b9c-d8e7-4cdf-a2c9-5d81693906ad",
   "metadata": {
    "execution": {
     "iopub.execute_input": "2024-09-10T16:05:08.042586Z",
     "iopub.status.busy": "2024-09-10T16:05:08.042322Z",
     "iopub.status.idle": "2024-09-10T16:05:08.149816Z",
     "shell.execute_reply": "2024-09-10T16:05:08.148893Z"
    }
   },
   "outputs": [],
   "source": [
     ""
   ]
  },
  {
   "cell_type": "code",
   "execution_count": 23,
   "id": "54592108-10cc-4d22-9b58-3b6d8ab69633",
   "metadata": {
    "execution": {
     "iopub.execute_input": "2024-09-10T16:05:08.153352Z",
     "iopub.status.busy": "2024-09-10T16:05:08.153054Z",
     "iopub.status.idle": "2024-09-10T16:05:08.265590Z",
     "shell.execute_reply": "2024-09-10T16:05:08.264552Z"
    }
   },
   "outputs": [
    {
     "name": "stdout",
     "output_type": "stream",
     "text": [
      "[main 0469fe1] Añadiendo nombre del autor\n"
     ]
    },
    {
     "name": "stdout",
     "output_type": "stream",
     "text": [
      " 1 file changed, 1 insertion(+)\n"
     ]
    }
   ],
   "source": [
     ""
   ]
  },
  {
   "cell_type": "code",
   "execution_count": 24,
   "id": "f7779f83-e435-48cc-8201-22c6ab8ab0bb",
   "metadata": {
    "execution": {
     "iopub.execute_input": "2024-09-10T16:05:08.269346Z",
     "iopub.status.busy": "2024-09-10T16:05:08.268998Z",
     "iopub.status.idle": "2024-09-10T16:05:08.433041Z",
     "shell.execute_reply": "2024-09-10T16:05:08.432265Z"
    }
   },
   "outputs": [
    {
     "name": "stdout",
     "output_type": "stream",
     "text": [
      "\u001b[33mcommit 0469fe18f6c8a0fa1f7557ecddff71da00937fe7\u001b[m\u001b[33m (\u001b[m\u001b[1;36mHEAD -> \u001b[m\u001b[1;32mmain\u001b[m\u001b[33m)\u001b[m\n"
     ]
    },
    {
     "name": "stdout",
     "output_type": "stream",
     "text": [
      "Author: TITOS GIL, JOSE RUBEN <rtitos@um.es>\n"
     ]
    },
    {
     "name": "stdout",
     "output_type": "stream",
     "text": [
      "Date:   Tue Sep 10 16:05:08 2024 +0000\n"
     ]
    },
    {
     "name": "stdout",
     "output_type": "stream",
     "text": [
      "\n"
     ]
    },
    {
     "name": "stdout",
     "output_type": "stream",
     "text": [
      "    Añadiendo nombre del autor\n"
     ]
    },
    {
     "name": "stdout",
     "output_type": "stream",
     "text": [
      "\n"
     ]
    },
    {
     "name": "stdout",
     "output_type": "stream",
     "text": [
      "\u001b[1mdiff --git a/AUTHORS b/AUTHORS\u001b[m\n"
     ]
    },
    {
     "name": "stdout",
     "output_type": "stream",
     "text": [
      "\u001b[1mindex e69de29..fddfb72 100644\u001b[m\n"
     ]
    },
    {
     "name": "stdout",
     "output_type": "stream",
     "text": [
      "\u001b[1m--- a/AUTHORS\u001b[m\n"
     ]
    },
    {
     "name": "stdout",
     "output_type": "stream",
     "text": [
      "\u001b[1m+++ b/AUTHORS\u001b[m\n"
     ]
    },
    {
     "name": "stdout",
     "output_type": "stream",
     "text": [
      "\u001b[36m@@ -0,0 +1 @@\u001b[m\n"
     ]
    },
    {
     "name": "stdout",
     "output_type": "stream",
     "text": [
      "\u001b[32m+\u001b[m\u001b[32mJane Doe\u001b[m\n"
     ]
    },
    {
     "name": "stdout",
     "output_type": "stream",
     "text": [
      "\n"
     ]
    },
    {
     "name": "stdout",
     "output_type": "stream",
     "text": [
      "\u001b[33mcommit 13bd41761378230ebcd169a5f2d13efac6579900\u001b[m\n"
     ]
    },
    {
     "name": "stdout",
     "output_type": "stream",
     "text": [
      "Author: TITOS GIL, JOSE RUBEN <rtitos@um.es>\n"
     ]
    },
    {
     "name": "stdout",
     "output_type": "stream",
     "text": [
      "Date:   Tue Sep 10 16:05:07 2024 +0000\n"
     ]
    },
    {
     "name": "stdout",
     "output_type": "stream",
     "text": [
      "\n"
     ]
    },
    {
     "name": "stdout",
     "output_type": "stream",
     "text": [
      "    Añadiendo fichero con autores vacío\n"
     ]
    },
    {
     "name": "stdout",
     "output_type": "stream",
     "text": [
      "\n"
     ]
    },
    {
     "name": "stdout",
     "output_type": "stream",
     "text": [
      "\u001b[1mdiff --git a/AUTHORS b/AUTHORS\u001b[m\n"
     ]
    },
    {
     "name": "stdout",
     "output_type": "stream",
     "text": [
      "\u001b[1mnew file mode 100644\u001b[m\n"
     ]
    },
    {
     "name": "stdout",
     "output_type": "stream",
     "text": [
      "\u001b[1mindex 0000000..e69de29\u001b[m\n"
     ]
    }
   ],
   "source": [
    "# Muestra al registro de *commits* al repositorio:\n",
     ""
   ]
  },
  {
   "cell_type": "code",
   "execution_count": 25,
   "id": "6c81869a-20cd-4ecd-827e-020677479b1f",
   "metadata": {
    "execution": {
     "iopub.execute_input": "2024-09-10T16:05:08.436753Z",
     "iopub.status.busy": "2024-09-10T16:05:08.436198Z",
     "iopub.status.idle": "2024-09-10T16:05:08.591686Z",
     "shell.execute_reply": "2024-09-10T16:05:08.591020Z"
    }
   },
   "outputs": [],
   "source": [
    "# Regresa a tu directorio personal (padre del actual).\n",
     ""
   ]
  },
  {
   "cell_type": "code",
   "execution_count": 26,
   "id": "9799e73a-b50b-43d6-a9bd-e0bb60a15e79",
   "metadata": {
    "execution": {
     "iopub.execute_input": "2024-09-10T16:05:08.595321Z",
     "iopub.status.busy": "2024-09-10T16:05:08.595033Z",
     "iopub.status.idle": "2024-09-10T16:05:08.751101Z",
     "shell.execute_reply": "2024-09-10T16:05:08.750287Z"
    }
   },
   "outputs": [
    {
     "name": "stdout",
     "output_type": "stream",
     "text": [
      "/home/jupyter-rtitos-um-es\n"
     ]
    }
   ],
   "source": [
    "# Muestra el directorio actual\n",
    "pwd"
   ]
  },
  {
   "cell_type": "code",
   "execution_count": 27,
   "id": "37c1f89c-0efa-4c5e-8eea-acf55270cbe0",
   "metadata": {
    "execution": {
     "iopub.execute_input": "2024-09-10T16:05:08.754716Z",
     "iopub.status.busy": "2024-09-10T16:05:08.754441Z",
     "iopub.status.idle": "2024-09-10T16:05:08.913133Z",
     "shell.execute_reply": "2024-09-10T16:05:08.912280Z"
    }
   },
   "outputs": [
    {
     "name": "stdout",
     "output_type": "stream",
     "text": [
      "fatal: no es un repositorio git (ni ninguno de los directorios superiores): .git\n"
     ]
    },
    {
     "ename": "",
     "evalue": "128",
     "output_type": "error",
     "traceback": []
    }
   ],
   "source": [
    "# Muestra el estado del árbol de trabajo\n",
     ""
   ]
  },
  {
   "cell_type": "markdown",
   "id": "98fd1845-bede-4c08-ba44-612dcdf303e2",
   "metadata": {},
   "source": [
    "PREGUNTA: ¿Es posible mostrar el estado del árbol de trabajo del repositorio `test-repo` desde el directorio actual? ¿Por qué?\n",
    "\n",
    "RESPUESTA:\n",
    "\n",
     ""
   ]
  },
  {
   "cell_type": "markdown",
   "id": "ef459484-03b5-49ea-bf7c-658c33e5d73d",
   "metadata": {},
   "source": [
    "Vamos a copiar un fichero cualquiera de configuración al directorio del usuario, ejecutando la siguiente celda:"
   ]
  },
  {
   "cell_type": "code",
   "execution_count": 28,
   "id": "fbc8d42f-d742-4e79-9f47-ab986231c4e7",
   "metadata": {
    "execution": {
     "iopub.execute_input": "2024-09-10T16:05:08.916691Z",
     "iopub.status.busy": "2024-09-10T16:05:08.916427Z",
     "iopub.status.idle": "2024-09-10T16:05:09.073847Z",
     "shell.execute_reply": "2024-09-10T16:05:09.072942Z"
    }
   },
   "outputs": [],
   "source": [
    "# Copiamos un fichero cualquiera\n",
    "cp /etc/hosts ."
   ]
  },
  {
   "cell_type": "code",
   "execution_count": 29,
   "id": "6d4a178c-e6a6-4242-9c9c-f77eaeaa4e39",
   "metadata": {
    "execution": {
     "iopub.execute_input": "2024-09-10T16:05:09.077403Z",
     "iopub.status.busy": "2024-09-10T16:05:09.077094Z",
     "iopub.status.idle": "2024-09-10T16:05:09.235792Z",
     "shell.execute_reply": "2024-09-10T16:05:09.234923Z"
    }
   },
   "outputs": [
    {
     "name": "stdout",
     "output_type": "stream",
     "text": [
      "127.0.0.1 localhost\n"
     ]
    },
    {
     "name": "stdout",
     "output_type": "stream",
     "text": [
      "\n"
     ]
    },
    {
     "name": "stdout",
     "output_type": "stream",
     "text": [
      "# The following lines are desirable for IPv6 capable hosts\n"
     ]
    },
    {
     "name": "stdout",
     "output_type": "stream",
     "text": [
      "::1 ip6-localhost ip6-loopback\n"
     ]
    },
    {
     "name": "stdout",
     "output_type": "stream",
     "text": [
      "fe00::0 ip6-localnet\n"
     ]
    },
    {
     "name": "stdout",
     "output_type": "stream",
     "text": [
      "ff00::0 ip6-mcastprefix\n"
     ]
    },
    {
     "name": "stdout",
     "output_type": "stream",
     "text": [
      "ff02::1 ip6-allnodes\n"
     ]
    },
    {
     "name": "stdout",
     "output_type": "stream",
     "text": [
      "ff02::2 ip6-allrouters\n"
     ]
    },
    {
     "name": "stdout",
     "output_type": "stream",
     "text": [
      "ff02::3 ip6-allhosts\n"
     ]
    },
    {
     "name": "stdout",
     "output_type": "stream",
     "text": [
      "169.254.169.254 metadata.google.internal metadata\n"
     ]
    }
   ],
   "source": [
    "# Mostramos las primeras líneas del fichero descargado\n",
    "head hosts"
   ]
  },
  {
   "cell_type": "markdown",
   "id": "0fd5ce13-217c-4cac-91c8-187a17a1fb2d",
   "metadata": {},
   "source": [
    "Mostramos la ubicación del fichero copiado (su ruta absoluta):"
   ]
  },
  {
   "cell_type": "code",
   "execution_count": 30,
   "id": "1390ce41-9f5a-42e4-96f2-a4daab326788",
   "metadata": {
    "execution": {
     "iopub.execute_input": "2024-09-10T16:05:09.239307Z",
     "iopub.status.busy": "2024-09-10T16:05:09.239054Z",
     "iopub.status.idle": "2024-09-10T16:05:09.345440Z",
     "shell.execute_reply": "2024-09-10T16:05:09.344469Z"
    }
   },
   "outputs": [
    {
     "name": "stdout",
     "output_type": "stream",
     "text": [
      "/home/jupyter-rtitos-um-es/hosts\n"
     ]
    }
   ],
   "source": [
    "readlink -f hosts"
   ]
  },
  {
   "cell_type": "markdown",
   "id": "71888ede-bcd3-4f8a-b6c9-e111962ef65f",
   "metadata": {},
   "source": [
    "Ahora vamos a tratar de añadir el fichero `hosts` al repositorio."
   ]
  },
  {
   "cell_type": "code",
   "execution_count": 31,
   "id": "cc23fd1c-f4bb-404a-b275-33075a148a64",
   "metadata": {
    "execution": {
     "iopub.execute_input": "2024-09-10T16:05:09.349067Z",
     "iopub.status.busy": "2024-09-10T16:05:09.348808Z",
     "iopub.status.idle": "2024-09-10T16:05:09.504337Z",
     "shell.execute_reply": "2024-09-10T16:05:09.503408Z"
    }
   },
   "outputs": [],
   "source": [
    "# Entrar en el directorio `test-repo` donde hemos creado el repositorio.\n",
     ""
   ]
  },
  {
   "cell_type": "code",
   "execution_count": 32,
   "id": "01b42719-2555-4f34-9411-e666299d7ffb",
   "metadata": {
    "execution": {
     "iopub.execute_input": "2024-09-10T16:05:09.508428Z",
     "iopub.status.busy": "2024-09-10T16:05:09.507868Z",
     "iopub.status.idle": "2024-09-10T16:05:09.667703Z",
     "shell.execute_reply": "2024-09-10T16:05:09.666787Z"
    }
   },
   "outputs": [
    {
     "name": "stdout",
     "output_type": "stream",
     "text": [
      "fatal: ../hosts: '../hosts' está fuera del repositorio en '/home/jupyter-rtitos-um-es/test-repo'\n"
     ]
    },
    {
     "ename": "",
     "evalue": "128",
     "output_type": "error",
     "traceback": []
    }
   ],
   "source": [
    "# tratamos de añadir el fichero al repositorio.\n",
    "git add ../hosts"
   ]
  },
  {
   "cell_type": "markdown",
   "id": "9f24b24f-7ce6-45ba-ade6-c3f14cd3aa3f",
   "metadata": {},
   "source": [
    "PREGUNTA: ¿Podemos añadirlo directamente a nuestro repositorio `test-repo`? ¿Por qué?\n",
    "\n",
    "RESPUESTA:\n",
    "\n",
     ""
   ]
  },
  {
   "cell_type": "markdown",
   "id": "cabed57f-1ba1-4fdb-b580-e23fdf7ce0ed",
   "metadata": {},
   "source": [
    "Realiza los pasos necesarios para añadir el fichero `hosts` al repositorio `test-repo`, mostrando el estado del árbol de trabajo cada vez que cambie:"
   ]
  },
  {
   "cell_type": "code",
   "execution_count": 33,
   "id": "84d0e29a-15d2-4ca9-a588-a172e816fe42",
   "metadata": {
    "execution": {
     "iopub.execute_input": "2024-09-10T16:05:09.671457Z",
     "iopub.status.busy": "2024-09-10T16:05:09.671161Z",
     "iopub.status.idle": "2024-09-10T16:05:09.828465Z",
     "shell.execute_reply": "2024-09-10T16:05:09.827709Z"
    }
   },
   "outputs": [],
   "source": [
    "# Paso 1: Moverlo dentro del directorio del repositorio\n",
     ""
   ]
  },
  {
   "cell_type": "code",
   "execution_count": 34,
   "id": "a1b314c6-29aa-4617-b78b-9674da5d0a6c",
   "metadata": {
    "execution": {
     "iopub.execute_input": "2024-09-10T16:05:09.831971Z",
     "iopub.status.busy": "2024-09-10T16:05:09.831700Z",
     "iopub.status.idle": "2024-09-10T16:05:09.991761Z",
     "shell.execute_reply": "2024-09-10T16:05:09.990982Z"
    }
   },
   "outputs": [
    {
     "name": "stdout",
     "output_type": "stream",
     "text": [
      "En la rama main\n"
     ]
    },
    {
     "name": "stdout",
     "output_type": "stream",
     "text": [
      "Archivos sin seguimiento:\n"
     ]
    },
    {
     "name": "stdout",
     "output_type": "stream",
     "text": [
      "  (usa \"git add <archivo>...\" para incluirlo a lo que será confirmado)\n"
     ]
    },
    {
     "name": "stdout",
     "output_type": "stream",
     "text": [
      "\t\u001b[31mhosts\u001b[m\n"
     ]
    },
    {
     "name": "stdout",
     "output_type": "stream",
     "text": [
      "\t\u001b[31mpractica2/\u001b[m\n"
     ]
    },
    {
     "name": "stdout",
     "output_type": "stream",
     "text": [
      "\n"
     ]
    },
    {
     "name": "stdout",
     "output_type": "stream",
     "text": [
      "no hay nada agregado al commit pero hay archivos sin seguimiento presentes (usa \"git add\" para hacerles seguimiento)\n"
     ]
    }
   ],
   "source": [
    "# Paso 2: mostrar estado del fichero (ignorado)\n",
     ""
   ]
  },
  {
   "cell_type": "code",
   "execution_count": 35,
   "id": "36cd821c-e671-43c7-838c-fa59ac12f406",
   "metadata": {
    "execution": {
     "iopub.execute_input": "2024-09-10T16:05:09.995349Z",
     "iopub.status.busy": "2024-09-10T16:05:09.995067Z",
     "iopub.status.idle": "2024-09-10T16:05:10.153262Z",
     "shell.execute_reply": "2024-09-10T16:05:10.152480Z"
    }
   },
   "outputs": [],
   "source": [
    "# Paso 3: Añadirlo al índice\n",
     ""
   ]
  },
  {
   "cell_type": "code",
   "execution_count": 36,
   "id": "aabe3e4d-d302-48bb-838e-4c033469c76f",
   "metadata": {
    "execution": {
     "iopub.execute_input": "2024-09-10T16:05:10.156871Z",
     "iopub.status.busy": "2024-09-10T16:05:10.156591Z",
     "iopub.status.idle": "2024-09-10T16:05:10.316448Z",
     "shell.execute_reply": "2024-09-10T16:05:10.315463Z"
    }
   },
   "outputs": [
    {
     "name": "stdout",
     "output_type": "stream",
     "text": [
      "En la rama main\n"
     ]
    },
    {
     "name": "stdout",
     "output_type": "stream",
     "text": [
      "Cambios a ser confirmados:\n"
     ]
    },
    {
     "name": "stdout",
     "output_type": "stream",
     "text": [
      "  (usa \"git restore --staged <archivo>...\" para sacar del área de stage)\n"
     ]
    },
    {
     "name": "stdout",
     "output_type": "stream",
     "text": [
      "\t\u001b[32mnuevos archivos: hosts\u001b[m\n"
     ]
    },
    {
     "name": "stdout",
     "output_type": "stream",
     "text": [
      "\n"
     ]
    },
    {
     "name": "stdout",
     "output_type": "stream",
     "text": [
      "Archivos sin seguimiento:\n"
     ]
    },
    {
     "name": "stdout",
     "output_type": "stream",
     "text": [
      "  (usa \"git add <archivo>...\" para incluirlo a lo que será confirmado)\n"
     ]
    },
    {
     "name": "stdout",
     "output_type": "stream",
     "text": [
      "\t\u001b[31mpractica2/\u001b[m\n"
     ]
    },
    {
     "name": "stdout",
     "output_type": "stream",
     "text": [
      "\n"
     ]
    }
   ],
   "source": [
    "# Paso 4: mostrar que hosts va a ser añadido al repositorio\n",
    "git status"
   ]
  },
  {
   "cell_type": "code",
   "execution_count": 37,
   "id": "19020a2c-2907-43f2-ac06-46f8c7b9903c",
   "metadata": {
    "execution": {
     "iopub.execute_input": "2024-09-10T16:05:10.320403Z",
     "iopub.status.busy": "2024-09-10T16:05:10.320105Z",
     "iopub.status.idle": "2024-09-10T16:05:10.483912Z",
     "shell.execute_reply": "2024-09-10T16:05:10.482895Z"
    }
   },
   "outputs": [
    {
     "name": "stdout",
     "output_type": "stream",
     "text": [
      "[main 21e060d] Añadiendo fichero hosts\n"
     ]
    },
    {
     "name": "stdout",
     "output_type": "stream",
     "text": [
      " 1 file changed, 10 insertions(+)\n"
     ]
    },
    {
     "name": "stdout",
     "output_type": "stream",
     "text": [
      " create mode 100644 hosts\n"
     ]
    }
   ],
   "source": [
    "# Paso 5: Confirmar nuevo fichero\n",
     ""
   ]
  },
  {
   "cell_type": "code",
   "execution_count": 38,
   "id": "dd95ff63-c392-4a86-989e-3936a6aa2ca6",
   "metadata": {
    "execution": {
     "iopub.execute_input": "2024-09-10T16:05:10.487757Z",
     "iopub.status.busy": "2024-09-10T16:05:10.487470Z",
     "iopub.status.idle": "2024-09-10T16:05:10.595423Z",
     "shell.execute_reply": "2024-09-10T16:05:10.594575Z"
    }
   },
   "outputs": [
    {
     "name": "stdout",
     "output_type": "stream",
     "text": [
      "total 12\n"
     ]
    },
    {
     "name": "stdout",
     "output_type": "stream",
     "text": [
      "-rw-r--r-- 1 jupyter-rtitos-um-es jupyter-rtitos-um-es    9 sep 10 16:05 AUTHORS\n"
     ]
    },
    {
     "name": "stdout",
     "output_type": "stream",
     "text": [
      "-rw-r--r-- 1 jupyter-rtitos-um-es jupyter-rtitos-um-es  271 sep 10 16:05 hosts\n"
     ]
    },
    {
     "name": "stdout",
     "output_type": "stream",
     "text": [
      "drwxr-xr-x 2 jupyter-rtitos-um-es jupyter-rtitos-um-es 4096 sep 10 16:05 \u001b[0m\u001b[01;34mpractica2\u001b[0m\n"
     ]
    }
   ],
   "source": [
    "ls -l"
   ]
  },
  {
   "cell_type": "code",
   "execution_count": 39,
   "id": "1e79d93d-9f30-4023-ad6a-c6801b7c881d",
   "metadata": {
    "execution": {
     "iopub.execute_input": "2024-09-10T16:05:10.598985Z",
     "iopub.status.busy": "2024-09-10T16:05:10.598703Z",
     "iopub.status.idle": "2024-09-10T16:05:10.758551Z",
     "shell.execute_reply": "2024-09-10T16:05:10.757692Z"
    }
   },
   "outputs": [
    {
     "name": "stdout",
     "output_type": "stream",
     "text": [
      "En la rama main\n"
     ]
    },
    {
     "name": "stdout",
     "output_type": "stream",
     "text": [
      "Archivos sin seguimiento:\n"
     ]
    },
    {
     "name": "stdout",
     "output_type": "stream",
     "text": [
      "  (usa \"git add <archivo>...\" para incluirlo a lo que será confirmado)\n"
     ]
    },
    {
     "name": "stdout",
     "output_type": "stream",
     "text": [
      "\t\u001b[31mpractica2/\u001b[m\n"
     ]
    },
    {
     "name": "stdout",
     "output_type": "stream",
     "text": [
      "\n"
     ]
    },
    {
     "name": "stdout",
     "output_type": "stream",
     "text": [
      "no hay nada agregado al commit pero hay archivos sin seguimiento presentes (usa \"git add\" para hacerles seguimiento)\n"
     ]
    }
   ],
   "source": [
    "# Muestra el estado del árbol de trabajo\n",
     ""
   ]
  },
  {
   "cell_type": "markdown",
   "id": "a982c79f-272f-453a-9244-404766b367f0",
   "metadata": {},
   "source": [
    "Ejecuta la siguiente celda para modificar el fichero que hay en el directorio `practica2`."
   ]
  },
  {
   "cell_type": "code",
   "execution_count": 40,
   "id": "28580ab3-3c06-4982-86bd-f5c306625890",
   "metadata": {
    "execution": {
     "iopub.execute_input": "2024-09-10T16:05:10.762251Z",
     "iopub.status.busy": "2024-09-10T16:05:10.761955Z",
     "iopub.status.idle": "2024-09-10T16:05:10.866570Z",
     "shell.execute_reply": "2024-09-10T16:05:10.865523Z"
    }
   },
   "outputs": [],
   "source": [
    "echo \"ls\" >> practica2/lista_comandos.txt"
   ]
  },
  {
   "cell_type": "markdown",
   "id": "c9ea4edf-ea0f-4440-ac71-e5dcb77152a6",
   "metadata": {},
   "source": [
    "Sin cambiar de directorio, haz los pasos necesarios para añadir los cambios en el fichero `lista_comandos.txt` al índice y luego al repositorio, mostrando el estado del árbol de trabajo tras cada cambio."
   ]
  },
  {
   "cell_type": "code",
   "execution_count": 41,
   "id": "348d62c5-7b79-4070-a5b5-5f563d05df45",
   "metadata": {
    "execution": {
     "iopub.execute_input": "2024-09-10T16:05:10.870469Z",
     "iopub.status.busy": "2024-09-10T16:05:10.870157Z",
     "iopub.status.idle": "2024-09-10T16:05:10.977791Z",
     "shell.execute_reply": "2024-09-10T16:05:10.977003Z"
    }
   },
   "outputs": [],
   "source": [
     ""
   ]
  },
  {
   "cell_type": "code",
   "execution_count": 42,
   "id": "a5ed9540-86d1-4ac1-9a88-feeccd0068ea",
   "metadata": {
    "execution": {
     "iopub.execute_input": "2024-09-10T16:05:10.981250Z",
     "iopub.status.busy": "2024-09-10T16:05:10.980970Z",
     "iopub.status.idle": "2024-09-10T16:05:11.090805Z",
     "shell.execute_reply": "2024-09-10T16:05:11.089745Z"
    }
   },
   "outputs": [
    {
     "name": "stdout",
     "output_type": "stream",
     "text": [
      "En la rama main\n"
     ]
    },
    {
     "name": "stdout",
     "output_type": "stream",
     "text": [
      "Cambios a ser confirmados:\n"
     ]
    },
    {
     "name": "stdout",
     "output_type": "stream",
     "text": [
      "  (usa \"git restore --staged <archivo>...\" para sacar del área de stage)\n"
     ]
    },
    {
     "name": "stdout",
     "output_type": "stream",
     "text": [
      "\t\u001b[32mnuevos archivos: practica2/lista_comandos.txt\u001b[m\n"
     ]
    },
    {
     "name": "stdout",
     "output_type": "stream",
     "text": [
      "\n"
     ]
    }
   ],
   "source": [
     ""
   ]
  },
  {
   "cell_type": "code",
   "execution_count": 43,
   "id": "52eb3163-1d8f-4041-ba44-8cfbea0f28a7",
   "metadata": {
    "execution": {
     "iopub.execute_input": "2024-09-10T16:05:11.094536Z",
     "iopub.status.busy": "2024-09-10T16:05:11.094237Z",
     "iopub.status.idle": "2024-09-10T16:05:11.206204Z",
     "shell.execute_reply": "2024-09-10T16:05:11.205295Z"
    }
   },
   "outputs": [
    {
     "name": "stdout",
     "output_type": "stream",
     "text": [
      "[main 7317230] Añadiendo lista de comandos, ls\n"
     ]
    },
    {
     "name": "stdout",
     "output_type": "stream",
     "text": [
      " 1 file changed, 1 insertion(+)\n"
     ]
    },
    {
     "name": "stdout",
     "output_type": "stream",
     "text": [
      " create mode 100644 practica2/lista_comandos.txt\n"
     ]
    }
   ],
   "source": [
     ""
   ]
  },
  {
   "cell_type": "code",
   "execution_count": 44,
   "id": "ea0a0aef-dc8f-4c62-b187-4bc93b8e1d61",
   "metadata": {
    "execution": {
     "iopub.execute_input": "2024-09-10T16:05:11.209789Z",
     "iopub.status.busy": "2024-09-10T16:05:11.209501Z",
     "iopub.status.idle": "2024-09-10T16:05:11.369213Z",
     "shell.execute_reply": "2024-09-10T16:05:11.368307Z"
    }
   },
   "outputs": [
    {
     "name": "stdout",
     "output_type": "stream",
     "text": [
      "En la rama main\n"
     ]
    },
    {
     "name": "stdout",
     "output_type": "stream",
     "text": [
      "nada para hacer commit, el árbol de trabajo está limpio\n"
     ]
    }
   ],
   "source": [
    "# Muestra el estado de los ficheros del árbol de trabajo\n",
     ""
   ]
  },
  {
   "cell_type": "code",
   "execution_count": 45,
   "id": "db95d09a-aeb1-4c64-8d46-b9915d05e6ce",
   "metadata": {
    "execution": {
     "iopub.execute_input": "2024-09-10T16:05:11.372732Z",
     "iopub.status.busy": "2024-09-10T16:05:11.372450Z",
     "iopub.status.idle": "2024-09-10T16:05:11.527812Z",
     "shell.execute_reply": "2024-09-10T16:05:11.527092Z"
    }
   },
   "outputs": [],
   "source": [
    "# Ejecuta esta celda para seguir añadiendo comandos del shell al fichero anterior.\n",
    "echo \"cat\" >> practica2/lista_comandos.txt"
   ]
  },
  {
   "cell_type": "code",
   "execution_count": 46,
   "id": "b2f82334-6405-4b7a-88d1-510c79b5277a",
   "metadata": {
    "execution": {
     "iopub.execute_input": "2024-09-10T16:05:11.531479Z",
     "iopub.status.busy": "2024-09-10T16:05:11.531187Z",
     "iopub.status.idle": "2024-09-10T16:05:11.686591Z",
     "shell.execute_reply": "2024-09-10T16:05:11.685857Z"
    }
   },
   "outputs": [],
   "source": [
    "# Ejecuta esta celda para crear otro fichero con comandos de git.\n",
    "echo \"git init\" > practica2/lista_comandos_git.txt"
   ]
  },
  {
   "cell_type": "code",
   "execution_count": 47,
   "id": "2057f567-83c6-4a88-a31d-b5f0a43cdb9b",
   "metadata": {
    "execution": {
     "iopub.execute_input": "2024-09-10T16:05:11.690153Z",
     "iopub.status.busy": "2024-09-10T16:05:11.689893Z",
     "iopub.status.idle": "2024-09-10T16:05:11.850253Z",
     "shell.execute_reply": "2024-09-10T16:05:11.849517Z"
    }
   },
   "outputs": [
    {
     "name": "stdout",
     "output_type": "stream",
     "text": [
      "En la rama main\n"
     ]
    },
    {
     "name": "stdout",
     "output_type": "stream",
     "text": [
      "Cambios no rastreados para el commit:\n"
     ]
    },
    {
     "name": "stdout",
     "output_type": "stream",
     "text": [
      "  (usa \"git add <archivo>...\" para actualizar lo que será confirmado)\n"
     ]
    },
    {
     "name": "stdout",
     "output_type": "stream",
     "text": [
      "  (usa \"git restore <archivo>...\" para descartar los cambios en el directorio de trabajo)\n"
     ]
    },
    {
     "name": "stdout",
     "output_type": "stream",
     "text": [
      "\t\u001b[31mmodificados:     practica2/lista_comandos.txt\u001b[m\n"
     ]
    },
    {
     "name": "stdout",
     "output_type": "stream",
     "text": [
      "\n"
     ]
    },
    {
     "name": "stdout",
     "output_type": "stream",
     "text": [
      "Archivos sin seguimiento:\n"
     ]
    },
    {
     "name": "stdout",
     "output_type": "stream",
     "text": [
      "  (usa \"git add <archivo>...\" para incluirlo a lo que será confirmado)\n"
     ]
    },
    {
     "name": "stdout",
     "output_type": "stream",
     "text": [
      "\t\u001b[31mpractica2/lista_comandos_git.txt\u001b[m\n"
     ]
    },
    {
     "name": "stdout",
     "output_type": "stream",
     "text": [
      "\n"
     ]
    },
    {
     "name": "stdout",
     "output_type": "stream",
     "text": [
      "sin cambios agregados al commit (usa \"git add\" y/o \"git commit -a\")\n"
     ]
    }
   ],
   "source": [
    "# Muestra el estado de los ficheros del árbol de trabajo\n",
     ""
   ]
  },
  {
   "cell_type": "code",
   "execution_count": 48,
   "id": "808c9dcd-ef61-45e5-8f43-e3d011dfb30c",
   "metadata": {
    "execution": {
     "iopub.execute_input": "2024-09-10T16:05:11.853944Z",
     "iopub.status.busy": "2024-09-10T16:05:11.853411Z",
     "iopub.status.idle": "2024-09-10T16:05:12.012885Z",
     "shell.execute_reply": "2024-09-10T16:05:12.012096Z"
    }
   },
   "outputs": [
    {
     "name": "stdout",
     "output_type": "stream",
     "text": [
      "\u001b[1mdiff --git a/practica2/lista_comandos.txt b/practica2/lista_comandos.txt\u001b[m\n"
     ]
    },
    {
     "name": "stdout",
     "output_type": "stream",
     "text": [
      "\u001b[1mindex 9e2740c..b8a4987 100644\u001b[m\n"
     ]
    },
    {
     "name": "stdout",
     "output_type": "stream",
     "text": [
      "\u001b[1m--- a/practica2/lista_comandos.txt\u001b[m\n"
     ]
    },
    {
     "name": "stdout",
     "output_type": "stream",
     "text": [
      "\u001b[1m+++ b/practica2/lista_comandos.txt\u001b[m\n"
     ]
    },
    {
     "name": "stdout",
     "output_type": "stream",
     "text": [
      "\u001b[36m@@ -1 +1,2 @@\u001b[m\n"
     ]
    },
    {
     "name": "stdout",
     "output_type": "stream",
     "text": [
      " ls\u001b[m\n"
     ]
    },
    {
     "name": "stdout",
     "output_type": "stream",
     "text": [
      "\u001b[32m+\u001b[m\u001b[32mcat\u001b[m\n"
     ]
    }
   ],
   "source": [
    "# Muestra los cambios en el directorio `practica2`.\n",
     ""
   ]
  },
  {
   "cell_type": "markdown",
   "id": "749722f5-b952-492b-ab02-690462975121",
   "metadata": {},
   "source": [
    "PREGUNTA: ¿Por qué no aparecen los cambios en el fichero `lista_comandos_git.txt`, pero sí el cambio en `lista_comandos.txt`?\n",
    "\n",
    "RESPUESTA:\n",
    "\n",
     ""
   ]
  },
  {
   "cell_type": "markdown",
   "id": "3c4c2e25-0df1-4686-bf51-9acfab16672c",
   "metadata": {},
   "source": [
    "Añade el fichero de la lista de comandos de Git al índice, muestra el estado del árbol de trabajo y luego confirma el añadido."
   ]
  },
  {
   "cell_type": "code",
   "execution_count": 49,
   "id": "7e329b73-63f4-4c53-b891-0f3b53e2f2f1",
   "metadata": {
    "execution": {
     "iopub.execute_input": "2024-09-10T16:05:12.016989Z",
     "iopub.status.busy": "2024-09-10T16:05:12.016205Z",
     "iopub.status.idle": "2024-09-10T16:05:12.175422Z",
     "shell.execute_reply": "2024-09-10T16:05:12.174475Z"
    }
   },
   "outputs": [],
   "source": [
    "# Paso 1: añadir\n",
     ""
   ]
  },
  {
   "cell_type": "code",
   "execution_count": 50,
   "id": "c3e61aca-c3f9-498d-a984-e42597dfa91d",
   "metadata": {
    "execution": {
     "iopub.execute_input": "2024-09-10T16:05:12.179250Z",
     "iopub.status.busy": "2024-09-10T16:05:12.178965Z",
     "iopub.status.idle": "2024-09-10T16:05:12.339838Z",
     "shell.execute_reply": "2024-09-10T16:05:12.338891Z"
    }
   },
   "outputs": [
    {
     "name": "stdout",
     "output_type": "stream",
     "text": [
      "En la rama main\n"
     ]
    },
    {
     "name": "stdout",
     "output_type": "stream",
     "text": [
      "Cambios a ser confirmados:\n"
     ]
    },
    {
     "name": "stdout",
     "output_type": "stream",
     "text": [
      "  (usa \"git restore --staged <archivo>...\" para sacar del área de stage)\n"
     ]
    },
    {
     "name": "stdout",
     "output_type": "stream",
     "text": [
      "\t\u001b[32mnuevos archivos: practica2/lista_comandos_git.txt\u001b[m\n"
     ]
    },
    {
     "name": "stdout",
     "output_type": "stream",
     "text": [
      "\n"
     ]
    },
    {
     "name": "stdout",
     "output_type": "stream",
     "text": [
      "Cambios no rastreados para el commit:\n"
     ]
    },
    {
     "name": "stdout",
     "output_type": "stream",
     "text": [
      "  (usa \"git add <archivo>...\" para actualizar lo que será confirmado)\n"
     ]
    },
    {
     "name": "stdout",
     "output_type": "stream",
     "text": [
      "  (usa \"git restore <archivo>...\" para descartar los cambios en el directorio de trabajo)\n"
     ]
    },
    {
     "name": "stdout",
     "output_type": "stream",
     "text": [
      "\t\u001b[31mmodificados:     practica2/lista_comandos.txt\u001b[m\n"
     ]
    },
    {
     "name": "stdout",
     "output_type": "stream",
     "text": [
      "\n"
     ]
    }
   ],
   "source": [
    "# Paso 2: estado\n",
     ""
   ]
  },
  {
   "cell_type": "code",
   "execution_count": 51,
   "id": "98a2f7e7-4b3b-4d82-a117-904083f7cd0f",
   "metadata": {
    "execution": {
     "iopub.execute_input": "2024-09-10T16:05:12.343711Z",
     "iopub.status.busy": "2024-09-10T16:05:12.343393Z",
     "iopub.status.idle": "2024-09-10T16:05:12.507608Z",
     "shell.execute_reply": "2024-09-10T16:05:12.506559Z"
    }
   },
   "outputs": [
    {
     "name": "stdout",
     "output_type": "stream",
     "text": [
      "[main 108e6b2] Añadiendo lista de comandos de git, empiezo por init\n"
     ]
    },
    {
     "name": "stdout",
     "output_type": "stream",
     "text": [
      " 1 file changed, 1 insertion(+)\n"
     ]
    },
    {
     "name": "stdout",
     "output_type": "stream",
     "text": [
      " create mode 100644 practica2/lista_comandos_git.txt\n"
     ]
    }
   ],
   "source": [
    "# Paso 3: Confirmar\n",
     ""
   ]
  },
  {
   "cell_type": "code",
   "execution_count": 52,
   "id": "bb4c927b-47c1-446d-87c7-304eb2e4e527",
   "metadata": {
    "execution": {
     "iopub.execute_input": "2024-09-10T16:05:12.511328Z",
     "iopub.status.busy": "2024-09-10T16:05:12.511025Z",
     "iopub.status.idle": "2024-09-10T16:05:12.676743Z",
     "shell.execute_reply": "2024-09-10T16:05:12.675689Z"
    }
   },
   "outputs": [
    {
     "name": "stdout",
     "output_type": "stream",
     "text": [
      "\u001b[33mcommit 108e6b21570bcd8aa0989fe79fbc2de851c05142\u001b[m\u001b[33m (\u001b[m\u001b[1;36mHEAD -> \u001b[m\u001b[1;32mmain\u001b[m\u001b[33m)\u001b[m\n"
     ]
    },
    {
     "name": "stdout",
     "output_type": "stream",
     "text": [
      "Author: TITOS GIL, JOSE RUBEN <rtitos@um.es>\n"
     ]
    },
    {
     "name": "stdout",
     "output_type": "stream",
     "text": [
      "Date:   Tue Sep 10 16:05:12 2024 +0000\n"
     ]
    },
    {
     "name": "stdout",
     "output_type": "stream",
     "text": [
      "\n"
     ]
    },
    {
     "name": "stdout",
     "output_type": "stream",
     "text": [
      "    Añadiendo lista de comandos de git, empiezo por init\n"
     ]
    },
    {
     "name": "stdout",
     "output_type": "stream",
     "text": [
      "\n"
     ]
    },
    {
     "name": "stdout",
     "output_type": "stream",
     "text": [
      "\u001b[33mcommit 73172301138e34bd8000b56f3145871ed8cbf557\u001b[m\n"
     ]
    },
    {
     "name": "stdout",
     "output_type": "stream",
     "text": [
      "Author: TITOS GIL, JOSE RUBEN <rtitos@um.es>\n"
     ]
    },
    {
     "name": "stdout",
     "output_type": "stream",
     "text": [
      "Date:   Tue Sep 10 16:05:11 2024 +0000\n"
     ]
    },
    {
     "name": "stdout",
     "output_type": "stream",
     "text": [
      "\n"
     ]
    },
    {
     "name": "stdout",
     "output_type": "stream",
     "text": [
      "    Añadiendo lista de comandos, ls\n"
     ]
    },
    {
     "name": "stdout",
     "output_type": "stream",
     "text": [
      "\n"
     ]
    },
    {
     "name": "stdout",
     "output_type": "stream",
     "text": [
      "\u001b[33mcommit 21e060ddef1fecf63f9803a09e2a36232a7f6f83\u001b[m\n"
     ]
    },
    {
     "name": "stdout",
     "output_type": "stream",
     "text": [
      "Author: TITOS GIL, JOSE RUBEN <rtitos@um.es>\n"
     ]
    },
    {
     "name": "stdout",
     "output_type": "stream",
     "text": [
      "Date:   Tue Sep 10 16:05:10 2024 +0000\n"
     ]
    },
    {
     "name": "stdout",
     "output_type": "stream",
     "text": [
      "\n"
     ]
    },
    {
     "name": "stdout",
     "output_type": "stream",
     "text": [
      "    Añadiendo fichero hosts\n"
     ]
    },
    {
     "name": "stdout",
     "output_type": "stream",
     "text": [
      "\n"
     ]
    },
    {
     "name": "stdout",
     "output_type": "stream",
     "text": [
      "\u001b[33mcommit 0469fe18f6c8a0fa1f7557ecddff71da00937fe7\u001b[m\n"
     ]
    },
    {
     "name": "stdout",
     "output_type": "stream",
     "text": [
      "Author: TITOS GIL, JOSE RUBEN <rtitos@um.es>\n"
     ]
    },
    {
     "name": "stdout",
     "output_type": "stream",
     "text": [
      "Date:   Tue Sep 10 16:05:08 2024 +0000\n"
     ]
    },
    {
     "name": "stdout",
     "output_type": "stream",
     "text": [
      "\n"
     ]
    },
    {
     "name": "stdout",
     "output_type": "stream",
     "text": [
      "    Añadiendo nombre del autor\n"
     ]
    },
    {
     "name": "stdout",
     "output_type": "stream",
     "text": [
      "\n"
     ]
    },
    {
     "name": "stdout",
     "output_type": "stream",
     "text": [
      "\u001b[33mcommit 13bd41761378230ebcd169a5f2d13efac6579900\u001b[m\n"
     ]
    },
    {
     "name": "stdout",
     "output_type": "stream",
     "text": [
      "Author: TITOS GIL, JOSE RUBEN <rtitos@um.es>\n"
     ]
    },
    {
     "name": "stdout",
     "output_type": "stream",
     "text": [
      "Date:   Tue Sep 10 16:05:07 2024 +0000\n"
     ]
    },
    {
     "name": "stdout",
     "output_type": "stream",
     "text": [
      "\n"
     ]
    },
    {
     "name": "stdout",
     "output_type": "stream",
     "text": [
      "    Añadiendo fichero con autores vacío\n"
     ]
    }
   ],
   "source": [
    "# Muestra el registro de commits hasta el momento\n",
     ""
   ]
  },
  {
   "cell_type": "markdown",
   "id": "32cf43b1-408d-43f8-b139-1607137386a2",
   "metadata": {},
   "source": [
    "Añade al índice los cambios en `lista_comandos.txt`, muestra el estado y luego muestra las diferencias con `git diff`:"
   ]
  },
  {
   "cell_type": "code",
   "execution_count": 53,
   "id": "6578006e-1129-4d41-b2fd-e3f825d79631",
   "metadata": {
    "execution": {
     "iopub.execute_input": "2024-09-10T16:05:12.680388Z",
     "iopub.status.busy": "2024-09-10T16:05:12.680063Z",
     "iopub.status.idle": "2024-09-10T16:05:12.838957Z",
     "shell.execute_reply": "2024-09-10T16:05:12.837955Z"
    }
   },
   "outputs": [],
   "source": [
    "# Paso 1: añadir\n",
     ""
   ]
  },
  {
   "cell_type": "code",
   "execution_count": 54,
   "id": "e47dc5c9-c3fd-4486-8d31-1e8c209adc74",
   "metadata": {
    "execution": {
     "iopub.execute_input": "2024-09-10T16:05:12.842677Z",
     "iopub.status.busy": "2024-09-10T16:05:12.842380Z",
     "iopub.status.idle": "2024-09-10T16:05:13.002341Z",
     "shell.execute_reply": "2024-09-10T16:05:13.001360Z"
    }
   },
   "outputs": [
    {
     "name": "stdout",
     "output_type": "stream",
     "text": [
      "En la rama main\n"
     ]
    },
    {
     "name": "stdout",
     "output_type": "stream",
     "text": [
      "Cambios a ser confirmados:\n"
     ]
    },
    {
     "name": "stdout",
     "output_type": "stream",
     "text": [
      "  (usa \"git restore --staged <archivo>...\" para sacar del área de stage)\n"
     ]
    },
    {
     "name": "stdout",
     "output_type": "stream",
     "text": [
      "\t\u001b[32mmodificados:     practica2/lista_comandos.txt\u001b[m\n"
     ]
    },
    {
     "name": "stdout",
     "output_type": "stream",
     "text": [
      "\n"
     ]
    }
   ],
   "source": [
    "# Paso 2: estado\n",
     ""
   ]
  },
  {
   "cell_type": "code",
   "execution_count": 55,
   "id": "53a7cf78-5d1a-4c4e-b928-f376bb14ef9d",
   "metadata": {
    "execution": {
     "iopub.execute_input": "2024-09-10T16:05:13.006184Z",
     "iopub.status.busy": "2024-09-10T16:05:13.005888Z",
     "iopub.status.idle": "2024-09-10T16:05:13.163759Z",
     "shell.execute_reply": "2024-09-10T16:05:13.162885Z"
    }
   },
   "outputs": [],
   "source": [
    "# Ejecuta esta celda:\n",
    "git diff"
   ]
  },
  {
   "cell_type": "markdown",
   "id": "8b5eb524-225f-4390-8014-7bc5f71b9c25",
   "metadata": {},
   "source": [
    "PREGUNTA: ¿Por qué el `git diff` anterior no muestra nada?\n",
    "\n",
    "RESPUESTA:\n",
    "\n",
     ""
   ]
  },
  {
   "cell_type": "markdown",
   "id": "c72586ef-55c1-4c5e-a132-cb6bdf0195a2",
   "metadata": {},
   "source": [
    "Muestra los cambios en el fichero que han sido añadidos al índice (diferencia entre el índice y el repositorio):"
   ]
  },
  {
   "cell_type": "code",
   "execution_count": 56,
   "id": "96bff157-7015-40f5-819c-25118ecbdecc",
   "metadata": {
    "execution": {
     "iopub.execute_input": "2024-09-10T16:05:13.167804Z",
     "iopub.status.busy": "2024-09-10T16:05:13.167486Z",
     "iopub.status.idle": "2024-09-10T16:05:13.276952Z",
     "shell.execute_reply": "2024-09-10T16:05:13.276211Z"
    }
   },
   "outputs": [
    {
     "name": "stdout",
     "output_type": "stream",
     "text": [
      "\u001b[1mdiff --git a/practica2/lista_comandos.txt b/practica2/lista_comandos.txt\u001b[m\n"
     ]
    },
    {
     "name": "stdout",
     "output_type": "stream",
     "text": [
      "\u001b[1mindex 9e2740c..b8a4987 100644\u001b[m\n"
     ]
    },
    {
     "name": "stdout",
     "output_type": "stream",
     "text": [
      "\u001b[1m--- a/practica2/lista_comandos.txt\u001b[m\n"
     ]
    },
    {
     "name": "stdout",
     "output_type": "stream",
     "text": [
      "\u001b[1m+++ b/practica2/lista_comandos.txt\u001b[m\n"
     ]
    },
    {
     "name": "stdout",
     "output_type": "stream",
     "text": [
      "\u001b[36m@@ -1 +1,2 @@\u001b[m\n"
     ]
    },
    {
     "name": "stdout",
     "output_type": "stream",
     "text": [
      " ls\u001b[m\n"
     ]
    },
    {
     "name": "stdout",
     "output_type": "stream",
     "text": [
      "\u001b[32m+\u001b[m\u001b[32mcat\u001b[m\n"
     ]
    }
   ],
   "source": [
     ""
   ]
  },
  {
   "cell_type": "markdown",
   "id": "04dc1925-3356-4426-af2c-72516af650f7",
   "metadata": {},
   "source": [
    "Vamos a modificar de nuevo el fichero en nuestro árbol de trabajo, añadiendo un nuevo comando de *Bash*. "
   ]
  },
  {
   "cell_type": "code",
   "execution_count": 57,
   "id": "8d7d0bc9-97ab-44d1-9c63-5ebd49c87e82",
   "metadata": {
    "execution": {
     "iopub.execute_input": "2024-09-10T16:05:13.280952Z",
     "iopub.status.busy": "2024-09-10T16:05:13.280280Z",
     "iopub.status.idle": "2024-09-10T16:05:13.385259Z",
     "shell.execute_reply": "2024-09-10T16:05:13.384499Z"
    }
   },
   "outputs": [],
   "source": [
    "echo \"find\" >> practica2/lista_comandos.txt"
   ]
  },
  {
   "cell_type": "markdown",
   "id": "fb7c7e68-b2dc-4ad6-8a1e-28864375904e",
   "metadata": {},
   "source": [
    "Ahora, ejecuta la siguiente celda y explica lo que ves:"
   ]
  },
  {
   "cell_type": "code",
   "execution_count": 58,
   "id": "876d3504-d71e-44bd-a95a-25d9f38de3c8",
   "metadata": {
    "execution": {
     "iopub.execute_input": "2024-09-10T16:05:13.389426Z",
     "iopub.status.busy": "2024-09-10T16:05:13.388687Z",
     "iopub.status.idle": "2024-09-10T16:05:13.497548Z",
     "shell.execute_reply": "2024-09-10T16:05:13.496722Z"
    }
   },
   "outputs": [
    {
     "name": "stdout",
     "output_type": "stream",
     "text": [
      "\u001b[1mdiff --git a/practica2/lista_comandos.txt b/practica2/lista_comandos.txt\u001b[m\n"
     ]
    },
    {
     "name": "stdout",
     "output_type": "stream",
     "text": [
      "\u001b[1mindex b8a4987..6e1a82d 100644\u001b[m\n"
     ]
    },
    {
     "name": "stdout",
     "output_type": "stream",
     "text": [
      "\u001b[1m--- a/practica2/lista_comandos.txt\u001b[m\n"
     ]
    },
    {
     "name": "stdout",
     "output_type": "stream",
     "text": [
      "\u001b[1m+++ b/practica2/lista_comandos.txt\u001b[m\n"
     ]
    },
    {
     "name": "stdout",
     "output_type": "stream",
     "text": [
      "\u001b[36m@@ -1,2 +1,3 @@\u001b[m\n"
     ]
    },
    {
     "name": "stdout",
     "output_type": "stream",
     "text": [
      " ls\u001b[m\n"
     ]
    },
    {
     "name": "stdout",
     "output_type": "stream",
     "text": [
      " cat\u001b[m\n"
     ]
    },
    {
     "name": "stdout",
     "output_type": "stream",
     "text": [
      "\u001b[32m+\u001b[m\u001b[32mfind\u001b[m\n"
     ]
    }
   ],
   "source": [
    "git diff"
   ]
  },
  {
   "cell_type": "markdown",
   "id": "74427941-0acb-4a0d-b1c6-6d98b64faf59",
   "metadata": {},
   "source": [
    "PREGUNTA: ¿Por qué `git diff` sólo muestra el añadido del comando \"find\", pero no del `cat`?\n",
    "\n",
    "RESPUESTA:\n",
    "\n",
     ""
   ]
  },
  {
   "cell_type": "markdown",
   "id": "010425f6-936e-4329-888b-476fea050fc4",
   "metadata": {},
   "source": [
    "Vuelve a sacar el fichero del índice y muestra el estado otra vez:"
   ]
  },
  {
   "cell_type": "code",
   "execution_count": 59,
   "id": "e44195f5-7bbe-4b95-bdd4-c0a7df66f393",
   "metadata": {
    "execution": {
     "iopub.execute_input": "2024-09-10T16:05:13.501430Z",
     "iopub.status.busy": "2024-09-10T16:05:13.501080Z",
     "iopub.status.idle": "2024-09-10T16:05:13.659759Z",
     "shell.execute_reply": "2024-09-10T16:05:13.658894Z"
    }
   },
   "outputs": [],
   "source": [
    "# Paso 3: Sacar del índice\n",
     ""
   ]
  },
  {
   "cell_type": "code",
   "execution_count": 60,
   "id": "f4a06373-4d86-42f2-b8fd-b220a48ac958",
   "metadata": {
    "execution": {
     "iopub.execute_input": "2024-09-10T16:05:13.663683Z",
     "iopub.status.busy": "2024-09-10T16:05:13.663370Z",
     "iopub.status.idle": "2024-09-10T16:05:13.823813Z",
     "shell.execute_reply": "2024-09-10T16:05:13.822905Z"
    }
   },
   "outputs": [
    {
     "name": "stdout",
     "output_type": "stream",
     "text": [
      "En la rama main\n"
     ]
    },
    {
     "name": "stdout",
     "output_type": "stream",
     "text": [
      "Cambios no rastreados para el commit:\n"
     ]
    },
    {
     "name": "stdout",
     "output_type": "stream",
     "text": [
      "  (usa \"git add <archivo>...\" para actualizar lo que será confirmado)\n"
     ]
    },
    {
     "name": "stdout",
     "output_type": "stream",
     "text": [
      "  (usa \"git restore <archivo>...\" para descartar los cambios en el directorio de trabajo)\n"
     ]
    },
    {
     "name": "stdout",
     "output_type": "stream",
     "text": [
      "\t\u001b[31mmodificados:     practica2/lista_comandos.txt\u001b[m\n"
     ]
    },
    {
     "name": "stdout",
     "output_type": "stream",
     "text": [
      "\n"
     ]
    },
    {
     "name": "stdout",
     "output_type": "stream",
     "text": [
      "sin cambios agregados al commit (usa \"git add\" y/o \"git commit -a\")\n"
     ]
    }
   ],
   "source": [
    "# Paso 4: Estado\n",
     ""
   ]
  },
  {
   "cell_type": "code",
   "execution_count": 61,
   "id": "a7433e27-ce63-482e-b006-684151b9a683",
   "metadata": {
    "execution": {
     "iopub.execute_input": "2024-09-10T16:05:13.827423Z",
     "iopub.status.busy": "2024-09-10T16:05:13.827127Z",
     "iopub.status.idle": "2024-09-10T16:05:13.986325Z",
     "shell.execute_reply": "2024-09-10T16:05:13.985584Z"
    }
   },
   "outputs": [
    {
     "name": "stdout",
     "output_type": "stream",
     "text": [
      "\u001b[1mdiff --git a/practica2/lista_comandos.txt b/practica2/lista_comandos.txt\u001b[m\n"
     ]
    },
    {
     "name": "stdout",
     "output_type": "stream",
     "text": [
      "\u001b[1mindex 9e2740c..6e1a82d 100644\u001b[m\n"
     ]
    },
    {
     "name": "stdout",
     "output_type": "stream",
     "text": [
      "\u001b[1m--- a/practica2/lista_comandos.txt\u001b[m\n"
     ]
    },
    {
     "name": "stdout",
     "output_type": "stream",
     "text": [
      "\u001b[1m+++ b/practica2/lista_comandos.txt\u001b[m\n"
     ]
    },
    {
     "name": "stdout",
     "output_type": "stream",
     "text": [
      "\u001b[36m@@ -1 +1,3 @@\u001b[m\n"
     ]
    },
    {
     "name": "stdout",
     "output_type": "stream",
     "text": [
      " ls\u001b[m\n"
     ]
    },
    {
     "name": "stdout",
     "output_type": "stream",
     "text": [
      "\u001b[32m+\u001b[m\u001b[32mcat\u001b[m\n"
     ]
    },
    {
     "name": "stdout",
     "output_type": "stream",
     "text": [
      "\u001b[32m+\u001b[m\u001b[32mfind\u001b[m\n"
     ]
    }
   ],
   "source": [
    "# Muestra los cambios realizados en el fichero:\n",
     ""
   ]
  },
  {
   "cell_type": "markdown",
   "id": "359d2ae9-531f-4f11-9972-af563817174d",
   "metadata": {},
   "source": [
    "Ahora, descarta los cambios, para que el contenido del fichero vuelva a ser igual a la última versión que fue confirmada al repositorio."
   ]
  },
  {
   "cell_type": "code",
   "execution_count": 62,
   "id": "fe17d266-ef24-4f4a-88c5-5788bbb87379",
   "metadata": {
    "execution": {
     "iopub.execute_input": "2024-09-10T16:05:13.989893Z",
     "iopub.status.busy": "2024-09-10T16:05:13.989621Z",
     "iopub.status.idle": "2024-09-10T16:05:14.148323Z",
     "shell.execute_reply": "2024-09-10T16:05:14.147544Z"
    }
   },
   "outputs": [],
   "source": [
    "# Descartar cambios y volver a la última versión del repositorio\n",
     ""
   ]
  },
  {
   "cell_type": "markdown",
   "id": "caaf2ce7-ddbc-4502-9609-2571f2096a36",
   "metadata": {},
   "source": [
    "Comprueba que el fichero con la lista de comandos contiene únicamente el comando \"ls\"."
   ]
  },
  {
   "cell_type": "code",
   "execution_count": 63,
   "id": "57ac4c82-0a9b-4281-9924-29a44d936c6a",
   "metadata": {
    "execution": {
     "iopub.execute_input": "2024-09-10T16:05:14.152036Z",
     "iopub.status.busy": "2024-09-10T16:05:14.151762Z",
     "iopub.status.idle": "2024-09-10T16:05:14.309559Z",
     "shell.execute_reply": "2024-09-10T16:05:14.308608Z"
    }
   },
   "outputs": [
    {
     "name": "stdout",
     "output_type": "stream",
     "text": [
      "ls\n"
     ]
    }
   ],
   "source": [
    "# Muestra el contenido del fichero con la lista de comandos del shell\n",
     ""
   ]
  },
  {
   "cell_type": "code",
   "execution_count": 64,
   "id": "06d4c484-1470-4061-8f3b-6a56c7c29564",
   "metadata": {
    "execution": {
     "iopub.execute_input": "2024-09-10T16:05:14.313793Z",
     "iopub.status.busy": "2024-09-10T16:05:14.312879Z",
     "iopub.status.idle": "2024-09-10T16:05:14.473142Z",
     "shell.execute_reply": "2024-09-10T16:05:14.472223Z"
    }
   },
   "outputs": [
    {
     "name": "stdout",
     "output_type": "stream",
     "text": [
      "En la rama main\n"
     ]
    },
    {
     "name": "stdout",
     "output_type": "stream",
     "text": [
      "nada para hacer commit, el árbol de trabajo está limpio\n"
     ]
    }
   ],
   "source": [
    "# Muestra el estado de los ficheros del árbol de trabajo\n",
     ""
   ]
  },
  {
   "cell_type": "markdown",
   "id": "0be4ec9b",
   "metadata": {},
   "source": [
    "Ahora cambia el nombre del fichero `lista_comandos.txt` para que pase a llamarse `lista_comandos_bash.txt`, sin cambiarlo de ubicación (debe seguir dentro de `practica2`)"
   ]
  },
  {
   "cell_type": "code",
   "execution_count": 65,
   "id": "6b05a2bb",
   "metadata": {
    "execution": {
     "iopub.execute_input": "2024-09-10T16:05:14.477227Z",
     "iopub.status.busy": "2024-09-10T16:05:14.476532Z",
     "iopub.status.idle": "2024-09-10T16:05:14.634739Z",
     "shell.execute_reply": "2024-09-10T16:05:14.633981Z"
    }
   },
   "outputs": [],
   "source": [
    "# Renombra el fichero en el repositorio\n",
     ""
   ]
  },
  {
   "cell_type": "code",
   "execution_count": 66,
   "id": "2db7bccc",
   "metadata": {
    "execution": {
     "iopub.execute_input": "2024-09-10T16:05:14.638197Z",
     "iopub.status.busy": "2024-09-10T16:05:14.637930Z",
     "iopub.status.idle": "2024-09-10T16:05:14.799037Z",
     "shell.execute_reply": "2024-09-10T16:05:14.798294Z"
    }
   },
   "outputs": [
    {
     "name": "stdout",
     "output_type": "stream",
     "text": [
      "En la rama main\n"
     ]
    },
    {
     "name": "stdout",
     "output_type": "stream",
     "text": [
      "Cambios a ser confirmados:\n"
     ]
    },
    {
     "name": "stdout",
     "output_type": "stream",
     "text": [
      "  (usa \"git restore --staged <archivo>...\" para sacar del área de stage)\n"
     ]
    },
    {
     "name": "stdout",
     "output_type": "stream",
     "text": [
      "\t\u001b[32mrenombrados:     practica2/lista_comandos.txt -> practica2/lista_comandos_bash.txt\u001b[m\n"
     ]
    },
    {
     "name": "stdout",
     "output_type": "stream",
     "text": [
      "\n"
     ]
    }
   ],
   "source": [
    "# Muestra el estado de los ficheros del árbol de trabajo\n",
     ""
   ]
  },
  {
   "cell_type": "code",
   "execution_count": 67,
   "id": "107e9169",
   "metadata": {
    "execution": {
     "iopub.execute_input": "2024-09-10T16:05:14.802467Z",
     "iopub.status.busy": "2024-09-10T16:05:14.802188Z",
     "iopub.status.idle": "2024-09-10T16:05:14.965288Z",
     "shell.execute_reply": "2024-09-10T16:05:14.964539Z"
    },
    "vscode": {
     "languageId": "plaintext"
    }
   },
   "outputs": [
    {
     "name": "stdout",
     "output_type": "stream",
     "text": [
      "[main 3b1cf23] Renombrando fichero de comandos de bash\n"
     ]
    },
    {
     "name": "stdout",
     "output_type": "stream",
     "text": [
      " 1 file changed, 0 insertions(+), 0 deletions(-)\n"
     ]
    },
    {
     "name": "stdout",
     "output_type": "stream",
     "text": [
      " rename practica2/{lista_comandos.txt => lista_comandos_bash.txt} (100%)\n"
     ]
    }
   ],
   "source": [
    "# Confirma el cambio de nombre en el repositorio\n",
     ""
   ]
  },
  {
   "cell_type": "markdown",
   "id": "bf89de03-bdfb-44bf-844e-71e50e080cec",
   "metadata": {},
   "source": [
    "Para finalizar, borra el fichero `practica2/lista_comandos_bash.txt` del repositorio:"
   ]
  },
  {
   "cell_type": "code",
   "execution_count": 68,
   "id": "ee8abe2d",
   "metadata": {
    "execution": {
     "iopub.execute_input": "2024-09-10T16:05:14.969009Z",
     "iopub.status.busy": "2024-09-10T16:05:14.968734Z",
     "iopub.status.idle": "2024-09-10T16:05:15.127764Z",
     "shell.execute_reply": "2024-09-10T16:05:15.126841Z"
    }
   },
   "outputs": [
    {
     "name": "stdout",
     "output_type": "stream",
     "text": [
      "rm 'practica2/lista_comandos_bash.txt'\n"
     ]
    }
   ],
   "source": [
    "# Paso 1: borra\n",
     ""
   ]
  },
  {
   "cell_type": "code",
   "execution_count": 69,
   "id": "311f972a",
   "metadata": {
    "execution": {
     "iopub.execute_input": "2024-09-10T16:05:15.131883Z",
     "iopub.status.busy": "2024-09-10T16:05:15.131268Z",
     "iopub.status.idle": "2024-09-10T16:05:15.292019Z",
     "shell.execute_reply": "2024-09-10T16:05:15.291069Z"
    }
   },
   "outputs": [
    {
     "name": "stdout",
     "output_type": "stream",
     "text": [
      "En la rama main\n"
     ]
    },
    {
     "name": "stdout",
     "output_type": "stream",
     "text": [
      "Cambios a ser confirmados:\n"
     ]
    },
    {
     "name": "stdout",
     "output_type": "stream",
     "text": [
      "  (usa \"git restore --staged <archivo>...\" para sacar del área de stage)\n"
     ]
    },
    {
     "name": "stdout",
     "output_type": "stream",
     "text": [
      "\t\u001b[32mborrados:        practica2/lista_comandos_bash.txt\u001b[m\n"
     ]
    },
    {
     "name": "stdout",
     "output_type": "stream",
     "text": [
      "\n"
     ]
    }
   ],
   "source": [
    "# Paso 2: estado\n",
     ""
   ]
  },
  {
   "cell_type": "code",
   "execution_count": 70,
   "id": "4b9383b7-9718-4a06-a64b-1b823fd3681f",
   "metadata": {
    "execution": {
     "iopub.execute_input": "2024-09-10T16:05:15.295908Z",
     "iopub.status.busy": "2024-09-10T16:05:15.295295Z",
     "iopub.status.idle": "2024-09-10T16:05:15.458818Z",
     "shell.execute_reply": "2024-09-10T16:05:15.457669Z"
    }
   },
   "outputs": [
    {
     "name": "stdout",
     "output_type": "stream",
     "text": [
      "[main 215cfb2] Borrando fichero con lista de comandos\n"
     ]
    },
    {
     "name": "stdout",
     "output_type": "stream",
     "text": [
      " 1 file changed, 1 deletion(-)\n"
     ]
    },
    {
     "name": "stdout",
     "output_type": "stream",
     "text": [
      " delete mode 100644 practica2/lista_comandos_bash.txt\n"
     ]
    }
   ],
   "source": [
    "# Paso 3: Confirma\n",
    "git commit -m \"Borrando fichero con lista de comandos\""
   ]
  },
  {
   "cell_type": "code",
   "execution_count": 71,
   "id": "0d2d1209-06d9-4472-a8d3-74860938b4f2",
   "metadata": {
    "execution": {
     "iopub.execute_input": "2024-09-10T16:05:15.462805Z",
     "iopub.status.busy": "2024-09-10T16:05:15.462245Z",
     "iopub.status.idle": "2024-09-10T16:05:15.569930Z",
     "shell.execute_reply": "2024-09-10T16:05:15.569171Z"
    },
    "scrolled": true
   },
   "outputs": [
    {
     "name": "stdout",
     "output_type": "stream",
     "text": [
      ".:\n"
     ]
    },
    {
     "name": "stdout",
     "output_type": "stream",
     "text": [
      "AUTHORS  hosts  \u001b[0m\u001b[01;34mpractica2\u001b[0m\n"
     ]
    },
    {
     "name": "stdout",
     "output_type": "stream",
     "text": [
      "\n"
     ]
    },
    {
     "name": "stdout",
     "output_type": "stream",
     "text": [
      "practica2:\n"
     ]
    },
    {
     "name": "stdout",
     "output_type": "stream",
     "text": [
      "lista_comandos_git.txt\n"
     ]
    }
   ],
   "source": [
    "ls . practica2"
   ]
  },
  {
   "cell_type": "code",
   "execution_count": 72,
   "id": "56738443-4fad-4950-8d91-5563c886655e",
   "metadata": {
    "execution": {
     "iopub.execute_input": "2024-09-10T16:05:15.573720Z",
     "iopub.status.busy": "2024-09-10T16:05:15.573010Z",
     "iopub.status.idle": "2024-09-10T16:05:15.681675Z",
     "shell.execute_reply": "2024-09-10T16:05:15.680698Z"
    }
   },
   "outputs": [],
   "source": [
     ""
   ]
  },
  {
   "cell_type": "markdown",
   "id": "9f898134-96ec-4c11-92a5-79b8b26b4604",
   "metadata": {},
   "source": [
    "## Flujo de trabajo con un repositorio remoto"
   ]
  },
  {
   "cell_type": "code",
   "execution_count": 73,
   "id": "381bf01a-225d-4f7f-8c1f-bdd4740ad179",
   "metadata": {
    "execution": {
     "iopub.execute_input": "2024-09-10T16:05:15.685936Z",
     "iopub.status.busy": "2024-09-10T16:05:15.685205Z",
     "iopub.status.idle": "2024-09-10T16:05:17.601308Z",
     "shell.execute_reply": "2024-09-10T16:05:17.600564Z"
    }
   },
   "outputs": [
    {
     "name": "stdout",
     "output_type": "stream",
     "text": [
      "Inicializado repositorio Git vacío en /tmp/geografia-murciana/.git/\n"
     ]
    },
    {
     "name": "stdout",
     "output_type": "stream",
     "text": [
      "[main (commit-raíz) 4ff748a] Añadiendo algunas sierras de la Región de Murcia\n"
     ]
    },
    {
     "name": "stdout",
     "output_type": "stream",
     "text": [
      " 1 file changed, 5 insertions(+)\n"
     ]
    },
    {
     "name": "stdout",
     "output_type": "stream",
     "text": [
      " create mode 100644 sierras\n"
     ]
    }
   ],
   "source": [
    "# Ejecuta esta celda para generar un repositorio que actuará como remoto\n",
    "rm -rf /tmp/murcia\n",
    "mkdir /tmp/murcia\n",
    "cat <<EOF > /tmp/murcia/sierras\n",
    "Sierra de la Almenara\n",
    "Sierra de Burete\n",
    "Sierra del Carche\n",
    "Sierra de Carrascoy\n",
    "Sierra de Columbares\n",
    "EOF\n",
    "\n",
    "cat <<EOF > /tmp/murcia/rios\n",
    "Río Benamor\n",
    "Río Luchena\n",
    "Río Mula\n",
    "Río Quípar\n",
    "EOF\n",
    "\n",
    "cat <<EOF > /tmp/murcia/municipios\n",
    "LISTA DE MUNICIPIOS DE LA REGIÓN DE MURCIA\n",
    "Abanilla\n",
    "Alcantarilla\n",
    "Alhama de Murcia\n",
    "Archena\n",
    "Blanca\n",
    "Fortuna\n",
    "EOF\n",
    "\n",
    "REMOTE=\"/tmp/geografia-murciana\"\n",
    "\n",
    "rm -rf $REMOTE\n",
    "mkdir $REMOTE && cd $REMOTE \n",
    "git init\n",
    "cp /tmp/murcia/sierras .\n",
    "git add sierras\n",
    "git commit -m \"Añadiendo algunas sierras de la Región de Murcia\""
   ]
  },
  {
   "cell_type": "code",
   "execution_count": 74,
   "id": "8eff94ee-361e-40c1-8e8b-0194c32199af",
   "metadata": {
    "execution": {
     "iopub.execute_input": "2024-09-10T16:05:17.604744Z",
     "iopub.status.busy": "2024-09-10T16:05:17.604454Z",
     "iopub.status.idle": "2024-09-10T16:05:17.712316Z",
     "shell.execute_reply": "2024-09-10T16:05:17.711320Z"
    }
   },
   "outputs": [
    {
     "name": "stdout",
     "output_type": "stream",
     "text": [
      "total 12\n"
     ]
    },
    {
     "name": "stdout",
     "output_type": "stream",
     "text": [
      "-rw-r--r-- 1 jupyter-rtitos-um-es jupyter-rtitos-um-es 106 sep 10 16:05 municipios\n"
     ]
    },
    {
     "name": "stdout",
     "output_type": "stream",
     "text": [
      "-rw-r--r-- 1 jupyter-rtitos-um-es jupyter-rtitos-um-es  49 sep 10 16:05 rios\n"
     ]
    },
    {
     "name": "stdout",
     "output_type": "stream",
     "text": [
      "-rw-r--r-- 1 jupyter-rtitos-um-es jupyter-rtitos-um-es  98 sep 10 16:05 sierras\n"
     ]
    }
   ],
   "source": [
    "ls -l /tmp/murcia"
   ]
  },
  {
   "cell_type": "code",
   "execution_count": 75,
   "id": "0e6cddb0-cbd7-491b-a90e-60e1c8077042",
   "metadata": {
    "execution": {
     "iopub.execute_input": "2024-09-10T16:05:17.715973Z",
     "iopub.status.busy": "2024-09-10T16:05:17.715688Z",
     "iopub.status.idle": "2024-09-10T16:05:17.871066Z",
     "shell.execute_reply": "2024-09-10T16:05:17.870338Z"
    }
   },
   "outputs": [],
   "source": [
    "# Ve a tu directorio personal\n",
     ""
   ]
  },
  {
   "cell_type": "code",
   "execution_count": 76,
   "id": "94a78cc6-64ce-4150-9e49-349eeb747f8c",
   "metadata": {
    "execution": {
     "iopub.execute_input": "2024-09-10T16:05:17.874546Z",
     "iopub.status.busy": "2024-09-10T16:05:17.874266Z",
     "iopub.status.idle": "2024-09-10T16:05:18.031134Z",
     "shell.execute_reply": "2024-09-10T16:05:18.030315Z"
    }
   },
   "outputs": [],
   "source": [
    "# Borra recursivamente el directorio \"p2ej\" (en caso de que exista)\n",
     ""
   ]
  },
  {
   "cell_type": "code",
   "execution_count": 77,
   "id": "9446f6dd-256f-4436-b9d8-7462e905fe13",
   "metadata": {
    "execution": {
     "iopub.execute_input": "2024-09-10T16:05:18.034842Z",
     "iopub.status.busy": "2024-09-10T16:05:18.034339Z",
     "iopub.status.idle": "2024-09-10T16:05:18.192476Z",
     "shell.execute_reply": "2024-09-10T16:05:18.191255Z"
    }
   },
   "outputs": [],
   "source": [
    "# Crea un directorio llamado \"p2-ejercicio\"\n",
     ""
   ]
  },
  {
   "cell_type": "code",
   "execution_count": 78,
   "id": "2c17b607-482d-41ca-aca7-a88a04fe5eb1",
   "metadata": {
    "execution": {
     "iopub.execute_input": "2024-09-10T16:05:18.196584Z",
     "iopub.status.busy": "2024-09-10T16:05:18.195827Z",
     "iopub.status.idle": "2024-09-10T16:05:18.351816Z",
     "shell.execute_reply": "2024-09-10T16:05:18.350874Z"
    }
   },
   "outputs": [],
   "source": [
    "# Accede al directorio que acabas de crear\n",
     ""
   ]
  },
  {
   "cell_type": "code",
   "execution_count": 79,
   "id": "c7f9c429-2f5e-4685-8f37-e49220c3d41b",
   "metadata": {
    "execution": {
     "iopub.execute_input": "2024-09-10T16:05:18.355574Z",
     "iopub.status.busy": "2024-09-10T16:05:18.355226Z",
     "iopub.status.idle": "2024-09-10T16:05:18.473017Z",
     "shell.execute_reply": "2024-09-10T16:05:18.472052Z"
    }
   },
   "outputs": [
    {
     "name": "stdout",
     "output_type": "stream",
     "text": [
      "Clonando en 'geografia-murciana'...\n"
     ]
    },
    {
     "name": "stdout",
     "output_type": "stream",
     "text": [
      "hecho.\n"
     ]
    }
   ],
   "source": [
     ""
   ]
  },
  {
   "cell_type": "code",
   "execution_count": 80,
   "id": "45aed313-c761-406e-9ef3-55c5bcd59aec",
   "metadata": {
    "execution": {
     "iopub.execute_input": "2024-09-10T16:05:18.476981Z",
     "iopub.status.busy": "2024-09-10T16:05:18.476321Z",
     "iopub.status.idle": "2024-09-10T16:05:18.583625Z",
     "shell.execute_reply": "2024-09-10T16:05:18.582630Z"
    }
   },
   "outputs": [
    {
     "name": "stdout",
     "output_type": "stream",
     "text": [
      "\u001b[0m\u001b[01;34mgeografia-murciana\u001b[0m\n"
     ]
    }
   ],
   "source": [
    "ls"
   ]
  },
  {
   "cell_type": "code",
   "execution_count": 81,
   "id": "88da6478-5849-4b5d-b4a4-21c8115ec6df",
   "metadata": {
    "execution": {
     "iopub.execute_input": "2024-09-10T16:05:18.587135Z",
     "iopub.status.busy": "2024-09-10T16:05:18.586855Z",
     "iopub.status.idle": "2024-09-10T16:05:18.953600Z",
     "shell.execute_reply": "2024-09-10T16:05:18.952668Z"
    }
   },
   "outputs": [
    {
     "name": "stdout",
     "output_type": "stream",
     "text": [
      "Cambiado a rama 'alicante'\n"
     ]
    },
    {
     "name": "stdout",
     "output_type": "stream",
     "text": [
      "/home/jupyter-rtitos-um-es/p2ej\n"
     ]
    }
   ],
   "source": [
    "# Ejecuta la siguiente celda antes de continuar con el resto del ejercicio\n",
    "# NOTA: el manejo de ramas en Git está fuera del ámbito de FC\n",
    "cd $REMOTE \n",
    "git branch alicante\n",
    "git switch alicante\n",
    "cd -"
   ]
  },
  {
   "cell_type": "code",
   "execution_count": 82,
   "id": "f1c980f5-03d3-4b66-b917-13852e8c8336",
   "metadata": {
    "execution": {
     "iopub.execute_input": "2024-09-10T16:05:18.957260Z",
     "iopub.status.busy": "2024-09-10T16:05:18.956973Z",
     "iopub.status.idle": "2024-09-10T16:05:19.112226Z",
     "shell.execute_reply": "2024-09-10T16:05:19.111521Z"
    }
   },
   "outputs": [],
   "source": [
    "# Accede al directorio de la copia local del repositorio que acabas de crear\n",
     ""
   ]
  },
  {
   "cell_type": "code",
   "execution_count": 83,
   "id": "b61b5b13-740e-4023-9980-6b018c604d44",
   "metadata": {
    "execution": {
     "iopub.execute_input": "2024-09-10T16:05:19.115747Z",
     "iopub.status.busy": "2024-09-10T16:05:19.115469Z",
     "iopub.status.idle": "2024-09-10T16:05:19.275438Z",
     "shell.execute_reply": "2024-09-10T16:05:19.274496Z"
    }
   },
   "outputs": [
    {
     "name": "stdout",
     "output_type": "stream",
     "text": [
      "total 16\n"
     ]
    },
    {
     "name": "stdout",
     "output_type": "stream",
     "text": [
      "drwxr-xr-x 3 jupyter-rtitos-um-es jupyter-rtitos-um-es 4096 sep 10 16:05 \u001b[0m\u001b[01;34m.\u001b[0m\n"
     ]
    },
    {
     "name": "stdout",
     "output_type": "stream",
     "text": [
      "drwxr-xr-x 3 jupyter-rtitos-um-es jupyter-rtitos-um-es 4096 sep 10 16:05 \u001b[01;34m..\u001b[0m\n"
     ]
    },
    {
     "name": "stdout",
     "output_type": "stream",
     "text": [
      "drwxr-xr-x 8 jupyter-rtitos-um-es jupyter-rtitos-um-es 4096 sep 10 16:05 \u001b[01;34m.git\u001b[0m\n"
     ]
    },
    {
     "name": "stdout",
     "output_type": "stream",
     "text": [
      "-rw-r--r-- 1 jupyter-rtitos-um-es jupyter-rtitos-um-es   98 sep 10 16:05 sierras\n"
     ]
    }
   ],
   "source": [
    "# Haz un listado largo del contenido del directorio, incluyendo ficheros ocultos\n",
     ""
   ]
  },
  {
   "cell_type": "code",
   "execution_count": 84,
   "id": "5d32a3ab-da26-431e-863d-825a9f07b151",
   "metadata": {
    "execution": {
     "iopub.execute_input": "2024-09-10T16:05:19.279172Z",
     "iopub.status.busy": "2024-09-10T16:05:19.278705Z",
     "iopub.status.idle": "2024-09-10T16:05:19.437512Z",
     "shell.execute_reply": "2024-09-10T16:05:19.436739Z"
    }
   },
   "outputs": [
    {
     "name": "stdout",
     "output_type": "stream",
     "text": [
      "\u001b[33m4ff748a\u001b[m\u001b[33m (\u001b[m\u001b[1;36mHEAD -> \u001b[m\u001b[1;32mmain\u001b[m\u001b[33m, \u001b[m\u001b[1;31morigin/main\u001b[m\u001b[33m, \u001b[m\u001b[1;31morigin/HEAD\u001b[m\u001b[33m)\u001b[m Añadiendo algunas sierras de la Región de Murcia\n"
     ]
    }
   ],
   "source": [
    "# Muestra el registro de commits en una sola línea\n",
     ""
   ]
  },
  {
   "cell_type": "code",
   "execution_count": 85,
   "id": "3161eda0-6056-49df-a8bf-b0ac39a922eb",
   "metadata": {
    "execution": {
     "iopub.execute_input": "2024-09-10T16:05:19.441107Z",
     "iopub.status.busy": "2024-09-10T16:05:19.440621Z",
     "iopub.status.idle": "2024-09-10T16:05:19.548875Z",
     "shell.execute_reply": "2024-09-10T16:05:19.547922Z"
    }
   },
   "outputs": [
    {
     "name": "stdout",
     "output_type": "stream",
     "text": [
      "total 12\n"
     ]
    },
    {
     "name": "stdout",
     "output_type": "stream",
     "text": [
      "-rw-r--r-- 1 jupyter-rtitos-um-es jupyter-rtitos-um-es 106 sep 10 16:05 municipios\n"
     ]
    },
    {
     "name": "stdout",
     "output_type": "stream",
     "text": [
      "-rw-r--r-- 1 jupyter-rtitos-um-es jupyter-rtitos-um-es  49 sep 10 16:05 rios\n"
     ]
    },
    {
     "name": "stdout",
     "output_type": "stream",
     "text": [
      "-rw-r--r-- 1 jupyter-rtitos-um-es jupyter-rtitos-um-es  98 sep 10 16:05 sierras\n"
     ]
    }
   ],
   "source": [
     ""
   ]
  },
  {
   "cell_type": "code",
   "execution_count": 86,
   "id": "f1a421f2-e989-4416-829c-b0b2bb19ceba",
   "metadata": {
    "execution": {
     "iopub.execute_input": "2024-09-10T16:05:19.553229Z",
     "iopub.status.busy": "2024-09-10T16:05:19.552931Z",
     "iopub.status.idle": "2024-09-10T16:05:19.865033Z",
     "shell.execute_reply": "2024-09-10T16:05:19.864300Z"
    }
   },
   "outputs": [],
   "source": [
    "# Añade al repositorio el contenido íntegro del directorio /tmp/murcia\n",
    "# Para ello, necesitas hacerlo en varios pasos. El resultado debe ser que\n",
    "# haya un nuevo directorio \"murcia\" en el repositorio, con los tres ficheros\n",
    "# PASO 1\n",
     ""
   ]
  },
  {
   "cell_type": "code",
   "execution_count": 87,
   "id": "c4ffafdf-8c4d-4298-963f-828e70367fbe",
   "metadata": {
    "execution": {
     "iopub.execute_input": "2024-09-10T16:05:19.868703Z",
     "iopub.status.busy": "2024-09-10T16:05:19.868194Z",
     "iopub.status.idle": "2024-09-10T16:05:20.026929Z",
     "shell.execute_reply": "2024-09-10T16:05:20.025981Z"
    }
   },
   "outputs": [],
   "source": [
    "# PASO 2\n",
     ""
   ]
  },
  {
   "cell_type": "code",
   "execution_count": 88,
   "id": "fdccaaf6-3df9-4233-a33a-1aebfae94cba",
   "metadata": {
    "execution": {
     "iopub.execute_input": "2024-09-10T16:05:20.031121Z",
     "iopub.status.busy": "2024-09-10T16:05:20.030426Z",
     "iopub.status.idle": "2024-09-10T16:05:20.191382Z",
     "shell.execute_reply": "2024-09-10T16:05:20.190424Z"
    }
   },
   "outputs": [
    {
     "name": "stdout",
     "output_type": "stream",
     "text": [
      "En la rama main\n"
     ]
    },
    {
     "name": "stdout",
     "output_type": "stream",
     "text": [
      "Tu rama está actualizada con 'origin/main'.\n"
     ]
    },
    {
     "name": "stdout",
     "output_type": "stream",
     "text": [
      "\n"
     ]
    },
    {
     "name": "stdout",
     "output_type": "stream",
     "text": [
      "Cambios a ser confirmados:\n"
     ]
    },
    {
     "name": "stdout",
     "output_type": "stream",
     "text": [
      "  (usa \"git restore --staged <archivo>...\" para sacar del área de stage)\n"
     ]
    },
    {
     "name": "stdout",
     "output_type": "stream",
     "text": [
      "\t\u001b[32mnuevos archivos: murcia/municipios\u001b[m\n"
     ]
    },
    {
     "name": "stdout",
     "output_type": "stream",
     "text": [
      "\t\u001b[32mnuevos archivos: murcia/rios\u001b[m\n"
     ]
    },
    {
     "name": "stdout",
     "output_type": "stream",
     "text": [
      "\t\u001b[32mnuevos archivos: murcia/sierras\u001b[m\n"
     ]
    },
    {
     "name": "stdout",
     "output_type": "stream",
     "text": [
      "\n"
     ]
    }
   ],
   "source": [
    "# PASO 3 (estado)\n",
     ""
   ]
  },
  {
   "cell_type": "code",
   "execution_count": 89,
   "id": "d94668b8-ca2a-4c9d-bdbd-bc18da1fdf90",
   "metadata": {
    "execution": {
     "iopub.execute_input": "2024-09-10T16:05:20.195370Z",
     "iopub.status.busy": "2024-09-10T16:05:20.194684Z",
     "iopub.status.idle": "2024-09-10T16:05:20.361120Z",
     "shell.execute_reply": "2024-09-10T16:05:20.359907Z"
    }
   },
   "outputs": [
    {
     "name": "stdout",
     "output_type": "stream",
     "text": [
      "\u001b[1mdiff --git a/murcia/municipios b/murcia/municipios\u001b[m\n"
     ]
    },
    {
     "name": "stdout",
     "output_type": "stream",
     "text": [
      "\u001b[1mnew file mode 100644\u001b[m\n"
     ]
    },
    {
     "name": "stdout",
     "output_type": "stream",
     "text": [
      "\u001b[1mindex 0000000..19abbd5\u001b[m\n"
     ]
    },
    {
     "name": "stdout",
     "output_type": "stream",
     "text": [
      "\u001b[1m--- /dev/null\u001b[m\n"
     ]
    },
    {
     "name": "stdout",
     "output_type": "stream",
     "text": [
      "\u001b[1m+++ b/murcia/municipios\u001b[m\n"
     ]
    },
    {
     "name": "stdout",
     "output_type": "stream",
     "text": [
      "\u001b[36m@@ -0,0 +1,7 @@\u001b[m\n"
     ]
    },
    {
     "name": "stdout",
     "output_type": "stream",
     "text": [
      "\u001b[32m+\u001b[m\u001b[32mLISTA DE MUNICIPIOS DE LA REGIÓN DE MURCIA\u001b[m\n"
     ]
    },
    {
     "name": "stdout",
     "output_type": "stream",
     "text": [
      "\u001b[32m+\u001b[m\u001b[32mAbanilla\u001b[m\n"
     ]
    },
    {
     "name": "stdout",
     "output_type": "stream",
     "text": [
      "\u001b[32m+\u001b[m\u001b[32mAlcantarilla\u001b[m\n"
     ]
    },
    {
     "name": "stdout",
     "output_type": "stream",
     "text": [
      "\u001b[32m+\u001b[m\u001b[32mAlhama de Murcia\u001b[m\n"
     ]
    },
    {
     "name": "stdout",
     "output_type": "stream",
     "text": [
      "\u001b[32m+\u001b[m\u001b[32mArchena\u001b[m\n"
     ]
    },
    {
     "name": "stdout",
     "output_type": "stream",
     "text": [
      "\u001b[32m+\u001b[m\u001b[32mBlanca\u001b[m\n"
     ]
    },
    {
     "name": "stdout",
     "output_type": "stream",
     "text": [
      "\u001b[32m+\u001b[m\u001b[32mFortuna\u001b[m\n"
     ]
    },
    {
     "name": "stdout",
     "output_type": "stream",
     "text": [
      "\u001b[1mdiff --git a/murcia/rios b/murcia/rios\u001b[m\n"
     ]
    },
    {
     "name": "stdout",
     "output_type": "stream",
     "text": [
      "\u001b[1mnew file mode 100644\u001b[m\n"
     ]
    },
    {
     "name": "stdout",
     "output_type": "stream",
     "text": [
      "\u001b[1mindex 0000000..b8d48de\u001b[m\n"
     ]
    },
    {
     "name": "stdout",
     "output_type": "stream",
     "text": [
      "\u001b[1m--- /dev/null\u001b[m\n"
     ]
    },
    {
     "name": "stdout",
     "output_type": "stream",
     "text": [
      "\u001b[1m+++ b/murcia/rios\u001b[m\n"
     ]
    },
    {
     "name": "stdout",
     "output_type": "stream",
     "text": [
      "\u001b[36m@@ -0,0 +1,4 @@\u001b[m\n"
     ]
    },
    {
     "name": "stdout",
     "output_type": "stream",
     "text": [
      "\u001b[32m+\u001b[m\u001b[32mRío Benamor\u001b[m\n"
     ]
    },
    {
     "name": "stdout",
     "output_type": "stream",
     "text": [
      "\u001b[32m+\u001b[m\u001b[32mRío Luchena\u001b[m\n"
     ]
    },
    {
     "name": "stdout",
     "output_type": "stream",
     "text": [
      "\u001b[32m+\u001b[m\u001b[32mRío Mula\u001b[m\n"
     ]
    },
    {
     "name": "stdout",
     "output_type": "stream",
     "text": [
      "\u001b[32m+\u001b[m\u001b[32mRío Quípar\u001b[m\n"
     ]
    },
    {
     "name": "stdout",
     "output_type": "stream",
     "text": [
      "\u001b[1mdiff --git a/murcia/sierras b/murcia/sierras\u001b[m\n"
     ]
    },
    {
     "name": "stdout",
     "output_type": "stream",
     "text": [
      "\u001b[1mnew file mode 100644\u001b[m\n"
     ]
    },
    {
     "name": "stdout",
     "output_type": "stream",
     "text": [
      "\u001b[1mindex 0000000..0df1613\u001b[m\n"
     ]
    },
    {
     "name": "stdout",
     "output_type": "stream",
     "text": [
      "\u001b[1m--- /dev/null\u001b[m\n"
     ]
    },
    {
     "name": "stdout",
     "output_type": "stream",
     "text": [
      "\u001b[1m+++ b/murcia/sierras\u001b[m\n"
     ]
    },
    {
     "name": "stdout",
     "output_type": "stream",
     "text": [
      "\u001b[36m@@ -0,0 +1,5 @@\u001b[m\n"
     ]
    },
    {
     "name": "stdout",
     "output_type": "stream",
     "text": [
      "\u001b[32m+\u001b[m\u001b[32mSierra de la Almenara\u001b[m\n"
     ]
    },
    {
     "name": "stdout",
     "output_type": "stream",
     "text": [
      "\u001b[32m+\u001b[m\u001b[32mSierra de Burete\u001b[m\n"
     ]
    },
    {
     "name": "stdout",
     "output_type": "stream",
     "text": [
      "\u001b[32m+\u001b[m\u001b[32mSierra del Carche\u001b[m\n"
     ]
    },
    {
     "name": "stdout",
     "output_type": "stream",
     "text": [
      "\u001b[32m+\u001b[m\u001b[32mSierra de Carrascoy\u001b[m\n"
     ]
    },
    {
     "name": "stdout",
     "output_type": "stream",
     "text": [
      "\u001b[32m+\u001b[m\u001b[32mSierra de Columbares\u001b[m\n"
     ]
    }
   ],
   "source": [
    "# Muestra lo que has añadido al índice\n",
     ""
   ]
  },
  {
   "cell_type": "code",
   "execution_count": 90,
   "id": "54ab5e73-d098-44d5-92e3-c1110789824e",
   "metadata": {
    "execution": {
     "iopub.execute_input": "2024-09-10T16:05:20.365261Z",
     "iopub.status.busy": "2024-09-10T16:05:20.364491Z",
     "iopub.status.idle": "2024-09-10T16:05:20.528017Z",
     "shell.execute_reply": "2024-09-10T16:05:20.527307Z"
    }
   },
   "outputs": [
    {
     "name": "stdout",
     "output_type": "stream",
     "text": [
      "[main e9c179f] Añadiendo municipios, rios y sierras\n"
     ]
    },
    {
     "name": "stdout",
     "output_type": "stream",
     "text": [
      " 3 files changed, 16 insertions(+)\n"
     ]
    },
    {
     "name": "stdout",
     "output_type": "stream",
     "text": [
      " create mode 100644 murcia/municipios\n"
     ]
    },
    {
     "name": "stdout",
     "output_type": "stream",
     "text": [
      " create mode 100644 murcia/rios\n"
     ]
    },
    {
     "name": "stdout",
     "output_type": "stream",
     "text": [
      " create mode 100644 murcia/sierras\n"
     ]
    }
   ],
   "source": [
    "# PASO 4 (confirma el cambio al repositorio)\n",
     ""
   ]
  },
  {
   "cell_type": "code",
   "execution_count": 91,
   "id": "366c6934-ded4-49f0-adfa-2dcd7c6dad54",
   "metadata": {
    "execution": {
     "iopub.execute_input": "2024-09-10T16:05:20.531544Z",
     "iopub.status.busy": "2024-09-10T16:05:20.531274Z",
     "iopub.status.idle": "2024-09-10T16:05:20.691255Z",
     "shell.execute_reply": "2024-09-10T16:05:20.690361Z"
    }
   },
   "outputs": [
    {
     "name": "stdout",
     "output_type": "stream",
     "text": [
      "En la rama main\n"
     ]
    },
    {
     "name": "stdout",
     "output_type": "stream",
     "text": [
      "Tu rama está adelantada a 'origin/main' por 1 commit.\n"
     ]
    },
    {
     "name": "stdout",
     "output_type": "stream",
     "text": [
      "  (usa \"git push\" para publicar tus commits locales)\n"
     ]
    },
    {
     "name": "stdout",
     "output_type": "stream",
     "text": [
      "\n"
     ]
    },
    {
     "name": "stdout",
     "output_type": "stream",
     "text": [
      "nada para hacer commit, el árbol de trabajo está limpio\n"
     ]
    }
   ],
   "source": [
    "# Vuelve a comprobar el estado\n",
    "git status"
   ]
  },
  {
   "cell_type": "markdown",
   "id": "92cd40a8-a103-481e-8fa3-2e7652392a1c",
   "metadata": {},
   "source": [
    "PREGUNTA: ¿Qué información te muestra el comando anterior, acerca del remoto?\n",
    "\n",
    "RESPUESTA:\n",
    "\n",
     ""
   ]
  },
  {
   "cell_type": "code",
   "execution_count": 92,
   "id": "8ae6cee4-3adc-4959-bd95-4fb0acf01a2c",
   "metadata": {
    "execution": {
     "iopub.execute_input": "2024-09-10T16:05:20.695022Z",
     "iopub.status.busy": "2024-09-10T16:05:20.694746Z",
     "iopub.status.idle": "2024-09-10T16:05:20.853829Z",
     "shell.execute_reply": "2024-09-10T16:05:20.852875Z"
    }
   },
   "outputs": [
    {
     "name": "stdout",
     "output_type": "stream",
     "text": [
      "\u001b[33me9c179f\u001b[m\u001b[33m (\u001b[m\u001b[1;36mHEAD -> \u001b[m\u001b[1;32mmain\u001b[m\u001b[33m)\u001b[m Añadiendo municipios, rios y sierras\n"
     ]
    },
    {
     "name": "stdout",
     "output_type": "stream",
     "text": [
      "\u001b[33m4ff748a\u001b[m\u001b[33m (\u001b[m\u001b[1;31morigin/main\u001b[m\u001b[33m, \u001b[m\u001b[1;31morigin/HEAD\u001b[m\u001b[33m)\u001b[m Añadiendo algunas sierras de la Región de Murcia\n"
     ]
    }
   ],
   "source": [
    "# PASO 5: comprobación (registro)\n",
     ""
   ]
  },
  {
   "cell_type": "markdown",
   "id": "ede034cd-ad72-479a-a275-752b7c7d91c9",
   "metadata": {},
   "source": [
    "PREGUNTA: ¿Cómo puedes saber a partir de la información anterior que el repositorio local y remoto no está en la misma versión?\n",
    "\n",
    "RESPUESTA:\n",
    "\n",
     ""
   ]
  },
  {
   "cell_type": "markdown",
   "id": "7750a771-ab3f-4889-9681-cbd40d99a899",
   "metadata": {},
   "source": [
    "PREGUNTA: ¿Cuántos ficheros tiene ahora mismo el repositorio remoto?\n",
    "\n",
    "RESPUESTA: \n",
    "\n",
     ""
   ]
  },
  {
   "cell_type": "code",
   "execution_count": 93,
   "id": "be6dc492-e966-4aeb-bd46-5f800b8f7236",
   "metadata": {
    "execution": {
     "iopub.execute_input": "2024-09-10T16:05:20.857611Z",
     "iopub.status.busy": "2024-09-10T16:05:20.857300Z",
     "iopub.status.idle": "2024-09-10T16:05:21.035441Z",
     "shell.execute_reply": "2024-09-10T16:05:21.034757Z"
    }
   },
   "outputs": [
    {
     "name": "stdout",
     "output_type": "stream",
     "text": [
      "Enumerando objetos: 6, listo.\n"
     ]
    },
    {
     "name": "stdout",
     "output_type": "stream",
     "text": [
      "Contando objetos:  16% (1/6)\r"
     ]
    },
    {
     "name": "stdout",
     "output_type": "stream",
     "text": [
      "Contando objetos:  33% (2/6)\r"
     ]
    },
    {
     "name": "stdout",
     "output_type": "stream",
     "text": [
      "Contando objetos:  50% (3/6)\r"
     ]
    },
    {
     "name": "stdout",
     "output_type": "stream",
     "text": [
      "Contando objetos:  66% (4/6)\r"
     ]
    },
    {
     "name": "stdout",
     "output_type": "stream",
     "text": [
      "Contando objetos:  83% (5/6)\r"
     ]
    },
    {
     "name": "stdout",
     "output_type": "stream",
     "text": [
      "Contando objetos: 100% (6/6)\r"
     ]
    },
    {
     "name": "stdout",
     "output_type": "stream",
     "text": [
      "Contando objetos: 100% (6/6), listo.\n"
     ]
    },
    {
     "name": "stdout",
     "output_type": "stream",
     "text": [
      "Compresión delta usando hasta 4 hilos\n"
     ]
    },
    {
     "name": "stdout",
     "output_type": "stream",
     "text": [
      "Comprimiendo objetos:  25% (1/4)\r"
     ]
    },
    {
     "name": "stdout",
     "output_type": "stream",
     "text": [
      "Comprimiendo objetos:  50% (2/4)\r"
     ]
    },
    {
     "name": "stdout",
     "output_type": "stream",
     "text": [
      "Comprimiendo objetos:  75% (3/4)\r"
     ]
    },
    {
     "name": "stdout",
     "output_type": "stream",
     "text": [
      "Comprimiendo objetos: 100% (4/4)\r"
     ]
    },
    {
     "name": "stdout",
     "output_type": "stream",
     "text": [
      "Comprimiendo objetos: 100% (4/4), listo.\n"
     ]
    },
    {
     "name": "stdout",
     "output_type": "stream",
     "text": [
      "Escribiendo objetos:  20% (1/5)\r"
     ]
    },
    {
     "name": "stdout",
     "output_type": "stream",
     "text": [
      "Escribiendo objetos:  40% (2/5)\r"
     ]
    },
    {
     "name": "stdout",
     "output_type": "stream",
     "text": [
      "Escribiendo objetos:  60% (3/5)\r"
     ]
    },
    {
     "name": "stdout",
     "output_type": "stream",
     "text": [
      "Escribiendo objetos:  80% (4/5)\r"
     ]
    },
    {
     "name": "stdout",
     "output_type": "stream",
     "text": [
      "Escribiendo objetos: 100% (5/5)\r"
     ]
    },
    {
     "name": "stdout",
     "output_type": "stream",
     "text": [
      "Escribiendo objetos: 100% (5/5), 557 bytes | 557.00 KiB/s, listo.\n"
     ]
    },
    {
     "name": "stdout",
     "output_type": "stream",
     "text": [
      "Total 5 (delta 0), reusados 0 (delta 0), pack-reusados 0\n"
     ]
    },
    {
     "name": "stdout",
     "output_type": "stream",
     "text": [
      "To /tmp/geografia-murciana\n"
     ]
    },
    {
     "name": "stdout",
     "output_type": "stream",
     "text": [
      "   4ff748a..e9c179f  main -> main\n"
     ]
    }
   ],
   "source": [
    "# Envía tus cambios al repositorio remoto\n",
     ""
   ]
  },
  {
   "cell_type": "code",
   "execution_count": 94,
   "id": "7596d448-f8f4-4680-885d-61af82e06deb",
   "metadata": {
    "execution": {
     "iopub.execute_input": "2024-09-10T16:05:21.039074Z",
     "iopub.status.busy": "2024-09-10T16:05:21.038525Z",
     "iopub.status.idle": "2024-09-10T16:05:21.197846Z",
     "shell.execute_reply": "2024-09-10T16:05:21.197051Z"
    }
   },
   "outputs": [
    {
     "name": "stdout",
     "output_type": "stream",
     "text": [
      "\u001b[33me9c179f\u001b[m\u001b[33m (\u001b[m\u001b[1;36mHEAD -> \u001b[m\u001b[1;32mmain\u001b[m\u001b[33m, \u001b[m\u001b[1;31morigin/main\u001b[m\u001b[33m, \u001b[m\u001b[1;31morigin/HEAD\u001b[m\u001b[33m)\u001b[m Añadiendo municipios, rios y sierras\n"
     ]
    },
    {
     "name": "stdout",
     "output_type": "stream",
     "text": [
      "\u001b[33m4ff748a\u001b[m Añadiendo algunas sierras de la Región de Murcia\n"
     ]
    }
   ],
   "source": [
    "# Vuelve a mostrar el registro de commits\n",
     ""
   ]
  },
  {
   "cell_type": "markdown",
   "id": "bba65392-be4a-4dc6-9011-ecf92aa16c63",
   "metadata": {},
   "source": [
    "PREGUNTA: ¿En qué ha cambiado la información mostrada por el comando anterior sobre el repositorio remoto?\n",
    "\n",
    "RESPUESTA:\n",
    "\n",
     ""
   ]
  },
  {
   "cell_type": "code",
   "execution_count": 95,
   "id": "cedfdec2-4b9f-43ea-8ebb-eb7e463a0d69",
   "metadata": {
    "execution": {
     "iopub.execute_input": "2024-09-10T16:05:21.201472Z",
     "iopub.status.busy": "2024-09-10T16:05:21.201172Z",
     "iopub.status.idle": "2024-09-10T16:05:21.358417Z",
     "shell.execute_reply": "2024-09-10T16:05:21.357438Z"
    }
   },
   "outputs": [],
   "source": [
    "# Ejecuta la siguiente celda para ver las diferencias entre dos ficheros\n",
    "diff -u sierras murcia/sierras"
   ]
  },
  {
   "cell_type": "code",
   "execution_count": 96,
   "id": "93a592f4-a33c-4331-b3a9-26a72b67c155",
   "metadata": {
    "execution": {
     "iopub.execute_input": "2024-09-10T16:05:21.362067Z",
     "iopub.status.busy": "2024-09-10T16:05:21.361787Z",
     "iopub.status.idle": "2024-09-10T16:05:21.571240Z",
     "shell.execute_reply": "2024-09-10T16:05:21.570529Z"
    }
   },
   "outputs": [
    {
     "name": "stdout",
     "output_type": "stream",
     "text": [
      "rm 'sierras'\n"
     ]
    }
   ],
   "source": [
    "# Elimina del repositorio el fichero \"sierras\" que está fuera del directorio \"murcia\"\n",
    "# PASO 1\n",
     ""
   ]
  },
  {
   "cell_type": "code",
   "execution_count": 97,
   "id": "86519e4f-e873-4925-b0dd-3c2c96ef845e",
   "metadata": {
    "execution": {
     "iopub.execute_input": "2024-09-10T16:05:21.575322Z",
     "iopub.status.busy": "2024-09-10T16:05:21.574759Z",
     "iopub.status.idle": "2024-09-10T16:05:21.735537Z",
     "shell.execute_reply": "2024-09-10T16:05:21.734678Z"
    }
   },
   "outputs": [
    {
     "name": "stdout",
     "output_type": "stream",
     "text": [
      "En la rama main\n"
     ]
    },
    {
     "name": "stdout",
     "output_type": "stream",
     "text": [
      "Tu rama está actualizada con 'origin/main'.\n"
     ]
    },
    {
     "name": "stdout",
     "output_type": "stream",
     "text": [
      "\n"
     ]
    },
    {
     "name": "stdout",
     "output_type": "stream",
     "text": [
      "Cambios a ser confirmados:\n"
     ]
    },
    {
     "name": "stdout",
     "output_type": "stream",
     "text": [
      "  (usa \"git restore --staged <archivo>...\" para sacar del área de stage)\n"
     ]
    },
    {
     "name": "stdout",
     "output_type": "stream",
     "text": [
      "\t\u001b[32mborrados:        sierras\u001b[m\n"
     ]
    },
    {
     "name": "stdout",
     "output_type": "stream",
     "text": [
      "\n"
     ]
    }
   ],
   "source": [
    "# PASO 2 (estado)\n",
     ""
   ]
  },
  {
   "cell_type": "code",
   "execution_count": 98,
   "id": "c0f15cfd-fd2d-41ae-beb7-0efc6647b958",
   "metadata": {
    "execution": {
     "iopub.execute_input": "2024-09-10T16:05:21.739042Z",
     "iopub.status.busy": "2024-09-10T16:05:21.738779Z",
     "iopub.status.idle": "2024-09-10T16:05:21.901913Z",
     "shell.execute_reply": "2024-09-10T16:05:21.900971Z"
    }
   },
   "outputs": [
    {
     "name": "stdout",
     "output_type": "stream",
     "text": [
      "[main 67d07ca] Eliminando fichero duplicado con sierras\n"
     ]
    },
    {
     "name": "stdout",
     "output_type": "stream",
     "text": [
      " 1 file changed, 5 deletions(-)\n"
     ]
    },
    {
     "name": "stdout",
     "output_type": "stream",
     "text": [
      " delete mode 100644 sierras\n"
     ]
    }
   ],
   "source": [
    "# PASO 3 (confirma) Mensaje: \"Eliminando fichero duplicado\"\n",
     ""
   ]
  },
  {
   "cell_type": "code",
   "execution_count": 99,
   "id": "480c91cd-ccdb-4019-ade3-1210b93e3c07",
   "metadata": {
    "execution": {
     "iopub.execute_input": "2024-09-10T16:05:21.905801Z",
     "iopub.status.busy": "2024-09-10T16:05:21.905052Z",
     "iopub.status.idle": "2024-09-10T16:05:22.065220Z",
     "shell.execute_reply": "2024-09-10T16:05:22.064458Z"
    }
   },
   "outputs": [
    {
     "name": "stdout",
     "output_type": "stream",
     "text": [
      "\u001b[33m67d07ca\u001b[m\u001b[33m (\u001b[m\u001b[1;36mHEAD -> \u001b[m\u001b[1;32mmain\u001b[m\u001b[33m)\u001b[m Eliminando fichero duplicado con sierras\n"
     ]
    },
    {
     "name": "stdout",
     "output_type": "stream",
     "text": [
      "\u001b[33me9c179f\u001b[m\u001b[33m (\u001b[m\u001b[1;31morigin/main\u001b[m\u001b[33m, \u001b[m\u001b[1;31morigin/HEAD\u001b[m\u001b[33m)\u001b[m Añadiendo municipios, rios y sierras\n"
     ]
    },
    {
     "name": "stdout",
     "output_type": "stream",
     "text": [
      "\u001b[33m4ff748a\u001b[m Añadiendo algunas sierras de la Región de Murcia\n"
     ]
    }
   ],
   "source": [
    "# PASO 4 (comprueba registro en una línea\n",
     ""
   ]
  },
  {
   "cell_type": "code",
   "execution_count": 100,
   "id": "0c8dd3f1-aef6-4e1c-8337-396f49cbdb60",
   "metadata": {
    "execution": {
     "iopub.execute_input": "2024-09-10T16:05:22.068812Z",
     "iopub.status.busy": "2024-09-10T16:05:22.068546Z",
     "iopub.status.idle": "2024-09-10T16:05:22.175580Z",
     "shell.execute_reply": "2024-09-10T16:05:22.174433Z"
    }
   },
   "outputs": [
    {
     "name": "stdout",
     "output_type": "stream",
     "text": [
      "\u001b[0m\u001b[01;34m.\u001b[0m  \u001b[01;34m..\u001b[0m  \u001b[01;34m.git\u001b[0m  \u001b[01;34mmurcia\u001b[0m\n"
     ]
    }
   ],
   "source": [
    "ls -a"
   ]
  },
  {
   "cell_type": "code",
   "execution_count": 101,
   "id": "2ad035d5-9c19-40b8-875c-b7ccb8001795",
   "metadata": {
    "execution": {
     "iopub.execute_input": "2024-09-10T16:05:22.179387Z",
     "iopub.status.busy": "2024-09-10T16:05:22.179097Z",
     "iopub.status.idle": "2024-09-10T16:05:22.338803Z",
     "shell.execute_reply": "2024-09-10T16:05:22.337819Z"
    },
    "scrolled": true
   },
   "outputs": [
    {
     "name": "stdout",
     "output_type": "stream",
     "text": [
      "En la rama main\n"
     ]
    },
    {
     "name": "stdout",
     "output_type": "stream",
     "text": [
      "Tu rama está adelantada a 'origin/main' por 1 commit.\n"
     ]
    },
    {
     "name": "stdout",
     "output_type": "stream",
     "text": [
      "  (usa \"git push\" para publicar tus commits locales)\n"
     ]
    },
    {
     "name": "stdout",
     "output_type": "stream",
     "text": [
      "\n"
     ]
    },
    {
     "name": "stdout",
     "output_type": "stream",
     "text": [
      "nada para hacer commit, el árbol de trabajo está limpio\n"
     ]
    }
   ],
   "source": [
    "# Muestra el estado\n",
     ""
   ]
  },
  {
   "cell_type": "code",
   "execution_count": 102,
   "id": "78abf7d2-9f72-4a1f-8bae-6a47cba1c4ce",
   "metadata": {
    "execution": {
     "iopub.execute_input": "2024-09-10T16:05:22.342663Z",
     "iopub.status.busy": "2024-09-10T16:05:22.342347Z",
     "iopub.status.idle": "2024-09-10T16:05:22.519271Z",
     "shell.execute_reply": "2024-09-10T16:05:22.518498Z"
    }
   },
   "outputs": [
    {
     "name": "stdout",
     "output_type": "stream",
     "text": [
      "Enumerando objetos: 3, listo.\n"
     ]
    },
    {
     "name": "stdout",
     "output_type": "stream",
     "text": [
      "Contando objetos:  33% (1/3)\r"
     ]
    },
    {
     "name": "stdout",
     "output_type": "stream",
     "text": [
      "Contando objetos:  66% (2/3)\r"
     ]
    },
    {
     "name": "stdout",
     "output_type": "stream",
     "text": [
      "Contando objetos: 100% (3/3)\r"
     ]
    },
    {
     "name": "stdout",
     "output_type": "stream",
     "text": [
      "Contando objetos: 100% (3/3), listo.\n"
     ]
    },
    {
     "name": "stdout",
     "output_type": "stream",
     "text": [
      "Compresión delta usando hasta 4 hilos\n"
     ]
    },
    {
     "name": "stdout",
     "output_type": "stream",
     "text": [
      "Comprimiendo objetos: 100% (1/1)\r"
     ]
    },
    {
     "name": "stdout",
     "output_type": "stream",
     "text": [
      "Comprimiendo objetos: 100% (1/1), listo.\n"
     ]
    },
    {
     "name": "stdout",
     "output_type": "stream",
     "text": [
      "Escribiendo objetos:  50% (1/2)\r"
     ]
    },
    {
     "name": "stdout",
     "output_type": "stream",
     "text": [
      "Escribiendo objetos: 100% (2/2)\r"
     ]
    },
    {
     "name": "stdout",
     "output_type": "stream",
     "text": [
      "Escribiendo objetos: 100% (2/2), 261 bytes | 261.00 KiB/s, listo.\n"
     ]
    },
    {
     "name": "stdout",
     "output_type": "stream",
     "text": [
      "Total 2 (delta 0), reusados 0 (delta 0), pack-reusados 0\n"
     ]
    },
    {
     "name": "stdout",
     "output_type": "stream",
     "text": [
      "To /tmp/geografia-murciana\n"
     ]
    },
    {
     "name": "stdout",
     "output_type": "stream",
     "text": [
      "   e9c179f..67d07ca  main -> main\n"
     ]
    }
   ],
   "source": [
    "# Envía tus cambios al remoto\n",
     ""
   ]
  },
  {
   "cell_type": "code",
   "execution_count": 103,
   "id": "64d7146b-e7b9-4108-ba2b-ce07912cc986",
   "metadata": {
    "execution": {
     "iopub.execute_input": "2024-09-10T16:05:22.522891Z",
     "iopub.status.busy": "2024-09-10T16:05:22.522612Z",
     "iopub.status.idle": "2024-09-10T16:05:23.001494Z",
     "shell.execute_reply": "2024-09-10T16:05:23.000569Z"
    }
   },
   "outputs": [
    {
     "name": "stdout",
     "output_type": "stream",
     "text": [
      "Cambiado a rama 'main'\n"
     ]
    },
    {
     "name": "stdout",
     "output_type": "stream",
     "text": [
      "[main 9daa679] Añadiendo más municipios con la letra L\n"
     ]
    },
    {
     "name": "stdout",
     "output_type": "stream",
     "text": [
      " 1 file changed, 2 insertions(+)\n"
     ]
    },
    {
     "name": "stdout",
     "output_type": "stream",
     "text": [
      "Cambiado a rama 'alicante'\n"
     ]
    },
    {
     "name": "stdout",
     "output_type": "stream",
     "text": [
      "/home/jupyter-rtitos-um-es/p2ej/geografia-murciana\n"
     ]
    }
   ],
   "source": [
    "# Ejecuta la siguiente celda antes de continuar con el resto del ejercicio\n",
    "cd $REMOTE \n",
    "git switch main\n",
    "echo \"Librilla\" >> murcia/municipios\n",
    "echo \"Lorca\" >> murcia/municipios\n",
    "git commit . -m \"Añadiendo más municipios con la letra L\"\n",
    "git switch alicante\n",
    "cd -"
   ]
  },
  {
   "cell_type": "code",
   "execution_count": 104,
   "id": "31170c27-2d7d-4644-ab0d-590ac60c5986",
   "metadata": {
    "execution": {
     "iopub.execute_input": "2024-09-10T16:05:23.005091Z",
     "iopub.status.busy": "2024-09-10T16:05:23.004794Z",
     "iopub.status.idle": "2024-09-10T16:05:23.113745Z",
     "shell.execute_reply": "2024-09-10T16:05:23.112810Z"
    }
   },
   "outputs": [
    {
     "name": "stdout",
     "output_type": "stream",
     "text": [
      "En la rama main\n"
     ]
    },
    {
     "name": "stdout",
     "output_type": "stream",
     "text": [
      "Tu rama está actualizada con 'origin/main'.\n"
     ]
    },
    {
     "name": "stdout",
     "output_type": "stream",
     "text": [
      "\n"
     ]
    },
    {
     "name": "stdout",
     "output_type": "stream",
     "text": [
      "nada para hacer commit, el árbol de trabajo está limpio\n"
     ]
    }
   ],
   "source": [
     ""
   ]
  },
  {
   "cell_type": "markdown",
   "id": "6a09d553-3310-42c8-8210-d5d9cdd291d2",
   "metadata": {},
   "source": [
    "PREGUNTA: ¿Es posible saber ahora mismo que el repositorio remoto está por delante del actual?\n",
    "\n",
    "RESPUESTA:\n",
    "\n",
     ""
   ]
  },
  {
   "cell_type": "markdown",
   "id": "0b1d8ce2-d16a-4314-8710-292f6996bc91",
   "metadata": {},
   "source": [
    "PREGUNTA: \n",
    "\n",
    "RESPUESTA:\n",
    "\n",
     ""
   ]
  },
  {
   "cell_type": "code",
   "execution_count": 105,
   "id": "221b5e12-d64c-4dba-8688-fd418413b80e",
   "metadata": {
    "execution": {
     "iopub.execute_input": "2024-09-10T16:05:23.117746Z",
     "iopub.status.busy": "2024-09-10T16:05:23.117436Z",
     "iopub.status.idle": "2024-09-10T16:05:23.305042Z",
     "shell.execute_reply": "2024-09-10T16:05:23.304122Z"
    }
   },
   "outputs": [
    {
     "name": "stdout",
     "output_type": "stream",
     "text": [
      "remote: Enumerando objetos: 7, listo.\u001b[K\n"
     ]
    },
    {
     "name": "stdout",
     "output_type": "stream",
     "text": [
      "remote: Contando objetos:  14% (1/7)\u001b[K\r"
     ]
    },
    {
     "name": "stdout",
     "output_type": "stream",
     "text": [
      "remote: Contando objetos:  28% (2/7)\u001b[K\r"
     ]
    },
    {
     "name": "stdout",
     "output_type": "stream",
     "text": [
      "remote: Contando objetos:  42% (3/7)\u001b[K\r"
     ]
    },
    {
     "name": "stdout",
     "output_type": "stream",
     "text": [
      "remote: Contando objetos:  57% (4/7)\u001b[K\r"
     ]
    },
    {
     "name": "stdout",
     "output_type": "stream",
     "text": [
      "remote: Contando objetos:  71% (5/7)\u001b[K\r"
     ]
    },
    {
     "name": "stdout",
     "output_type": "stream",
     "text": [
      "remote: Contando objetos:  85% (6/7)\u001b[K\r"
     ]
    },
    {
     "name": "stdout",
     "output_type": "stream",
     "text": [
      "remote: Contando objetos: 100% (7/7)\u001b[K\r"
     ]
    },
    {
     "name": "stdout",
     "output_type": "stream",
     "text": [
      "remote: Contando objetos: 100% (7/7), listo.\u001b[K\n"
     ]
    },
    {
     "name": "stdout",
     "output_type": "stream",
     "text": [
      "remote: Comprimiendo objetos:  33% (1/3)\u001b[K\r"
     ]
    },
    {
     "name": "stdout",
     "output_type": "stream",
     "text": [
      "remote: Comprimiendo objetos:  66% (2/3)\u001b[K\r"
     ]
    },
    {
     "name": "stdout",
     "output_type": "stream",
     "text": [
      "remote: Comprimiendo objetos: 100% (3/3)\u001b[K\r"
     ]
    },
    {
     "name": "stdout",
     "output_type": "stream",
     "text": [
      "remote: Comprimiendo objetos: 100% (3/3), listo.\u001b[K\n"
     ]
    },
    {
     "name": "stdout",
     "output_type": "stream",
     "text": [
      "remote: Total 4 (delta 1), reusados 0 (delta 0), pack-reusados 0\u001b[K\n"
     ]
    },
    {
     "name": "stdout",
     "output_type": "stream",
     "text": [
      "Desempaquetando objetos:  25% (1/4)\r"
     ]
    },
    {
     "name": "stdout",
     "output_type": "stream",
     "text": [
      "Desempaquetando objetos:  50% (2/4)\r"
     ]
    },
    {
     "name": "stdout",
     "output_type": "stream",
     "text": [
      "Desempaquetando objetos:  75% (3/4)\r"
     ]
    },
    {
     "name": "stdout",
     "output_type": "stream",
     "text": [
      "Desempaquetando objetos: 100% (4/4)\r"
     ]
    },
    {
     "name": "stdout",
     "output_type": "stream",
     "text": [
      "Desempaquetando objetos: 100% (4/4), 405 bytes | 405.00 KiB/s, listo.\n"
     ]
    },
    {
     "name": "stdout",
     "output_type": "stream",
     "text": [
      "Desde /tmp/geografia-murciana\n"
     ]
    },
    {
     "name": "stdout",
     "output_type": "stream",
     "text": [
      "   67d07ca..9daa679  main       -> origin/main\n"
     ]
    },
    {
     "name": "stdout",
     "output_type": "stream",
     "text": [
      " * [nueva rama]      alicante   -> origin/alicante\n"
     ]
    },
    {
     "name": "stdout",
     "output_type": "stream",
     "text": [
      "Actualizando 67d07ca..9daa679\n"
     ]
    },
    {
     "name": "stdout",
     "output_type": "stream",
     "text": [
      "Fast-forward\n"
     ]
    },
    {
     "name": "stdout",
     "output_type": "stream",
     "text": [
      " murcia/municipios | 2 \u001b[32m++\u001b[m\n"
     ]
    },
    {
     "name": "stdout",
     "output_type": "stream",
     "text": [
      " 1 file changed, 2 insertions(+)\n"
     ]
    }
   ],
   "source": [
    "# Obtén los últimos cambios publicados en el repositorio remoto\n",
     ""
   ]
  },
  {
   "cell_type": "code",
   "execution_count": 106,
   "id": "815b8c14-9394-4ba0-891d-2c75afd9ea16",
   "metadata": {
    "execution": {
     "iopub.execute_input": "2024-09-10T16:05:23.308731Z",
     "iopub.status.busy": "2024-09-10T16:05:23.308442Z",
     "iopub.status.idle": "2024-09-10T16:05:23.417833Z",
     "shell.execute_reply": "2024-09-10T16:05:23.416999Z"
    }
   },
   "outputs": [
    {
     "name": "stdout",
     "output_type": "stream",
     "text": [
      "\u001b[33m9daa679\u001b[m\u001b[33m (\u001b[m\u001b[1;36mHEAD -> \u001b[m\u001b[1;32mmain\u001b[m\u001b[33m, \u001b[m\u001b[1;31morigin/main\u001b[m\u001b[33m, \u001b[m\u001b[1;31morigin/HEAD\u001b[m\u001b[33m)\u001b[m Añadiendo más municipios con la letra L\n"
     ]
    },
    {
     "name": "stdout",
     "output_type": "stream",
     "text": [
      "\u001b[33m67d07ca\u001b[m Eliminando fichero duplicado con sierras\n"
     ]
    },
    {
     "name": "stdout",
     "output_type": "stream",
     "text": [
      "\u001b[33me9c179f\u001b[m Añadiendo municipios, rios y sierras\n"
     ]
    },
    {
     "name": "stdout",
     "output_type": "stream",
     "text": [
      "\u001b[33m4ff748a\u001b[m\u001b[33m (\u001b[m\u001b[1;31morigin/alicante\u001b[m\u001b[33m)\u001b[m Añadiendo algunas sierras de la Región de Murcia\n"
     ]
    }
   ],
   "source": [
     ""
   ]
  },
  {
   "cell_type": "code",
   "execution_count": 107,
   "id": "5df5e7ec-7a9c-4916-b3dd-7a0b3a179986",
   "metadata": {
    "execution": {
     "iopub.execute_input": "2024-09-10T16:05:23.421378Z",
     "iopub.status.busy": "2024-09-10T16:05:23.421031Z",
     "iopub.status.idle": "2024-09-10T16:05:23.576765Z",
     "shell.execute_reply": "2024-09-10T16:05:23.575807Z"
    }
   },
   "outputs": [],
   "source": [
    "echo \"Sierra de Ricote\" >> murcia/sierras\n",
    "echo \"Río Taibilla\" >> murcia/rios"
   ]
  },
  {
   "cell_type": "code",
   "execution_count": 108,
   "id": "2219c956-c24a-4287-ac20-22d2dbead5cd",
   "metadata": {
    "execution": {
     "iopub.execute_input": "2024-09-10T16:05:23.580609Z",
     "iopub.status.busy": "2024-09-10T16:05:23.580068Z",
     "iopub.status.idle": "2024-09-10T16:05:23.690549Z",
     "shell.execute_reply": "2024-09-10T16:05:23.689750Z"
    }
   },
   "outputs": [
    {
     "name": "stdout",
     "output_type": "stream",
     "text": [
      "En la rama main\n"
     ]
    },
    {
     "name": "stdout",
     "output_type": "stream",
     "text": [
      "Tu rama está actualizada con 'origin/main'.\n"
     ]
    },
    {
     "name": "stdout",
     "output_type": "stream",
     "text": [
      "\n"
     ]
    },
    {
     "name": "stdout",
     "output_type": "stream",
     "text": [
      "Cambios no rastreados para el commit:\n"
     ]
    },
    {
     "name": "stdout",
     "output_type": "stream",
     "text": [
      "  (usa \"git add <archivo>...\" para actualizar lo que será confirmado)\n"
     ]
    },
    {
     "name": "stdout",
     "output_type": "stream",
     "text": [
      "  (usa \"git restore <archivo>...\" para descartar los cambios en el directorio de trabajo)\n"
     ]
    },
    {
     "name": "stdout",
     "output_type": "stream",
     "text": [
      "\t\u001b[31mmodificados:     murcia/rios\u001b[m\n"
     ]
    },
    {
     "name": "stdout",
     "output_type": "stream",
     "text": [
      "\t\u001b[31mmodificados:     murcia/sierras\u001b[m\n"
     ]
    },
    {
     "name": "stdout",
     "output_type": "stream",
     "text": [
      "\n"
     ]
    },
    {
     "name": "stdout",
     "output_type": "stream",
     "text": [
      "sin cambios agregados al commit (usa \"git add\" y/o \"git commit -a\")\n"
     ]
    }
   ],
   "source": [
     ""
   ]
  },
  {
   "cell_type": "code",
   "execution_count": 109,
   "id": "910f7432-2e03-4dab-ba64-848776e9b401",
   "metadata": {
    "execution": {
     "iopub.execute_input": "2024-09-10T16:05:23.694512Z",
     "iopub.status.busy": "2024-09-10T16:05:23.693900Z",
     "iopub.status.idle": "2024-09-10T16:05:24.172300Z",
     "shell.execute_reply": "2024-09-10T16:05:24.171434Z"
    }
   },
   "outputs": [
    {
     "name": "stdout",
     "output_type": "stream",
     "text": [
      "Cambiado a rama 'main'\n"
     ]
    },
    {
     "name": "stdout",
     "output_type": "stream",
     "text": [
      "[main abed9be] Añadiendo más municipios con la letra M\n"
     ]
    },
    {
     "name": "stdout",
     "output_type": "stream",
     "text": [
      " 1 file changed, 2 insertions(+)\n"
     ]
    },
    {
     "name": "stdout",
     "output_type": "stream",
     "text": [
      "Cambiado a rama 'alicante'\n"
     ]
    },
    {
     "name": "stdout",
     "output_type": "stream",
     "text": [
      "/home/jupyter-rtitos-um-es/p2ej/geografia-murciana\n"
     ]
    }
   ],
   "source": [
    "# Ejecuta la siguiente celda antes de continuar con el resto del ejercicio\n",
    "cd $REMOTE \n",
    "git switch main\n",
    "echo \"Mazarrón\" >> murcia/municipios\n",
    "echo \"Moratalla\" >> murcia/municipios\n",
    "git commit . -m \"Añadiendo más municipios con la letra M\"\n",
    "git switch alicante\n",
    "cd -"
   ]
  },
  {
   "cell_type": "markdown",
   "id": "4d80247f-6d26-41a1-99b6-6a4b5e62077c",
   "metadata": {},
   "source": [
    "Una manera sencilla de saber si hay cambios en el remoto es ejecutar `git push`, para ver si tu copia local está actualizada:"
   ]
  },
  {
   "cell_type": "code",
   "execution_count": 110,
   "id": "5b5d3346-05c4-4d5f-a596-b09ff838f227",
   "metadata": {
    "execution": {
     "iopub.execute_input": "2024-09-10T16:05:24.176356Z",
     "iopub.status.busy": "2024-09-10T16:05:24.175631Z",
     "iopub.status.idle": "2024-09-10T16:05:24.289358Z",
     "shell.execute_reply": "2024-09-10T16:05:24.288438Z"
    }
   },
   "outputs": [
    {
     "name": "stdout",
     "output_type": "stream",
     "text": [
      "To /tmp/geografia-murciana\n"
     ]
    },
    {
     "name": "stdout",
     "output_type": "stream",
     "text": [
      " \u001b[31m! [rejected]       \u001b[m main -> main (fetch first)\n"
     ]
    },
    {
     "name": "stdout",
     "output_type": "stream",
     "text": [
      "\u001b[31merror: falló el empuje de algunas referencias a '/tmp/geografia-murciana'\n"
     ]
    },
    {
     "name": "stdout",
     "output_type": "stream",
     "text": [
      "\u001b[m\u001b[33mayuda: Actualizaciones fueron rechazadas porque el remoto contiene trabajo que\u001b[m\n"
     ]
    },
    {
     "name": "stdout",
     "output_type": "stream",
     "text": [
      "\u001b[33mayuda: no existe localmente. Esto es causado usualmente por otro repositorio\u001b[m\n"
     ]
    },
    {
     "name": "stdout",
     "output_type": "stream",
     "text": [
      "\u001b[33mayuda: empujando a la misma ref. Quizás quieras integrar primero los cambios\u001b[m\n"
     ]
    },
    {
     "name": "stdout",
     "output_type": "stream",
     "text": [
      "\u001b[33mayuda: remotos (ej. 'git pull ...') antes de volver a hacer push.\u001b[m\n"
     ]
    },
    {
     "name": "stdout",
     "output_type": "stream",
     "text": [
      "\u001b[33mayuda: Mira 'Notes about fast-forwards' en 'git push --help' para detalles.\u001b[m\n"
     ]
    },
    {
     "ename": "",
     "evalue": "1",
     "output_type": "error",
     "traceback": []
    }
   ],
   "source": [
     ""
   ]
  },
  {
   "cell_type": "markdown",
   "id": "f520b017-c228-4082-b476-867e911923e2",
   "metadata": {},
   "source": [
    "PREGUNTA: ¿Por qué falla y qué te indica la salida del comando anterior? \n",
    "\n",
    "RESPUESTA:\n",
    "\n",
     ""
   ]
  },
  {
   "cell_type": "code",
   "execution_count": 111,
   "id": "a8fc17f4-5577-425a-a982-333197eea9f6",
   "metadata": {
    "execution": {
     "iopub.execute_input": "2024-09-10T16:05:24.292896Z",
     "iopub.status.busy": "2024-09-10T16:05:24.292634Z",
     "iopub.status.idle": "2024-09-10T16:05:24.451208Z",
     "shell.execute_reply": "2024-09-10T16:05:24.450315Z"
    }
   },
   "outputs": [
    {
     "name": "stdout",
     "output_type": "stream",
     "text": [
      "LISTA DE MUNICIPIOS DE LA REGIÓN DE MURCIA\n"
     ]
    },
    {
     "name": "stdout",
     "output_type": "stream",
     "text": [
      "Abanilla\n"
     ]
    },
    {
     "name": "stdout",
     "output_type": "stream",
     "text": [
      "Alcantarilla\n"
     ]
    },
    {
     "name": "stdout",
     "output_type": "stream",
     "text": [
      "Alhama de Murcia\n"
     ]
    },
    {
     "name": "stdout",
     "output_type": "stream",
     "text": [
      "Archena\n"
     ]
    },
    {
     "name": "stdout",
     "output_type": "stream",
     "text": [
      "Blanca\n"
     ]
    },
    {
     "name": "stdout",
     "output_type": "stream",
     "text": [
      "Fortuna\n"
     ]
    },
    {
     "name": "stdout",
     "output_type": "stream",
     "text": [
      "Librilla\n"
     ]
    },
    {
     "name": "stdout",
     "output_type": "stream",
     "text": [
      "Lorca\n"
     ]
    }
   ],
   "source": [
    "# Muestra el contenido del fichero de municipios\n",
     ""
   ]
  },
  {
   "cell_type": "code",
   "execution_count": 112,
   "id": "af0e7017-fd06-4b2f-9e2a-38cc4d5f2f93",
   "metadata": {
    "execution": {
     "iopub.execute_input": "2024-09-10T16:05:24.455237Z",
     "iopub.status.busy": "2024-09-10T16:05:24.454593Z",
     "iopub.status.idle": "2024-09-10T16:05:24.643598Z",
     "shell.execute_reply": "2024-09-10T16:05:24.642554Z"
    }
   },
   "outputs": [
    {
     "name": "stdout",
     "output_type": "stream",
     "text": [
      "remote: Enumerando objetos: 7, listo.\u001b[K\n"
     ]
    },
    {
     "name": "stdout",
     "output_type": "stream",
     "text": [
      "remote: Contando objetos:  14% (1/7)\u001b[K\r"
     ]
    },
    {
     "name": "stdout",
     "output_type": "stream",
     "text": [
      "remote: Contando objetos:  28% (2/7)\u001b[K\r"
     ]
    },
    {
     "name": "stdout",
     "output_type": "stream",
     "text": [
      "remote: Contando objetos:  42% (3/7)\u001b[K\r"
     ]
    },
    {
     "name": "stdout",
     "output_type": "stream",
     "text": [
      "remote: Contando objetos:  57% (4/7)\u001b[K\r"
     ]
    },
    {
     "name": "stdout",
     "output_type": "stream",
     "text": [
      "remote: Contando objetos:  71% (5/7)\u001b[K\r"
     ]
    },
    {
     "name": "stdout",
     "output_type": "stream",
     "text": [
      "remote: Contando objetos:  85% (6/7)\u001b[K\r"
     ]
    },
    {
     "name": "stdout",
     "output_type": "stream",
     "text": [
      "remote: Contando objetos: 100% (7/7)\u001b[K\r"
     ]
    },
    {
     "name": "stdout",
     "output_type": "stream",
     "text": [
      "remote: Contando objetos: 100% (7/7), listo.\u001b[K\n"
     ]
    },
    {
     "name": "stdout",
     "output_type": "stream",
     "text": [
      "remote: Comprimiendo objetos:  33% (1/3)\u001b[K\r"
     ]
    },
    {
     "name": "stdout",
     "output_type": "stream",
     "text": [
      "remote: Comprimiendo objetos:  66% (2/3)\u001b[K\r"
     ]
    },
    {
     "name": "stdout",
     "output_type": "stream",
     "text": [
      "remote: Comprimiendo objetos: 100% (3/3)\u001b[K\r"
     ]
    },
    {
     "name": "stdout",
     "output_type": "stream",
     "text": [
      "remote: Comprimiendo objetos: 100% (3/3), listo.\u001b[K\n"
     ]
    },
    {
     "name": "stdout",
     "output_type": "stream",
     "text": [
      "remote: Total 4 (delta 1), reusados 0 (delta 0), pack-reusados 0\u001b[K\n"
     ]
    },
    {
     "name": "stdout",
     "output_type": "stream",
     "text": [
      "Desempaquetando objetos:  25% (1/4)\r"
     ]
    },
    {
     "name": "stdout",
     "output_type": "stream",
     "text": [
      "Desempaquetando objetos:  50% (2/4)\r"
     ]
    },
    {
     "name": "stdout",
     "output_type": "stream",
     "text": [
      "Desempaquetando objetos:  75% (3/4)\r"
     ]
    },
    {
     "name": "stdout",
     "output_type": "stream",
     "text": [
      "Desempaquetando objetos: 100% (4/4)\r"
     ]
    },
    {
     "name": "stdout",
     "output_type": "stream",
     "text": [
      "Desempaquetando objetos: 100% (4/4), 411 bytes | 411.00 KiB/s, listo.\n"
     ]
    },
    {
     "name": "stdout",
     "output_type": "stream",
     "text": [
      "Desde /tmp/geografia-murciana\n"
     ]
    },
    {
     "name": "stdout",
     "output_type": "stream",
     "text": [
      "   9daa679..abed9be  main       -> origin/main\n"
     ]
    },
    {
     "name": "stdout",
     "output_type": "stream",
     "text": [
      "Actualizando 9daa679..abed9be\n"
     ]
    },
    {
     "name": "stdout",
     "output_type": "stream",
     "text": [
      "Fast-forward\n"
     ]
    },
    {
     "name": "stdout",
     "output_type": "stream",
     "text": [
      " murcia/municipios | 2 \u001b[32m++\u001b[m\n"
     ]
    },
    {
     "name": "stdout",
     "output_type": "stream",
     "text": [
      " 1 file changed, 2 insertions(+)\n"
     ]
    }
   ],
   "source": [
    "# Obtén los últimos cambios en el repositorio remoto\n",
     ""
   ]
  },
  {
   "cell_type": "code",
   "execution_count": 113,
   "id": "9a2858db-45dd-492b-abd0-bf1a2d716971",
   "metadata": {
    "execution": {
     "iopub.execute_input": "2024-09-10T16:05:24.647785Z",
     "iopub.status.busy": "2024-09-10T16:05:24.647061Z",
     "iopub.status.idle": "2024-09-10T16:05:24.757740Z",
     "shell.execute_reply": "2024-09-10T16:05:24.756844Z"
    }
   },
   "outputs": [
    {
     "name": "stdout",
     "output_type": "stream",
     "text": [
      "En la rama main\n"
     ]
    },
    {
     "name": "stdout",
     "output_type": "stream",
     "text": [
      "Tu rama está actualizada con 'origin/main'.\n"
     ]
    },
    {
     "name": "stdout",
     "output_type": "stream",
     "text": [
      "\n"
     ]
    },
    {
     "name": "stdout",
     "output_type": "stream",
     "text": [
      "Cambios no rastreados para el commit:\n"
     ]
    },
    {
     "name": "stdout",
     "output_type": "stream",
     "text": [
      "  (usa \"git add <archivo>...\" para actualizar lo que será confirmado)\n"
     ]
    },
    {
     "name": "stdout",
     "output_type": "stream",
     "text": [
      "  (usa \"git restore <archivo>...\" para descartar los cambios en el directorio de trabajo)\n"
     ]
    },
    {
     "name": "stdout",
     "output_type": "stream",
     "text": [
      "\t\u001b[31mmodificados:     murcia/rios\u001b[m\n"
     ]
    },
    {
     "name": "stdout",
     "output_type": "stream",
     "text": [
      "\t\u001b[31mmodificados:     murcia/sierras\u001b[m\n"
     ]
    },
    {
     "name": "stdout",
     "output_type": "stream",
     "text": [
      "\n"
     ]
    },
    {
     "name": "stdout",
     "output_type": "stream",
     "text": [
      "sin cambios agregados al commit (usa \"git add\" y/o \"git commit -a\")\n"
     ]
    }
   ],
   "source": [
     ""
   ]
  },
  {
   "cell_type": "markdown",
   "id": "49f88761-efc6-4040-b37f-802140a2c5be",
   "metadata": {},
   "source": [
    "PREGUNTA: ¿Por qué no se han visto afectados por el \"pull\" los ficheros modificados de tu árbol de trabajo?\n",
    "\n",
    "RESPUESTA:\n",
    "\n",
     ""
   ]
  },
  {
   "cell_type": "code",
   "execution_count": 114,
   "id": "5b1e558d-5438-4232-aa00-fcbcb35448f6",
   "metadata": {
    "execution": {
     "iopub.execute_input": "2024-09-10T16:05:24.761437Z",
     "iopub.status.busy": "2024-09-10T16:05:24.761109Z",
     "iopub.status.idle": "2024-09-10T16:05:24.919732Z",
     "shell.execute_reply": "2024-09-10T16:05:24.918956Z"
    }
   },
   "outputs": [
    {
     "name": "stdout",
     "output_type": "stream",
     "text": [
      "LISTA DE MUNICIPIOS DE LA REGIÓN DE MURCIA\n"
     ]
    },
    {
     "name": "stdout",
     "output_type": "stream",
     "text": [
      "Abanilla\n"
     ]
    },
    {
     "name": "stdout",
     "output_type": "stream",
     "text": [
      "Alcantarilla\n"
     ]
    },
    {
     "name": "stdout",
     "output_type": "stream",
     "text": [
      "Alhama de Murcia\n"
     ]
    },
    {
     "name": "stdout",
     "output_type": "stream",
     "text": [
      "Archena\n"
     ]
    },
    {
     "name": "stdout",
     "output_type": "stream",
     "text": [
      "Blanca\n"
     ]
    },
    {
     "name": "stdout",
     "output_type": "stream",
     "text": [
      "Fortuna\n"
     ]
    },
    {
     "name": "stdout",
     "output_type": "stream",
     "text": [
      "Librilla\n"
     ]
    },
    {
     "name": "stdout",
     "output_type": "stream",
     "text": [
      "Lorca\n"
     ]
    },
    {
     "name": "stdout",
     "output_type": "stream",
     "text": [
      "Mazarrón\n"
     ]
    },
    {
     "name": "stdout",
     "output_type": "stream",
     "text": [
      "Moratalla\n"
     ]
    }
   ],
   "source": [
    "# Muestra el contenido del fichero de municipios\n",
     ""
   ]
  },
  {
   "cell_type": "code",
   "execution_count": 115,
   "id": "23eabbfa-567b-49ff-9510-ddea35b57da8",
   "metadata": {
    "execution": {
     "iopub.execute_input": "2024-09-10T16:05:24.923782Z",
     "iopub.status.busy": "2024-09-10T16:05:24.923062Z",
     "iopub.status.idle": "2024-09-10T16:05:25.083423Z",
     "shell.execute_reply": "2024-09-10T16:05:25.082699Z"
    }
   },
   "outputs": [
    {
     "name": "stdout",
     "output_type": "stream",
     "text": [
      "\u001b[1mdiff --git a/murcia/rios b/murcia/rios\u001b[m\n"
     ]
    },
    {
     "name": "stdout",
     "output_type": "stream",
     "text": [
      "\u001b[1mindex b8d48de..8fb1be0 100644\u001b[m\n"
     ]
    },
    {
     "name": "stdout",
     "output_type": "stream",
     "text": [
      "\u001b[1m--- a/murcia/rios\u001b[m\n"
     ]
    },
    {
     "name": "stdout",
     "output_type": "stream",
     "text": [
      "\u001b[1m+++ b/murcia/rios\u001b[m\n"
     ]
    },
    {
     "name": "stdout",
     "output_type": "stream",
     "text": [
      "\u001b[36m@@ -2,3 +2,4 @@\u001b[m \u001b[mRío Benamor\u001b[m\n"
     ]
    },
    {
     "name": "stdout",
     "output_type": "stream",
     "text": [
      " Río Luchena\u001b[m\n"
     ]
    },
    {
     "name": "stdout",
     "output_type": "stream",
     "text": [
      " Río Mula\u001b[m\n"
     ]
    },
    {
     "name": "stdout",
     "output_type": "stream",
     "text": [
      " Río Quípar\u001b[m\n"
     ]
    },
    {
     "name": "stdout",
     "output_type": "stream",
     "text": [
      "\u001b[32m+\u001b[m\u001b[32mRío Taibilla\u001b[m\n"
     ]
    }
   ],
   "source": [
    "# Muestra las diferencias entre el fichero de ríos en tu árbol de trabajo y el repositorio\n",
     ""
   ]
  },
  {
   "cell_type": "code",
   "execution_count": 116,
   "id": "d661d526-b9a8-4604-8864-95fbd42f5ce7",
   "metadata": {
    "execution": {
     "iopub.execute_input": "2024-09-10T16:05:25.087083Z",
     "iopub.status.busy": "2024-09-10T16:05:25.086621Z",
     "iopub.status.idle": "2024-09-10T16:05:25.248698Z",
     "shell.execute_reply": "2024-09-10T16:05:25.247822Z"
    }
   },
   "outputs": [
    {
     "name": "stdout",
     "output_type": "stream",
     "text": [
      "Everything up-to-date\n"
     ]
    }
   ],
   "source": [
    "# Trata de enviar tus cambios en el fichero de ríos al repositorio\n",
     ""
   ]
  },
  {
   "cell_type": "markdown",
   "id": "675696c6-2a89-4452-b1aa-5137904af810",
   "metadata": {},
   "source": [
    "PREGUNTA: ¿Se han enviado los cambio que has en el fichero de ríos y sierras al repositorio remoto?\n",
    "\n",
    "RESPUESTA:\n",
    "\n",
     ""
   ]
  },
  {
   "cell_type": "code",
   "execution_count": 117,
   "id": "dd629cae-272e-451f-baf2-f0cf3a7e9083",
   "metadata": {
    "execution": {
     "iopub.execute_input": "2024-09-10T16:05:25.252793Z",
     "iopub.status.busy": "2024-09-10T16:05:25.252102Z",
     "iopub.status.idle": "2024-09-10T16:05:25.462244Z",
     "shell.execute_reply": "2024-09-10T16:05:25.461372Z"
    }
   },
   "outputs": [],
   "source": [
    "# Haz lo necesario para publicar al remoto los cambios que tienes pendiente\n",
    "# PASO 1 (añadir al índice)\n",
     ""
   ]
  },
  {
   "cell_type": "code",
   "execution_count": 118,
   "id": "d62c9c36-573c-4026-a165-dfb3e89e6e6c",
   "metadata": {
    "execution": {
     "iopub.execute_input": "2024-09-10T16:05:25.465914Z",
     "iopub.status.busy": "2024-09-10T16:05:25.465628Z",
     "iopub.status.idle": "2024-09-10T16:05:25.628950Z",
     "shell.execute_reply": "2024-09-10T16:05:25.627968Z"
    }
   },
   "outputs": [
    {
     "name": "stdout",
     "output_type": "stream",
     "text": [
      "[main c4b73ea] Añadiendo algunos ríos y sierras\n"
     ]
    },
    {
     "name": "stdout",
     "output_type": "stream",
     "text": [
      " 2 files changed, 2 insertions(+)\n"
     ]
    }
   ],
   "source": [
    "# PASO 2 (confirmar)\n",
     ""
   ]
  },
  {
   "cell_type": "code",
   "execution_count": 119,
   "id": "82241a31-5d6e-48b3-aa00-fb2ab129df75",
   "metadata": {
    "execution": {
     "iopub.execute_input": "2024-09-10T16:05:25.632590Z",
     "iopub.status.busy": "2024-09-10T16:05:25.632300Z",
     "iopub.status.idle": "2024-09-10T16:05:25.797552Z",
     "shell.execute_reply": "2024-09-10T16:05:25.796586Z"
    }
   },
   "outputs": [
    {
     "name": "stdout",
     "output_type": "stream",
     "text": [
      "\u001b[33mcommit c4b73eae882ac2cdb0307cd51ba12a6a0a239a3a\u001b[m\u001b[33m (\u001b[m\u001b[1;36mHEAD -> \u001b[m\u001b[1;32mmain\u001b[m\u001b[33m)\u001b[m\n"
     ]
    },
    {
     "name": "stdout",
     "output_type": "stream",
     "text": [
      "Author: TITOS GIL, JOSE RUBEN <rtitos@um.es>\n"
     ]
    },
    {
     "name": "stdout",
     "output_type": "stream",
     "text": [
      "Date:   Tue Sep 10 16:05:25 2024 +0000\n"
     ]
    },
    {
     "name": "stdout",
     "output_type": "stream",
     "text": [
      "\n"
     ]
    },
    {
     "name": "stdout",
     "output_type": "stream",
     "text": [
      "    Añadiendo algunos ríos y sierras\n"
     ]
    },
    {
     "name": "stdout",
     "output_type": "stream",
     "text": [
      "\n"
     ]
    },
    {
     "name": "stdout",
     "output_type": "stream",
     "text": [
      "\u001b[33mcommit abed9be86d1cdf4aefea8e050a00280bc1ffbfa3\u001b[m\u001b[33m (\u001b[m\u001b[1;31morigin/main\u001b[m\u001b[33m, \u001b[m\u001b[1;31morigin/HEAD\u001b[m\u001b[33m)\u001b[m\n"
     ]
    },
    {
     "name": "stdout",
     "output_type": "stream",
     "text": [
      "Author: TITOS GIL, JOSE RUBEN <rtitos@um.es>\n"
     ]
    },
    {
     "name": "stdout",
     "output_type": "stream",
     "text": [
      "Date:   Tue Sep 10 16:05:24 2024 +0000\n"
     ]
    },
    {
     "name": "stdout",
     "output_type": "stream",
     "text": [
      "\n"
     ]
    },
    {
     "name": "stdout",
     "output_type": "stream",
     "text": [
      "    Añadiendo más municipios con la letra M\n"
     ]
    },
    {
     "name": "stdout",
     "output_type": "stream",
     "text": [
      "\n"
     ]
    },
    {
     "name": "stdout",
     "output_type": "stream",
     "text": [
      "\u001b[33mcommit 9daa679cb597f90e38d77df0b4b42a9c434be339\u001b[m\n"
     ]
    },
    {
     "name": "stdout",
     "output_type": "stream",
     "text": [
      "Author: TITOS GIL, JOSE RUBEN <rtitos@um.es>\n"
     ]
    },
    {
     "name": "stdout",
     "output_type": "stream",
     "text": [
      "Date:   Tue Sep 10 16:05:22 2024 +0000\n"
     ]
    },
    {
     "name": "stdout",
     "output_type": "stream",
     "text": [
      "\n"
     ]
    },
    {
     "name": "stdout",
     "output_type": "stream",
     "text": [
      "    Añadiendo más municipios con la letra L\n"
     ]
    },
    {
     "name": "stdout",
     "output_type": "stream",
     "text": [
      "\n"
     ]
    },
    {
     "name": "stdout",
     "output_type": "stream",
     "text": [
      "\u001b[33mcommit 67d07cae60350763ec9b30662b2cfc1351fe0f83\u001b[m\n"
     ]
    },
    {
     "name": "stdout",
     "output_type": "stream",
     "text": [
      "Author: TITOS GIL, JOSE RUBEN <rtitos@um.es>\n"
     ]
    },
    {
     "name": "stdout",
     "output_type": "stream",
     "text": [
      "Date:   Tue Sep 10 16:05:21 2024 +0000\n"
     ]
    },
    {
     "name": "stdout",
     "output_type": "stream",
     "text": [
      "\n"
     ]
    },
    {
     "name": "stdout",
     "output_type": "stream",
     "text": [
      "    Eliminando fichero duplicado con sierras\n"
     ]
    },
    {
     "name": "stdout",
     "output_type": "stream",
     "text": [
      "\n"
     ]
    },
    {
     "name": "stdout",
     "output_type": "stream",
     "text": [
      "\u001b[33mcommit e9c179f535244b3e901dd3bfb8a71c9b92a9fcb3\u001b[m\n"
     ]
    },
    {
     "name": "stdout",
     "output_type": "stream",
     "text": [
      "Author: TITOS GIL, JOSE RUBEN <rtitos@um.es>\n"
     ]
    },
    {
     "name": "stdout",
     "output_type": "stream",
     "text": [
      "Date:   Tue Sep 10 16:05:20 2024 +0000\n"
     ]
    },
    {
     "name": "stdout",
     "output_type": "stream",
     "text": [
      "\n"
     ]
    },
    {
     "name": "stdout",
     "output_type": "stream",
     "text": [
      "    Añadiendo municipios, rios y sierras\n"
     ]
    },
    {
     "name": "stdout",
     "output_type": "stream",
     "text": [
      "\n"
     ]
    },
    {
     "name": "stdout",
     "output_type": "stream",
     "text": [
      "\u001b[33mcommit 4ff748a9e3032201c55b17688152caa8c8231ee8\u001b[m\u001b[33m (\u001b[m\u001b[1;31morigin/alicante\u001b[m\u001b[33m)\u001b[m\n"
     ]
    },
    {
     "name": "stdout",
     "output_type": "stream",
     "text": [
      "Author: TITOS GIL, JOSE RUBEN <rtitos@um.es>\n"
     ]
    },
    {
     "name": "stdout",
     "output_type": "stream",
     "text": [
      "Date:   Tue Sep 10 16:05:17 2024 +0000\n"
     ]
    },
    {
     "name": "stdout",
     "output_type": "stream",
     "text": [
      "\n"
     ]
    },
    {
     "name": "stdout",
     "output_type": "stream",
     "text": [
      "    Añadiendo algunas sierras de la Región de Murcia\n"
     ]
    }
   ],
   "source": [
    "# PASO 3 (comprobar)\n",
     ""
   ]
  },
  {
   "cell_type": "code",
   "execution_count": 120,
   "id": "c9056d2f-192f-49ad-9c52-9d9c6acb3f36",
   "metadata": {
    "execution": {
     "iopub.execute_input": "2024-09-10T16:05:25.801551Z",
     "iopub.status.busy": "2024-09-10T16:05:25.800800Z",
     "iopub.status.idle": "2024-09-10T16:05:25.980514Z",
     "shell.execute_reply": "2024-09-10T16:05:25.979521Z"
    }
   },
   "outputs": [
    {
     "name": "stdout",
     "output_type": "stream",
     "text": [
      "Enumerando objetos: 9, listo.\n"
     ]
    },
    {
     "name": "stdout",
     "output_type": "stream",
     "text": [
      "Contando objetos:  11% (1/9)\r"
     ]
    },
    {
     "name": "stdout",
     "output_type": "stream",
     "text": [
      "Contando objetos:  22% (2/9)\r"
     ]
    },
    {
     "name": "stdout",
     "output_type": "stream",
     "text": [
      "Contando objetos:  33% (3/9)\r"
     ]
    },
    {
     "name": "stdout",
     "output_type": "stream",
     "text": [
      "Contando objetos:  44% (4/9)\r"
     ]
    },
    {
     "name": "stdout",
     "output_type": "stream",
     "text": [
      "Contando objetos:  55% (5/9)\r"
     ]
    },
    {
     "name": "stdout",
     "output_type": "stream",
     "text": [
      "Contando objetos:  66% (6/9)\r"
     ]
    },
    {
     "name": "stdout",
     "output_type": "stream",
     "text": [
      "Contando objetos:  77% (7/9)\r"
     ]
    },
    {
     "name": "stdout",
     "output_type": "stream",
     "text": [
      "Contando objetos:  88% (8/9)\r"
     ]
    },
    {
     "name": "stdout",
     "output_type": "stream",
     "text": [
      "Contando objetos: 100% (9/9)\r"
     ]
    },
    {
     "name": "stdout",
     "output_type": "stream",
     "text": [
      "Contando objetos: 100% (9/9), listo.\n"
     ]
    },
    {
     "name": "stdout",
     "output_type": "stream",
     "text": [
      "Compresión delta usando hasta 4 hilos\n"
     ]
    },
    {
     "name": "stdout",
     "output_type": "stream",
     "text": [
      "Comprimiendo objetos:  25% (1/4)\r"
     ]
    },
    {
     "name": "stdout",
     "output_type": "stream",
     "text": [
      "Comprimiendo objetos:  50% (2/4)\r"
     ]
    },
    {
     "name": "stdout",
     "output_type": "stream",
     "text": [
      "Comprimiendo objetos:  75% (3/4)\r"
     ]
    },
    {
     "name": "stdout",
     "output_type": "stream",
     "text": [
      "Comprimiendo objetos: 100% (4/4)\r"
     ]
    },
    {
     "name": "stdout",
     "output_type": "stream",
     "text": [
      "Comprimiendo objetos: 100% (4/4), listo.\n"
     ]
    },
    {
     "name": "stdout",
     "output_type": "stream",
     "text": [
      "Escribiendo objetos:  20% (1/5)\r"
     ]
    },
    {
     "name": "stdout",
     "output_type": "stream",
     "text": [
      "Escribiendo objetos:  40% (2/5)\r"
     ]
    },
    {
     "name": "stdout",
     "output_type": "stream",
     "text": [
      "Escribiendo objetos:  60% (3/5)\r"
     ]
    },
    {
     "name": "stdout",
     "output_type": "stream",
     "text": [
      "Escribiendo objetos:  80% (4/5)\r"
     ]
    },
    {
     "name": "stdout",
     "output_type": "stream",
     "text": [
      "Escribiendo objetos: 100% (5/5)\r"
     ]
    },
    {
     "name": "stdout",
     "output_type": "stream",
     "text": [
      "Escribiendo objetos: 100% (5/5), 478 bytes | 478.00 KiB/s, listo.\n"
     ]
    },
    {
     "name": "stdout",
     "output_type": "stream",
     "text": [
      "Total 5 (delta 1), reusados 0 (delta 0), pack-reusados 0\n"
     ]
    },
    {
     "name": "stdout",
     "output_type": "stream",
     "text": [
      "To /tmp/geografia-murciana\n"
     ]
    },
    {
     "name": "stdout",
     "output_type": "stream",
     "text": [
      "   abed9be..c4b73ea  main -> main\n"
     ]
    }
   ],
   "source": [
    "# PASO 4 (publicar)\n",
     ""
   ]
  },
  {
   "cell_type": "code",
   "execution_count": 121,
   "id": "b5f73c39-9ad0-4f3f-9381-fba24a55adaf",
   "metadata": {
    "execution": {
     "iopub.execute_input": "2024-09-10T16:05:25.984401Z",
     "iopub.status.busy": "2024-09-10T16:05:25.983717Z",
     "iopub.status.idle": "2024-09-10T16:05:26.092980Z",
     "shell.execute_reply": "2024-09-10T16:05:26.092236Z"
    }
   },
   "outputs": [],
   "source": [
    "rm -rf ~/p2ej"
   ]
  },
  {
   "cell_type": "markdown",
   "id": "0bbf22c8-18b7-4d90-9781-8c46a8b72021",
   "metadata": {},
   "source": [
    "**FIN DEL CUADERNO** (*no borres esta celda*)\n",
    "\n",
    "@@@@ practica2-introgit-ejercicios.ipynb @@@@"
   ]
  }
 ],
 "metadata": {
  "kernelspec": {
   "display_name": "Bash",
   "language": "bash",
   "name": "bash"
  },
  "language_info": {
   "codemirror_mode": "shell",
   "file_extension": ".sh",
   "mimetype": "text/x-sh",
   "name": "bash"
  },
  "toc": {
   "base_numbering": "1",
   "nav_menu": {},
   "number_sections": true,
   "sideBar": true,
   "skip_h1_title": true,
   "title_cell": "Table of Contents",
   "title_sidebar": "Contents",
   "toc_cell": false,
   "toc_position": {
    "height": "calc(100% - 180px)",
    "left": "10px",
    "top": "150px",
    "width": "296px"
   },
   "toc_section_display": true,
   "toc_window_display": true
  }
 },
 "nbformat": 4,
 "nbformat_minor": 5
}

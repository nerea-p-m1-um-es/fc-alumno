{
 "cells": [
  {
   "cell_type": "markdown",
   "id": "53d40637",
   "metadata": {},
   "source": [
    "# Ejercicios - Práctica 2: Control de versiones con Git"
   ]
  },
  {
   "cell_type": "markdown",
   "id": "267d7c1c",
   "metadata": {},
   "source": [
    "## Flujo de trabajo con un repositorio local"
   ]
  },
  {
   "cell_type": "code",
   "execution_count": null,
   "id": "96c574d0",
   "metadata": {},
   "outputs": [],
   "source": [
    "# Sitúate en tu directorio de inicio de usuario\n",
    "cd"
   ]
  },
  {
   "cell_type": "code",
   "execution_count": null,
   "id": "cc6a4a29-6cb6-485c-bebe-32754c560594",
   "metadata": {},
   "outputs": [],
   "source": [
    "# Borra recursivamente el directorio test-repo\n",
    "rm -rf test-repo"
   ]
  },
  {
   "cell_type": "code",
   "execution_count": null,
   "id": "91da112d",
   "metadata": {},
   "outputs": [],
   "source": [
    "# Crea un directorio llamado \"test-repo\"\n"
   ]
  },
  {
   "cell_type": "code",
   "execution_count": null,
   "id": "352abf5b",
   "metadata": {},
   "outputs": [],
   "source": [
    "# Accede al directorio que acabas de crear\n"
   ]
  },
  {
   "cell_type": "code",
   "execution_count": null,
   "id": "2cb58bc5",
   "metadata": {},
   "outputs": [],
   "source": [
    "# Crea un repositorio vacío\n"
   ]
  },
  {
   "cell_type": "code",
   "execution_count": null,
   "id": "8bce43cb",
   "metadata": {},
   "outputs": [],
   "source": [
    "# Muestra el contenido del directorio actual.\n",
    "# NOTA:: Usa la opción adecuada para mostrar **TODOS** \n",
    "# los ficheros y directorios (incluyendo los ocultos)\n"
   ]
  },
  {
   "cell_type": "markdown",
   "id": "c1c769a9-594c-490b-ae7f-70bca3daa281",
   "metadata": {},
   "source": [
    "Deberías observar en la salida del comando anterior que tras ejecutar `git init` se ha creado un directorio oculto llamado `.git`."
   ]
  },
  {
   "cell_type": "code",
   "execution_count": null,
   "id": "34019ca2",
   "metadata": {},
   "outputs": [],
   "source": [
    "# Muestra el contenido del subdirectorio \".git\"\n"
   ]
  },
  {
   "cell_type": "code",
   "execution_count": null,
   "id": "a49e7a8c",
   "metadata": {},
   "outputs": [],
   "source": [
    "# Crea un fichero vacío llamado AUTHORS\n"
   ]
  },
  {
   "cell_type": "code",
   "execution_count": null,
   "id": "542bbc8b",
   "metadata": {},
   "outputs": [],
   "source": [
    "# Muestra el estado del árbol de trabajo y\n",
    "# observa en qué estado está el fichero AUTHORS\n"
   ]
  },
  {
   "cell_type": "code",
   "execution_count": null,
   "id": "28c95973",
   "metadata": {},
   "outputs": [],
   "source": [
    "# Crea un directorio llamado practica2\n"
   ]
  },
  {
   "cell_type": "code",
   "execution_count": null,
   "id": "6476d087",
   "metadata": {},
   "outputs": [],
   "source": [
    "# Crea otro fichero vacío llamado \"lista_comandos.txt\" \n",
    "# en el directorio `practica2`\n"
   ]
  },
  {
   "cell_type": "code",
   "execution_count": null,
   "id": "04b4e4f6",
   "metadata": {},
   "outputs": [],
   "source": [
    "# Muestra el estado del árbol de trabajo y\n",
    "# observa en qué estado está el fichero AUTHORS\n"
   ]
  },
  {
   "cell_type": "code",
   "execution_count": null,
   "id": "53cc5cb2",
   "metadata": {},
   "outputs": [],
   "source": [
    "# Añade el fichero AUTHORS (actualmente vacío) al índice\n"
   ]
  },
  {
   "cell_type": "code",
   "execution_count": null,
   "id": "fa38c765",
   "metadata": {},
   "outputs": [],
   "source": [
    "# Muestra el estado del árbol de trabajo y observa\n",
    "# el nuevo estado del fichero AUTHORS\n"
   ]
  },
  {
   "cell_type": "markdown",
   "id": "546716b0-a233-4b15-af69-6fb15676aae0",
   "metadata": {},
   "source": [
    "Observa que el fichero `AUTHORS` debería haber pasado de estar *ignorado* a ser parte del área de índice o stage (*candidato* a ser confirmado)."
   ]
  },
  {
   "cell_type": "code",
   "execution_count": null,
   "id": "c2649bb5",
   "metadata": {},
   "outputs": [],
   "source": [
    "# Confirma los cambios al repositorio. Recuerda usar\n",
    "# la opción -m seguida del mensaje de commit entrecomillado\n",
    "# (p.ej., \"añadiendo fichero con autores vacío\")\n"
   ]
  },
  {
   "cell_type": "code",
   "execution_count": null,
   "id": "897f2853",
   "metadata": {},
   "outputs": [],
   "source": [
    "# Muestra el estado del árbol de trabajo\n"
   ]
  },
  {
   "cell_type": "code",
   "execution_count": null,
   "id": "20674efd-2b5c-4ffc-9a08-b008e8e07b71",
   "metadata": {},
   "outputs": [],
   "source": [
    "# Añade una línea al fichero `AUTHORS` ejecutando esta celda:\n",
    "echo \"Nombre Apellido\" >> AUTHORS"
   ]
  },
  {
   "cell_type": "code",
   "execution_count": null,
   "id": "d9fe058a-24cf-4caf-adc1-6ec9e9ce4891",
   "metadata": {},
   "outputs": [],
   "source": [
    "# Muestra los cambios en el fichero `AUTHORS`\n"
   ]
  },
  {
   "cell_type": "code",
   "execution_count": null,
   "id": "2feaf35f-4fa7-4da1-af36-baf33b7eb69d",
   "metadata": {},
   "outputs": [],
   "source": [
    "# Deshaz los cambios en el fichero `AUTHORS`\n"
   ]
  },
  {
   "cell_type": "code",
   "execution_count": null,
   "id": "73c7fa59-47b7-4ea6-903e-726de4683538",
   "metadata": {},
   "outputs": [],
   "source": [
    "# Muestra el contenido del fichero `AUTHORS`\n"
   ]
  },
  {
   "cell_type": "markdown",
   "id": "32eff9c5-64a9-4e15-a2ad-c74e5832f0c6",
   "metadata": {},
   "source": [
    "Ahora añade tu nombre y apellidos y haz los pasos necesarios para confirmar el cambio al repositorio."
   ]
  },
  {
   "cell_type": "code",
   "execution_count": null,
   "id": "508ed25c-2a47-4119-9b1e-cb61a0294bfb",
   "metadata": {},
   "outputs": [],
   "source": [
    "# Añadimos nombre y apellidos (edita y pon los tuyos)\n",
    "echo \"Jane Doe\" >> AUTHORS"
   ]
  },
  {
   "cell_type": "code",
   "execution_count": null,
   "id": "6d9d6b9c-d8e7-4cdf-a2c9-5d81693906ad",
   "metadata": {},
   "outputs": [],
   "source": []
  },
  {
   "cell_type": "code",
   "execution_count": null,
   "id": "54592108-10cc-4d22-9b58-3b6d8ab69633",
   "metadata": {},
   "outputs": [],
   "source": []
  },
  {
   "cell_type": "code",
   "execution_count": null,
   "id": "f7779f83-e435-48cc-8201-22c6ab8ab0bb",
   "metadata": {},
   "outputs": [],
   "source": [
    "# Muestra al registro de *commits* al repositorio:\n"
   ]
  },
  {
   "cell_type": "code",
   "execution_count": null,
   "id": "6c81869a-20cd-4ecd-827e-020677479b1f",
   "metadata": {},
   "outputs": [],
   "source": [
    "# Regresa a tu directorio personal (padre del actual).\n"
   ]
  },
  {
   "cell_type": "code",
   "execution_count": null,
   "id": "9799e73a-b50b-43d6-a9bd-e0bb60a15e79",
   "metadata": {},
   "outputs": [],
   "source": [
    "# Muestra el directorio actual\n",
    "pwd"
   ]
  },
  {
   "cell_type": "code",
   "execution_count": null,
   "id": "37c1f89c-0efa-4c5e-8eea-acf55270cbe0",
   "metadata": {},
   "outputs": [],
   "source": [
    "# Muestra el estado del árbol de trabajo\n"
   ]
  },
  {
   "cell_type": "markdown",
   "id": "98fd1845-bede-4c08-ba44-612dcdf303e2",
   "metadata": {},
   "source": [
    "PREGUNTA: ¿Es posible mostrar el estado del árbol de trabajo del repositorio `test-repo` desde el directorio actual? ¿Por qué?\n",
    "\n",
    "RESPUESTA:\n",
    "\n"
   ]
  },
  {
   "cell_type": "markdown",
   "id": "ef459484-03b5-49ea-bf7c-658c33e5d73d",
   "metadata": {},
   "source": [
    "Vamos a copiar un fichero cualquiera de configuración al directorio del usuario, ejecutando la siguiente celda:"
   ]
  },
  {
   "cell_type": "code",
   "execution_count": null,
   "id": "fbc8d42f-d742-4e79-9f47-ab986231c4e7",
   "metadata": {},
   "outputs": [],
   "source": [
    "# Copiamos un fichero cualquiera\n",
    "cp /etc/hosts ."
   ]
  },
  {
   "cell_type": "code",
   "execution_count": null,
   "id": "6d4a178c-e6a6-4242-9c9c-f77eaeaa4e39",
   "metadata": {},
   "outputs": [],
   "source": [
    "# Mostramos las primeras líneas del fichero descargado\n",
    "head hosts"
   ]
  },
  {
   "cell_type": "markdown",
   "id": "0fd5ce13-217c-4cac-91c8-187a17a1fb2d",
   "metadata": {},
   "source": [
    "Mostramos la ubicación del fichero copiado (su ruta absoluta):"
   ]
  },
  {
   "cell_type": "code",
   "execution_count": null,
   "id": "1390ce41-9f5a-42e4-96f2-a4daab326788",
   "metadata": {},
   "outputs": [],
   "source": [
    "readlink -f hosts"
   ]
  },
  {
   "cell_type": "markdown",
   "id": "71888ede-bcd3-4f8a-b6c9-e111962ef65f",
   "metadata": {},
   "source": [
    "Ahora vamos a tratar de añadir el fichero `hosts` al repositorio."
   ]
  },
  {
   "cell_type": "code",
   "execution_count": null,
   "id": "cc23fd1c-f4bb-404a-b275-33075a148a64",
   "metadata": {},
   "outputs": [],
   "source": [
    "# Entrar en el directorio `test-repo` donde hemos creado el repositorio.\n"
   ]
  },
  {
   "cell_type": "code",
   "execution_count": null,
   "id": "01b42719-2555-4f34-9411-e666299d7ffb",
   "metadata": {},
   "outputs": [],
   "source": [
    "# tratamos de añadir el fichero al repositorio.\n",
    "git add ../hosts"
   ]
  },
  {
   "cell_type": "markdown",
   "id": "9f24b24f-7ce6-45ba-ade6-c3f14cd3aa3f",
   "metadata": {},
   "source": [
    "PREGUNTA: ¿Podemos añadirlo directamente a nuestro repositorio `test-repo`? ¿Por qué?\n",
    "\n",
    "RESPUESTA:\n",
    "\n"
   ]
  },
  {
   "cell_type": "markdown",
   "id": "cabed57f-1ba1-4fdb-b580-e23fdf7ce0ed",
   "metadata": {},
   "source": [
    "Realiza los pasos necesarios para añadir el fichero `hosts` al repositorio `test-repo`, mostrando el estado del árbol de trabajo cada vez que cambie:"
   ]
  },
  {
   "cell_type": "code",
   "execution_count": null,
   "id": "84d0e29a-15d2-4ca9-a588-a172e816fe42",
   "metadata": {},
   "outputs": [],
   "source": [
    "# Paso 1: Moverlo dentro del directorio del repositorio\n"
   ]
  },
  {
   "cell_type": "code",
   "execution_count": null,
   "id": "a1b314c6-29aa-4617-b78b-9674da5d0a6c",
   "metadata": {},
   "outputs": [],
   "source": [
    "# Paso 2: mostrar estado del fichero (ignorado)\n"
   ]
  },
  {
   "cell_type": "code",
   "execution_count": null,
   "id": "36cd821c-e671-43c7-838c-fa59ac12f406",
   "metadata": {},
   "outputs": [],
   "source": [
    "# Paso 3: Añadirlo al índice\n"
   ]
  },
  {
   "cell_type": "code",
   "execution_count": null,
   "id": "aabe3e4d-d302-48bb-838e-4c033469c76f",
   "metadata": {},
   "outputs": [],
   "source": [
    "# Paso 4: mostrar que hosts va a ser añadido al repositorio\n",
    "git status"
   ]
  },
  {
   "cell_type": "code",
   "execution_count": null,
   "id": "19020a2c-2907-43f2-ac06-46f8c7b9903c",
   "metadata": {},
   "outputs": [],
   "source": [
    "# Paso 5: Confirmar nuevo fichero\n"
   ]
  },
  {
   "cell_type": "code",
   "execution_count": null,
   "id": "dd95ff63-c392-4a86-989e-3936a6aa2ca6",
   "metadata": {},
   "outputs": [],
   "source": [
    "ls -l"
   ]
  },
  {
   "cell_type": "code",
   "execution_count": null,
   "id": "1e79d93d-9f30-4023-ad6a-c6801b7c881d",
   "metadata": {},
   "outputs": [],
   "source": [
    "# Muestra el estado del árbol de trabajo\n"
   ]
  },
  {
   "cell_type": "markdown",
   "id": "a982c79f-272f-453a-9244-404766b367f0",
   "metadata": {},
   "source": [
    "Ejecuta la siguiente celda para modificar el fichero que hay en el directorio `practica2`."
   ]
  },
  {
   "cell_type": "code",
   "execution_count": null,
   "id": "28580ab3-3c06-4982-86bd-f5c306625890",
   "metadata": {},
   "outputs": [],
   "source": [
    "echo \"ls\" >> practica2/lista_comandos.txt"
   ]
  },
  {
   "cell_type": "markdown",
   "id": "c9ea4edf-ea0f-4440-ac71-e5dcb77152a6",
   "metadata": {},
   "source": [
    "Sin cambiar de directorio, haz los pasos necesarios para añadir los cambios en el fichero `lista_comandos.txt` al índice y luego al repositorio, mostrando el estado del árbol de trabajo tras cada cambio."
   ]
  },
  {
   "cell_type": "code",
   "execution_count": null,
   "id": "348d62c5-7b79-4070-a5b5-5f563d05df45",
   "metadata": {},
   "outputs": [],
   "source": []
  },
  {
   "cell_type": "code",
   "execution_count": null,
   "id": "a5ed9540-86d1-4ac1-9a88-feeccd0068ea",
   "metadata": {},
   "outputs": [],
   "source": []
  },
  {
   "cell_type": "code",
   "execution_count": null,
   "id": "52eb3163-1d8f-4041-ba44-8cfbea0f28a7",
   "metadata": {},
   "outputs": [],
   "source": []
  },
  {
   "cell_type": "code",
   "execution_count": null,
   "id": "ea0a0aef-dc8f-4c62-b187-4bc93b8e1d61",
   "metadata": {},
   "outputs": [],
   "source": [
    "# Muestra el estado de los ficheros del árbol de trabajo\n"
   ]
  },
  {
   "cell_type": "code",
   "execution_count": null,
   "id": "db95d09a-aeb1-4c64-8d46-b9915d05e6ce",
   "metadata": {},
   "outputs": [],
   "source": [
    "# Ejecuta esta celda para seguir añadiendo comandos del shell al fichero anterior.\n",
    "echo \"cat\" >> practica2/lista_comandos.txt"
   ]
  },
  {
   "cell_type": "code",
   "execution_count": null,
   "id": "b2f82334-6405-4b7a-88d1-510c79b5277a",
   "metadata": {},
   "outputs": [],
   "source": [
    "# Ejecuta esta celda para crear otro fichero con comandos de git.\n",
    "echo \"git init\" > practica2/lista_comandos_git.txt"
   ]
  },
  {
   "cell_type": "code",
   "execution_count": null,
   "id": "2057f567-83c6-4a88-a31d-b5f0a43cdb9b",
   "metadata": {},
   "outputs": [],
   "source": [
    "# Muestra el estado de los ficheros del árbol de trabajo\n"
   ]
  },
  {
   "cell_type": "code",
   "execution_count": null,
   "id": "808c9dcd-ef61-45e5-8f43-e3d011dfb30c",
   "metadata": {},
   "outputs": [],
   "source": [
    "# Muestra los cambios en el directorio `practica2`.\n"
   ]
  },
  {
   "cell_type": "markdown",
   "id": "749722f5-b952-492b-ab02-690462975121",
   "metadata": {},
   "source": [
    "PREGUNTA: ¿Por qué no aparecen los cambios en el fichero `lista_comandos_git.txt`, pero sí el cambio en `lista_comandos.txt`?\n",
    "\n",
    "RESPUESTA:\n",
    "\n"
   ]
  },
  {
   "cell_type": "markdown",
   "id": "3c4c2e25-0df1-4686-bf51-9acfab16672c",
   "metadata": {},
   "source": [
    "Añade el fichero de la lista de comandos de Git al índice, muestra el estado del árbol de trabajo y luego confirma el añadido."
   ]
  },
  {
   "cell_type": "code",
   "execution_count": null,
   "id": "7e329b73-63f4-4c53-b891-0f3b53e2f2f1",
   "metadata": {},
   "outputs": [],
   "source": [
    "# Paso 1: añadir\n"
   ]
  },
  {
   "cell_type": "code",
   "execution_count": null,
   "id": "c3e61aca-c3f9-498d-a984-e42597dfa91d",
   "metadata": {},
   "outputs": [],
   "source": [
    "# Paso 2: estado\n"
   ]
  },
  {
   "cell_type": "code",
   "execution_count": null,
   "id": "98a2f7e7-4b3b-4d82-a117-904083f7cd0f",
   "metadata": {},
   "outputs": [],
   "source": [
    "# Paso 3: Confirmar\n"
   ]
  },
  {
   "cell_type": "code",
   "execution_count": null,
   "id": "bb4c927b-47c1-446d-87c7-304eb2e4e527",
   "metadata": {},
   "outputs": [],
   "source": [
    "# Muestra el registro de commits hasta el momento\n"
   ]
  },
  {
   "cell_type": "markdown",
   "id": "32cf43b1-408d-43f8-b139-1607137386a2",
   "metadata": {},
   "source": [
    "Añade al índice los cambios en `lista_comandos.txt`, muestra el estado y luego muestra las diferencias con `git diff`:"
   ]
  },
  {
   "cell_type": "code",
   "execution_count": null,
   "id": "6578006e-1129-4d41-b2fd-e3f825d79631",
   "metadata": {},
   "outputs": [],
   "source": [
    "# Paso 1: añadir\n"
   ]
  },
  {
   "cell_type": "code",
   "execution_count": null,
   "id": "e47dc5c9-c3fd-4486-8d31-1e8c209adc74",
   "metadata": {},
   "outputs": [],
   "source": [
    "# Paso 2: estado\n"
   ]
  },
  {
   "cell_type": "code",
   "execution_count": null,
   "id": "53a7cf78-5d1a-4c4e-b928-f376bb14ef9d",
   "metadata": {},
   "outputs": [],
   "source": [
    "# Ejecuta esta celda:\n",
    "git diff"
   ]
  },
  {
   "cell_type": "markdown",
   "id": "8b5eb524-225f-4390-8014-7bc5f71b9c25",
   "metadata": {},
   "source": [
    "PREGUNTA: ¿Por qué el `git diff` anterior no muestra nada?\n",
    "\n",
    "RESPUESTA:\n",
    "\n"
   ]
  },
  {
   "cell_type": "markdown",
   "id": "c72586ef-55c1-4c5e-a132-cb6bdf0195a2",
   "metadata": {},
   "source": [
    "Muestra los cambios en el fichero que han sido añadidos al índice (diferencia entre el índice y el repositorio):"
   ]
  },
  {
   "cell_type": "code",
   "execution_count": null,
   "id": "96bff157-7015-40f5-819c-25118ecbdecc",
   "metadata": {},
   "outputs": [],
   "source": []
  },
  {
   "cell_type": "markdown",
   "id": "04dc1925-3356-4426-af2c-72516af650f7",
   "metadata": {},
   "source": [
    "Vamos a modificar de nuevo el fichero en nuestro árbol de trabajo, añadiendo un nuevo comando de *Bash*. "
   ]
  },
  {
   "cell_type": "code",
   "execution_count": null,
   "id": "8d7d0bc9-97ab-44d1-9c63-5ebd49c87e82",
   "metadata": {},
   "outputs": [],
   "source": [
    "echo \"find\" >> practica2/lista_comandos.txt"
   ]
  },
  {
   "cell_type": "markdown",
   "id": "fb7c7e68-b2dc-4ad6-8a1e-28864375904e",
   "metadata": {},
   "source": [
    "Ahora, ejecuta la siguiente celda y explica lo que ves:"
   ]
  },
  {
   "cell_type": "code",
   "execution_count": null,
   "id": "876d3504-d71e-44bd-a95a-25d9f38de3c8",
   "metadata": {},
   "outputs": [],
   "source": [
    "git diff"
   ]
  },
  {
   "cell_type": "markdown",
   "id": "74427941-0acb-4a0d-b1c6-6d98b64faf59",
   "metadata": {},
   "source": [
    "PREGUNTA: ¿Por qué `git diff` sólo muestra el añadido del comando \"find\", pero no del `cat`?\n",
    "\n",
    "RESPUESTA:\n",
    "\n"
   ]
  },
  {
   "cell_type": "markdown",
   "id": "010425f6-936e-4329-888b-476fea050fc4",
   "metadata": {},
   "source": [
    "Vuelve a sacar el fichero del índice y muestra el estado otra vez:"
   ]
  },
  {
   "cell_type": "code",
   "execution_count": null,
   "id": "e44195f5-7bbe-4b95-bdd4-c0a7df66f393",
   "metadata": {},
   "outputs": [],
   "source": [
    "# Paso 3: Sacar del índice\n"
   ]
  },
  {
   "cell_type": "code",
   "execution_count": null,
   "id": "f4a06373-4d86-42f2-b8fd-b220a48ac958",
   "metadata": {},
   "outputs": [],
   "source": [
    "# Paso 4: Estado\n"
   ]
  },
  {
   "cell_type": "code",
   "execution_count": null,
   "id": "a7433e27-ce63-482e-b006-684151b9a683",
   "metadata": {},
   "outputs": [],
   "source": [
    "# Muestra los cambios realizados en el fichero:\n"
   ]
  },
  {
   "cell_type": "markdown",
   "id": "359d2ae9-531f-4f11-9972-af563817174d",
   "metadata": {},
   "source": [
    "Ahora, descarta los cambios, para que el contenido del fichero vuelva a ser igual a la última versión que fue confirmada al repositorio."
   ]
  },
  {
   "cell_type": "code",
   "execution_count": null,
   "id": "fe17d266-ef24-4f4a-88c5-5788bbb87379",
   "metadata": {},
   "outputs": [],
   "source": [
    "# Descartar cambios y volver a la última versión del repositorio\n"
   ]
  },
  {
   "cell_type": "markdown",
   "id": "caaf2ce7-ddbc-4502-9609-2571f2096a36",
   "metadata": {},
   "source": [
    "Comprueba que el fichero con la lista de comandos contiene únicamente el comando \"ls\"."
   ]
  },
  {
   "cell_type": "code",
   "execution_count": null,
   "id": "57ac4c82-0a9b-4281-9924-29a44d936c6a",
   "metadata": {},
   "outputs": [],
   "source": [
    "# Muestra el contenido del fichero con la lista de comandos del shell\n"
   ]
  },
  {
   "cell_type": "code",
   "execution_count": null,
   "id": "06d4c484-1470-4061-8f3b-6a56c7c29564",
   "metadata": {},
   "outputs": [],
   "source": [
    "# Muestra el estado de los ficheros del árbol de trabajo\n"
   ]
  },
  {
   "cell_type": "markdown",
   "id": "0be4ec9b",
   "metadata": {},
   "source": [
    "Ahora cambia el nombre del fichero `lista_comandos.txt` para que pase a llamarse `lista_comandos_bash.txt`, sin cambiarlo de ubicación (debe seguir dentro de `practica2`)"
   ]
  },
  {
   "cell_type": "code",
   "execution_count": null,
   "id": "6b05a2bb",
   "metadata": {},
   "outputs": [],
   "source": [
    "# Renombra el fichero en el repositorio\n"
   ]
  },
  {
   "cell_type": "code",
   "execution_count": null,
   "id": "2db7bccc",
   "metadata": {},
   "outputs": [],
   "source": [
    "# Muestra el estado de los ficheros del árbol de trabajo\n"
   ]
  },
  {
   "cell_type": "code",
   "execution_count": null,
   "id": "107e9169",
   "metadata": {},
   "outputs": [],
   "source": [
    "# Confirma el cambio de nombre en el repositorio\n"
   ]
  },
  {
   "cell_type": "markdown",
   "id": "bf89de03-bdfb-44bf-844e-71e50e080cec",
   "metadata": {},
   "source": [
    "Para finalizar, borra el fichero `practica2/lista_comandos_bash.txt` del repositorio:"
   ]
  },
  {
   "cell_type": "code",
   "execution_count": null,
   "id": "ee8abe2d",
   "metadata": {},
   "outputs": [],
   "source": [
    "# Paso 1: borra\n"
   ]
  },
  {
   "cell_type": "code",
   "execution_count": null,
   "id": "311f972a",
   "metadata": {},
   "outputs": [],
   "source": [
    "# Paso 2: estado\n"
   ]
  },
  {
   "cell_type": "code",
   "execution_count": null,
   "id": "4b9383b7-9718-4a06-a64b-1b823fd3681f",
   "metadata": {},
   "outputs": [],
   "source": [
    "# Paso 3: Confirma\n",
    "git commit -m \"Borrando fichero con lista de comandos\""
   ]
  },
  {
   "cell_type": "code",
   "execution_count": null,
   "id": "0d2d1209-06d9-4472-a8d3-74860938b4f2",
   "metadata": {},
   "outputs": [],
   "source": [
    "ls . practica2"
   ]
  },
  {
   "cell_type": "code",
   "execution_count": null,
   "id": "56738443-4fad-4950-8d91-5563c886655e",
   "metadata": {},
   "outputs": [],
   "source": []
  },
  {
   "cell_type": "markdown",
   "id": "9f898134-96ec-4c11-92a5-79b8b26b4604",
   "metadata": {},
   "source": [
    "## Flujo de trabajo con un repositorio remoto"
   ]
  },
  {
   "cell_type": "code",
   "execution_count": null,
   "id": "381bf01a-225d-4f7f-8c1f-bdd4740ad179",
   "metadata": {},
   "outputs": [],
   "source": [
    "# Ejecuta esta celda para generar un repositorio que actuará como remoto\n",
    "rm -rf /tmp/murcia\n",
    "mkdir /tmp/murcia\n",
    "cat <<EOF > /tmp/murcia/sierras\n",
    "Sierra de la Almenara\n",
    "Sierra de Burete\n",
    "Sierra del Carche\n",
    "Sierra de Carrascoy\n",
    "Sierra de Columbares\n",
    "EOF\n",
    "\n",
    "cat <<EOF > /tmp/murcia/rios\n",
    "Río Benamor\n",
    "Río Luchena\n",
    "Río Mula\n",
    "Río Quípar\n",
    "EOF\n",
    "\n",
    "cat <<EOF > /tmp/murcia/municipios\n",
    "LISTA DE MUNICIPIOS DE LA REGIÓN DE MURCIA\n",
    "Abanilla\n",
    "Alcantarilla\n",
    "Alhama de Murcia\n",
    "Archena\n",
    "Blanca\n",
    "Fortuna\n",
    "EOF\n",
    "\n",
    "REMOTE=\"/tmp/geografia-murciana\"\n",
    "\n",
    "rm -rf $REMOTE\n",
    "mkdir $REMOTE && cd $REMOTE \n",
    "git init\n",
    "cp /tmp/murcia/sierras .\n",
    "git add sierras\n",
    "git commit -m \"Añadiendo algunas sierras de la Región de Murcia\""
   ]
  },
  {
   "cell_type": "code",
   "execution_count": null,
   "id": "8eff94ee-361e-40c1-8e8b-0194c32199af",
   "metadata": {},
   "outputs": [],
   "source": [
    "ls -l /tmp/murcia"
   ]
  },
  {
   "cell_type": "code",
   "execution_count": null,
   "id": "0e6cddb0-cbd7-491b-a90e-60e1c8077042",
   "metadata": {},
   "outputs": [],
   "source": [
    "# Ve a tu directorio personal\n"
   ]
  },
  {
   "cell_type": "code",
   "execution_count": null,
   "id": "94a78cc6-64ce-4150-9e49-349eeb747f8c",
   "metadata": {},
   "outputs": [],
   "source": [
    "# Borra recursivamente el directorio \"p2ej\" (en caso de que exista)\n"
   ]
  },
  {
   "cell_type": "code",
   "execution_count": null,
   "id": "9446f6dd-256f-4436-b9d8-7462e905fe13",
   "metadata": {},
   "outputs": [],
   "source": [
    "# Crea un directorio llamado \"p2-ejercicio\"\n"
   ]
  },
  {
   "cell_type": "code",
   "execution_count": null,
   "id": "2c17b607-482d-41ca-aca7-a88a04fe5eb1",
   "metadata": {},
   "outputs": [],
   "source": [
    "# Accede al directorio que acabas de crear\n"
   ]
  },
  {
   "cell_type": "code",
   "execution_count": null,
   "id": "c7f9c429-2f5e-4685-8f37-e49220c3d41b",
   "metadata": {},
   "outputs": [],
   "source": []
  },
  {
   "cell_type": "code",
   "execution_count": null,
   "id": "45aed313-c761-406e-9ef3-55c5bcd59aec",
   "metadata": {},
   "outputs": [],
   "source": [
    "ls"
   ]
  },
  {
   "cell_type": "code",
   "execution_count": null,
   "id": "88da6478-5849-4b5d-b4a4-21c8115ec6df",
   "metadata": {},
   "outputs": [],
   "source": [
    "# Ejecuta la siguiente celda antes de continuar con el resto del ejercicio\n",
    "# NOTA: el manejo de ramas en Git está fuera del ámbito de FC\n",
    "cd $REMOTE \n",
    "git branch alicante\n",
    "git switch alicante\n",
    "cd -"
   ]
  },
  {
   "cell_type": "code",
   "execution_count": null,
   "id": "f1c980f5-03d3-4b66-b917-13852e8c8336",
   "metadata": {},
   "outputs": [],
   "source": [
    "# Accede al directorio de la copia local del repositorio que acabas de crear\n"
   ]
  },
  {
   "cell_type": "code",
   "execution_count": null,
   "id": "b61b5b13-740e-4023-9980-6b018c604d44",
   "metadata": {},
   "outputs": [],
   "source": [
    "# Haz un listado largo del contenido del directorio, incluyendo ficheros ocultos\n"
   ]
  },
  {
   "cell_type": "code",
   "execution_count": null,
   "id": "5d32a3ab-da26-431e-863d-825a9f07b151",
   "metadata": {},
   "outputs": [],
   "source": [
    "# Muestra el registro de commits en una sola línea\n"
   ]
  },
  {
   "cell_type": "code",
   "execution_count": null,
   "id": "3161eda0-6056-49df-a8bf-b0ac39a922eb",
   "metadata": {},
   "outputs": [],
   "source": []
  },
  {
   "cell_type": "code",
   "execution_count": null,
   "id": "f1a421f2-e989-4416-829c-b0b2bb19ceba",
   "metadata": {},
   "outputs": [],
   "source": [
    "# Añade al repositorio el contenido íntegro del directorio /tmp/murcia\n",
    "# Para ello, necesitas hacerlo en varios pasos. El resultado debe ser que\n",
    "# haya un nuevo directorio \"murcia\" en el repositorio, con los tres ficheros\n",
    "# PASO 1\n"
   ]
  },
  {
   "cell_type": "code",
   "execution_count": null,
   "id": "c4ffafdf-8c4d-4298-963f-828e70367fbe",
   "metadata": {},
   "outputs": [],
   "source": [
    "# PASO 2\n"
   ]
  },
  {
   "cell_type": "code",
   "execution_count": null,
   "id": "fdccaaf6-3df9-4233-a33a-1aebfae94cba",
   "metadata": {},
   "outputs": [],
   "source": [
    "# PASO 3 (estado)\n"
   ]
  },
  {
   "cell_type": "code",
   "execution_count": null,
   "id": "d94668b8-ca2a-4c9d-bdbd-bc18da1fdf90",
   "metadata": {},
   "outputs": [],
   "source": [
    "# Muestra lo que has añadido al índice\n"
   ]
  },
  {
   "cell_type": "code",
   "execution_count": null,
   "id": "54ab5e73-d098-44d5-92e3-c1110789824e",
   "metadata": {},
   "outputs": [],
   "source": [
    "# PASO 4 (confirma el cambio al repositorio)\n"
   ]
  },
  {
   "cell_type": "code",
   "execution_count": null,
   "id": "366c6934-ded4-49f0-adfa-2dcd7c6dad54",
   "metadata": {},
   "outputs": [],
   "source": [
    "# Vuelve a comprobar el estado\n",
    "git status"
   ]
  },
  {
   "cell_type": "markdown",
   "id": "92cd40a8-a103-481e-8fa3-2e7652392a1c",
   "metadata": {},
   "source": [
    "PREGUNTA: ¿Qué información te muestra el comando anterior, acerca del remoto?\n",
    "\n",
    "RESPUESTA:\n",
    "\n"
   ]
  },
  {
   "cell_type": "code",
   "execution_count": null,
   "id": "8ae6cee4-3adc-4959-bd95-4fb0acf01a2c",
   "metadata": {},
   "outputs": [],
   "source": [
    "# PASO 5: comprobación (registro)\n"
   ]
  },
  {
   "cell_type": "markdown",
   "id": "ede034cd-ad72-479a-a275-752b7c7d91c9",
   "metadata": {},
   "source": [
    "PREGUNTA: ¿Cómo puedes saber a partir de la información anterior que el repositorio local y remoto no está en la misma versión?\n",
    "\n",
    "RESPUESTA:\n",
    "\n"
   ]
  },
  {
   "cell_type": "markdown",
   "id": "7750a771-ab3f-4889-9681-cbd40d99a899",
   "metadata": {},
   "source": [
    "PREGUNTA: ¿Cuántos ficheros tiene ahora mismo el repositorio remoto?\n",
    "\n",
    "RESPUESTA: \n",
    "\n"
   ]
  },
  {
   "cell_type": "code",
   "execution_count": null,
   "id": "be6dc492-e966-4aeb-bd46-5f800b8f7236",
   "metadata": {},
   "outputs": [],
   "source": [
    "# Envía tus cambios al repositorio remoto\n"
   ]
  },
  {
   "cell_type": "code",
   "execution_count": null,
   "id": "7596d448-f8f4-4680-885d-61af82e06deb",
   "metadata": {},
   "outputs": [],
   "source": [
    "# Vuelve a mostrar el registro de commits\n"
   ]
  },
  {
   "cell_type": "markdown",
   "id": "bba65392-be4a-4dc6-9011-ecf92aa16c63",
   "metadata": {},
   "source": [
    "PREGUNTA: ¿En qué ha cambiado la información mostrada por el comando anterior sobre el repositorio remoto?\n",
    "\n",
    "RESPUESTA:\n",
    "\n"
   ]
  },
  {
   "cell_type": "code",
   "execution_count": null,
   "id": "cedfdec2-4b9f-43ea-8ebb-eb7e463a0d69",
   "metadata": {},
   "outputs": [],
   "source": [
    "# Ejecuta la siguiente celda para ver las diferencias entre dos ficheros\n",
    "diff -u sierras murcia/sierras"
   ]
  },
  {
   "cell_type": "code",
   "execution_count": null,
   "id": "93a592f4-a33c-4331-b3a9-26a72b67c155",
   "metadata": {},
   "outputs": [],
   "source": [
    "# Elimina del repositorio el fichero \"sierras\" que está fuera del directorio \"murcia\"\n",
    "# PASO 1\n"
   ]
  },
  {
   "cell_type": "code",
   "execution_count": null,
   "id": "86519e4f-e873-4925-b0dd-3c2c96ef845e",
   "metadata": {},
   "outputs": [],
   "source": [
    "# PASO 2 (estado)\n"
   ]
  },
  {
   "cell_type": "code",
   "execution_count": null,
   "id": "c0f15cfd-fd2d-41ae-beb7-0efc6647b958",
   "metadata": {},
   "outputs": [],
   "source": [
    "# PASO 3 (confirma) Mensaje: \"Eliminando fichero duplicado\"\n"
   ]
  },
  {
   "cell_type": "code",
   "execution_count": null,
   "id": "480c91cd-ccdb-4019-ade3-1210b93e3c07",
   "metadata": {},
   "outputs": [],
   "source": [
    "# PASO 4 (comprueba registro en una línea\n"
   ]
  },
  {
   "cell_type": "code",
   "execution_count": null,
   "id": "0c8dd3f1-aef6-4e1c-8337-396f49cbdb60",
   "metadata": {},
   "outputs": [],
   "source": [
    "ls -a"
   ]
  },
  {
   "cell_type": "code",
   "execution_count": null,
   "id": "2ad035d5-9c19-40b8-875c-b7ccb8001795",
   "metadata": {},
   "outputs": [],
   "source": [
    "# Muestra el estado\n"
   ]
  },
  {
   "cell_type": "code",
   "execution_count": null,
   "id": "78abf7d2-9f72-4a1f-8bae-6a47cba1c4ce",
   "metadata": {},
   "outputs": [],
   "source": [
    "# Envía tus cambios al remoto\n"
   ]
  },
  {
   "cell_type": "code",
   "execution_count": null,
   "id": "64d7146b-e7b9-4108-ba2b-ce07912cc986",
   "metadata": {},
   "outputs": [],
   "source": [
    "# Ejecuta la siguiente celda antes de continuar con el resto del ejercicio\n",
    "cd $REMOTE \n",
    "git switch main\n",
    "echo \"Librilla\" >> murcia/municipios\n",
    "echo \"Lorca\" >> murcia/municipios\n",
    "git commit . -m \"Añadiendo más municipios con la letra L\"\n",
    "git switch alicante\n",
    "cd -"
   ]
  },
  {
   "cell_type": "code",
   "execution_count": null,
   "id": "31170c27-2d7d-4644-ab0d-590ac60c5986",
   "metadata": {},
   "outputs": [],
   "source": []
  },
  {
   "cell_type": "markdown",
   "id": "6a09d553-3310-42c8-8210-d5d9cdd291d2",
   "metadata": {},
   "source": [
    "PREGUNTA: ¿Es posible saber ahora mismo que el repositorio remoto está por delante del actual?\n",
    "\n",
    "RESPUESTA:\n",
    "\n"
   ]
  },
  {
   "cell_type": "markdown",
   "id": "0b1d8ce2-d16a-4314-8710-292f6996bc91",
   "metadata": {},
   "source": [
    "PREGUNTA: \n",
    "\n",
    "RESPUESTA:\n",
    "\n"
   ]
  },
  {
   "cell_type": "code",
   "execution_count": null,
   "id": "221b5e12-d64c-4dba-8688-fd418413b80e",
   "metadata": {},
   "outputs": [],
   "source": [
    "# Obtén los últimos cambios publicados en el repositorio remoto\n"
   ]
  },
  {
   "cell_type": "code",
   "execution_count": null,
   "id": "815b8c14-9394-4ba0-891d-2c75afd9ea16",
   "metadata": {},
   "outputs": [],
   "source": []
  },
  {
   "cell_type": "code",
   "execution_count": null,
   "id": "5df5e7ec-7a9c-4916-b3dd-7a0b3a179986",
   "metadata": {},
   "outputs": [],
   "source": [
    "echo \"Sierra de Ricote\" >> murcia/sierras\n",
    "echo \"Río Taibilla\" >> murcia/rios"
   ]
  },
  {
   "cell_type": "code",
   "execution_count": null,
   "id": "2219c956-c24a-4287-ac20-22d2dbead5cd",
   "metadata": {},
   "outputs": [],
   "source": []
  },
  {
   "cell_type": "code",
   "execution_count": null,
   "id": "910f7432-2e03-4dab-ba64-848776e9b401",
   "metadata": {},
   "outputs": [],
   "source": [
    "# Ejecuta la siguiente celda antes de continuar con el resto del ejercicio\n",
    "cd $REMOTE \n",
    "git switch main\n",
    "echo \"Mazarrón\" >> murcia/municipios\n",
    "echo \"Moratalla\" >> murcia/municipios\n",
    "git commit . -m \"Añadiendo más municipios con la letra M\"\n",
    "git switch alicante\n",
    "cd -"
   ]
  },
  {
   "cell_type": "markdown",
   "id": "4d80247f-6d26-41a1-99b6-6a4b5e62077c",
   "metadata": {},
   "source": [
    "Una manera sencilla de saber si hay cambios en el remoto es ejecutar `git push`, para ver si tu copia local está actualizada:"
   ]
  },
  {
   "cell_type": "code",
   "execution_count": null,
   "id": "5b5d3346-05c4-4d5f-a596-b09ff838f227",
   "metadata": {},
   "outputs": [],
   "source": []
  },
  {
   "cell_type": "markdown",
   "id": "f520b017-c228-4082-b476-867e911923e2",
   "metadata": {},
   "source": [
    "PREGUNTA: ¿Por qué falla y qué te indica la salida del comando anterior? \n",
    "\n",
    "RESPUESTA:\n",
    "\n"
   ]
  },
  {
   "cell_type": "code",
   "execution_count": null,
   "id": "a8fc17f4-5577-425a-a982-333197eea9f6",
   "metadata": {},
   "outputs": [],
   "source": [
    "# Muestra el contenido del fichero de municipios\n"
   ]
  },
  {
   "cell_type": "code",
   "execution_count": null,
   "id": "af0e7017-fd06-4b2f-9e2a-38cc4d5f2f93",
   "metadata": {},
   "outputs": [],
   "source": [
    "# Obtén los últimos cambios en el repositorio remoto\n"
   ]
  },
  {
   "cell_type": "code",
   "execution_count": null,
   "id": "9a2858db-45dd-492b-abd0-bf1a2d716971",
   "metadata": {},
   "outputs": [],
   "source": []
  },
  {
   "cell_type": "markdown",
   "id": "49f88761-efc6-4040-b37f-802140a2c5be",
   "metadata": {},
   "source": [
    "PREGUNTA: ¿Por qué no se han visto afectados por el \"pull\" los ficheros modificados de tu árbol de trabajo?\n",
    "\n",
    "RESPUESTA:\n",
    "\n"
   ]
  },
  {
   "cell_type": "code",
   "execution_count": null,
   "id": "5b1e558d-5438-4232-aa00-fcbcb35448f6",
   "metadata": {},
   "outputs": [],
   "source": [
    "# Muestra el contenido del fichero de municipios\n"
   ]
  },
  {
   "cell_type": "code",
   "execution_count": null,
   "id": "23eabbfa-567b-49ff-9510-ddea35b57da8",
   "metadata": {},
   "outputs": [],
   "source": [
    "# Muestra las diferencias entre el fichero de ríos en tu árbol de trabajo y el repositorio\n"
   ]
  },
  {
   "cell_type": "code",
   "execution_count": null,
   "id": "d661d526-b9a8-4604-8864-95fbd42f5ce7",
   "metadata": {},
   "outputs": [],
   "source": [
    "# Trata de enviar tus cambios en el fichero de ríos al repositorio\n"
   ]
  },
  {
   "cell_type": "markdown",
   "id": "675696c6-2a89-4452-b1aa-5137904af810",
   "metadata": {},
   "source": [
    "PREGUNTA: ¿Se han enviado los cambio que has en el fichero de ríos y sierras al repositorio remoto?\n",
    "\n",
    "RESPUESTA:\n",
    "\n"
   ]
  },
  {
   "cell_type": "code",
   "execution_count": null,
   "id": "dd629cae-272e-451f-baf2-f0cf3a7e9083",
   "metadata": {},
   "outputs": [],
   "source": [
    "# Haz lo necesario para publicar al remoto los cambios que tienes pendiente\n",
    "# PASO 1 (añadir al índice)\n"
   ]
  },
  {
   "cell_type": "code",
   "execution_count": null,
   "id": "d62c9c36-573c-4026-a165-dfb3e89e6e6c",
   "metadata": {},
   "outputs": [],
   "source": [
    "# PASO 2 (confirmar)\n"
   ]
  },
  {
   "cell_type": "code",
   "execution_count": null,
   "id": "82241a31-5d6e-48b3-aa00-fb2ab129df75",
   "metadata": {},
   "outputs": [],
   "source": [
    "# PASO 3 (comprobar)\n"
   ]
  },
  {
   "cell_type": "code",
   "execution_count": null,
   "id": "c9056d2f-192f-49ad-9c52-9d9c6acb3f36",
   "metadata": {},
   "outputs": [],
   "source": [
    "# PASO 4 (publicar)\n"
   ]
  },
  {
   "cell_type": "code",
   "execution_count": null,
   "id": "b5f73c39-9ad0-4f3f-9381-fba24a55adaf",
   "metadata": {},
   "outputs": [],
   "source": [
    "rm -rf ~/p2ej"
   ]
  },
  {
   "cell_type": "markdown",
   "id": "0bbf22c8-18b7-4d90-9781-8c46a8b72021",
   "metadata": {},
   "source": [
    "**FIN DEL CUADERNO** (*no borres esta celda*)\n",
    "\n",
    "@@@@ practica2-introgit-ejercicios.ipynb @@@@"
   ]
  }
 ],
 "metadata": {
  "language_info": {
   "name": "bash"
  }
 },
 "nbformat": 4,
 "nbformat_minor": 5
}

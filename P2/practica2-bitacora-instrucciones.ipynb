{
 "cells": [
  {
   "cell_type": "markdown",
   "id": "b92ba0a4-95d5-464c-823f-503d24761159",
   "metadata": {},
   "source": [
    "# Instrucciones para crear tu repositorio Git `fc-alumno`"
   ]
  },
  {
   "cell_type": "markdown",
   "id": "8c95eb56-e80a-45ab-8d29-28a4649b85e3",
   "metadata": {},
   "source": [
    "## JupyterHub\n",
    "\n",
    "JupyterHub es una plataforma de código abierto diseñada para proporcionar acceso compartido a entornos Jupyter Notebooks en la nube o en servidores locales, permitiendo a múltiples usuarios trabajar en proyectos de datos, ciencia y programación desde una única instancia centralizada. A diferencia de los Jupyter Notebooks tradicionales, que son utilizados principalmente de manera individual, JupyterHub está diseñado para entornos multiusuario, como aulas, equipos de investigación o empresas, permitiendo a cada usuario tener su propio espacio de trabajo aislado. Esto se logra mediante la autenticación de usuarios y la administración de recursos, lo que facilita el control y la personalización del entorno de desarrollo para cada persona.\n",
    "\n",
    "JupyterHub es especialmente útil en contextos educativos, de investigación y de desarrollo colaborativo, donde se necesita un entorno accesible y reproducible para la exploración de datos y la creación de modelos. Proporciona una manera eficiente de gestionar la infraestructura necesaria para la computación en Jupyter Notebooks, eliminando la necesidad de que cada usuario configure su propio entorno de trabajo. Además, JupyterHub puede integrarse con otras herramientas y servicios en la nube, como Kubernetes, para escalar de manera eficiente y gestionar recursos computacionales, lo que lo convierte en una solución poderosa para grandes equipos y organizaciones.\n",
    "\n"
   ]
  },
  {
   "cell_type": "markdown",
   "id": "14c59798-4641-4052-827f-dfa856c5b2aa",
   "metadata": {},
   "source": [
    "\n",
    "[Más información sobre JupyterHub](https://jupyter.org/hub)"
   ]
  },
  {
   "cell_type": "markdown",
   "id": "d2ea983f-532f-498a-8abb-19df39cba997",
   "metadata": {},
   "source": [
    "## El servidor de JupyterHub (JH) de Fundamentos de Computadores (FC)\n",
    "\n",
    "Como ya se indicó en la presentación de las prácticas, tienes a tu disposición un servidor de JupyterHub que te permite trabajar con el terminal del shell o tus notebooks de Jupyter **desde cualquier dispositivo, sin necesidad de instalar ningún software, simplemente usando un navegador web**. \n",
    "\n",
    "Se trata de un servidor que está ejecutándose en la nube (Google Cloud) y que está administrado por el profesor de la asignatura. Este servidor está preparado para que te sea lo más sencillo posible mantener tu repositorio-bitácora de Git, de forma que puedas ir realizando con comodidad tus aportaciones periódicas a tu repositorio (resolución de boletines y notebooks de ejercicios)."
   ]
  },
  {
   "cell_type": "markdown",
   "id": "34459ab7-8327-42c4-b5fe-9fd7d2140707",
   "metadata": {},
   "source": [
    "Gracias a este servidor de JupyterHub, podrás subir tus notebooks tu espacio de trabajo privado habilitado en el servidor, y trabajar directamente sobre ellos mientras mantienes todos tus ficheros en un único lugar, accesible en cualquier momento. Esto hará que te resulte más sencillo guardar tu trabajo y posteriormente retomarlo cuando te trasladas de un dispositivo a otro (por ejemplo, del PC del laboratorio a tu portátil o tu PC de casa)."
   ]
  },
  {
   "cell_type": "markdown",
   "id": "0b0caad0-f700-4fc2-af28-4024016f73f0",
   "metadata": {},
   "source": [
    "### Cómo acceder al servidor de JH de FC\n",
    "\n",
    "[Vídeo con instrucciones para acceder a JupyterHub.](https://aulavirtual.um.es/access/content/group/6576_G_2024_N_N/Pr%C3%A1cticas/v%C3%ADdeos/S01-1-jupyterhub-acceso-instalar-bitacora.webm)  *NOTA: Grabación **sin sonido***\n",
    "\n",
    "En la herramienta \"Recursos\" del sitio de la asignatura en el Aula Virtual encontrarás un fichero `jupyterhub.html`, con el enlace al servidor de JupyterHub. Tu nombre de usuario es tu dirección de correo @um.es, **pero sustituyendo tanto la arroba (@) como el punto (.) por el carácter guión (-)**.\n",
    "```\n",
    "email UMU: jane.doe@um.es --->  usuario JupyterHub: jane-doe-um-es\n",
    "```\n",
    "\n",
    "Debes establecer tu contraseña la primera vez que te conectes. "
   ]
  },
  {
   "cell_type": "markdown",
   "id": "25f0b372-80c3-4508-99f0-69d059c79198",
   "metadata": {},
   "source": [
    "<font size=\"4\">  \n",
    "    <span style=\"color: black;\"><b>AVISO IMPORTANTE: </b>\n",
    "    </span>\n",
    "</font>  \n",
    "Actualmente, el servidor JupyterHub de FC sólo permite acceder mediante el protocolo HTTP (conexión no segura). <b> ¡No reutilices una contraseña de otros servicios web!</b>"
   ]
  },
  {
   "cell_type": "markdown",
   "id": "10f05d4c-2762-4cca-b4e1-fb1ac0cb04d3",
   "metadata": {},
   "source": [
    "## El repositorio Git `fc-alumno`: la *bitácora* del alumno de FC\n",
    "\n",
    "Durante el transcurso de la asignatura de Fundamentos de Computadores, cada estudiante debe registrar su trabajo mediante un repositorio Git. Dicho repositorio estará alojado **obligatoriamente en el servidor de JupyterHub** de FC, aunque también **se recomienda alojar una copia PRIVADA en GitHub**.\n",
    "\n",
    "En dicho repositorio el alumno deberá registrar de manera periódica su trabajo en las prácticas de FC. Al otorgar acceso al docente como colaborador de su repositorio personal en GitHub, el alumno facilita la tarea de evaluación continua y el seguimiento de su trabajo por parte del profesor. Este repositorio Git funcionará, por tanto, como una bitácora personal de las prácticas de la asignatura de Fundamentos de Computadores. \n",
    "\n",
    "Además, alojar el repositorio en una plataforma en la nube como GitHub permitirá al alumno familiarizarse con el flujo de trabajo en Git con repositorios remotos, así como disponer de una copia de respaldo de su trabajo en los diferentes boletines de prácticas, en caso de que la copia en JupyterHub resulte accidentalmente dañada o borrada.\n"
   ]
  },
  {
   "cell_type": "markdown",
   "id": "710d1cbd-fd93-47b5-9375-1e4d2086cbc8",
   "metadata": {},
   "source": [
    "## Instalación de la bitácora en el servidor JH de FC"
   ]
  },
  {
   "cell_type": "markdown",
   "id": "10e67359-eb7f-41e0-8752-286bfdf02528",
   "metadata": {},
   "source": [
    "Tras conectarnos por primera vez a JH con nuestro nombre de usuario y contraseña, lo primero que debemos hacer es preparar el repositorio-bitácora donde llevaremos a cabo nuestro trabajo de prácticas de la asignatura. Para facilitarte la labor aún más, el servidor de JupyterHub ha sido configurado para poder realizar automáticamente la instalación de tu repositorio-bitácora: existe un *shell script* llamado `fc-alumno-instalar.sh`, que debes ejecutar tras acceder por primera vez a su cuenta de usuario de JuypterHub.\n",
    "\n",
    "[Vídeo con instrucciones para instalar la bitácora (minuto 5).](https://aulavirtual.um.es/access/content/group/6576_G_2024_N_N/Pr%C3%A1cticas/v%C3%ADdeos/S01-1-jupyterhub-acceso-instalar-bitacora.webm) *NOTA: Grabación **sin sonido***\n",
    "\n",
    "\n",
    "> Este script está en uno de los directorios en los que el *shell* sí busca programas (PATH). Por tanto, basta con teclear `fc-alumno-instalar.sh`, sin necesidad de indicar la ruta completa al fichero ejecutable.\n",
    "\n",
    "El *script* `fc-alumno-instalar.sh` lleva a cabo la configuración de tu identidad de Git, inicialización de tu repositorio-bitácora `fc-alumno` y comienza a versionar los *notebooks* de partida que encontrarás en el Aula Virtual. El *script* también se encarga de crear en tu cuenta de usuario de GitHub, una copia privada remota del repositorio que previamente ha creado en JupyterHub.\n",
    "\n",
    "> **NOTA: El término *remoto* puede resultar confuso, ya que en realidad tanto el repositorio en JupyterHub como en GitHub están alojados en la nube**, es decir, son ficheros que se guardan en ordenadores distintos al que tú utilizas cuando trabajas con el repositorio. Sin embargo, debes pensar que el término \"local\" no hace referencia a dónde estás situado tú físicamente, sino con qué (sistema de) ficheros estás trabajando. Puesto que lo recomendable para la realización de las prácticas de la asignatura es trabajar en los *notebooks* de ejercicios ubicados en tu cuenta de usuario del servidor de JupyterHub, **tu copia del repositorio en JupyterHub es la que debes considerar siempre como *tu copia local***. "
   ]
  },
  {
   "cell_type": "markdown",
   "id": "a5203d2c-4baf-45d2-874b-0838d3965261",
   "metadata": {},
   "source": [
    "## Alojar tu repositorio Git en GitHub\n",
    "\n",
    "En primer lugar, necesitas tener una cuenta de usuario asociada a tu correo eletrónico de la Universidad de Murcia. No importa si ya tenías cuenta en GitHub: debes abrir una nueva, siguiendo las instrucciones del profesor. \n",
    "\n",
    "> **DEBES DARTE DE ALTA EN GITHUB CON EL MISMO NOMBRE DE USUARIO QUE TIENES ASIGNADO EN JUPYTERHUB**. Si no lo haces, el script `fc-alumno-instalar.sh` no podrá configurar tu bitácora de JupyterHub adecuadamente, para que esté enlazada con GitHub y puedas sincronizar los cambios entre ellas de manera sencilla.\n",
    "\n",
    "[En este enlace](https://aulavirtual.um.es/access/content/group/6576_G_2024_N_N/Pr%C3%A1cticas/v%C3%ADdeos/S02-1.github-account_access-token.webm) puedes ver un vídeo sobre cómo crear una cuenta en GitHub y cómo usar el script `fc-alumno-instalar.sh` para crear un repositorio remoto en GitHub vinculado tu repositorio *local* de JupyterHub.\n",
    " \n",
    "Debes enviar periódicamente a tu copia remota en GitHub los cambios que hagas en tu copia local de JupyterHub, de manera que tengas una copia de seguridad (por ejemplo, en caso de que accidentalmente ejecutes `rm -rf ~` en tu directorio personal de JupyterHub)."
   ]
  },
  {
   "cell_type": "markdown",
   "id": "0bbf22c8-18b7-4d90-9781-8c46a8b72021",
   "metadata": {},
   "source": [
    "**FIN DEL CUADERNO** (*no borres esta celda*)\n",
    "\n",
    "@@@@ practica2-bitacora-instrucciones.ipynb @@@@"
   ]
  }
 ],
 "metadata": {
  "language_info": {
   "name": "bash"
  }
 },
 "nbformat": 4,
 "nbformat_minor": 5
}

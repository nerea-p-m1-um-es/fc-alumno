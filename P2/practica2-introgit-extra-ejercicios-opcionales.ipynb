{
 "cells": [
  {
   "cell_type": "markdown",
   "id": "7673defa",
   "metadata": {},
   "source": [
    "# Ejercicios - Práctica 2a: Control de versiones con Git"
   ]
  },
  {
   "cell_type": "markdown",
   "id": "e0e61f4f",
   "metadata": {},
   "source": [
    "## Comandos básicos de Git: Flujo de trabajo en un repositorio local"
   ]
  },
  {
   "cell_type": "markdown",
   "id": "1bbae4de",
   "metadata": {},
   "source": [
    "### Ubicación de un repositorio e importancia del directorio `.git`"
   ]
  },
  {
   "cell_type": "code",
   "execution_count": null,
   "id": "c737c68a-b208-4f3a-871a-e253d0addc09",
   "metadata": {},
   "outputs": [],
   "source": [
    "cd"
   ]
  },
  {
   "cell_type": "code",
   "execution_count": null,
   "id": "6cc809e4-3631-428a-9d8e-cef197652d74",
   "metadata": {},
   "outputs": [],
   "source": [
    "rm -rf p2a-ejercicio"
   ]
  },
  {
   "cell_type": "code",
   "execution_count": null,
   "id": "a45cf7e7-c25e-4ca4-94bf-de41cf516f20",
   "metadata": {},
   "outputs": [],
   "source": [
    "mkdir p2a-ejercicio"
   ]
  },
  {
   "cell_type": "code",
   "execution_count": null,
   "id": "b0ee6ba4-f46a-4d49-a7b1-c74447ece5a4",
   "metadata": {},
   "outputs": [],
   "source": [
    "cd p2a-ejercicio"
   ]
  },
  {
   "cell_type": "code",
   "execution_count": null,
   "id": "3e5d0a79-8def-473a-a42a-e2e8da173e2e",
   "metadata": {},
   "outputs": [],
   "source": [
    "git init"
   ]
  },
  {
   "cell_type": "code",
   "execution_count": null,
   "id": "7c813635-b46b-4753-8767-ff3d846d580a",
   "metadata": {},
   "outputs": [],
   "source": [
    "echo \"git revert\" > git-commands\n",
    "echo \"git diff\" >> git-commands\n",
    "echo \"git log\" >> git-commands"
   ]
  },
  {
   "cell_type": "code",
   "execution_count": null,
   "id": "d68ca8d2-2ac3-4e42-bbfa-18321116bdcc",
   "metadata": {},
   "outputs": [],
   "source": [
    "git add git-commands"
   ]
  },
  {
   "cell_type": "code",
   "execution_count": null,
   "id": "b5f8d915-ce47-4aad-8462-355e76d2ab68",
   "metadata": {},
   "outputs": [],
   "source": [
    "git commit -m \"Añadiendo fichero de comandos\""
   ]
  },
  {
   "cell_type": "code",
   "execution_count": null,
   "id": "5a04b4d8",
   "metadata": {},
   "outputs": [],
   "source": [
    "# Sin moverte de directorio (deberías estar en \"~/p2a-ejercicio\"),\n",
    "# crea un directorio llamado \"otrorepo\"\n"
   ]
  },
  {
   "cell_type": "code",
   "execution_count": null,
   "id": "01c607d1",
   "metadata": {},
   "outputs": [],
   "source": [
    "# Cámbiate al directorio que acabas de crear\n"
   ]
  },
  {
   "cell_type": "code",
   "execution_count": null,
   "id": "9173cca1",
   "metadata": {},
   "outputs": [],
   "source": [
    "# Crea un nuevo repositorio vacío\n"
   ]
  },
  {
   "cell_type": "code",
   "execution_count": null,
   "id": "e32c8099",
   "metadata": {},
   "outputs": [],
   "source": [
    "# Muestra el historial de commits\n"
   ]
  },
  {
   "cell_type": "markdown",
   "id": "ad27b6cf",
   "metadata": {},
   "source": [
    "PREGUNTA: \n",
    "- ¿En qué repositorio Git estás operando ahora mismo? ¿Por qué?\n",
    "    * a) En el repositorio donde está el fichero `git-commands`\n",
    "    * b) En el repositorio vacío que acabo de crear en `otrorepo`\n",
    "   \n",
    "RESPUESTA (razonada):\n",
    "\n"
   ]
  },
  {
   "cell_type": "markdown",
   "id": "0afae419",
   "metadata": {},
   "source": [
    "PREGUNTA: ¿Qué habría que hacer para volver a operar sobre el repositorio que contiene el fichero `git-commands`?\n",
    "\n",
    "RESPUESTA:\n",
    "\n"
   ]
  },
  {
   "cell_type": "code",
   "execution_count": null,
   "id": "299a03ba",
   "metadata": {},
   "outputs": [],
   "source": [
    "# Crea un fichero ejecutando esta celda\n"
   ]
  },
  {
   "cell_type": "code",
   "execution_count": null,
   "id": "11419c09",
   "metadata": {},
   "outputs": [],
   "source": [
    "# Haz que hello pase a estar en el repositorio que actualmente está vacío\n",
    "# Paso 1\n"
   ]
  },
  {
   "cell_type": "code",
   "execution_count": null,
   "id": "3ddccc08",
   "metadata": {},
   "outputs": [],
   "source": [
    "# Paso 2\n"
   ]
  },
  {
   "cell_type": "code",
   "execution_count": null,
   "id": "171e5fe2",
   "metadata": {},
   "outputs": [],
   "source": [
    "# Muestra el historial de commits\n"
   ]
  },
  {
   "cell_type": "markdown",
   "id": "8d94f119",
   "metadata": {},
   "source": [
    "PREGUNTA: Indica la ruta **ABSOLUTA** (empezando por ~) del directorio `.git` donde está el repositorio que únicamente contiene el fichero `hello`.\n",
    "\n",
    "RESPUESTA:\n",
    "\n"
   ]
  },
  {
   "cell_type": "code",
   "execution_count": null,
   "id": "f3a9d6da",
   "metadata": {},
   "outputs": [],
   "source": [
    "# Cambia al directorio padre del actual (padre de \"otrorepo\")\n"
   ]
  },
  {
   "cell_type": "code",
   "execution_count": null,
   "id": "b5a16eff",
   "metadata": {},
   "outputs": [],
   "source": [
    "# Muestra el historial de commits\n"
   ]
  },
  {
   "cell_type": "markdown",
   "id": "a6a09e3a",
   "metadata": {},
   "source": [
    "PREGUNTA: A la vista de la salida de `git log`, ¿en qué repositorio estás operando ahora? Indica la ruta **ABSOLUTA** a su directorio `.git`.\n",
    "\n",
    "RESPUESTA:\n",
    "\n"
   ]
  },
  {
   "cell_type": "markdown",
   "id": "ed327b0b",
   "metadata": {},
   "source": [
    "PREGUNTA: A la vista de todo lo anterior, explica por qué es posible tener varios repositorios Git ubicados dentro del mismo directorio en el sistema de ficheros:\n",
    "\n",
    "RESPUESTA:\n",
    "\n"
   ]
  },
  {
   "cell_type": "code",
   "execution_count": null,
   "id": "fc6ba897",
   "metadata": {},
   "outputs": [],
   "source": [
    "# Mueve el directorio \"otrorepo\" a \n",
    "# tu directorio personal ($HOME o ~)\n"
   ]
  },
  {
   "cell_type": "code",
   "execution_count": null,
   "id": "5a7881d4",
   "metadata": {},
   "outputs": [],
   "source": [
    "# Cámbiate al directorio \"otrorepo\"\n",
    "# en su nueva ubicación\n"
   ]
  },
  {
   "cell_type": "code",
   "execution_count": null,
   "id": "4026d782",
   "metadata": {},
   "outputs": [],
   "source": [
    "# Muestra el historial de commits\n"
   ]
  },
  {
   "cell_type": "markdown",
   "id": "f23c34ba",
   "metadata": {},
   "source": [
    "PREGUNTA: A la vista de la salida de `git log`, ¿es posible reubicar un directorio que contenga un repositorio o cambiarle el nombre a dicho directorio?\n",
    "\n",
    "RESPUESTA:\n",
    "\n"
   ]
  },
  {
   "cell_type": "code",
   "execution_count": null,
   "id": "b00f3152",
   "metadata": {},
   "outputs": [],
   "source": [
    "# Crea un directorio nuevo en \"~/testrepo\"\n"
   ]
  },
  {
   "cell_type": "code",
   "execution_count": null,
   "id": "3ed7277e",
   "metadata": {},
   "outputs": [],
   "source": [
    "# Cámbiate al directorio que acabas de crear\n"
   ]
  },
  {
   "cell_type": "code",
   "execution_count": null,
   "id": "d529a372",
   "metadata": {},
   "outputs": [],
   "source": [
    "# Ejecuta el siguiente comando:\n"
   ]
  },
  {
   "cell_type": "markdown",
   "id": "32af943e",
   "metadata": {},
   "source": [
    "- ¿Hay algún repositorio Git en este directorio (o alguno de sus ancestros)?\n",
    "\n",
    "RESPUESTA:\n",
    "\n"
   ]
  },
  {
   "cell_type": "code",
   "execution_count": null,
   "id": "ba2aa53d",
   "metadata": {},
   "outputs": [],
   "source": [
    "# Regresa al directorio \"otrorepo\"\n"
   ]
  },
  {
   "cell_type": "code",
   "execution_count": null,
   "id": "522a34b5",
   "metadata": {},
   "outputs": [],
   "source": [
    "# Mueve el directorio \".git\" del directorio \"otrorepo\" al directorio \"~/testrepo\"\n"
   ]
  },
  {
   "cell_type": "code",
   "execution_count": null,
   "id": "9c48b568-f96e-45e3-b172-9b21da9560e8",
   "metadata": {},
   "outputs": [],
   "source": [
    "pwd"
   ]
  },
  {
   "cell_type": "code",
   "execution_count": null,
   "id": "44ecaaa6",
   "metadata": {},
   "outputs": [],
   "source": [
    "# Sin moverte de directorio, muestra el historial de commits\n"
   ]
  },
  {
   "cell_type": "markdown",
   "id": "f3abbe40",
   "metadata": {},
   "source": [
    "PREGUNTA: ¿Qué ha ocurrido al mover (eliminar) el directorio `.git` del directorio  `otrorepo`?\n",
    "\n",
    "RESPUESTA:\n",
    "\n"
   ]
  },
  {
   "cell_type": "code",
   "execution_count": null,
   "id": "5813ab38",
   "metadata": {},
   "outputs": [],
   "source": [
    "# Cámbiate al directorio \"~/testrepo\"\n"
   ]
  },
  {
   "cell_type": "code",
   "execution_count": null,
   "id": "156c26cf",
   "metadata": {},
   "outputs": [],
   "source": [
    "# Lista el contenido del directorio actual\n"
   ]
  },
  {
   "cell_type": "markdown",
   "id": "647c25b3",
   "metadata": {},
   "source": [
    "No debería haber ningún fichero en directorio actual."
   ]
  },
  {
   "cell_type": "code",
   "execution_count": null,
   "id": "c5085038",
   "metadata": {},
   "outputs": [],
   "source": [
    "# Ejecuta el siguiente comando\n"
   ]
  },
  {
   "cell_type": "markdown",
   "id": "879b95c2-c2fe-4a53-8ab2-4138181a31a8",
   "metadata": {},
   "source": [
    "PREGUNTA: ¿Por qué ahora `git status` sí funciona? \n",
    "\n",
    "RESPUESTA:\n",
    "\n"
   ]
  },
  {
   "cell_type": "code",
   "execution_count": null,
   "id": "b2be8c8d",
   "metadata": {},
   "outputs": [],
   "source": [
    "# Restaura el fichero \"hello\"\n"
   ]
  },
  {
   "cell_type": "code",
   "execution_count": null,
   "id": "ec7ec849",
   "metadata": {},
   "outputs": [],
   "source": [
    "# Lista el contenido del directorio actual\n"
   ]
  },
  {
   "cell_type": "markdown",
   "id": "9a8ec5a2",
   "metadata": {},
   "source": [
    "PREGUNTA: ¿Dónde se almacena la información que Git usa para ser capaz de restaurar el fichero \"hello\" de la celda anterior?\n",
    "\n",
    "RESPUESTA:\n",
    "\n"
   ]
  },
  {
   "cell_type": "markdown",
   "id": "db4ef628",
   "metadata": {},
   "source": [
    "Finalmente, elimina los directorios de prueba que hemos utilizado en estos ejercicios."
   ]
  },
  {
   "cell_type": "code",
   "execution_count": null,
   "id": "eff77a64",
   "metadata": {},
   "outputs": [],
   "source": [
    "# Elimina el directorio \"~/p2a-ejercicio\" testrepo y otrorepo\n",
    "cd && rm -rf testrepo otrorepo p2a-ejercicio"
   ]
  },
  {
   "cell_type": "markdown",
   "id": "0bbf22c8-18b7-4d90-9781-8c46a8b72021",
   "metadata": {},
   "source": [
    "**FIN DEL CUADERNO** (*no borres esta celda*)\n",
    "\n",
    "@@@@ practica2-introgit-extra-ejercicios-opcionales.ipynb @@@@"
   ]
  }
 ],
 "metadata": {
  "language_info": {
   "name": "bash"
  }
 },
 "nbformat": 4,
 "nbformat_minor": 5
}

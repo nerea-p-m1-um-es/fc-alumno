{
 "cells": [
  {
   "cell_type": "markdown",
   "id": "8e983960",
   "metadata": {},
   "source": [
    "# Ejercicios - Práctica 1: Introducción al *shell* de Linux. "
   ]
  },
  {
   "cell_type": "markdown",
   "id": "4159846a-fece-4dd0-b138-20b4078bb60a",
   "metadata": {},
   "source": [
    "## Comandos básicos de manejo de ficheros: Resumen\n",
    "\n",
    "El terminal de Linux nos ofrece muchas posibilidades de listado y manejo de ficheros y directorios de un modo\n",
    "más personalizado que un interfaz gráfico. Por ahora, vamos a aprender los comandos más básicos:\n",
    "* `ls` : Lista el contenido del directorio actual.\n",
    "* `touch FICHERO` : Crea un nuevo fichero vacío en la ruta indicada, en caso de que no exista. En otro caso, le cambia la fecha y hora de modificación a la actual sin modificar su contenido.\n",
    "* `cat FICHERO ...` : Muestra el contenido completo de los ficheros indicados.\n",
    "* `less FICHERO ...` : Muestra el contenido de los ficheros indicados, con la opción de avanzar y retroceder.\n",
    "* `rm FICHERO ...` : Borra los ficheros indicados. También puede utilizarse para borrar directorios, para lo cual se usa la opción `-r`.\n",
    "* `cp FICHERO DIRECTORIO` : Copia el fichero origen indicado al directorio destino, que debe existir previamente.\n",
    "* `mkdir DIRECTORIO` : Crea un directorio vacío en la ruta designada.\n",
    "* `rmdir DIRECTORIO` : Borra el directorio indicado, siempre que esté vacío. Si no, hay que borrar primero\n",
    "todas sus entradas, o bien simplemente usar el comando rm con la opción `-r` (borrado recursivo)."
   ]
  },
  {
   "cell_type": "markdown",
   "id": "b836c37f",
   "metadata": {},
   "source": [
    "Escribe el comando adecuado según lo indicado en cada celda. Puedes abrir un terminal para realizar pruebas y finalmente escribir tu respuesta en la celda correspondiente."
   ]
  },
  {
   "cell_type": "code",
   "execution_count": 1,
   "id": "dfa2b92e-5e48-463d-a6ff-d07a6e0de526",
   "metadata": {
    "execution": {
     "iopub.execute_input": "2024-09-10T16:03:56.989604Z",
     "iopub.status.busy": "2024-09-10T16:03:56.989293Z",
     "iopub.status.idle": "2024-09-10T16:03:57.149609Z",
     "shell.execute_reply": "2024-09-10T16:03:57.148536Z"
    }
   },
   "outputs": [],
   "source": [
    "# Ejecuta esta celda para crear algunos directorios, en caso de que no existan\n",
    "cd && mkdir -p downloads desktop && cp -r /etc/h* downloads"
   ]
  },
  {
   "cell_type": "markdown",
   "id": "1dce5750",
   "metadata": {},
   "source": [
    "## Directorio de trabajo actual. \n",
    "\n",
    "Como hemos visto, para cambiar el directorio de trabajo se utiliza el comando `cd`, una abreviatura de “cambiar de directorio”."
   ]
  },
  {
   "cell_type": "code",
   "execution_count": 2,
   "id": "efa790a1",
   "metadata": {
    "execution": {
     "iopub.execute_input": "2024-09-10T16:03:57.153833Z",
     "iopub.status.busy": "2024-09-10T16:03:57.153550Z",
     "iopub.status.idle": "2024-09-10T16:03:57.309292Z",
     "shell.execute_reply": "2024-09-10T16:03:57.308493Z"
    }
   },
   "outputs": [],
   "source": [
    "# Cámbiate al directorio raíz. \n",
     ""
   ]
  },
  {
   "cell_type": "code",
   "execution_count": 3,
   "id": "2b9e2e3e",
   "metadata": {
    "execution": {
     "iopub.execute_input": "2024-09-10T16:03:57.313081Z",
     "iopub.status.busy": "2024-09-10T16:03:57.312810Z",
     "iopub.status.idle": "2024-09-10T16:03:57.468742Z",
     "shell.execute_reply": "2024-09-10T16:03:57.467894Z"
    }
   },
   "outputs": [
    {
     "name": "stdout",
     "output_type": "stream",
     "text": [
      "/\n"
     ]
    }
   ],
   "source": [
    "# muestra la ruta del directorio actual\n",
    "pwd"
   ]
  },
  {
   "cell_type": "code",
   "execution_count": 4,
   "id": "801de4f4",
   "metadata": {
    "execution": {
     "iopub.execute_input": "2024-09-10T16:03:57.472452Z",
     "iopub.status.busy": "2024-09-10T16:03:57.472177Z",
     "iopub.status.idle": "2024-09-10T16:03:57.630733Z",
     "shell.execute_reply": "2024-09-10T16:03:57.629807Z"
    }
   },
   "outputs": [
    {
     "name": "stdout",
     "output_type": "stream",
     "text": [
      "\u001b[0m\u001b[01;36mbin\u001b[0m   \u001b[01;34mdev\u001b[0m  \u001b[01;34mhome\u001b[0m  \u001b[01;36mlib32\u001b[0m  \u001b[01;36mlibx32\u001b[0m      \u001b[01;34mmedia\u001b[0m  \u001b[01;34mopt\u001b[0m   \u001b[01;34mroot\u001b[0m  \u001b[01;36msbin\u001b[0m  \u001b[01;34msrv\u001b[0m  \u001b[30;42mtmp\u001b[0m  \u001b[01;34mvar\u001b[0m\n"
     ]
    },
    {
     "name": "stdout",
     "output_type": "stream",
     "text": [
      "\u001b[01;34mboot\u001b[0m  \u001b[01;34metc\u001b[0m  \u001b[01;36mlib\u001b[0m   \u001b[01;36mlib64\u001b[0m  \u001b[01;34mlost+found\u001b[0m  \u001b[01;34mmnt\u001b[0m    \u001b[01;34mproc\u001b[0m  \u001b[01;34mrun\u001b[0m   \u001b[01;34msnap\u001b[0m  \u001b[01;34msys\u001b[0m  \u001b[01;34musr\u001b[0m\n"
     ]
    }
   ],
   "source": [
    "# Lista el contenido de /\n",
     ""
   ]
  },
  {
   "cell_type": "code",
   "execution_count": 5,
   "id": "373d67e2",
   "metadata": {
    "execution": {
     "iopub.execute_input": "2024-09-10T16:03:57.634441Z",
     "iopub.status.busy": "2024-09-10T16:03:57.634148Z",
     "iopub.status.idle": "2024-09-10T16:03:57.790244Z",
     "shell.execute_reply": "2024-09-10T16:03:57.789075Z"
    }
   },
   "outputs": [],
   "source": [
    "# Cámbiate al directorio `home`, que es un subdirectorio inmediato de /\n",
     ""
   ]
  },
  {
   "cell_type": "code",
   "execution_count": 6,
   "id": "a2ffbfa9",
   "metadata": {
    "execution": {
     "iopub.execute_input": "2024-09-10T16:03:57.794159Z",
     "iopub.status.busy": "2024-09-10T16:03:57.793889Z",
     "iopub.status.idle": "2024-09-10T16:03:57.950141Z",
     "shell.execute_reply": "2024-09-10T16:03:57.949082Z"
    }
   },
   "outputs": [
    {
     "name": "stdout",
     "output_type": "stream",
     "text": [
      "/home\n"
     ]
    }
   ],
   "source": [
    "# muestra la ruta del directorio actual\n",
    "pwd"
   ]
  },
  {
   "cell_type": "code",
   "execution_count": 7,
   "id": "95c0b92e",
   "metadata": {
    "execution": {
     "iopub.execute_input": "2024-09-10T16:03:57.954019Z",
     "iopub.status.busy": "2024-09-10T16:03:57.953725Z",
     "iopub.status.idle": "2024-09-10T16:03:58.112419Z",
     "shell.execute_reply": "2024-09-10T16:03:58.111470Z"
    }
   },
   "outputs": [
    {
     "name": "stdout",
     "output_type": "stream",
     "text": [
      "\u001b[0m\u001b[01;34malumno\u001b[0m                  \u001b[01;34mjupyter-jr-titosg-um-es\u001b[0m           \u001b[01;34mjupyter-rtitos-um-es\u001b[0m\n"
     ]
    },
    {
     "name": "stdout",
     "output_type": "stream",
     "text": [
      "\u001b[01;34mjupyter-jane-doe-um-es\u001b[0m  \u001b[01;34mjupyter-pedro-perezl-um-es-0ec51\u001b[0m  \u001b[01;34mubuntu\u001b[0m\n"
     ]
    }
   ],
   "source": [
    "# Lista su contenido del directorio actual\n",
     ""
   ]
  },
  {
   "cell_type": "code",
   "execution_count": 8,
   "id": "97356588",
   "metadata": {
    "execution": {
     "iopub.execute_input": "2024-09-10T16:03:58.116158Z",
     "iopub.status.busy": "2024-09-10T16:03:58.115854Z",
     "iopub.status.idle": "2024-09-10T16:03:58.322542Z",
     "shell.execute_reply": "2024-09-10T16:03:58.321656Z"
    }
   },
   "outputs": [],
   "source": [
    "# Sube al directorio padre del directorio de trabajo actual\n",
    "# En este caso, irás de vuelta a “/”.\n",
     ""
   ]
  },
  {
   "cell_type": "code",
   "execution_count": 9,
   "id": "0320768e-dbe8-4692-a756-4e66c20e84c9",
   "metadata": {
    "execution": {
     "iopub.execute_input": "2024-09-10T16:03:58.326515Z",
     "iopub.status.busy": "2024-09-10T16:03:58.325880Z",
     "iopub.status.idle": "2024-09-10T16:03:58.430833Z",
     "shell.execute_reply": "2024-09-10T16:03:58.429921Z"
    }
   },
   "outputs": [
    {
     "name": "stdout",
     "output_type": "stream",
     "text": [
      "/\n"
     ]
    }
   ],
   "source": [
    "pwd"
   ]
  },
  {
   "cell_type": "markdown",
   "id": "58013411-08b2-41fc-a571-233534618f28",
   "metadata": {},
   "source": [
    "NOTA: *Nunca olvides el espacio entre “cd” y “..”, respetando siempre la estructura general de un comando (comando + opciones + parámetros, **separados por espacios**)*."
   ]
  },
  {
   "cell_type": "code",
   "execution_count": 10,
   "id": "e2bff392",
   "metadata": {
    "execution": {
     "iopub.execute_input": "2024-09-10T16:03:58.435051Z",
     "iopub.status.busy": "2024-09-10T16:03:58.434333Z",
     "iopub.status.idle": "2024-09-10T16:03:58.590222Z",
     "shell.execute_reply": "2024-09-10T16:03:58.589379Z"
    }
   },
   "outputs": [],
   "source": [
    "# Cámbiate a tu directorio de usuario de la forma más rápida posible  \n",
     ""
   ]
  },
  {
   "cell_type": "code",
   "execution_count": 11,
   "id": "60c59756",
   "metadata": {
    "execution": {
     "iopub.execute_input": "2024-09-10T16:03:58.593948Z",
     "iopub.status.busy": "2024-09-10T16:03:58.593665Z",
     "iopub.status.idle": "2024-09-10T16:03:58.749771Z",
     "shell.execute_reply": "2024-09-10T16:03:58.748835Z"
    }
   },
   "outputs": [
    {
     "name": "stdout",
     "output_type": "stream",
     "text": [
      "/home/jupyter-rtitos-um-es\n"
     ]
    }
   ],
   "source": [
    "# muestra la ruta del directorio actual\n",
    "pwd"
   ]
  },
  {
   "cell_type": "code",
   "execution_count": 12,
   "id": "577bfbd6",
   "metadata": {
    "execution": {
     "iopub.execute_input": "2024-09-10T16:03:58.753661Z",
     "iopub.status.busy": "2024-09-10T16:03:58.753031Z",
     "iopub.status.idle": "2024-09-10T16:03:58.911533Z",
     "shell.execute_reply": "2024-09-10T16:03:58.910660Z"
    }
   },
   "outputs": [
    {
     "name": "stdout",
     "output_type": "stream",
     "text": [
      "\u001b[0m\u001b[01;34mdesktop\u001b[0m  \u001b[01;34mdownloads\u001b[0m  \u001b[01;34mfc-alumno\u001b[0m\n"
     ]
    }
   ],
   "source": [
    "# Lista el contenido del directorio actual\n",
     ""
   ]
  },
  {
   "cell_type": "markdown",
   "id": "3dfbb378",
   "metadata": {},
   "source": [
    "- Recuerda que puedes usar `..` más de una vez si tienes que subir por varios niveles de directorios padre: La ruta `../..` significa “partiendo del directorio de trabajo actual, ve al directorio padre, y desde esa ahí a su vez a su padre”."
   ]
  },
  {
   "cell_type": "code",
   "execution_count": 13,
   "id": "3d58b5c2",
   "metadata": {
    "execution": {
     "iopub.execute_input": "2024-09-10T16:03:58.915341Z",
     "iopub.status.busy": "2024-09-10T16:03:58.915046Z",
     "iopub.status.idle": "2024-09-10T16:03:59.124995Z",
     "shell.execute_reply": "2024-09-10T16:03:59.123966Z"
    }
   },
   "outputs": [],
   "source": [
    "# Cambia directamente desde el directorio actual (directorio \n",
    "# personal) hasta el directorio raíz, usando rutas relativas\n",
     ""
   ]
  },
  {
   "cell_type": "code",
   "execution_count": 14,
   "id": "25ce3276",
   "metadata": {
    "execution": {
     "iopub.execute_input": "2024-09-10T16:03:59.129009Z",
     "iopub.status.busy": "2024-09-10T16:03:59.128727Z",
     "iopub.status.idle": "2024-09-10T16:03:59.233585Z",
     "shell.execute_reply": "2024-09-10T16:03:59.232684Z"
    }
   },
   "outputs": [
    {
     "name": "stdout",
     "output_type": "stream",
     "text": [
      "/\n"
     ]
    }
   ],
   "source": [
    "pwd"
   ]
  },
  {
   "cell_type": "code",
   "execution_count": 15,
   "id": "c2d130c7",
   "metadata": {
    "execution": {
     "iopub.execute_input": "2024-09-10T16:03:59.237198Z",
     "iopub.status.busy": "2024-09-10T16:03:59.236920Z",
     "iopub.status.idle": "2024-09-10T16:03:59.443908Z",
     "shell.execute_reply": "2024-09-10T16:03:59.442846Z"
    }
   },
   "outputs": [
    {
     "name": "stdout",
     "output_type": "stream",
     "text": [
      "/home/jupyter-rtitos-um-es\n"
     ]
    }
   ],
   "source": [
    "# Regresa *de la forma más rápida posible* al directorio donde\n",
    "# te encontrabas antes de último cambio de directorio:\n",
     ""
   ]
  },
  {
   "cell_type": "code",
   "execution_count": 16,
   "id": "86f55c6a",
   "metadata": {
    "execution": {
     "iopub.execute_input": "2024-09-10T16:03:59.447811Z",
     "iopub.status.busy": "2024-09-10T16:03:59.447516Z",
     "iopub.status.idle": "2024-09-10T16:03:59.552475Z",
     "shell.execute_reply": "2024-09-10T16:03:59.551700Z"
    }
   },
   "outputs": [
    {
     "name": "stdout",
     "output_type": "stream",
     "text": [
      "/home/jupyter-rtitos-um-es\n"
     ]
    }
   ],
   "source": [
    "pwd"
   ]
  },
  {
   "cell_type": "markdown",
   "id": "52527fef",
   "metadata": {},
   "source": [
    "Ahora deberías estar de nuevo en tu directorio personal (`/home/alumno` o similar)"
   ]
  },
  {
   "cell_type": "markdown",
   "id": "8363d7af",
   "metadata": {},
   "source": [
    "## Rutas relativas y absolutas\n",
    "\n",
    "La mayoría de los ejemplos que hemos visto hasta ahora utilizan rutas relativas. Es decir, el lugar en el que terminas depende de tu directorio de trabajo actual.\n"
   ]
  },
  {
   "cell_type": "code",
   "execution_count": 17,
   "id": "8f8325e4",
   "metadata": {
    "execution": {
     "iopub.execute_input": "2024-09-10T16:03:59.556480Z",
     "iopub.status.busy": "2024-09-10T16:03:59.556206Z",
     "iopub.status.idle": "2024-09-10T16:03:59.711881Z",
     "shell.execute_reply": "2024-09-10T16:03:59.710920Z"
    }
   },
   "outputs": [],
   "source": [
    "# Cámbiate al directorio raíz\n",
     ""
   ]
  },
  {
   "cell_type": "code",
   "execution_count": 18,
   "id": "157a49c8",
   "metadata": {
    "execution": {
     "iopub.execute_input": "2024-09-10T16:03:59.715725Z",
     "iopub.status.busy": "2024-09-10T16:03:59.715215Z",
     "iopub.status.idle": "2024-09-10T16:03:59.871413Z",
     "shell.execute_reply": "2024-09-10T16:03:59.870556Z"
    }
   },
   "outputs": [],
   "source": [
    "# Ahora entra en el subdirectorio `etc` con una ruta relativa\n",
     ""
   ]
  },
  {
   "cell_type": "code",
   "execution_count": 19,
   "id": "6307c3da",
   "metadata": {
    "execution": {
     "iopub.execute_input": "2024-09-10T16:03:59.874955Z",
     "iopub.status.busy": "2024-09-10T16:03:59.874670Z",
     "iopub.status.idle": "2024-09-10T16:03:59.979702Z",
     "shell.execute_reply": "2024-09-10T16:03:59.978908Z"
    }
   },
   "outputs": [
    {
     "name": "stdout",
     "output_type": "stream",
     "text": [
      "/etc\n"
     ]
    }
   ],
   "source": [
    "pwd"
   ]
  },
  {
   "cell_type": "markdown",
   "id": "89df46ae",
   "metadata": {},
   "source": [
    "Deberías estar en `/etc`. Ahora bien, si ejecutas `cd etc` estando tu directorio personal en vez de en el directorio raíz, ¿qué pasa?"
   ]
  },
  {
   "cell_type": "code",
   "execution_count": 20,
   "id": "12858877",
   "metadata": {
    "execution": {
     "iopub.execute_input": "2024-09-10T16:03:59.983604Z",
     "iopub.status.busy": "2024-09-10T16:03:59.983325Z",
     "iopub.status.idle": "2024-09-10T16:04:00.087789Z",
     "shell.execute_reply": "2024-09-10T16:04:00.086960Z"
    }
   },
   "outputs": [],
   "source": [
    "cd"
   ]
  },
  {
   "cell_type": "code",
   "execution_count": 21,
   "id": "1c0d9497-97b6-4035-ac83-bc7bc6785180",
   "metadata": {
    "execution": {
     "iopub.execute_input": "2024-09-10T16:04:00.091571Z",
     "iopub.status.busy": "2024-09-10T16:04:00.091269Z",
     "iopub.status.idle": "2024-09-10T16:04:00.196475Z",
     "shell.execute_reply": "2024-09-10T16:04:00.195626Z"
    }
   },
   "outputs": [
    {
     "name": "stdout",
     "output_type": "stream",
     "text": [
      "/home/jupyter-rtitos-um-es\n"
     ]
    }
   ],
   "source": [
    "pwd"
   ]
  },
  {
   "cell_type": "code",
   "execution_count": 22,
   "id": "527f1e04",
   "metadata": {
    "execution": {
     "iopub.execute_input": "2024-09-10T16:04:00.200666Z",
     "iopub.status.busy": "2024-09-10T16:04:00.199874Z",
     "iopub.status.idle": "2024-09-10T16:04:00.306171Z",
     "shell.execute_reply": "2024-09-10T16:04:00.305286Z"
    }
   },
   "outputs": [
    {
     "name": "stdout",
     "output_type": "stream",
     "text": [
      "bash: cd: etc: No existe el archivo o el directorio\n"
     ]
    },
    {
     "ename": "",
     "evalue": "1",
     "output_type": "error",
     "traceback": []
    }
   ],
   "source": [
    "cd etc"
   ]
  },
  {
   "cell_type": "markdown",
   "id": "67c96a85-642d-4e17-84cb-9e4cecd789e9",
   "metadata": {},
   "source": [
    "RESPUESTA:\n",
    "\n",
     ""
   ]
  },
  {
   "cell_type": "code",
   "execution_count": 23,
   "id": "d34d79b0",
   "metadata": {
    "execution": {
     "iopub.execute_input": "2024-09-10T16:04:00.309959Z",
     "iopub.status.busy": "2024-09-10T16:04:00.309656Z",
     "iopub.status.idle": "2024-09-10T16:04:00.516321Z",
     "shell.execute_reply": "2024-09-10T16:04:00.515538Z"
    }
   },
   "outputs": [],
   "source": [
    "# Usa una ruta para cambiar al directorio `etc` que hay en el directorio raíz,\n",
    "# sin importar en qué parte del sistema de ficheros te encuentres en ese momento\n",
     ""
   ]
  },
  {
   "cell_type": "code",
   "execution_count": 24,
   "id": "2c6dda8d",
   "metadata": {
    "execution": {
     "iopub.execute_input": "2024-09-10T16:04:00.519999Z",
     "iopub.status.busy": "2024-09-10T16:04:00.519709Z",
     "iopub.status.idle": "2024-09-10T16:04:00.624728Z",
     "shell.execute_reply": "2024-09-10T16:04:00.623758Z"
    }
   },
   "outputs": [
    {
     "name": "stdout",
     "output_type": "stream",
     "text": [
      "/etc\n"
     ]
    }
   ],
   "source": [
    "pwd"
   ]
  },
  {
   "cell_type": "markdown",
   "id": "f1e3aa5c",
   "metadata": {},
   "source": [
    "- Recuerda que la tilde `~` (teclas `Alt Gr`+`4`) es un abreviatura de la *ruta absoluta* a tu directorio personal (p.ej., `/home/alumno`). "
   ]
  },
  {
   "cell_type": "code",
   "execution_count": 25,
   "id": "8a70ed34",
   "metadata": {
    "execution": {
     "iopub.execute_input": "2024-09-10T16:04:00.628482Z",
     "iopub.status.busy": "2024-09-10T16:04:00.628169Z",
     "iopub.status.idle": "2024-09-10T16:04:00.834902Z",
     "shell.execute_reply": "2024-09-10T16:04:00.833922Z"
    }
   },
   "outputs": [],
   "source": [
    "# Usando dicho atajo (~), cámbiate directamente al directorio `desktop` que \n",
    "# hay en tu carpeta personal\n",
     ""
   ]
  },
  {
   "cell_type": "code",
   "execution_count": 26,
   "id": "204f4d44",
   "metadata": {
    "execution": {
     "iopub.execute_input": "2024-09-10T16:04:00.838614Z",
     "iopub.status.busy": "2024-09-10T16:04:00.838329Z",
     "iopub.status.idle": "2024-09-10T16:04:01.048326Z",
     "shell.execute_reply": "2024-09-10T16:04:01.047147Z"
    }
   },
   "outputs": [
    {
     "name": "stdout",
     "output_type": "stream",
     "text": [
      "hdparm.conf  host.conf  hostname  hosts  hosts.allow  hosts.deny\n"
     ]
    }
   ],
   "source": [
    "# Ahora lista el contenido del subdirectorio `downloads` que hay en tu\n",
    "# directorio personal, usando su **ruta absoluta**.\n",
     ""
   ]
  },
  {
   "cell_type": "code",
   "execution_count": 27,
   "id": "487848f7",
   "metadata": {
    "execution": {
     "iopub.execute_input": "2024-09-10T16:04:01.052106Z",
     "iopub.status.busy": "2024-09-10T16:04:01.051800Z",
     "iopub.status.idle": "2024-09-10T16:04:01.314301Z",
     "shell.execute_reply": "2024-09-10T16:04:01.313226Z"
    },
    "vscode": {
     "languageId": "bat"
    }
   },
   "outputs": [
    {
     "name": "stdout",
     "output_type": "stream",
     "text": [
      "total 28\n"
     ]
    },
    {
     "name": "stdout",
     "output_type": "stream",
     "text": [
      "-rw-r--r-- 1 jupyter-rtitos-um-es jupyter-rtitos-um-es 4436 sep 10 16:03 hdparm.conf\n"
     ]
    },
    {
     "name": "stdout",
     "output_type": "stream",
     "text": [
      "-rw-r--r-- 1 jupyter-rtitos-um-es jupyter-rtitos-um-es   92 sep 10 16:03 host.conf\n"
     ]
    },
    {
     "name": "stdout",
     "output_type": "stream",
     "text": [
      "-rw-r--r-- 1 jupyter-rtitos-um-es jupyter-rtitos-um-es   20 sep 10 16:03 hostname\n"
     ]
    },
    {
     "name": "stdout",
     "output_type": "stream",
     "text": [
      "-rw-r--r-- 1 jupyter-rtitos-um-es jupyter-rtitos-um-es  271 sep 10 16:03 hosts\n"
     ]
    },
    {
     "name": "stdout",
     "output_type": "stream",
     "text": [
      "-rw-r--r-- 1 jupyter-rtitos-um-es jupyter-rtitos-um-es  411 sep 10 16:03 hosts.allow\n"
     ]
    },
    {
     "name": "stdout",
     "output_type": "stream",
     "text": [
      "-rw-r--r-- 1 jupyter-rtitos-um-es jupyter-rtitos-um-es  711 sep 10 16:03 hosts.deny\n"
     ]
    }
   ],
   "source": [
    "# Tanto `downloads` como `desktop` son subdirectorios de tu directorio personal.\n",
    "# Haz un *listado largo* del contenido del subdirectorio `downloads` usando la \n",
    "# **ruta relativa** desde tu directorio de trabajo actual (deberías estar en `~/desktop`).\n",
     ""
   ]
  },
  {
   "cell_type": "markdown",
   "id": "cf3c27d5",
   "metadata": {},
   "source": [
    "- En realidad, las rutas relativas funcionan porque todos los directorios del sistema de ficheros siempre contienen dos subdirectorios especiales, llamados  `.` y `..` que hacen referencia, respectivamente, al propio directorio y a su directorio padre. Para listar **todos** los ficheros de un directorio debemos usar la opción `-a` (de *all*)."
   ]
  },
  {
   "cell_type": "code",
   "execution_count": 28,
   "id": "52e92356-1b76-4d6d-b160-9a01d4708f75",
   "metadata": {
    "execution": {
     "iopub.execute_input": "2024-09-10T16:04:01.318103Z",
     "iopub.status.busy": "2024-09-10T16:04:01.317812Z",
     "iopub.status.idle": "2024-09-10T16:04:01.475640Z",
     "shell.execute_reply": "2024-09-10T16:04:01.474762Z"
    }
   },
   "outputs": [],
   "source": [
    "# Crea un directorio llamado dirvacio\n",
     ""
   ]
  },
  {
   "cell_type": "code",
   "execution_count": 29,
   "id": "d7c40844-e851-4cc6-aa99-08633169ebf8",
   "metadata": {
    "execution": {
     "iopub.execute_input": "2024-09-10T16:04:01.479238Z",
     "iopub.status.busy": "2024-09-10T16:04:01.478961Z",
     "iopub.status.idle": "2024-09-10T16:04:01.634777Z",
     "shell.execute_reply": "2024-09-10T16:04:01.633758Z"
    }
   },
   "outputs": [],
   "source": [
    "# Entra en dirvacio\n",
     ""
   ]
  },
  {
   "cell_type": "code",
   "execution_count": 30,
   "id": "c6fa3ee1-c600-42a4-b06c-0882af6c4864",
   "metadata": {
    "execution": {
     "iopub.execute_input": "2024-09-10T16:04:01.638448Z",
     "iopub.status.busy": "2024-09-10T16:04:01.638141Z",
     "iopub.status.idle": "2024-09-10T16:04:01.796453Z",
     "shell.execute_reply": "2024-09-10T16:04:01.795600Z"
    }
   },
   "outputs": [
    {
     "name": "stdout",
     "output_type": "stream",
     "text": [
      "\u001b[0m\u001b[01;34m.\u001b[0m  \u001b[01;34m..\u001b[0m\n"
     ]
    }
   ],
   "source": [
    "# Lista su contenido, incluyendo todos los ficheros\n",
     ""
   ]
  },
  {
   "cell_type": "code",
   "execution_count": 31,
   "id": "a07cfa68-f148-40a9-a691-e7c6abb0054b",
   "metadata": {
    "execution": {
     "iopub.execute_input": "2024-09-10T16:04:01.800190Z",
     "iopub.status.busy": "2024-09-10T16:04:01.799906Z",
     "iopub.status.idle": "2024-09-10T16:04:01.955559Z",
     "shell.execute_reply": "2024-09-10T16:04:01.954762Z"
    }
   },
   "outputs": [],
   "source": [
    "# Cámbiate al directorio padre del actual\n",
     ""
   ]
  },
  {
   "cell_type": "code",
   "execution_count": 32,
   "id": "b8cc5d7c-c10b-4593-89d9-754e9881f9db",
   "metadata": {
    "execution": {
     "iopub.execute_input": "2024-09-10T16:04:01.959259Z",
     "iopub.status.busy": "2024-09-10T16:04:01.958966Z",
     "iopub.status.idle": "2024-09-10T16:04:02.116873Z",
     "shell.execute_reply": "2024-09-10T16:04:02.115873Z"
    }
   },
   "outputs": [],
   "source": [
    "# Elimina el directorio dirvacio\n",
     ""
   ]
  },
  {
   "cell_type": "code",
   "execution_count": 33,
   "id": "f6e1d794-1a56-42d7-88cd-6286ce2e7d04",
   "metadata": {
    "execution": {
     "iopub.execute_input": "2024-09-10T16:04:02.120776Z",
     "iopub.status.busy": "2024-09-10T16:04:02.120454Z",
     "iopub.status.idle": "2024-09-10T16:04:02.276240Z",
     "shell.execute_reply": "2024-09-10T16:04:02.275326Z"
    }
   },
   "outputs": [
    {
     "name": "stdout",
     "output_type": "stream",
     "text": [
      "/home/jupyter-rtitos-um-es/desktop\n"
     ]
    }
   ],
   "source": [
    "# Deberías estar en `~/desktop`\n",
    "pwd"
   ]
  },
  {
   "cell_type": "code",
   "execution_count": 34,
   "id": "c7b6c629",
   "metadata": {
    "execution": {
     "iopub.execute_input": "2024-09-10T16:04:02.280372Z",
     "iopub.status.busy": "2024-09-10T16:04:02.279668Z",
     "iopub.status.idle": "2024-09-10T16:04:02.489707Z",
     "shell.execute_reply": "2024-09-10T16:04:02.488769Z"
    }
   },
   "outputs": [
    {
     "name": "stdout",
     "output_type": "stream",
     "text": [
      "\u001b[0m\u001b[01;34m.\u001b[0m              .bashrc  \u001b[01;34mdownloads\u001b[0m   \u001b[01;34m.ipynb_checkpoints\u001b[0m  \u001b[01;34m.local\u001b[0m\n"
     ]
    },
    {
     "name": "stdout",
     "output_type": "stream",
     "text": [
      "\u001b[01;34m..\u001b[0m             \u001b[01;34m.cache\u001b[0m   \u001b[01;34m.emacs.d\u001b[0m    \u001b[01;34m.ipython\u001b[0m            .profile\n"
     ]
    },
    {
     "name": "stdout",
     "output_type": "stream",
     "text": [
      ".bash_history  \u001b[01;34m.config\u001b[0m  \u001b[01;34mfc-alumno\u001b[0m   \u001b[01;34m.jupyter\u001b[0m            \u001b[01;34m.ssh\u001b[0m\n"
     ]
    },
    {
     "name": "stdout",
     "output_type": "stream",
     "text": [
      ".bash_logout   \u001b[01;34mdesktop\u001b[0m  .gitconfig  .lesshst            .viminfo\n"
     ]
    }
   ],
   "source": [
    "# Sin cambiarte de directorio, haz un listado de tu directorio personal\n",
    "# mostrando **todos** los ficheros, y usando la **ruta relativa**\n",
     ""
   ]
  },
  {
   "cell_type": "markdown",
   "id": "eaf6a461",
   "metadata": {},
   "source": [
    "## Movimiento básico por el sistema de ficheros\n",
    "\n",
    "Ahora vamos a hacer uso de unos ficheros de ejemplo (también disponibles en el Aula Virtual). Ejecuta la siguiente celda para descargar el fichero `ficheros_ejemplo.zip`, y descomprimirlo en tu directorio personal. El árbol de directorios en que se organizan los ficheros de ejemplo se puede observar a continuación:"
   ]
  },
  {
   "cell_type": "code",
   "execution_count": 35,
   "id": "af7a6a51-dec3-48ea-b513-add149c79be2",
   "metadata": {
    "execution": {
     "iopub.execute_input": "2024-09-10T16:04:02.493426Z",
     "iopub.status.busy": "2024-09-10T16:04:02.492996Z",
     "iopub.status.idle": "2024-09-10T16:04:05.619982Z",
     "shell.execute_reply": "2024-09-10T16:04:05.619143Z"
    }
   },
   "outputs": [
    {
     "name": "stdout",
     "output_type": "stream",
     "text": [
      "Copiando ficheros de ejemplo desde /usr/local/share/fc/ficheros_ejemplo.zip\n"
     ]
    }
   ],
   "source": [
    "SAMPLE_FILES_LOCAL=/usr/local/share/fc/ficheros_ejemplo.zip\n",
    "SAMPLE_FILES_WEB=https://ditec.um.es/~rtitos/docencia/fc-gcid/24-25/ficheros_ejemplo.zip\n",
    "cd\n",
    "if [ -f $(basename $SAMPLE_FILES_LOCAL) ] ; then\n",
    "    echo \"Encontrados los ficheros de ejemplo en el directorio personal\"\n",
    "else\n",
    "    if [ -f $SAMPLE_FILES_LOCAL ] ; then\n",
    "        echo \"Copiando ficheros de ejemplo desde $SAMPLE_FILES_LOCAL\"\n",
    "        cp $SAMPLE_FILES_LOCAL .\n",
    "    else\n",
    "        echo \"Descargando ficheros de ejemplo desde $SAMPLE_FILES_WEB\"\n",
    "        wget -q $SAMPLE_FILES_WEB\n",
    "    fi\n",
    "    if [ ! -f $(basename $SAMPLE_FILES_LOCAL) ] ; then\n",
    "        echo \"ERROR: No se encuentran los ficheros de ejemplo!\"\n",
    "    fi\n",
    "fi\n",
    "rm -rf ficheros_ejemplo && unzip -q ficheros_ejemplo.zip"
   ]
  },
  {
   "cell_type": "markdown",
   "id": "889579b2-45a1-4a20-bdd0-cbc67e3e5faa",
   "metadata": {},
   "source": [
    "Verás que se ha creado un directorio `ficheros_ejemplo`, que tiene la siguiente estructura:\n",
    "```\n",
    "ficheros_ejemplo\n",
    "├── nano\n",
    "│   ├── AUTHORS\n",
    "│   ├── autogen.sh\n",
    "│   ├── ChangeLog\n",
    "│   ├── ChangeLog.1999-2006\n",
    "│   ├── ChangeLog.2007-2015\n",
    "│   ├── configure.ac\n",
    "│   ├── COPYING\n",
    "│   ├── COPYING.DOC\n",
    "│   ├── doc\n",
    "│   ├── IMPROVEMENTS\n",
    "│   ├── m4\n",
    "│   ├── Makefile.am\n",
    "│   ├── nano-regress\n",
    "│   ├── NEWS\n",
    "│   ├── po\n",
    "│   ├── README\n",
    "│   ├── README.hacking\n",
    "│   ├── roll-a-release.sh\n",
    "│   ├── src\n",
    "│   ├── syntax\n",
    "│   ├── THANKS\n",
    "│   └── TODO\n",
    "└── sample_files\n",
    "    ├── audio\n",
    "    ├── document\n",
    "    ├── image\n",
    "    ├── LICENSE\n",
    "    ├── README.md\n",
    "    └── video\n",
    "```"
   ]
  },
  {
   "cell_type": "markdown",
   "id": "293b8c77",
   "metadata": {},
   "source": [
    "Una vez lo tengas preparado, empezando desde tu directorio personal, realiza los siguientes ejercicios, utilizando **RUTAS RELATIVAS** por defecto. En los ejercicios que se indique ruta absoluta, no se debe usar ninguna ruta relativa. \n",
    "\n",
    "<span style=\"color: red;\">Recuerda utilizar el tabulador </span> para facilitar la navegación por el sistema de ficheros al autocompletar los nombres de ficheros y directorios.\n",
    "\n",
    "\n"
   ]
  },
  {
   "cell_type": "code",
   "execution_count": 36,
   "id": "2f4502e7",
   "metadata": {
    "execution": {
     "iopub.execute_input": "2024-09-10T16:04:05.624060Z",
     "iopub.status.busy": "2024-09-10T16:04:05.623522Z",
     "iopub.status.idle": "2024-09-10T16:04:05.779784Z",
     "shell.execute_reply": "2024-09-10T16:04:05.778799Z"
    }
   },
   "outputs": [],
   "source": [
    "# Situate en tu directorio personal utilizando su ruta absoluta\n",
     ""
   ]
  },
  {
   "cell_type": "code",
   "execution_count": 37,
   "id": "f15e4b4c-0ec5-4e74-a9dc-394aed098a5f",
   "metadata": {
    "execution": {
     "iopub.execute_input": "2024-09-10T16:04:05.783649Z",
     "iopub.status.busy": "2024-09-10T16:04:05.783350Z",
     "iopub.status.idle": "2024-09-10T16:04:05.940012Z",
     "shell.execute_reply": "2024-09-10T16:04:05.939017Z"
    }
   },
   "outputs": [
    {
     "name": "stdout",
     "output_type": "stream",
     "text": [
      "/home/jupyter-rtitos-um-es\n"
     ]
    }
   ],
   "source": [
    "# Muestra tu directorio de trabajo actual\n",
    "pwd "
   ]
  },
  {
   "cell_type": "code",
   "execution_count": 38,
   "id": "bf558662",
   "metadata": {
    "execution": {
     "iopub.execute_input": "2024-09-10T16:04:05.943954Z",
     "iopub.status.busy": "2024-09-10T16:04:05.943676Z",
     "iopub.status.idle": "2024-09-10T16:04:06.099689Z",
     "shell.execute_reply": "2024-09-10T16:04:06.098629Z"
    }
   },
   "outputs": [],
   "source": [
    "# Cambia al directorio \"nano\" que hay dentro de \"ficheros_ejemplo\"\n",
     ""
   ]
  },
  {
   "cell_type": "code",
   "execution_count": 39,
   "id": "1de6a4da",
   "metadata": {
    "execution": {
     "iopub.execute_input": "2024-09-10T16:04:06.103262Z",
     "iopub.status.busy": "2024-09-10T16:04:06.103002Z",
     "iopub.status.idle": "2024-09-10T16:04:06.262465Z",
     "shell.execute_reply": "2024-09-10T16:04:06.261505Z"
    }
   },
   "outputs": [
    {
     "name": "stdout",
     "output_type": "stream",
     "text": [
      "AUTHORS              configure.ac  \u001b[0m\u001b[01;34mm4\u001b[0m            README             THANKS\n"
     ]
    },
    {
     "name": "stdout",
     "output_type": "stream",
     "text": [
      "\u001b[01;32mautogen.sh\u001b[0m           COPYING       Makefile.am   README.hacking     TODO\n"
     ]
    },
    {
     "name": "stdout",
     "output_type": "stream",
     "text": [
      "ChangeLog            COPYING.DOC   \u001b[01;32mnano-regress\u001b[0m  \u001b[01;32mroll-a-release.sh\u001b[0m\n"
     ]
    },
    {
     "name": "stdout",
     "output_type": "stream",
     "text": [
      "ChangeLog.1999-2006  \u001b[01;34mdoc\u001b[0m           NEWS          \u001b[01;34msrc\u001b[0m\n"
     ]
    },
    {
     "name": "stdout",
     "output_type": "stream",
     "text": [
      "ChangeLog.2007-2015  IMPROVEMENTS  \u001b[01;34mpo\u001b[0m            \u001b[01;34msyntax\u001b[0m\n"
     ]
    }
   ],
   "source": [
    "# Haz un listado del directorio actual mostrando los ficheros ocultos\n",
     ""
   ]
  },
  {
   "cell_type": "code",
   "execution_count": 40,
   "id": "bd9dca76",
   "metadata": {
    "execution": {
     "iopub.execute_input": "2024-09-10T16:04:06.266067Z",
     "iopub.status.busy": "2024-09-10T16:04:06.265806Z",
     "iopub.status.idle": "2024-09-10T16:04:06.423804Z",
     "shell.execute_reply": "2024-09-10T16:04:06.422846Z"
    }
   },
   "outputs": [
    {
     "name": "stdout",
     "output_type": "stream",
     "text": [
      "\u001b[0m\u001b[01;34mnano\u001b[0m  \u001b[01;34msample_files\u001b[0m\n"
     ]
    }
   ],
   "source": [
    "# Haz un listado del directorio padre\n",
     ""
   ]
  },
  {
   "cell_type": "code",
   "execution_count": 41,
   "id": "509ef614",
   "metadata": {
    "execution": {
     "iopub.execute_input": "2024-09-10T16:04:06.427766Z",
     "iopub.status.busy": "2024-09-10T16:04:06.427171Z",
     "iopub.status.idle": "2024-09-10T16:04:06.583130Z",
     "shell.execute_reply": "2024-09-10T16:04:06.582299Z"
    }
   },
   "outputs": [],
   "source": [
    "# Cambia al directorio \"src\"\n",
     ""
   ]
  },
  {
   "cell_type": "code",
   "execution_count": 42,
   "id": "8431f293-9378-4d4d-8c05-fb18d87e183f",
   "metadata": {
    "execution": {
     "iopub.execute_input": "2024-09-10T16:04:06.586771Z",
     "iopub.status.busy": "2024-09-10T16:04:06.586512Z",
     "iopub.status.idle": "2024-09-10T16:04:06.742436Z",
     "shell.execute_reply": "2024-09-10T16:04:06.741508Z"
    }
   },
   "outputs": [
    {
     "name": "stdout",
     "output_type": "stream",
     "text": [
      "/home/jupyter-rtitos-um-es/ficheros_ejemplo/nano/src\n"
     ]
    }
   ],
   "source": [
    "# Muestra tu directorio de trabajo actual\n",
    "pwd "
   ]
  },
  {
   "cell_type": "code",
   "execution_count": 43,
   "id": "21a874fb",
   "metadata": {
    "execution": {
     "iopub.execute_input": "2024-09-10T16:04:06.746428Z",
     "iopub.status.busy": "2024-09-10T16:04:06.745716Z",
     "iopub.status.idle": "2024-09-10T16:04:06.929387Z",
     "shell.execute_reply": "2024-09-10T16:04:06.928495Z"
    }
   },
   "outputs": [
    {
     "name": "stdout",
     "output_type": "stream",
     "text": [
      "\n"
     ]
    },
    {
     "name": "stdout",
     "output_type": "stream",
     "text": [
      "          GNU nano -- a simple editor, inspired by Pico\n"
     ]
    },
    {
     "name": "stdout",
     "output_type": "stream",
     "text": [
      "\n"
     ]
    },
    {
     "name": "stdout",
     "output_type": "stream",
     "text": [
      "Purpose\n"
     ]
    },
    {
     "name": "stdout",
     "output_type": "stream",
     "text": [
      "\n"
     ]
    },
    {
     "name": "stdout",
     "output_type": "stream",
     "text": [
      "    Nano is a small and simple text editor for use on the terminal.\n"
     ]
    },
    {
     "name": "stdout",
     "output_type": "stream",
     "text": [
      "    It copied the interface and key bindings of the Pico editor but\n"
     ]
    },
    {
     "name": "stdout",
     "output_type": "stream",
     "text": [
      "    added several missing features: undo/redo, syntax highlighting,\n"
     ]
    },
    {
     "name": "stdout",
     "output_type": "stream",
     "text": [
      "    line numbers, softwrapping, multiple buffers, selecting text by\n"
     ]
    },
    {
     "name": "stdout",
     "output_type": "stream",
     "text": [
      "    holding Shift, search-and-replace with regular expressions, and\n"
     ]
    },
    {
     "name": "stdout",
     "output_type": "stream",
     "text": [
      "    several other conveniences.\n"
     ]
    },
    {
     "name": "stdout",
     "output_type": "stream",
     "text": [
      "\n"
     ]
    },
    {
     "name": "stdout",
     "output_type": "stream",
     "text": [
      "Appearance\n"
     ]
    },
    {
     "name": "stdout",
     "output_type": "stream",
     "text": [
      "\n"
     ]
    },
    {
     "name": "stdout",
     "output_type": "stream",
     "text": [
      "    In rough ASCII graphics, this is what nano's screen looks like:\n"
     ]
    },
    {
     "name": "stdout",
     "output_type": "stream",
     "text": [
      "\n"
     ]
    },
    {
     "name": "stdout",
     "output_type": "stream",
     "text": [
      "   ____________________________________________________________________\n"
     ]
    },
    {
     "name": "stdout",
     "output_type": "stream",
     "text": [
      "  |  GNU nano 7.2                  filename                  Modified  |\n"
     ]
    },
    {
     "name": "stdout",
     "output_type": "stream",
     "text": [
      "   --------------------------------------------------------------------\n"
     ]
    },
    {
     "name": "stdout",
     "output_type": "stream",
     "text": [
      "  | This is the text window, displaying the contents of a 'buffer',    |\n"
     ]
    },
    {
     "name": "stdout",
     "output_type": "stream",
     "text": [
      "  | the contents of the file you are editing.                          |\n"
     ]
    },
    {
     "name": "stdout",
     "output_type": "stream",
     "text": [
      "  |                                                                    |\n"
     ]
    },
    {
     "name": "stdout",
     "output_type": "stream",
     "text": [
      "  | The top row of the screen is the 'title bar'; it shows nano's      |\n"
     ]
    },
    {
     "name": "stdout",
     "output_type": "stream",
     "text": [
      "  | version, the name of the file, and whether you modified it.        |\n"
     ]
    },
    {
     "name": "stdout",
     "output_type": "stream",
     "text": [
      "  | The two bottom rows display the most important shortcuts; in       |\n"
     ]
    },
    {
     "name": "stdout",
     "output_type": "stream",
     "text": [
      "  | those lines ^ means Ctrl.  The third row from the bottom shows     |\n"
     ]
    },
    {
     "name": "stdout",
     "output_type": "stream",
     "text": [
      "  | some feedback message, or gets replaced with a prompt bar when     |\n"
     ]
    },
    {
     "name": "stdout",
     "output_type": "stream",
     "text": [
      "  | you tell nano to do something that requires extra input.           |\n"
     ]
    },
    {
     "name": "stdout",
     "output_type": "stream",
     "text": [
      "  |                                                                    |\n"
     ]
    },
    {
     "name": "stdout",
     "output_type": "stream",
     "text": [
      "   --------------------------------------------------------------------\n"
     ]
    },
    {
     "name": "stdout",
     "output_type": "stream",
     "text": [
      "  |                       [ Some status message ]                      |\n"
     ]
    },
    {
     "name": "stdout",
     "output_type": "stream",
     "text": [
      "  |^G Help       ^O Write Out  ^W Where Is   ^K Cut        ^T Execute  |\n"
     ]
    },
    {
     "name": "stdout",
     "output_type": "stream",
     "text": [
      "  |^X Exit       ^R Read File  ^\\ Replace    ^U Paste      ^J Justify  |\n"
     ]
    },
    {
     "name": "stdout",
     "output_type": "stream",
     "text": [
      "   --------------------------------------------------------------------\n"
     ]
    },
    {
     "name": "stdout",
     "output_type": "stream",
     "text": [
      "\n"
     ]
    },
    {
     "name": "stdout",
     "output_type": "stream",
     "text": [
      "Origin\n"
     ]
    },
    {
     "name": "stdout",
     "output_type": "stream",
     "text": [
      "\n"
     ]
    },
    {
     "name": "stdout",
     "output_type": "stream",
     "text": [
      "    The nano project was started in 1999 because of a few \"problems\"\n"
     ]
    },
    {
     "name": "stdout",
     "output_type": "stream",
     "text": [
      "    with the wonderfully easy-to-use and friendly Pico text editor.\n"
     ]
    },
    {
     "name": "stdout",
     "output_type": "stream",
     "text": [
      "\n"
     ]
    },
    {
     "name": "stdout",
     "output_type": "stream",
     "text": [
      "    First and foremost was its license: the Pine suite does not use\n"
     ]
    },
    {
     "name": "stdout",
     "output_type": "stream",
     "text": [
      "    the GPL, and (before using the Apache License) it had unclear\n"
     ]
    },
    {
     "name": "stdout",
     "output_type": "stream",
     "text": [
      "    restrictions on redistribution.  Because of this, Pine and Pico\n"
     ]
    },
    {
     "name": "stdout",
     "output_type": "stream",
     "text": [
      "    were not included in many GNU/Linux distributions.  Furthermore,\n"
     ]
    },
    {
     "name": "stdout",
     "output_type": "stream",
     "text": [
      "    some features (like go-to-line-number or search-and-replace) were\n"
     ]
    },
    {
     "name": "stdout",
     "output_type": "stream",
     "text": [
      "    unavailable for a long time or require a command-line flag.  Yuck.\n"
     ]
    },
    {
     "name": "stdout",
     "output_type": "stream",
     "text": [
      "\n"
     ]
    },
    {
     "name": "stdout",
     "output_type": "stream",
     "text": [
      "    Nano aimed to solve these problems by: 1) being truly free software\n"
     ]
    },
    {
     "name": "stdout",
     "output_type": "stream",
     "text": [
      "    by using the GPL, 2) emulating the functionality of Pico as closely\n"
     ]
    },
    {
     "name": "stdout",
     "output_type": "stream",
     "text": [
      "    as is reasonable, and 3) including extra functionality by default.\n"
     ]
    },
    {
     "name": "stdout",
     "output_type": "stream",
     "text": [
      "\n"
     ]
    },
    {
     "name": "stdout",
     "output_type": "stream",
     "text": [
      "    Nowadays, nano wants to be a generally useful editor with sensible\n"
     ]
    },
    {
     "name": "stdout",
     "output_type": "stream",
     "text": [
      "    defaults (linewise scrolling, no automatic line breaking).\n"
     ]
    },
    {
     "name": "stdout",
     "output_type": "stream",
     "text": [
      "\n"
     ]
    },
    {
     "name": "stdout",
     "output_type": "stream",
     "text": [
      "    The nano editor is an official GNU package.  For more information on\n"
     ]
    },
    {
     "name": "stdout",
     "output_type": "stream",
     "text": [
      "    GNU and the Free Software Foundation, please see https://www.gnu.org/.\n"
     ]
    },
    {
     "name": "stdout",
     "output_type": "stream",
     "text": [
      "\n"
     ]
    },
    {
     "name": "stdout",
     "output_type": "stream",
     "text": [
      "License\n"
     ]
    },
    {
     "name": "stdout",
     "output_type": "stream",
     "text": [
      "\n"
     ]
    },
    {
     "name": "stdout",
     "output_type": "stream",
     "text": [
      "    Nano's code and documentation are covered by the GPL version 3 or\n"
     ]
    },
    {
     "name": "stdout",
     "output_type": "stream",
     "text": [
      "    (at your option) any later version, except for two functions that\n"
     ]
    },
    {
     "name": "stdout",
     "output_type": "stream",
     "text": [
      "    were copied from busybox which are under a BSD license.  Nano's\n"
     ]
    },
    {
     "name": "stdout",
     "output_type": "stream",
     "text": [
      "    documentation is additionally covered by the GNU Free Documentation\n"
     ]
    },
    {
     "name": "stdout",
     "output_type": "stream",
     "text": [
      "    License version 1.2 or (at your option) any later version.  See the\n"
     ]
    },
    {
     "name": "stdout",
     "output_type": "stream",
     "text": [
      "    files COPYING and COPYING.DOC for the full text of these licenses.\n"
     ]
    },
    {
     "name": "stdout",
     "output_type": "stream",
     "text": [
      "\n"
     ]
    },
    {
     "name": "stdout",
     "output_type": "stream",
     "text": [
      "    When in any file of this package a copyright notice mentions a\n"
     ]
    },
    {
     "name": "stdout",
     "output_type": "stream",
     "text": [
      "    year range (such as 1999-2011), it is a shorthand for a list of\n"
     ]
    },
    {
     "name": "stdout",
     "output_type": "stream",
     "text": [
      "    all the years in that interval.\n"
     ]
    },
    {
     "name": "stdout",
     "output_type": "stream",
     "text": [
      "\n"
     ]
    },
    {
     "name": "stdout",
     "output_type": "stream",
     "text": [
      "How to compile and install nano\n"
     ]
    },
    {
     "name": "stdout",
     "output_type": "stream",
     "text": [
      "\n"
     ]
    },
    {
     "name": "stdout",
     "output_type": "stream",
     "text": [
      "    Download the latest nano source tarball, and then:\n"
     ]
    },
    {
     "name": "stdout",
     "output_type": "stream",
     "text": [
      "\n"
     ]
    },
    {
     "name": "stdout",
     "output_type": "stream",
     "text": [
      "        tar -xvf nano-x.y.tar.gz\n"
     ]
    },
    {
     "name": "stdout",
     "output_type": "stream",
     "text": [
      "        cd nano-x.y\n"
     ]
    },
    {
     "name": "stdout",
     "output_type": "stream",
     "text": [
      "        ./configure\n"
     ]
    },
    {
     "name": "stdout",
     "output_type": "stream",
     "text": [
      "        make\n"
     ]
    },
    {
     "name": "stdout",
     "output_type": "stream",
     "text": [
      "        make install\n"
     ]
    },
    {
     "name": "stdout",
     "output_type": "stream",
     "text": [
      "\n"
     ]
    },
    {
     "name": "stdout",
     "output_type": "stream",
     "text": [
      "    You will need the header files of ncurses installed for ./configure\n"
     ]
    },
    {
     "name": "stdout",
     "output_type": "stream",
     "text": [
      "    to succeed -- get them from libncurses-dev (Debian) or ncurses-devel\n"
     ]
    },
    {
     "name": "stdout",
     "output_type": "stream",
     "text": [
      "    (Fedora) or a similarly named package.  Use --prefix with ./configure\n"
     ]
    },
    {
     "name": "stdout",
     "output_type": "stream",
     "text": [
      "    to override the default installation directory of /usr/local.\n"
     ]
    },
    {
     "name": "stdout",
     "output_type": "stream",
     "text": [
      "\n"
     ]
    },
    {
     "name": "stdout",
     "output_type": "stream",
     "text": [
      "    After installation you may want to copy the doc/sample.nanorc file\n"
     ]
    },
    {
     "name": "stdout",
     "output_type": "stream",
     "text": [
      "    to your home directory, rename it to \".nanorc\", and then edit it\n"
     ]
    },
    {
     "name": "stdout",
     "output_type": "stream",
     "text": [
      "    according to your taste.\n"
     ]
    },
    {
     "name": "stdout",
     "output_type": "stream",
     "text": [
      "\n"
     ]
    },
    {
     "name": "stdout",
     "output_type": "stream",
     "text": [
      "Web Page\n"
     ]
    },
    {
     "name": "stdout",
     "output_type": "stream",
     "text": [
      "\n"
     ]
    },
    {
     "name": "stdout",
     "output_type": "stream",
     "text": [
      "    https://nano-editor.org/\n"
     ]
    },
    {
     "name": "stdout",
     "output_type": "stream",
     "text": [
      "\n"
     ]
    },
    {
     "name": "stdout",
     "output_type": "stream",
     "text": [
      "Mailing Lists\n"
     ]
    },
    {
     "name": "stdout",
     "output_type": "stream",
     "text": [
      "\n"
     ]
    },
    {
     "name": "stdout",
     "output_type": "stream",
     "text": [
      "    There are three nano-related mailing-lists.\n"
     ]
    },
    {
     "name": "stdout",
     "output_type": "stream",
     "text": [
      "\n"
     ]
    },
    {
     "name": "stdout",
     "output_type": "stream",
     "text": [
      "    * <info-nano@gnu.org> is a very low traffic list used to announce\n"
     ]
    },
    {
     "name": "stdout",
     "output_type": "stream",
     "text": [
      "      new nano versions or other important info about the project.\n"
     ]
    },
    {
     "name": "stdout",
     "output_type": "stream",
     "text": [
      "\n"
     ]
    },
    {
     "name": "stdout",
     "output_type": "stream",
     "text": [
      "    * <help-nano@gnu.org> is for those seeking to get help without\n"
     ]
    },
    {
     "name": "stdout",
     "output_type": "stream",
     "text": [
      "      wanting to hear about the technical details of its development.\n"
     ]
    },
    {
     "name": "stdout",
     "output_type": "stream",
     "text": [
      "\n"
     ]
    },
    {
     "name": "stdout",
     "output_type": "stream",
     "text": [
      "    * <nano-devel@gnu.org> is the list used by the people that make nano\n"
     ]
    },
    {
     "name": "stdout",
     "output_type": "stream",
     "text": [
      "      and a general development discussion list, with moderate traffic.\n"
     ]
    },
    {
     "name": "stdout",
     "output_type": "stream",
     "text": [
      "\n"
     ]
    },
    {
     "name": "stdout",
     "output_type": "stream",
     "text": [
      "    To subscribe, send email to <name>-request@gnu.org with a subject\n"
     ]
    },
    {
     "name": "stdout",
     "output_type": "stream",
     "text": [
      "    of \"subscribe\", where <name> is the list you want to subscribe to.\n"
     ]
    },
    {
     "name": "stdout",
     "output_type": "stream",
     "text": [
      "\n"
     ]
    },
    {
     "name": "stdout",
     "output_type": "stream",
     "text": [
      "    The archives of the development and help mailing lists are here:\n"
     ]
    },
    {
     "name": "stdout",
     "output_type": "stream",
     "text": [
      "\n"
     ]
    },
    {
     "name": "stdout",
     "output_type": "stream",
     "text": [
      "        https://lists.gnu.org/archive/html/nano-devel/\n"
     ]
    },
    {
     "name": "stdout",
     "output_type": "stream",
     "text": [
      "        https://lists.gnu.org/archive/html/help-nano/\n"
     ]
    },
    {
     "name": "stdout",
     "output_type": "stream",
     "text": [
      "\n"
     ]
    },
    {
     "name": "stdout",
     "output_type": "stream",
     "text": [
      "Bug Reports\n"
     ]
    },
    {
     "name": "stdout",
     "output_type": "stream",
     "text": [
      "\n"
     ]
    },
    {
     "name": "stdout",
     "output_type": "stream",
     "text": [
      "    If you find a bug, please file a detailed description of the problem\n"
     ]
    },
    {
     "name": "stdout",
     "output_type": "stream",
     "text": [
      "    on nano's issue tracker: https://savannah.gnu.org/bugs/?group=nano\n"
     ]
    },
    {
     "name": "stdout",
     "output_type": "stream",
     "text": [
      "    (you will need an account to be able to do so), or send an email\n"
     ]
    },
    {
     "name": "stdout",
     "output_type": "stream",
     "text": [
      "    to the nano-devel list (no need to subscribe, but mention it if\n"
     ]
    },
    {
     "name": "stdout",
     "output_type": "stream",
     "text": [
      "    you want to be CC'ed on an answer).\n"
     ]
    },
    {
     "name": "stdout",
     "output_type": "stream",
     "text": [
      "\n"
     ]
    }
   ],
   "source": [
    "# Muestra el contenido del fichero README dentro de \"nano\"\n",
     ""
   ]
  },
  {
   "cell_type": "code",
   "execution_count": 44,
   "id": "eda39d97",
   "metadata": {
    "execution": {
     "iopub.execute_input": "2024-09-10T16:04:06.960724Z",
     "iopub.status.busy": "2024-09-10T16:04:06.960394Z",
     "iopub.status.idle": "2024-09-10T16:04:07.116111Z",
     "shell.execute_reply": "2024-09-10T16:04:07.115314Z"
    }
   },
   "outputs": [],
   "source": [
    "# Cambia al directorio padre\n",
     ""
   ]
  },
  {
   "cell_type": "code",
   "execution_count": 45,
   "id": "4e375f1d-f24b-4bc4-800a-c03ada068448",
   "metadata": {
    "execution": {
     "iopub.execute_input": "2024-09-10T16:04:07.119649Z",
     "iopub.status.busy": "2024-09-10T16:04:07.119361Z",
     "iopub.status.idle": "2024-09-10T16:04:07.275729Z",
     "shell.execute_reply": "2024-09-10T16:04:07.274653Z"
    }
   },
   "outputs": [
    {
     "name": "stdout",
     "output_type": "stream",
     "text": [
      "/home/jupyter-rtitos-um-es/ficheros_ejemplo/nano\n"
     ]
    }
   ],
   "source": [
    "# Muestra tu directorio de trabajo actual\n",
    "pwd "
   ]
  },
  {
   "cell_type": "code",
   "execution_count": 46,
   "id": "86d534f9",
   "metadata": {
    "execution": {
     "iopub.execute_input": "2024-09-10T16:04:07.279800Z",
     "iopub.status.busy": "2024-09-10T16:04:07.279219Z",
     "iopub.status.idle": "2024-09-10T16:04:07.438068Z",
     "shell.execute_reply": "2024-09-10T16:04:07.437186Z"
    }
   },
   "outputs": [
    {
     "name": "stdout",
     "output_type": "stream",
     "text": [
      "\n"
     ]
    },
    {
     "name": "stdout",
     "output_type": "stream",
     "text": [
      "For a list of open bugs and requested features see:\n"
     ]
    },
    {
     "name": "stdout",
     "output_type": "stream",
     "text": [
      "\n"
     ]
    },
    {
     "name": "stdout",
     "output_type": "stream",
     "text": [
      "  https://savannah.gnu.org/bugs/?group=nano\n"
     ]
    },
    {
     "name": "stdout",
     "output_type": "stream",
     "text": [
      "\n"
     ]
    }
   ],
   "source": [
    "# Muestra el contenido completo del fichero TODO dentro de \"nano\"\n",
     ""
   ]
  },
  {
   "cell_type": "code",
   "execution_count": 47,
   "id": "672c6ede",
   "metadata": {
    "execution": {
     "iopub.execute_input": "2024-09-10T16:04:07.441822Z",
     "iopub.status.busy": "2024-09-10T16:04:07.441542Z",
     "iopub.status.idle": "2024-09-10T16:04:07.648435Z",
     "shell.execute_reply": "2024-09-10T16:04:07.647328Z"
    }
   },
   "outputs": [],
   "source": [
    "# Ahora vamos a usar los ficheros de \"sample_files\"\n",
    "# Empieza cambiando al directorio \"sample_files\" desde tu directorio de trabajo actual\n",
     ""
   ]
  },
  {
   "cell_type": "code",
   "execution_count": 48,
   "id": "afd3cf3e-72cf-4475-ab0d-90fa5ce7b711",
   "metadata": {
    "execution": {
     "iopub.execute_input": "2024-09-10T16:04:07.652417Z",
     "iopub.status.busy": "2024-09-10T16:04:07.652110Z",
     "iopub.status.idle": "2024-09-10T16:04:07.807852Z",
     "shell.execute_reply": "2024-09-10T16:04:07.807032Z"
    }
   },
   "outputs": [
    {
     "name": "stdout",
     "output_type": "stream",
     "text": [
      "/home/jupyter-rtitos-um-es/ficheros_ejemplo/sample_files\n"
     ]
    }
   ],
   "source": [
    "# Muestra tu directorio de trabajo actual\n",
    "pwd "
   ]
  },
  {
   "cell_type": "code",
   "execution_count": 49,
   "id": "5d058752",
   "metadata": {
    "execution": {
     "iopub.execute_input": "2024-09-10T16:04:07.811642Z",
     "iopub.status.busy": "2024-09-10T16:04:07.811261Z",
     "iopub.status.idle": "2024-09-10T16:04:07.966749Z",
     "shell.execute_reply": "2024-09-10T16:04:07.965920Z"
    }
   },
   "outputs": [],
   "source": [
    "# Cambia al subdirectorio \"txt\" , situado en \"document\"\n",
     ""
   ]
  },
  {
   "cell_type": "code",
   "execution_count": 50,
   "id": "4c5d5063-fa39-409a-b326-1557a1b0d44a",
   "metadata": {
    "execution": {
     "iopub.execute_input": "2024-09-10T16:04:07.970309Z",
     "iopub.status.busy": "2024-09-10T16:04:07.970045Z",
     "iopub.status.idle": "2024-09-10T16:04:08.126015Z",
     "shell.execute_reply": "2024-09-10T16:04:08.124953Z"
    }
   },
   "outputs": [
    {
     "name": "stdout",
     "output_type": "stream",
     "text": [
      "/home/jupyter-rtitos-um-es/ficheros_ejemplo/sample_files/document/txt\n"
     ]
    }
   ],
   "source": [
    "# Muestra tu directorio de trabajo actual\n",
    "pwd "
   ]
  },
  {
   "cell_type": "code",
   "execution_count": 51,
   "id": "3fd4a484",
   "metadata": {
    "execution": {
     "iopub.execute_input": "2024-09-10T16:04:08.129722Z",
     "iopub.status.busy": "2024-09-10T16:04:08.129455Z",
     "iopub.status.idle": "2024-09-10T16:04:08.287763Z",
     "shell.execute_reply": "2024-09-10T16:04:08.286860Z"
    }
   },
   "outputs": [],
   "source": [
    "# Guarda una copia del fichero \"sample1.txt\" llamada \"copia_sample1.txt\" en el mismo directorio\n",
     ""
   ]
  },
  {
   "cell_type": "code",
   "execution_count": 52,
   "id": "6b10d959-8581-4e1a-ba0a-bb11f0280270",
   "metadata": {
    "execution": {
     "iopub.execute_input": "2024-09-10T16:04:08.291469Z",
     "iopub.status.busy": "2024-09-10T16:04:08.291173Z",
     "iopub.status.idle": "2024-09-10T16:04:08.448813Z",
     "shell.execute_reply": "2024-09-10T16:04:08.447860Z"
    }
   },
   "outputs": [
    {
     "name": "stdout",
     "output_type": "stream",
     "text": [
      "copia_sample1.txt  sample1.txt  sample2.txt  sample3.txt\n"
     ]
    }
   ],
   "source": [
    "# Lista el contenido del directorio actual\n",
    "ls"
   ]
  },
  {
   "cell_type": "code",
   "execution_count": 53,
   "id": "e82d5543",
   "metadata": {
    "execution": {
     "iopub.execute_input": "2024-09-10T16:04:08.452956Z",
     "iopub.status.busy": "2024-09-10T16:04:08.452244Z",
     "iopub.status.idle": "2024-09-10T16:04:08.610997Z",
     "shell.execute_reply": "2024-09-10T16:04:08.610100Z"
    }
   },
   "outputs": [
    {
     "name": "stdout",
     "output_type": "stream",
     "text": [
      "file-example_PDF_1MB.pdf     file-sample_150kB.pdf  sample2.pdf\n"
     ]
    },
    {
     "name": "stdout",
     "output_type": "stream",
     "text": [
      "file-example_PDF_500_kB.pdf  sample1.pdf            sample3.pdf\n"
     ]
    }
   ],
   "source": [
    "# Muestra el contenido del directorio \"pdf\"\n",
     ""
   ]
  },
  {
   "cell_type": "code",
   "execution_count": 54,
   "id": "9267ed44",
   "metadata": {
    "execution": {
     "iopub.execute_input": "2024-09-10T16:04:08.614884Z",
     "iopub.status.busy": "2024-09-10T16:04:08.614606Z",
     "iopub.status.idle": "2024-09-10T16:04:08.773989Z",
     "shell.execute_reply": "2024-09-10T16:04:08.773151Z"
    }
   },
   "outputs": [
    {
     "name": "stdout",
     "output_type": "stream",
     "text": [
      "total 888\n"
     ]
    },
    {
     "name": "stdout",
     "output_type": "stream",
     "text": [
      "-rw-rw-r-- 1 jupyter-rtitos-um-es jupyter-rtitos-um-es 140288 sep  7  2023 file_example_XLS_1000.xls\n"
     ]
    },
    {
     "name": "stdout",
     "output_type": "stream",
     "text": [
      "-rw-rw-r-- 1 jupyter-rtitos-um-es jupyter-rtitos-um-es  20480 sep  7  2023 file_example_XLS_100.xls\n"
     ]
    },
    {
     "name": "stdout",
     "output_type": "stream",
     "text": [
      "-rw-rw-r-- 1 jupyter-rtitos-um-es jupyter-rtitos-um-es   8704 sep  7  2023 file_example_XLS_10.xls\n"
     ]
    },
    {
     "name": "stdout",
     "output_type": "stream",
     "text": [
      "-rw-rw-r-- 1 jupyter-rtitos-um-es jupyter-rtitos-um-es 672256 sep  7  2023 file_example_XLS_5000.xls\n"
     ]
    },
    {
     "name": "stdout",
     "output_type": "stream",
     "text": [
      "-rw-rw-r-- 1 jupyter-rtitos-um-es jupyter-rtitos-um-es  13824 sep  7  2023 file_example_XLS_50.xls\n"
     ]
    },
    {
     "name": "stdout",
     "output_type": "stream",
     "text": [
      "-rw-rw-r-- 1 jupyter-rtitos-um-es jupyter-rtitos-um-es  16384 sep  7  2023 sample1.xls\n"
     ]
    },
    {
     "name": "stdout",
     "output_type": "stream",
     "text": [
      "-rw-rw-r-- 1 jupyter-rtitos-um-es jupyter-rtitos-um-es   7168 sep  7  2023 sample2.xls\n"
     ]
    },
    {
     "name": "stdout",
     "output_type": "stream",
     "text": [
      "-rw-rw-r-- 1 jupyter-rtitos-um-es jupyter-rtitos-um-es  13312 sep  7  2023 sample3.xls\n"
     ]
    }
   ],
   "source": [
    "# Haz un listado largo del directorio \"xls\"\n",
     ""
   ]
  },
  {
   "cell_type": "code",
   "execution_count": 55,
   "id": "afcfcceb",
   "metadata": {
    "execution": {
     "iopub.execute_input": "2024-09-10T16:04:08.777805Z",
     "iopub.status.busy": "2024-09-10T16:04:08.777104Z",
     "iopub.status.idle": "2024-09-10T16:04:08.933502Z",
     "shell.execute_reply": "2024-09-10T16:04:08.932690Z"
    },
    "vscode": {
     "languageId": "plaintext"
    }
   },
   "outputs": [
    {
     "name": "stdout",
     "output_type": "stream",
     "text": [
      "/home/jupyter-rtitos-um-es/ficheros_ejemplo/sample_files\n"
     ]
    }
   ],
   "source": [
    "# Vuelve al último directorio en el que has estado (nota: sin utilizar su ruta relativa o absoluta en el comando)\n",
     ""
   ]
  },
  {
   "cell_type": "code",
   "execution_count": 56,
   "id": "c7804622-746c-45fb-81e6-f5b398f77df2",
   "metadata": {
    "execution": {
     "iopub.execute_input": "2024-09-10T16:04:08.936986Z",
     "iopub.status.busy": "2024-09-10T16:04:08.936717Z",
     "iopub.status.idle": "2024-09-10T16:04:09.092312Z",
     "shell.execute_reply": "2024-09-10T16:04:09.091391Z"
    }
   },
   "outputs": [
    {
     "name": "stdout",
     "output_type": "stream",
     "text": [
      "/home/jupyter-rtitos-um-es/ficheros_ejemplo/sample_files\n"
     ]
    }
   ],
   "source": [
    "# Muestra tu directorio de trabajo actual\n",
    "pwd "
   ]
  },
  {
   "cell_type": "code",
   "execution_count": 57,
   "id": "3b453010",
   "metadata": {
    "execution": {
     "iopub.execute_input": "2024-09-10T16:04:09.096540Z",
     "iopub.status.busy": "2024-09-10T16:04:09.096224Z",
     "iopub.status.idle": "2024-09-10T16:04:09.252303Z",
     "shell.execute_reply": "2024-09-10T16:04:09.251372Z"
    }
   },
   "outputs": [],
   "source": [
    "# Cámbiate al directorio \"jpg\" situado en \"image\" utilizando su ruta absoluta\n",
     ""
   ]
  },
  {
   "cell_type": "code",
   "execution_count": 58,
   "id": "914ea4b8-abea-4c77-9dea-180b315fcc92",
   "metadata": {
    "execution": {
     "iopub.execute_input": "2024-09-10T16:04:09.256122Z",
     "iopub.status.busy": "2024-09-10T16:04:09.255832Z",
     "iopub.status.idle": "2024-09-10T16:04:09.411635Z",
     "shell.execute_reply": "2024-09-10T16:04:09.410736Z"
    }
   },
   "outputs": [
    {
     "name": "stdout",
     "output_type": "stream",
     "text": [
      "/home/jupyter-rtitos-um-es/ficheros_ejemplo/sample_files/image/jpg\n"
     ]
    }
   ],
   "source": [
    "# Muestra tu directorio de trabajo actual\n",
    "pwd "
   ]
  },
  {
   "cell_type": "code",
   "execution_count": 59,
   "id": "fab2c799",
   "metadata": {
    "execution": {
     "iopub.execute_input": "2024-09-10T16:04:09.415432Z",
     "iopub.status.busy": "2024-09-10T16:04:09.415138Z",
     "iopub.status.idle": "2024-09-10T16:04:09.574198Z",
     "shell.execute_reply": "2024-09-10T16:04:09.573381Z"
    }
   },
   "outputs": [
    {
     "name": "stdout",
     "output_type": "stream",
     "text": [
      "\u001b[0m\u001b[01;35manimal_pattern.png\u001b[0m              \u001b[01;35mface_mask.png\u001b[0m\n"
     ]
    },
    {
     "name": "stdout",
     "output_type": "stream",
     "text": [
      "\u001b[01;35massorted_houses.png\u001b[0m             \u001b[01;35mgear_clock.png\u001b[0m\n"
     ]
    },
    {
     "name": "stdout",
     "output_type": "stream",
     "text": [
      "\u001b[01;35mbaran_skull.png\u001b[0m                 \u001b[01;35miconic_london_landmark.png\u001b[0m\n"
     ]
    },
    {
     "name": "stdout",
     "output_type": "stream",
     "text": [
      "\u001b[01;35mbarbeshop_item_silhouettes.png\u001b[0m  \u001b[01;35mkoi_fish.png\u001b[0m\n"
     ]
    },
    {
     "name": "stdout",
     "output_type": "stream",
     "text": [
      "\u001b[01;35mbuldog_cartoon.png\u001b[0m              \u001b[01;35moil_towers.png\u001b[0m\n"
     ]
    },
    {
     "name": "stdout",
     "output_type": "stream",
     "text": [
      "\u001b[01;35mburger.png\u001b[0m                      \u001b[01;35mpink_coffee_mug.png\u001b[0m\n"
     ]
    },
    {
     "name": "stdout",
     "output_type": "stream",
     "text": [
      "\u001b[01;35mbutterflies_shaped_leaves.png\u001b[0m   \u001b[01;35mrose.png\u001b[0m\n"
     ]
    },
    {
     "name": "stdout",
     "output_type": "stream",
     "text": [
      "\u001b[01;35mcherry_blossom_tree.png\u001b[0m         \u001b[01;35mstegosaurus.png\u001b[0m\n"
     ]
    },
    {
     "name": "stdout",
     "output_type": "stream",
     "text": [
      "\u001b[01;35mcosmos_rocket_cartoon.png\u001b[0m       \u001b[01;35mvintage_bmw_car.png\u001b[0m\n"
     ]
    },
    {
     "name": "stdout",
     "output_type": "stream",
     "text": [
      "\u001b[01;35mdigital_camera.png\u001b[0m              \u001b[01;35mwheat_silhouette.png\u001b[0m\n"
     ]
    }
   ],
   "source": [
    "# Haz un listado del directorio \"png\"\n",
     ""
   ]
  },
  {
   "cell_type": "code",
   "execution_count": 60,
   "id": "a493d564",
   "metadata": {
    "execution": {
     "iopub.execute_input": "2024-09-10T16:04:09.577664Z",
     "iopub.status.busy": "2024-09-10T16:04:09.577363Z",
     "iopub.status.idle": "2024-09-10T16:04:09.737750Z",
     "shell.execute_reply": "2024-09-10T16:04:09.736749Z"
    }
   },
   "outputs": [
    {
     "name": "stdout",
     "output_type": "stream",
     "text": [
      "\u001b[0m\u001b[01;35mastronaut_flying_fantasy.mp4\u001b[0m  \u001b[01;35mkayak_surfing_ocean.mp4\u001b[0m\n"
     ]
    },
    {
     "name": "stdout",
     "output_type": "stream",
     "text": [
      "\u001b[01;35mbirds_on_branch.mp4\u001b[0m           \u001b[01;35mmagnolia_flower_blossom.mp4\u001b[0m\n"
     ]
    },
    {
     "name": "stdout",
     "output_type": "stream",
     "text": [
      "\u001b[01;35mcheetah_strolling.mp4\u001b[0m         \u001b[01;35mmorning_fog.mp4\u001b[0m\n"
     ]
    },
    {
     "name": "stdout",
     "output_type": "stream",
     "text": [
      "\u001b[01;35mcherry_flower_blossom.mp4\u001b[0m     \u001b[01;35mmountain_sky.mp4\u001b[0m\n"
     ]
    },
    {
     "name": "stdout",
     "output_type": "stream",
     "text": [
      "\u001b[01;35mcity_forest_rainbow.mp4\u001b[0m       \u001b[01;35mneon_subscribe_sign.mp4\u001b[0m\n"
     ]
    },
    {
     "name": "stdout",
     "output_type": "stream",
     "text": [
      "\u001b[01;35mcliff_waterfall.mp4\u001b[0m           \u001b[01;35mplum_flower_blossom.mp4\u001b[0m\n"
     ]
    },
    {
     "name": "stdout",
     "output_type": "stream",
     "text": [
      "\u001b[01;35mcoffee_beans.mp4\u001b[0m              \u001b[01;35mpuppy_running.mp4\u001b[0m\n"
     ]
    },
    {
     "name": "stdout",
     "output_type": "stream",
     "text": [
      "\u001b[01;35mcouple_jogging.mp4\u001b[0m            \u001b[01;35mseoul_street_night_light.mp4\u001b[0m\n"
     ]
    },
    {
     "name": "stdout",
     "output_type": "stream",
     "text": [
      "\u001b[01;35mdesert.mp4\u001b[0m                    \u001b[01;35mseoul_traffic_car.mp4\u001b[0m\n"
     ]
    },
    {
     "name": "stdout",
     "output_type": "stream",
     "text": [
      "\u001b[01;35mdogs_playing.mp4\u001b[0m              \u001b[01;35mstary_sky.mp4\u001b[0m\n"
     ]
    }
   ],
   "source": [
    "# Haz un listado del directorio \"mp4\" situado dentro de \"videos\"\n",
     ""
   ]
  },
  {
   "cell_type": "code",
   "execution_count": 61,
   "id": "9d95ab26",
   "metadata": {
    "execution": {
     "iopub.execute_input": "2024-09-10T16:04:09.741700Z",
     "iopub.status.busy": "2024-09-10T16:04:09.741418Z",
     "iopub.status.idle": "2024-09-10T16:04:09.896751Z",
     "shell.execute_reply": "2024-09-10T16:04:09.895970Z"
    }
   },
   "outputs": [],
   "source": [
    "# Vuelve al directorio \"ficheros_ejemplo\"\n",
     ""
   ]
  },
  {
   "cell_type": "code",
   "execution_count": 62,
   "id": "0a79c20a",
   "metadata": {
    "execution": {
     "iopub.execute_input": "2024-09-10T16:04:09.900496Z",
     "iopub.status.busy": "2024-09-10T16:04:09.900160Z",
     "iopub.status.idle": "2024-09-10T16:04:10.055995Z",
     "shell.execute_reply": "2024-09-10T16:04:10.055029Z"
    }
   },
   "outputs": [
    {
     "name": "stdout",
     "output_type": "stream",
     "text": [
      "/home/jupyter-rtitos-um-es/ficheros_ejemplo\n"
     ]
    }
   ],
   "source": [
    "# Muestra tu directorio de trabajo actual\n",
    "pwd "
   ]
  },
  {
   "cell_type": "markdown",
   "id": "22d49998-dc38-4986-ae7b-0656a0dadb8e",
   "metadata": {},
   "source": [
    "## Creación, copia y borrado de ficheros y directorios"
   ]
  },
  {
   "cell_type": "code",
   "execution_count": 63,
   "id": "f045bd0f-c832-428e-b442-95737561ae63",
   "metadata": {
    "execution": {
     "iopub.execute_input": "2024-09-10T16:04:10.060274Z",
     "iopub.status.busy": "2024-09-10T16:04:10.059977Z",
     "iopub.status.idle": "2024-09-10T16:04:10.164594Z",
     "shell.execute_reply": "2024-09-10T16:04:10.163694Z"
    }
   },
   "outputs": [],
   "source": [
    "cd ~/ficheros_ejemplo"
   ]
  },
  {
   "cell_type": "code",
   "execution_count": 64,
   "id": "e582174f-8d74-4866-8a89-4739ab061de5",
   "metadata": {
    "execution": {
     "iopub.execute_input": "2024-09-10T16:04:10.168488Z",
     "iopub.status.busy": "2024-09-10T16:04:10.168159Z",
     "iopub.status.idle": "2024-09-10T16:04:10.323839Z",
     "shell.execute_reply": "2024-09-10T16:04:10.322918Z"
    }
   },
   "outputs": [
    {
     "name": "stdout",
     "output_type": "stream",
     "text": [
      "/home/jupyter-rtitos-um-es/ficheros_ejemplo\n"
     ]
    }
   ],
   "source": [
    "# Muestra tu directorio de trabajo actual\n",
    "pwd "
   ]
  },
  {
   "cell_type": "code",
   "execution_count": 65,
   "id": "fd70a48b",
   "metadata": {
    "execution": {
     "iopub.execute_input": "2024-09-10T16:04:10.327624Z",
     "iopub.status.busy": "2024-09-10T16:04:10.327331Z",
     "iopub.status.idle": "2024-09-10T16:04:10.484910Z",
     "shell.execute_reply": "2024-09-10T16:04:10.484060Z"
    }
   },
   "outputs": [],
   "source": [
    "# Crea un directorio llamado prac1\n",
     ""
   ]
  },
  {
   "cell_type": "code",
   "execution_count": 66,
   "id": "d4fa40f9-c235-484d-b31e-6f128504364d",
   "metadata": {
    "execution": {
     "iopub.execute_input": "2024-09-10T16:04:10.488589Z",
     "iopub.status.busy": "2024-09-10T16:04:10.488300Z",
     "iopub.status.idle": "2024-09-10T16:04:10.646334Z",
     "shell.execute_reply": "2024-09-10T16:04:10.645393Z"
    }
   },
   "outputs": [
    {
     "name": "stdout",
     "output_type": "stream",
     "text": [
      "\u001b[0m\u001b[01;34mnano\u001b[0m  \u001b[01;34mprac1\u001b[0m  \u001b[01;34msample_files\u001b[0m\n"
     ]
    }
   ],
   "source": [
    "# Lista el contenido del directorio actual\n",
     ""
   ]
  },
  {
   "cell_type": "code",
   "execution_count": 67,
   "id": "7f3d6aee",
   "metadata": {
    "execution": {
     "iopub.execute_input": "2024-09-10T16:04:10.650304Z",
     "iopub.status.busy": "2024-09-10T16:04:10.649997Z",
     "iopub.status.idle": "2024-09-10T16:04:10.805891Z",
     "shell.execute_reply": "2024-09-10T16:04:10.804959Z"
    }
   },
   "outputs": [],
   "source": [
    "# Cámbiate al directorio que acabas de crear\n",
     ""
   ]
  },
  {
   "cell_type": "code",
   "execution_count": 68,
   "id": "58df9af2-2ab5-40a1-b980-bfacd9f9b6ec",
   "metadata": {
    "execution": {
     "iopub.execute_input": "2024-09-10T16:04:10.809972Z",
     "iopub.status.busy": "2024-09-10T16:04:10.809242Z",
     "iopub.status.idle": "2024-09-10T16:04:10.965432Z",
     "shell.execute_reply": "2024-09-10T16:04:10.964505Z"
    }
   },
   "outputs": [
    {
     "name": "stdout",
     "output_type": "stream",
     "text": [
      "/home/jupyter-rtitos-um-es/ficheros_ejemplo/prac1\n"
     ]
    }
   ],
   "source": [
    "# Muestra tu directorio de trabajo actual\n",
    "pwd    "
   ]
  },
  {
   "cell_type": "code",
   "execution_count": 69,
   "id": "1f06438b",
   "metadata": {
    "execution": {
     "iopub.execute_input": "2024-09-10T16:04:10.968920Z",
     "iopub.status.busy": "2024-09-10T16:04:10.968646Z",
     "iopub.status.idle": "2024-09-10T16:04:11.126524Z",
     "shell.execute_reply": "2024-09-10T16:04:11.125441Z"
    }
   },
   "outputs": [],
   "source": [
    "# Crea en el directorio actual un fichero vacío que se llame \"fichero.txt\"\n",
     ""
   ]
  },
  {
   "cell_type": "code",
   "execution_count": 70,
   "id": "6c6f22a9",
   "metadata": {
    "execution": {
     "iopub.execute_input": "2024-09-10T16:04:11.130252Z",
     "iopub.status.busy": "2024-09-10T16:04:11.129957Z",
     "iopub.status.idle": "2024-09-10T16:04:11.288654Z",
     "shell.execute_reply": "2024-09-10T16:04:11.287647Z"
    },
    "vscode": {
     "languageId": "plaintext"
    }
   },
   "outputs": [
    {
     "name": "stdout",
     "output_type": "stream",
     "text": [
      "-rw-r--r-- 1 jupyter-rtitos-um-es jupyter-rtitos-um-es 0 sep 10 16:04 fichero.txt\n"
     ]
    }
   ],
   "source": [
    "# lista de forma detallada este fichero\n",
     ""
   ]
  },
  {
   "cell_type": "code",
   "execution_count": 71,
   "id": "218a2322",
   "metadata": {
    "execution": {
     "iopub.execute_input": "2024-09-10T16:04:11.292737Z",
     "iopub.status.busy": "2024-09-10T16:04:11.291955Z",
     "iopub.status.idle": "2024-09-10T16:04:11.448370Z",
     "shell.execute_reply": "2024-09-10T16:04:11.447334Z"
    }
   },
   "outputs": [],
   "source": [
    "# Vuelve a tu directorio personal con una ruta relativa.\n",
     ""
   ]
  },
  {
   "cell_type": "code",
   "execution_count": 72,
   "id": "5c547dcb-9607-4b72-b335-20052420f159",
   "metadata": {
    "execution": {
     "iopub.execute_input": "2024-09-10T16:04:11.452376Z",
     "iopub.status.busy": "2024-09-10T16:04:11.451797Z",
     "iopub.status.idle": "2024-09-10T16:04:11.608272Z",
     "shell.execute_reply": "2024-09-10T16:04:11.607338Z"
    }
   },
   "outputs": [
    {
     "name": "stdout",
     "output_type": "stream",
     "text": [
      "/home/jupyter-rtitos-um-es\n"
     ]
    }
   ],
   "source": [
    "# Muestra tu directorio de trabajo actual\n",
    "pwd "
   ]
  },
  {
   "cell_type": "code",
   "execution_count": 73,
   "id": "8c27d28f",
   "metadata": {
    "execution": {
     "iopub.execute_input": "2024-09-10T16:04:11.611973Z",
     "iopub.status.busy": "2024-09-10T16:04:11.611687Z",
     "iopub.status.idle": "2024-09-10T16:04:11.769641Z",
     "shell.execute_reply": "2024-09-10T16:04:11.768646Z"
    }
   },
   "outputs": [],
   "source": [
    "# Copia el fichero \"fichero.txt\" del directorio prac1 que acabas de crear en tu directorio actual\n",
     ""
   ]
  },
  {
   "cell_type": "code",
   "execution_count": 74,
   "id": "636bf1f3-6d84-43ef-8c8c-fefee656c201",
   "metadata": {
    "execution": {
     "iopub.execute_input": "2024-09-10T16:04:11.773266Z",
     "iopub.status.busy": "2024-09-10T16:04:11.772980Z",
     "iopub.status.idle": "2024-09-10T16:04:11.982332Z",
     "shell.execute_reply": "2024-09-10T16:04:11.981377Z"
    }
   },
   "outputs": [
    {
     "name": "stdout",
     "output_type": "stream",
     "text": [
      "-rw-r--r-- 1 jupyter-rtitos-um-es jupyter-rtitos-um-es 0 sep 10 16:04 fichero.txt\n"
     ]
    }
   ],
   "source": [
    "# Haz un listado largo del fichero que acabas de copiar (fichero.txt)\n",
    "# que muestre su nombre, tamaño, fecha de modificación, etc.\n",
     ""
   ]
  },
  {
   "cell_type": "code",
   "execution_count": 75,
   "id": "4d46828a-5f46-48ed-9634-fd737ae0aa0d",
   "metadata": {
    "execution": {
     "iopub.execute_input": "2024-09-10T16:04:11.986087Z",
     "iopub.status.busy": "2024-09-10T16:04:11.985801Z",
     "iopub.status.idle": "2024-09-10T16:04:12.245525Z",
     "shell.execute_reply": "2024-09-10T16:04:12.244523Z"
    }
   },
   "outputs": [],
   "source": [
    "# Mueve el fichero que acabas de copiar al directorio actual\n",
    "# para que pase a estar dentro del directorio \"ficheros_ejemplo\"\n",
    "# y se llame \"vacio\"\n",
     ""
   ]
  },
  {
   "cell_type": "code",
   "execution_count": 76,
   "id": "374e7722-1b08-48ab-a552-df5d0f987c82",
   "metadata": {
    "execution": {
     "iopub.execute_input": "2024-09-10T16:04:12.249563Z",
     "iopub.status.busy": "2024-09-10T16:04:12.248854Z",
     "iopub.status.idle": "2024-09-10T16:04:12.407576Z",
     "shell.execute_reply": "2024-09-10T16:04:12.406614Z"
    }
   },
   "outputs": [
    {
     "name": "stdout",
     "output_type": "stream",
     "text": [
      "\u001b[0m\u001b[01;34mnano\u001b[0m  \u001b[01;34mprac1\u001b[0m  \u001b[01;34msample_files\u001b[0m  vacio\n"
     ]
    }
   ],
   "source": [
    "# Lista el contenido del directorio ficheros_ejemplo\n",
     ""
   ]
  },
  {
   "cell_type": "code",
   "execution_count": 77,
   "id": "4899704c-4fe9-4e7f-9654-e1ceb1a729bf",
   "metadata": {
    "execution": {
     "iopub.execute_input": "2024-09-10T16:04:12.411586Z",
     "iopub.status.busy": "2024-09-10T16:04:12.411261Z",
     "iopub.status.idle": "2024-09-10T16:04:12.620567Z",
     "shell.execute_reply": "2024-09-10T16:04:12.619589Z"
    }
   },
   "outputs": [],
   "source": [
    "# Sin cambiar de directorio, cambia el nombre del fichero \"vacio\"\n",
    "# para que pase a llamarse \"empty\", y siga dentro de \"ficheros_ejemplo\"\n",
     ""
   ]
  },
  {
   "cell_type": "code",
   "execution_count": 78,
   "id": "3632773f-9932-4b32-8693-ad500ad64d56",
   "metadata": {
    "execution": {
     "iopub.execute_input": "2024-09-10T16:04:12.624401Z",
     "iopub.status.busy": "2024-09-10T16:04:12.623918Z",
     "iopub.status.idle": "2024-09-10T16:04:12.782016Z",
     "shell.execute_reply": "2024-09-10T16:04:12.781173Z"
    }
   },
   "outputs": [
    {
     "name": "stdout",
     "output_type": "stream",
     "text": [
      "empty  \u001b[0m\u001b[01;34mnano\u001b[0m  \u001b[01;34mprac1\u001b[0m  \u001b[01;34msample_files\u001b[0m\n"
     ]
    }
   ],
   "source": [
    "# Lista el contenido del directorio ficheros_ejemplo\n",
     ""
   ]
  },
  {
   "cell_type": "code",
   "execution_count": 79,
   "id": "91950cd8",
   "metadata": {
    "execution": {
     "iopub.execute_input": "2024-09-10T16:04:12.785473Z",
     "iopub.status.busy": "2024-09-10T16:04:12.785157Z",
     "iopub.status.idle": "2024-09-10T16:04:12.942704Z",
     "shell.execute_reply": "2024-09-10T16:04:12.941745Z"
    }
   },
   "outputs": [],
   "source": [
    "# Borra el directorio prac1 \n",
     ""
   ]
  },
  {
   "cell_type": "code",
   "execution_count": 80,
   "id": "1075f811-1ff4-4afa-92ca-6fcea89a71d0",
   "metadata": {
    "execution": {
     "iopub.execute_input": "2024-09-10T16:04:12.946528Z",
     "iopub.status.busy": "2024-09-10T16:04:12.946216Z",
     "iopub.status.idle": "2024-09-10T16:04:13.104545Z",
     "shell.execute_reply": "2024-09-10T16:04:13.103545Z"
    }
   },
   "outputs": [
    {
     "name": "stdout",
     "output_type": "stream",
     "text": [
      "empty  \u001b[0m\u001b[01;34mnano\u001b[0m  \u001b[01;34msample_files\u001b[0m\n"
     ]
    }
   ],
   "source": [
    "# Lista el contenido del directorio ficheros_ejemplo\n",
     ""
   ]
  },
  {
   "cell_type": "code",
   "execution_count": 81,
   "id": "fe58ad45-09e8-40a3-90f0-0beeb08161c0",
   "metadata": {
    "execution": {
     "iopub.execute_input": "2024-09-10T16:04:13.108246Z",
     "iopub.status.busy": "2024-09-10T16:04:13.107933Z",
     "iopub.status.idle": "2024-09-10T16:04:13.302228Z",
     "shell.execute_reply": "2024-09-10T16:04:13.301439Z"
    }
   },
   "outputs": [],
   "source": [
    "# Borra el directorio \"ficheros_ejemplo\" de tu directorio personal utilizando su ruta absoluta\n",
     ""
   ]
  },
  {
   "cell_type": "code",
   "execution_count": 82,
   "id": "1337e812-c99d-47ab-b589-8666eb563c55",
   "metadata": {
    "execution": {
     "iopub.execute_input": "2024-09-10T16:04:13.306526Z",
     "iopub.status.busy": "2024-09-10T16:04:13.305632Z",
     "iopub.status.idle": "2024-09-10T16:04:13.463656Z",
     "shell.execute_reply": "2024-09-10T16:04:13.462697Z"
    }
   },
   "outputs": [],
   "source": [
    "# Limpieza\n",
    "cd && rm -rf downloads desktop "
   ]
  },
  {
   "cell_type": "markdown",
   "id": "0bbf22c8-18b7-4d90-9781-8c46a8b72021",
   "metadata": {},
   "source": [
    "**FIN DEL CUADERNO** (*no borres esta celda*)\n",
    "\n",
    "@@@@ practica1-introshell-ejercicios.ipynb @@@@"
   ]
  }
 ],
 "metadata": {
  "kernelspec": {
   "display_name": "Bash",
   "language": "bash",
   "name": "bash"
  },
  "language_info": {
   "codemirror_mode": "shell",
   "file_extension": ".sh",
   "mimetype": "text/x-sh",
   "name": "bash"
  },
  "toc": {
   "base_numbering": 1,
   "nav_menu": {},
   "number_sections": true,
   "sideBar": true,
   "skip_h1_title": false,
   "title_cell": "Table of Contents",
   "title_sidebar": "Contents",
   "toc_cell": false,
   "toc_position": {},
   "toc_section_display": true,
   "toc_window_display": false
  }
 },
 "nbformat": 4,
 "nbformat_minor": 5
}

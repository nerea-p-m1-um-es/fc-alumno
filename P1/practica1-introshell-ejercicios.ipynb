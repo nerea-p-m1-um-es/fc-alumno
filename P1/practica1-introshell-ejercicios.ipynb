{
 "cells": [
  {
   "cell_type": "markdown",
   "id": "8e983960",
   "metadata": {},
   "source": [
    "# Ejercicios - Práctica 1: Introducción al *shell* de Linux. "
   ]
  },
  {
   "cell_type": "markdown",
   "id": "4159846a-fece-4dd0-b138-20b4078bb60a",
   "metadata": {},
   "source": [
    "## Comandos básicos de manejo de ficheros: Resumen\n",
    "\n",
    "El terminal de Linux nos ofrece muchas posibilidades de listado y manejo de ficheros y directorios de un modo\n",
    "más personalizado que un interfaz gráfico. Por ahora, vamos a aprender los comandos más básicos:\n",
    "* `ls` : Lista el contenido del directorio actual.\n",
    "* `touch FICHERO` : Crea un nuevo fichero vacío en la ruta indicada, en caso de que no exista. En otro caso, le cambia la fecha y hora de modificación a la actual sin modificar su contenido.\n",
    "* `cat FICHERO ...` : Muestra el contenido completo de los ficheros indicados.\n",
    "* `less FICHERO ...` : Muestra el contenido de los ficheros indicados, con la opción de avanzar y retroceder.\n",
    "* `rm FICHERO ...` : Borra los ficheros indicados. También puede utilizarse para borrar directorios, para lo cual se usa la opción `-r`.\n",
    "* `cp FICHERO DIRECTORIO` : Copia el fichero origen indicado al directorio destino, que debe existir previamente.\n",
    "* `mkdir DIRECTORIO` : Crea un directorio vacío en la ruta designada.\n",
    "* `rmdir DIRECTORIO` : Borra el directorio indicado, siempre que esté vacío. Si no, hay que borrar primero\n",
    "todas sus entradas, o bien simplemente usar el comando rm con la opción `-r` (borrado recursivo)."
   ]
  },
  {
   "cell_type": "markdown",
   "id": "b836c37f",
   "metadata": {},
   "source": [
    "Escribe el comando adecuado según lo indicado en cada celda. Puedes abrir un terminal para realizar pruebas y finalmente escribir tu respuesta en la celda correspondiente."
   ]
  },
  {
   "cell_type": "code",
   "execution_count": null,
   "id": "dfa2b92e-5e48-463d-a6ff-d07a6e0de526",
   "metadata": {},
   "outputs": [],
   "source": [
    "# Ejecuta esta celda para crear algunos directorios, en caso de que no existan\n",
    "cd && mkdir -p downloads desktop && cp -r /etc/h* downloads"
   ]
  },
  {
   "cell_type": "markdown",
   "id": "1dce5750",
   "metadata": {},
   "source": [
    "## Directorio de trabajo actual. \n",
    "\n",
    "Como hemos visto, para cambiar el directorio de trabajo se utiliza el comando `cd`, una abreviatura de “cambiar de directorio”."
   ]
  },
  {
   "cell_type": "code",
   "execution_count": null,
   "id": "efa790a1",
   "metadata": {},
   "outputs": [],
   "source": [
    "# Cámbiate al directorio raíz. \n"
   ]
  },
  {
   "cell_type": "code",
   "execution_count": null,
   "id": "2b9e2e3e",
   "metadata": {},
   "outputs": [],
   "source": [
    "# muestra la ruta del directorio actual\n",
    "pwd"
   ]
  },
  {
   "cell_type": "code",
   "execution_count": null,
   "id": "801de4f4",
   "metadata": {},
   "outputs": [],
   "source": [
    "# Lista el contenido de /\n"
   ]
  },
  {
   "cell_type": "code",
   "execution_count": null,
   "id": "373d67e2",
   "metadata": {},
   "outputs": [],
   "source": [
    "# Cámbiate al directorio `home`, que es un subdirectorio inmediato de /\n"
   ]
  },
  {
   "cell_type": "code",
   "execution_count": null,
   "id": "a2ffbfa9",
   "metadata": {},
   "outputs": [],
   "source": [
    "# muestra la ruta del directorio actual\n",
    "pwd"
   ]
  },
  {
   "cell_type": "code",
   "execution_count": null,
   "id": "95c0b92e",
   "metadata": {},
   "outputs": [],
   "source": [
    "# Lista su contenido del directorio actual\n"
   ]
  },
  {
   "cell_type": "code",
   "execution_count": null,
   "id": "97356588",
   "metadata": {},
   "outputs": [],
   "source": [
    "# Sube al directorio padre del directorio de trabajo actual\n",
    "# En este caso, irás de vuelta a “/”.\n"
   ]
  },
  {
   "cell_type": "code",
   "execution_count": null,
   "id": "0320768e-dbe8-4692-a756-4e66c20e84c9",
   "metadata": {},
   "outputs": [],
   "source": [
    "pwd"
   ]
  },
  {
   "cell_type": "markdown",
   "id": "58013411-08b2-41fc-a571-233534618f28",
   "metadata": {},
   "source": [
    "NOTA: *Nunca olvides el espacio entre “cd” y “..”, respetando siempre la estructura general de un comando (comando + opciones + parámetros, **separados por espacios**)*."
   ]
  },
  {
   "cell_type": "code",
   "execution_count": null,
   "id": "e2bff392",
   "metadata": {},
   "outputs": [],
   "source": [
    "# Cámbiate a tu directorio de usuario de la forma más rápida posible  \n"
   ]
  },
  {
   "cell_type": "code",
   "execution_count": null,
   "id": "60c59756",
   "metadata": {},
   "outputs": [],
   "source": [
    "# muestra la ruta del directorio actual\n",
    "pwd"
   ]
  },
  {
   "cell_type": "code",
   "execution_count": null,
   "id": "577bfbd6",
   "metadata": {},
   "outputs": [],
   "source": [
    "# Lista el contenido del directorio actual\n"
   ]
  },
  {
   "cell_type": "markdown",
   "id": "3dfbb378",
   "metadata": {},
   "source": [
    "- Recuerda que puedes usar `..` más de una vez si tienes que subir por varios niveles de directorios padre: La ruta `../..` significa “partiendo del directorio de trabajo actual, ve al directorio padre, y desde esa ahí a su vez a su padre”."
   ]
  },
  {
   "cell_type": "code",
   "execution_count": null,
   "id": "3d58b5c2",
   "metadata": {},
   "outputs": [],
   "source": [
    "# Cambia directamente desde el directorio actual (directorio \n",
    "# personal) hasta el directorio raíz, usando rutas relativas\n"
   ]
  },
  {
   "cell_type": "code",
   "execution_count": null,
   "id": "25ce3276",
   "metadata": {},
   "outputs": [],
   "source": [
    "pwd"
   ]
  },
  {
   "cell_type": "code",
   "execution_count": null,
   "id": "c2d130c7",
   "metadata": {},
   "outputs": [],
   "source": [
    "# Regresa *de la forma más rápida posible* al directorio donde\n",
    "# te encontrabas antes de último cambio de directorio:\n"
   ]
  },
  {
   "cell_type": "code",
   "execution_count": null,
   "id": "86f55c6a",
   "metadata": {},
   "outputs": [],
   "source": [
    "pwd"
   ]
  },
  {
   "cell_type": "markdown",
   "id": "52527fef",
   "metadata": {},
   "source": [
    "Ahora deberías estar de nuevo en tu directorio personal (`/home/alumno` o similar)"
   ]
  },
  {
   "cell_type": "markdown",
   "id": "8363d7af",
   "metadata": {},
   "source": [
    "## Rutas relativas y absolutas\n",
    "\n",
    "La mayoría de los ejemplos que hemos visto hasta ahora utilizan rutas relativas. Es decir, el lugar en el que terminas depende de tu directorio de trabajo actual.\n"
   ]
  },
  {
   "cell_type": "code",
   "execution_count": null,
   "id": "8f8325e4",
   "metadata": {},
   "outputs": [],
   "source": [
    "# Cámbiate al directorio raíz\n"
   ]
  },
  {
   "cell_type": "code",
   "execution_count": null,
   "id": "157a49c8",
   "metadata": {},
   "outputs": [],
   "source": [
    "# Ahora entra en el subdirectorio `etc` con una ruta relativa\n"
   ]
  },
  {
   "cell_type": "code",
   "execution_count": null,
   "id": "6307c3da",
   "metadata": {},
   "outputs": [],
   "source": [
    "pwd"
   ]
  },
  {
   "cell_type": "markdown",
   "id": "89df46ae",
   "metadata": {},
   "source": [
    "Deberías estar en `/etc`. Ahora bien, si ejecutas `cd etc` estando tu directorio personal en vez de en el directorio raíz, ¿qué pasa?"
   ]
  },
  {
   "cell_type": "code",
   "execution_count": null,
   "id": "12858877",
   "metadata": {},
   "outputs": [],
   "source": [
    "cd"
   ]
  },
  {
   "cell_type": "code",
   "execution_count": null,
   "id": "1c0d9497-97b6-4035-ac83-bc7bc6785180",
   "metadata": {},
   "outputs": [],
   "source": [
    "pwd"
   ]
  },
  {
   "cell_type": "code",
   "execution_count": null,
   "id": "527f1e04",
   "metadata": {},
   "outputs": [],
   "source": [
    "cd etc"
   ]
  },
  {
   "cell_type": "markdown",
   "id": "67c96a85-642d-4e17-84cb-9e4cecd789e9",
   "metadata": {},
   "source": [
    "RESPUESTA:\n",
    "\n"
   ]
  },
  {
   "cell_type": "code",
   "execution_count": null,
   "id": "d34d79b0",
   "metadata": {},
   "outputs": [],
   "source": [
    "# Usa una ruta para cambiar al directorio `etc` que hay en el directorio raíz,\n",
    "# sin importar en qué parte del sistema de ficheros te encuentres en ese momento\n"
   ]
  },
  {
   "cell_type": "code",
   "execution_count": null,
   "id": "2c6dda8d",
   "metadata": {},
   "outputs": [],
   "source": [
    "pwd"
   ]
  },
  {
   "cell_type": "markdown",
   "id": "f1e3aa5c",
   "metadata": {},
   "source": [
    "- Recuerda que la tilde `~` (teclas `Alt Gr`+`4`) es un abreviatura de la *ruta absoluta* a tu directorio personal (p.ej., `/home/alumno`). "
   ]
  },
  {
   "cell_type": "code",
   "execution_count": null,
   "id": "8a70ed34",
   "metadata": {},
   "outputs": [],
   "source": [
    "# Usando dicho atajo (~), cámbiate directamente al directorio `desktop` que \n",
    "# hay en tu carpeta personal\n"
   ]
  },
  {
   "cell_type": "code",
   "execution_count": null,
   "id": "204f4d44",
   "metadata": {},
   "outputs": [],
   "source": [
    "# Ahora lista el contenido del subdirectorio `downloads` que hay en tu\n",
    "# directorio personal, usando su **ruta absoluta**.\n"
   ]
  },
  {
   "cell_type": "code",
   "execution_count": null,
   "id": "487848f7",
   "metadata": {},
   "outputs": [],
   "source": [
    "# Tanto `downloads` como `desktop` son subdirectorios de tu directorio personal.\n",
    "# Haz un *listado largo* del contenido del subdirectorio `downloads` usando la \n",
    "# **ruta relativa** desde tu directorio de trabajo actual (deberías estar en `~/desktop`).\n"
   ]
  },
  {
   "cell_type": "markdown",
   "id": "cf3c27d5",
   "metadata": {},
   "source": [
    "- En realidad, las rutas relativas funcionan porque todos los directorios del sistema de ficheros siempre contienen dos subdirectorios especiales, llamados  `.` y `..` que hacen referencia, respectivamente, al propio directorio y a su directorio padre. Para listar **todos** los ficheros de un directorio debemos usar la opción `-a` (de *all*)."
   ]
  },
  {
   "cell_type": "code",
   "execution_count": null,
   "id": "52e92356-1b76-4d6d-b160-9a01d4708f75",
   "metadata": {},
   "outputs": [],
   "source": [
    "# Crea un directorio llamado dirvacio\n"
   ]
  },
  {
   "cell_type": "code",
   "execution_count": null,
   "id": "d7c40844-e851-4cc6-aa99-08633169ebf8",
   "metadata": {},
   "outputs": [],
   "source": [
    "# Entra en dirvacio\n"
   ]
  },
  {
   "cell_type": "code",
   "execution_count": null,
   "id": "c6fa3ee1-c600-42a4-b06c-0882af6c4864",
   "metadata": {},
   "outputs": [],
   "source": [
    "# Lista su contenido, incluyendo todos los ficheros\n"
   ]
  },
  {
   "cell_type": "code",
   "execution_count": null,
   "id": "a07cfa68-f148-40a9-a691-e7c6abb0054b",
   "metadata": {},
   "outputs": [],
   "source": [
    "# Cámbiate al directorio padre del actual\n"
   ]
  },
  {
   "cell_type": "code",
   "execution_count": null,
   "id": "b8cc5d7c-c10b-4593-89d9-754e9881f9db",
   "metadata": {},
   "outputs": [],
   "source": [
    "# Elimina el directorio dirvacio\n"
   ]
  },
  {
   "cell_type": "code",
   "execution_count": null,
   "id": "f6e1d794-1a56-42d7-88cd-6286ce2e7d04",
   "metadata": {},
   "outputs": [],
   "source": [
    "# Deberías estar en `~/desktop`\n",
    "pwd"
   ]
  },
  {
   "cell_type": "code",
   "execution_count": null,
   "id": "c7b6c629",
   "metadata": {},
   "outputs": [],
   "source": [
    "# Sin cambiarte de directorio, haz un listado de tu directorio personal\n",
    "# mostrando **todos** los ficheros, y usando la **ruta relativa**\n"
   ]
  },
  {
   "cell_type": "markdown",
   "id": "eaf6a461",
   "metadata": {},
   "source": [
    "## Movimiento básico por el sistema de ficheros\n",
    "\n",
    "Ahora vamos a hacer uso de unos ficheros de ejemplo (también disponibles en el Aula Virtual). Ejecuta la siguiente celda para descargar el fichero `ficheros_ejemplo.zip`, y descomprimirlo en tu directorio personal. El árbol de directorios en que se organizan los ficheros de ejemplo se puede observar a continuación:"
   ]
  },
  {
   "cell_type": "code",
   "execution_count": null,
   "id": "af7a6a51-dec3-48ea-b513-add149c79be2",
   "metadata": {},
   "outputs": [],
   "source": [
    "SAMPLE_FILES_LOCAL=/usr/local/share/fc/ficheros_ejemplo.zip\n",
    "SAMPLE_FILES_WEB=https://ditec.um.es/~rtitos/docencia/fc-gcid/24-25/ficheros_ejemplo.zip\n",
    "cd\n",
    "if [ -f $(basename $SAMPLE_FILES_LOCAL) ] ; then\n",
    "    echo \"Encontrados los ficheros de ejemplo en el directorio personal\"\n",
    "else\n",
    "    if [ -f $SAMPLE_FILES_LOCAL ] ; then\n",
    "        echo \"Copiando ficheros de ejemplo desde $SAMPLE_FILES_LOCAL\"\n",
    "        cp $SAMPLE_FILES_LOCAL .\n",
    "    else\n",
    "        echo \"Descargando ficheros de ejemplo desde $SAMPLE_FILES_WEB\"\n",
    "        wget -q $SAMPLE_FILES_WEB\n",
    "    fi\n",
    "    if [ ! -f $(basename $SAMPLE_FILES_LOCAL) ] ; then\n",
    "        echo \"ERROR: No se encuentran los ficheros de ejemplo!\"\n",
    "    fi\n",
    "fi\n",
    "rm -rf ficheros_ejemplo && unzip -q ficheros_ejemplo.zip"
   ]
  },
  {
   "cell_type": "markdown",
   "id": "889579b2-45a1-4a20-bdd0-cbc67e3e5faa",
   "metadata": {},
   "source": [
    "Verás que se ha creado un directorio `ficheros_ejemplo`, que tiene la siguiente estructura:\n",
    "```\n",
    "ficheros_ejemplo\n",
    "├── nano\n",
    "│   ├── AUTHORS\n",
    "│   ├── autogen.sh\n",
    "│   ├── ChangeLog\n",
    "│   ├── ChangeLog.1999-2006\n",
    "│   ├── ChangeLog.2007-2015\n",
    "│   ├── configure.ac\n",
    "│   ├── COPYING\n",
    "│   ├── COPYING.DOC\n",
    "│   ├── doc\n",
    "│   ├── IMPROVEMENTS\n",
    "│   ├── m4\n",
    "│   ├── Makefile.am\n",
    "│   ├── nano-regress\n",
    "│   ├── NEWS\n",
    "│   ├── po\n",
    "│   ├── README\n",
    "│   ├── README.hacking\n",
    "│   ├── roll-a-release.sh\n",
    "│   ├── src\n",
    "│   ├── syntax\n",
    "│   ├── THANKS\n",
    "│   └── TODO\n",
    "└── sample_files\n",
    "    ├── audio\n",
    "    ├── document\n",
    "    ├── image\n",
    "    ├── LICENSE\n",
    "    ├── README.md\n",
    "    └── video\n",
    "```"
   ]
  },
  {
   "cell_type": "markdown",
   "id": "293b8c77",
   "metadata": {},
   "source": [
    "Una vez lo tengas preparado, empezando desde tu directorio personal, realiza los siguientes ejercicios, utilizando **RUTAS RELATIVAS** por defecto. En los ejercicios que se indique ruta absoluta, no se debe usar ninguna ruta relativa. \n",
    "\n",
    "<span style=\"color: red;\">Recuerda utilizar el tabulador </span> para facilitar la navegación por el sistema de ficheros al autocompletar los nombres de ficheros y directorios.\n",
    "\n",
    "\n"
   ]
  },
  {
   "cell_type": "code",
   "execution_count": null,
   "id": "2f4502e7",
   "metadata": {},
   "outputs": [],
   "source": [
    "# Situate en tu directorio personal utilizando su ruta absoluta\n"
   ]
  },
  {
   "cell_type": "code",
   "execution_count": null,
   "id": "f15e4b4c-0ec5-4e74-a9dc-394aed098a5f",
   "metadata": {},
   "outputs": [],
   "source": [
    "# Muestra tu directorio de trabajo actual\n",
    "pwd "
   ]
  },
  {
   "cell_type": "code",
   "execution_count": null,
   "id": "bf558662",
   "metadata": {},
   "outputs": [],
   "source": [
    "# Cambia al directorio \"nano\" que hay dentro de \"ficheros_ejemplo\"\n"
   ]
  },
  {
   "cell_type": "code",
   "execution_count": null,
   "id": "1de6a4da",
   "metadata": {},
   "outputs": [],
   "source": [
    "# Haz un listado del directorio actual mostrando los ficheros ocultos\n"
   ]
  },
  {
   "cell_type": "code",
   "execution_count": null,
   "id": "bd9dca76",
   "metadata": {},
   "outputs": [],
   "source": [
    "# Haz un listado del directorio padre\n"
   ]
  },
  {
   "cell_type": "code",
   "execution_count": null,
   "id": "509ef614",
   "metadata": {},
   "outputs": [],
   "source": [
    "# Cambia al directorio \"src\"\n"
   ]
  },
  {
   "cell_type": "code",
   "execution_count": null,
   "id": "8431f293-9378-4d4d-8c05-fb18d87e183f",
   "metadata": {},
   "outputs": [],
   "source": [
    "# Muestra tu directorio de trabajo actual\n",
    "pwd "
   ]
  },
  {
   "cell_type": "code",
   "execution_count": null,
   "id": "21a874fb",
   "metadata": {},
   "outputs": [],
   "source": [
    "# Muestra el contenido del fichero README dentro de \"nano\"\n"
   ]
  },
  {
   "cell_type": "code",
   "execution_count": null,
   "id": "eda39d97",
   "metadata": {},
   "outputs": [],
   "source": [
    "# Cambia al directorio padre\n"
   ]
  },
  {
   "cell_type": "code",
   "execution_count": null,
   "id": "4e375f1d-f24b-4bc4-800a-c03ada068448",
   "metadata": {},
   "outputs": [],
   "source": [
    "# Muestra tu directorio de trabajo actual\n",
    "pwd "
   ]
  },
  {
   "cell_type": "code",
   "execution_count": null,
   "id": "86d534f9",
   "metadata": {},
   "outputs": [],
   "source": [
    "# Muestra el contenido completo del fichero TODO dentro de \"nano\"\n"
   ]
  },
  {
   "cell_type": "code",
   "execution_count": null,
   "id": "672c6ede",
   "metadata": {},
   "outputs": [],
   "source": [
    "# Ahora vamos a usar los ficheros de \"sample_files\"\n",
    "# Empieza cambiando al directorio \"sample_files\" desde tu directorio de trabajo actual\n"
   ]
  },
  {
   "cell_type": "code",
   "execution_count": null,
   "id": "afd3cf3e-72cf-4475-ab0d-90fa5ce7b711",
   "metadata": {},
   "outputs": [],
   "source": [
    "# Muestra tu directorio de trabajo actual\n",
    "pwd "
   ]
  },
  {
   "cell_type": "code",
   "execution_count": null,
   "id": "5d058752",
   "metadata": {},
   "outputs": [],
   "source": [
    "# Cambia al subdirectorio \"txt\" , situado en \"document\"\n"
   ]
  },
  {
   "cell_type": "code",
   "execution_count": null,
   "id": "4c5d5063-fa39-409a-b326-1557a1b0d44a",
   "metadata": {},
   "outputs": [],
   "source": [
    "# Muestra tu directorio de trabajo actual\n",
    "pwd "
   ]
  },
  {
   "cell_type": "code",
   "execution_count": null,
   "id": "3fd4a484",
   "metadata": {},
   "outputs": [],
   "source": [
    "# Guarda una copia del fichero \"sample1.txt\" llamada \"copia_sample1.txt\" en el mismo directorio\n"
   ]
  },
  {
   "cell_type": "code",
   "execution_count": null,
   "id": "6b10d959-8581-4e1a-ba0a-bb11f0280270",
   "metadata": {},
   "outputs": [],
   "source": [
    "# Lista el contenido del directorio actual\n",
    "ls"
   ]
  },
  {
   "cell_type": "code",
   "execution_count": null,
   "id": "e82d5543",
   "metadata": {},
   "outputs": [],
   "source": [
    "# Muestra el contenido del directorio \"pdf\"\n"
   ]
  },
  {
   "cell_type": "code",
   "execution_count": null,
   "id": "9267ed44",
   "metadata": {},
   "outputs": [],
   "source": [
    "# Haz un listado largo del directorio \"xls\"\n"
   ]
  },
  {
   "cell_type": "code",
   "execution_count": null,
   "id": "afcfcceb",
   "metadata": {},
   "outputs": [],
   "source": [
    "# Vuelve al último directorio en el que has estado (nota: sin utilizar su ruta relativa o absoluta en el comando)\n"
   ]
  },
  {
   "cell_type": "code",
   "execution_count": null,
   "id": "c7804622-746c-45fb-81e6-f5b398f77df2",
   "metadata": {},
   "outputs": [],
   "source": [
    "# Muestra tu directorio de trabajo actual\n",
    "pwd "
   ]
  },
  {
   "cell_type": "code",
   "execution_count": null,
   "id": "3b453010",
   "metadata": {},
   "outputs": [],
   "source": [
    "# Cámbiate al directorio \"jpg\" situado en \"image\" utilizando su ruta absoluta\n"
   ]
  },
  {
   "cell_type": "code",
   "execution_count": null,
   "id": "914ea4b8-abea-4c77-9dea-180b315fcc92",
   "metadata": {},
   "outputs": [],
   "source": [
    "# Muestra tu directorio de trabajo actual\n",
    "pwd "
   ]
  },
  {
   "cell_type": "code",
   "execution_count": null,
   "id": "fab2c799",
   "metadata": {},
   "outputs": [],
   "source": [
    "# Haz un listado del directorio \"png\"\n"
   ]
  },
  {
   "cell_type": "code",
   "execution_count": null,
   "id": "a493d564",
   "metadata": {},
   "outputs": [],
   "source": [
    "# Haz un listado del directorio \"mp4\" situado dentro de \"videos\"\n"
   ]
  },
  {
   "cell_type": "code",
   "execution_count": null,
   "id": "9d95ab26",
   "metadata": {},
   "outputs": [],
   "source": [
    "# Vuelve al directorio \"ficheros_ejemplo\"\n"
   ]
  },
  {
   "cell_type": "code",
   "execution_count": null,
   "id": "0a79c20a",
   "metadata": {},
   "outputs": [],
   "source": [
    "# Muestra tu directorio de trabajo actual\n",
    "pwd "
   ]
  },
  {
   "cell_type": "markdown",
   "id": "22d49998-dc38-4986-ae7b-0656a0dadb8e",
   "metadata": {},
   "source": [
    "## Creación, copia y borrado de ficheros y directorios"
   ]
  },
  {
   "cell_type": "code",
   "execution_count": null,
   "id": "f045bd0f-c832-428e-b442-95737561ae63",
   "metadata": {},
   "outputs": [],
   "source": [
    "cd ~/ficheros_ejemplo"
   ]
  },
  {
   "cell_type": "code",
   "execution_count": null,
   "id": "e582174f-8d74-4866-8a89-4739ab061de5",
   "metadata": {},
   "outputs": [],
   "source": [
    "# Muestra tu directorio de trabajo actual\n",
    "pwd "
   ]
  },
  {
   "cell_type": "code",
   "execution_count": null,
   "id": "fd70a48b",
   "metadata": {},
   "outputs": [],
   "source": [
    "# Crea un directorio llamado prac1\n"
   ]
  },
  {
   "cell_type": "code",
   "execution_count": null,
   "id": "d4fa40f9-c235-484d-b31e-6f128504364d",
   "metadata": {},
   "outputs": [],
   "source": [
    "# Lista el contenido del directorio actual\n"
   ]
  },
  {
   "cell_type": "code",
   "execution_count": null,
   "id": "7f3d6aee",
   "metadata": {},
   "outputs": [],
   "source": [
    "# Cámbiate al directorio que acabas de crear\n"
   ]
  },
  {
   "cell_type": "code",
   "execution_count": null,
   "id": "58df9af2-2ab5-40a1-b980-bfacd9f9b6ec",
   "metadata": {},
   "outputs": [],
   "source": [
    "# Muestra tu directorio de trabajo actual\n",
    "pwd    "
   ]
  },
  {
   "cell_type": "code",
   "execution_count": null,
   "id": "1f06438b",
   "metadata": {},
   "outputs": [],
   "source": [
    "# Crea en el directorio actual un fichero vacío que se llame \"fichero.txt\"\n"
   ]
  },
  {
   "cell_type": "code",
   "execution_count": null,
   "id": "6c6f22a9",
   "metadata": {},
   "outputs": [],
   "source": [
    "# lista de forma detallada este fichero\n"
   ]
  },
  {
   "cell_type": "code",
   "execution_count": null,
   "id": "218a2322",
   "metadata": {},
   "outputs": [],
   "source": [
    "# Vuelve a tu directorio personal con una ruta relativa.\n"
   ]
  },
  {
   "cell_type": "code",
   "execution_count": null,
   "id": "5c547dcb-9607-4b72-b335-20052420f159",
   "metadata": {},
   "outputs": [],
   "source": [
    "# Muestra tu directorio de trabajo actual\n",
    "pwd "
   ]
  },
  {
   "cell_type": "code",
   "execution_count": null,
   "id": "8c27d28f",
   "metadata": {},
   "outputs": [],
   "source": [
    "# Copia el fichero \"fichero.txt\" del directorio prac1 que acabas de crear en tu directorio actual\n"
   ]
  },
  {
   "cell_type": "code",
   "execution_count": null,
   "id": "636bf1f3-6d84-43ef-8c8c-fefee656c201",
   "metadata": {},
   "outputs": [],
   "source": [
    "# Haz un listado largo del fichero que acabas de copiar (fichero.txt)\n",
    "# que muestre su nombre, tamaño, fecha de modificación, etc.\n"
   ]
  },
  {
   "cell_type": "code",
   "execution_count": null,
   "id": "4d46828a-5f46-48ed-9634-fd737ae0aa0d",
   "metadata": {},
   "outputs": [],
   "source": [
    "# Mueve el fichero que acabas de copiar al directorio actual\n",
    "# para que pase a estar dentro del directorio \"ficheros_ejemplo\"\n",
    "# y se llame \"vacio\"\n"
   ]
  },
  {
   "cell_type": "code",
   "execution_count": null,
   "id": "374e7722-1b08-48ab-a552-df5d0f987c82",
   "metadata": {},
   "outputs": [],
   "source": [
    "# Lista el contenido del directorio ficheros_ejemplo\n"
   ]
  },
  {
   "cell_type": "code",
   "execution_count": null,
   "id": "4899704c-4fe9-4e7f-9654-e1ceb1a729bf",
   "metadata": {},
   "outputs": [],
   "source": [
    "# Sin cambiar de directorio, cambia el nombre del fichero \"vacio\"\n",
    "# para que pase a llamarse \"empty\", y siga dentro de \"ficheros_ejemplo\"\n"
   ]
  },
  {
   "cell_type": "code",
   "execution_count": null,
   "id": "3632773f-9932-4b32-8693-ad500ad64d56",
   "metadata": {},
   "outputs": [],
   "source": [
    "# Lista el contenido del directorio ficheros_ejemplo\n"
   ]
  },
  {
   "cell_type": "code",
   "execution_count": null,
   "id": "91950cd8",
   "metadata": {},
   "outputs": [],
   "source": [
    "# Borra el directorio prac1 \n"
   ]
  },
  {
   "cell_type": "code",
   "execution_count": null,
   "id": "1075f811-1ff4-4afa-92ca-6fcea89a71d0",
   "metadata": {},
   "outputs": [],
   "source": [
    "# Lista el contenido del directorio ficheros_ejemplo\n"
   ]
  },
  {
   "cell_type": "code",
   "execution_count": null,
   "id": "fe58ad45-09e8-40a3-90f0-0beeb08161c0",
   "metadata": {},
   "outputs": [],
   "source": [
    "# Borra el directorio \"ficheros_ejemplo\" de tu directorio personal utilizando su ruta absoluta\n"
   ]
  },
  {
   "cell_type": "code",
   "execution_count": null,
   "id": "1337e812-c99d-47ab-b589-8666eb563c55",
   "metadata": {},
   "outputs": [],
   "source": [
    "# Limpieza\n",
    "cd && rm -rf downloads desktop "
   ]
  },
  {
   "cell_type": "markdown",
   "id": "0bbf22c8-18b7-4d90-9781-8c46a8b72021",
   "metadata": {},
   "source": [
    "**FIN DEL CUADERNO** (*no borres esta celda*)\n",
    "\n",
    "@@@@ practica1-introshell-ejercicios.ipynb @@@@"
   ]
  }
 ],
 "metadata": {
  "language_info": {
   "name": "bash"
  }
 },
 "nbformat": 4,
 "nbformat_minor": 5
}
